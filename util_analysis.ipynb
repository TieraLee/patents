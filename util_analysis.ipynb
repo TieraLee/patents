{
 "cells": [
  {
   "cell_type": "code",
   "execution_count": 1,
   "metadata": {},
   "outputs": [],
   "source": [
    "import pandas as pd\n",
    "import numpy as np\n",
    "import matplotlib.pyplot as py\n",
    "%matplotlib inline"
   ]
  },
  {
   "cell_type": "code",
   "execution_count": 2,
   "metadata": {},
   "outputs": [],
   "source": [
    "focal = pd.read_csv('designYearClass.csv', usecols=['patent_number','year','class'])\n",
    "\n",
    "citation = pd.read_csv('utility_patent_citations_clean.csv', usecols=['patent_number','class'])\n",
    "\n",
    "citation_link = pd.read_csv('designCitations.csv', usecols=['patent_number','reference'])"
   ]
  },
  {
   "cell_type": "code",
   "execution_count": 3,
   "metadata": {},
   "outputs": [
    {
     "data": {
      "text/html": [
       "<div>\n",
       "<style scoped>\n",
       "    .dataframe tbody tr th:only-of-type {\n",
       "        vertical-align: middle;\n",
       "    }\n",
       "\n",
       "    .dataframe tbody tr th {\n",
       "        vertical-align: top;\n",
       "    }\n",
       "\n",
       "    .dataframe thead th {\n",
       "        text-align: right;\n",
       "    }\n",
       "</style>\n",
       "<table border=\"1\" class=\"dataframe\">\n",
       "  <thead>\n",
       "    <tr style=\"text-align: right;\">\n",
       "      <th></th>\n",
       "      <th>patent_number</th>\n",
       "      <th>year</th>\n",
       "      <th>class</th>\n",
       "    </tr>\n",
       "  </thead>\n",
       "  <tbody>\n",
       "    <tr>\n",
       "      <th>0</th>\n",
       "      <td>D257752</td>\n",
       "      <td>1980</td>\n",
       "      <td>D19/75</td>\n",
       "    </tr>\n",
       "    <tr>\n",
       "      <th>1</th>\n",
       "      <td>D257924</td>\n",
       "      <td>1980</td>\n",
       "      <td>D06/573</td>\n",
       "    </tr>\n",
       "    <tr>\n",
       "      <th>2</th>\n",
       "      <td>D258382</td>\n",
       "      <td>1980</td>\n",
       "      <td>D23/214</td>\n",
       "    </tr>\n",
       "    <tr>\n",
       "      <th>3</th>\n",
       "      <td>D258383</td>\n",
       "      <td>1980</td>\n",
       "      <td>D23/214</td>\n",
       "    </tr>\n",
       "    <tr>\n",
       "      <th>4</th>\n",
       "      <td>D258571</td>\n",
       "      <td>1980</td>\n",
       "      <td>D09/560</td>\n",
       "    </tr>\n",
       "  </tbody>\n",
       "</table>\n",
       "</div>"
      ],
      "text/plain": [
       "  patent_number  year    class\n",
       "0       D257752  1980   D19/75\n",
       "1       D257924  1980  D06/573\n",
       "2       D258382  1980  D23/214\n",
       "3       D258383  1980  D23/214\n",
       "4       D258571  1980  D09/560"
      ]
     },
     "execution_count": 3,
     "metadata": {},
     "output_type": "execute_result"
    }
   ],
   "source": [
    "focal.head()"
   ]
  },
  {
   "cell_type": "code",
   "execution_count": 4,
   "metadata": {},
   "outputs": [
    {
     "data": {
      "text/html": [
       "<div>\n",
       "<style scoped>\n",
       "    .dataframe tbody tr th:only-of-type {\n",
       "        vertical-align: middle;\n",
       "    }\n",
       "\n",
       "    .dataframe tbody tr th {\n",
       "        vertical-align: top;\n",
       "    }\n",
       "\n",
       "    .dataframe thead th {\n",
       "        text-align: right;\n",
       "    }\n",
       "</style>\n",
       "<table border=\"1\" class=\"dataframe\">\n",
       "  <thead>\n",
       "    <tr style=\"text-align: right;\">\n",
       "      <th></th>\n",
       "      <th>patent_number</th>\n",
       "      <th>class</th>\n",
       "    </tr>\n",
       "  </thead>\n",
       "  <tbody>\n",
       "    <tr>\n",
       "      <th>0</th>\n",
       "      <td>4069641</td>\n",
       "      <td>52/202</td>\n",
       "    </tr>\n",
       "    <tr>\n",
       "      <th>1</th>\n",
       "      <td>4069641</td>\n",
       "      <td>52/476</td>\n",
       "    </tr>\n",
       "    <tr>\n",
       "      <th>2</th>\n",
       "      <td>4069641</td>\n",
       "      <td>52/717.1</td>\n",
       "    </tr>\n",
       "    <tr>\n",
       "      <th>3</th>\n",
       "      <td>4069641</td>\n",
       "      <td>D25/48.7</td>\n",
       "    </tr>\n",
       "    <tr>\n",
       "      <th>4</th>\n",
       "      <td>4069641</td>\n",
       "      <td>D25/119</td>\n",
       "    </tr>\n",
       "  </tbody>\n",
       "</table>\n",
       "</div>"
      ],
      "text/plain": [
       "   patent_number     class\n",
       "0        4069641    52/202\n",
       "1        4069641    52/476\n",
       "2        4069641  52/717.1\n",
       "3        4069641  D25/48.7\n",
       "4        4069641   D25/119"
      ]
     },
     "execution_count": 4,
     "metadata": {},
     "output_type": "execute_result"
    }
   ],
   "source": [
    "citation.head()"
   ]
  },
  {
   "cell_type": "code",
   "execution_count": 5,
   "metadata": {},
   "outputs": [
    {
     "data": {
      "text/html": [
       "<div>\n",
       "<style scoped>\n",
       "    .dataframe tbody tr th:only-of-type {\n",
       "        vertical-align: middle;\n",
       "    }\n",
       "\n",
       "    .dataframe tbody tr th {\n",
       "        vertical-align: top;\n",
       "    }\n",
       "\n",
       "    .dataframe thead th {\n",
       "        text-align: right;\n",
       "    }\n",
       "</style>\n",
       "<table border=\"1\" class=\"dataframe\">\n",
       "  <thead>\n",
       "    <tr style=\"text-align: right;\">\n",
       "      <th></th>\n",
       "      <th>patent_number</th>\n",
       "      <th>reference</th>\n",
       "    </tr>\n",
       "  </thead>\n",
       "  <tbody>\n",
       "    <tr>\n",
       "      <th>0</th>\n",
       "      <td>D257752</td>\n",
       "      <td>4162014</td>\n",
       "    </tr>\n",
       "    <tr>\n",
       "      <th>1</th>\n",
       "      <td>D257924</td>\n",
       "      <td>4162014</td>\n",
       "    </tr>\n",
       "    <tr>\n",
       "      <th>2</th>\n",
       "      <td>D258382</td>\n",
       "      <td>D253842</td>\n",
       "    </tr>\n",
       "    <tr>\n",
       "      <th>3</th>\n",
       "      <td>D258383</td>\n",
       "      <td>D253842</td>\n",
       "    </tr>\n",
       "    <tr>\n",
       "      <th>4</th>\n",
       "      <td>D258678</td>\n",
       "      <td>D253842</td>\n",
       "    </tr>\n",
       "  </tbody>\n",
       "</table>\n",
       "</div>"
      ],
      "text/plain": [
       "  patent_number reference\n",
       "0       D257752   4162014\n",
       "1       D257924   4162014\n",
       "2       D258382   D253842\n",
       "3       D258383   D253842\n",
       "4       D258678   D253842"
      ]
     },
     "execution_count": 5,
     "metadata": {},
     "output_type": "execute_result"
    }
   ],
   "source": [
    "citation_link.head()"
   ]
  },
  {
   "cell_type": "code",
   "execution_count": 6,
   "metadata": {},
   "outputs": [],
   "source": [
    "#select the utility reference patents\n",
    "\n",
    "util_link = citation_link[~citation_link['reference'].str.contains('D')]"
   ]
  },
  {
   "cell_type": "code",
   "execution_count": 7,
   "metadata": {},
   "outputs": [
    {
     "data": {
      "text/html": [
       "<div>\n",
       "<style scoped>\n",
       "    .dataframe tbody tr th:only-of-type {\n",
       "        vertical-align: middle;\n",
       "    }\n",
       "\n",
       "    .dataframe tbody tr th {\n",
       "        vertical-align: top;\n",
       "    }\n",
       "\n",
       "    .dataframe thead th {\n",
       "        text-align: right;\n",
       "    }\n",
       "</style>\n",
       "<table border=\"1\" class=\"dataframe\">\n",
       "  <thead>\n",
       "    <tr style=\"text-align: right;\">\n",
       "      <th></th>\n",
       "      <th>patent_number</th>\n",
       "      <th>reference</th>\n",
       "    </tr>\n",
       "  </thead>\n",
       "  <tbody>\n",
       "    <tr>\n",
       "      <th>0</th>\n",
       "      <td>D257752</td>\n",
       "      <td>4162014</td>\n",
       "    </tr>\n",
       "    <tr>\n",
       "      <th>1</th>\n",
       "      <td>D257924</td>\n",
       "      <td>4162014</td>\n",
       "    </tr>\n",
       "    <tr>\n",
       "      <th>6</th>\n",
       "      <td>D258766</td>\n",
       "      <td>3939620</td>\n",
       "    </tr>\n",
       "    <tr>\n",
       "      <th>7</th>\n",
       "      <td>D258766</td>\n",
       "      <td>3955331</td>\n",
       "    </tr>\n",
       "    <tr>\n",
       "      <th>8</th>\n",
       "      <td>D258766</td>\n",
       "      <td>3971178</td>\n",
       "    </tr>\n",
       "  </tbody>\n",
       "</table>\n",
       "</div>"
      ],
      "text/plain": [
       "  patent_number reference\n",
       "0       D257752   4162014\n",
       "1       D257924   4162014\n",
       "6       D258766   3939620\n",
       "7       D258766   3955331\n",
       "8       D258766   3971178"
      ]
     },
     "execution_count": 7,
     "metadata": {},
     "output_type": "execute_result"
    }
   ],
   "source": [
    "util_link.head()"
   ]
  },
  {
   "cell_type": "code",
   "execution_count": 8,
   "metadata": {},
   "outputs": [],
   "source": [
    "##trying for real\n",
    "focal_ref = pd.merge(focal,util_link, on='patent_number')"
   ]
  },
  {
   "cell_type": "code",
   "execution_count": 9,
   "metadata": {},
   "outputs": [
    {
     "data": {
      "text/html": [
       "<div>\n",
       "<style scoped>\n",
       "    .dataframe tbody tr th:only-of-type {\n",
       "        vertical-align: middle;\n",
       "    }\n",
       "\n",
       "    .dataframe tbody tr th {\n",
       "        vertical-align: top;\n",
       "    }\n",
       "\n",
       "    .dataframe thead th {\n",
       "        text-align: right;\n",
       "    }\n",
       "</style>\n",
       "<table border=\"1\" class=\"dataframe\">\n",
       "  <thead>\n",
       "    <tr style=\"text-align: right;\">\n",
       "      <th></th>\n",
       "      <th>patent_number</th>\n",
       "      <th>year</th>\n",
       "      <th>class</th>\n",
       "      <th>reference</th>\n",
       "    </tr>\n",
       "  </thead>\n",
       "  <tbody>\n",
       "    <tr>\n",
       "      <th>265717</th>\n",
       "      <td>D380496</td>\n",
       "      <td>1995</td>\n",
       "      <td>D06/570</td>\n",
       "      <td>4162014</td>\n",
       "    </tr>\n",
       "    <tr>\n",
       "      <th>265718</th>\n",
       "      <td>D380496</td>\n",
       "      <td>1995</td>\n",
       "      <td>D06/570</td>\n",
       "      <td>4344241</td>\n",
       "    </tr>\n",
       "    <tr>\n",
       "      <th>265719</th>\n",
       "      <td>D380496</td>\n",
       "      <td>1995</td>\n",
       "      <td>D19/90</td>\n",
       "      <td>4162014</td>\n",
       "    </tr>\n",
       "    <tr>\n",
       "      <th>265720</th>\n",
       "      <td>D380496</td>\n",
       "      <td>1995</td>\n",
       "      <td>D19/90</td>\n",
       "      <td>4344241</td>\n",
       "    </tr>\n",
       "    <tr>\n",
       "      <th>265721</th>\n",
       "      <td>D380496</td>\n",
       "      <td>1995</td>\n",
       "      <td>D19/86</td>\n",
       "      <td>4162014</td>\n",
       "    </tr>\n",
       "    <tr>\n",
       "      <th>265722</th>\n",
       "      <td>D380496</td>\n",
       "      <td>1995</td>\n",
       "      <td>D19/86</td>\n",
       "      <td>4344241</td>\n",
       "    </tr>\n",
       "  </tbody>\n",
       "</table>\n",
       "</div>"
      ],
      "text/plain": [
       "       patent_number  year    class reference\n",
       "265717       D380496  1995  D06/570   4162014\n",
       "265718       D380496  1995  D06/570   4344241\n",
       "265719       D380496  1995   D19/90   4162014\n",
       "265720       D380496  1995   D19/90   4344241\n",
       "265721       D380496  1995   D19/86   4162014\n",
       "265722       D380496  1995   D19/86   4344241"
      ]
     },
     "execution_count": 9,
     "metadata": {},
     "output_type": "execute_result"
    }
   ],
   "source": [
    "#sanity check\n",
    "focal_ref[focal_ref.patent_number == 'D380496']"
   ]
  },
  {
   "cell_type": "code",
   "execution_count": 10,
   "metadata": {},
   "outputs": [],
   "source": [
    "citation = citation.rename(index=str, columns={\"patent_number\":\"reference\"})\n",
    "\n",
    "citation['reference']=citation['reference'].apply(str)"
   ]
  },
  {
   "cell_type": "code",
   "execution_count": 11,
   "metadata": {},
   "outputs": [
    {
     "data": {
      "text/html": [
       "<div>\n",
       "<style scoped>\n",
       "    .dataframe tbody tr th:only-of-type {\n",
       "        vertical-align: middle;\n",
       "    }\n",
       "\n",
       "    .dataframe tbody tr th {\n",
       "        vertical-align: top;\n",
       "    }\n",
       "\n",
       "    .dataframe thead th {\n",
       "        text-align: right;\n",
       "    }\n",
       "</style>\n",
       "<table border=\"1\" class=\"dataframe\">\n",
       "  <thead>\n",
       "    <tr style=\"text-align: right;\">\n",
       "      <th></th>\n",
       "      <th>patent_number</th>\n",
       "      <th>year</th>\n",
       "      <th>class_x</th>\n",
       "      <th>reference</th>\n",
       "      <th>class_y</th>\n",
       "      <th>class_combo</th>\n",
       "    </tr>\n",
       "  </thead>\n",
       "  <tbody>\n",
       "    <tr>\n",
       "      <th>0</th>\n",
       "      <td>D257752</td>\n",
       "      <td>1980</td>\n",
       "      <td>D19/75</td>\n",
       "      <td>4162014</td>\n",
       "      <td>211/50</td>\n",
       "      <td>D19/75-211/50</td>\n",
       "    </tr>\n",
       "    <tr>\n",
       "      <th>1</th>\n",
       "      <td>D257752</td>\n",
       "      <td>1980</td>\n",
       "      <td>D19/75</td>\n",
       "      <td>4162014</td>\n",
       "      <td>211/55</td>\n",
       "      <td>D19/75-211/55</td>\n",
       "    </tr>\n",
       "    <tr>\n",
       "      <th>2</th>\n",
       "      <td>D257752</td>\n",
       "      <td>1980</td>\n",
       "      <td>D19/75</td>\n",
       "      <td>4162014</td>\n",
       "      <td>211/126.1</td>\n",
       "      <td>D19/75-211/126.1</td>\n",
       "    </tr>\n",
       "    <tr>\n",
       "      <th>3</th>\n",
       "      <td>D257924</td>\n",
       "      <td>1980</td>\n",
       "      <td>D06/573</td>\n",
       "      <td>4162014</td>\n",
       "      <td>211/50</td>\n",
       "      <td>D06/573-211/50</td>\n",
       "    </tr>\n",
       "    <tr>\n",
       "      <th>4</th>\n",
       "      <td>D257924</td>\n",
       "      <td>1980</td>\n",
       "      <td>D06/573</td>\n",
       "      <td>4162014</td>\n",
       "      <td>211/55</td>\n",
       "      <td>D06/573-211/55</td>\n",
       "    </tr>\n",
       "  </tbody>\n",
       "</table>\n",
       "</div>"
      ],
      "text/plain": [
       "  patent_number  year  class_x reference    class_y       class_combo\n",
       "0       D257752  1980   D19/75   4162014     211/50     D19/75-211/50\n",
       "1       D257752  1980   D19/75   4162014     211/55     D19/75-211/55\n",
       "2       D257752  1980   D19/75   4162014  211/126.1  D19/75-211/126.1\n",
       "3       D257924  1980  D06/573   4162014     211/50    D06/573-211/50\n",
       "4       D257924  1980  D06/573   4162014     211/55    D06/573-211/55"
      ]
     },
     "execution_count": 11,
     "metadata": {},
     "output_type": "execute_result"
    }
   ],
   "source": [
    "master_merge = pd.merge(focal_ref, citation, on='reference')\n",
    "\n",
    "master_merge['class_combo'] = master_merge['class_x'] +'-'+ master_merge['class_y']\n",
    "\n",
    "master_merge.head()"
   ]
  },
  {
   "cell_type": "code",
   "execution_count": 12,
   "metadata": {},
   "outputs": [],
   "source": [
    "master_merge['new_combo'] = 0"
   ]
  },
  {
   "cell_type": "code",
   "execution_count": 13,
   "metadata": {},
   "outputs": [],
   "source": [
    "def check_new_combo(row):\n",
    "#     combo = row['class_combo']\n",
    "#     base_year = row['year']\n",
    "    earlier_years = master_merge[master_merge['year'] < row['year']]\n",
    "    return not earlier_years['class_combo'].isin([row['class_combo']]).any()\n",
    "    "
   ]
  },
  {
   "cell_type": "code",
   "execution_count": 14,
   "metadata": {},
   "outputs": [],
   "source": [
    "master_merge.sort_values('year').reset_index(inplace=True)"
   ]
  },
  {
   "cell_type": "code",
   "execution_count": null,
   "metadata": {},
   "outputs": [],
   "source": [
    "master_merge['new_combo'] = master_merge.apply(check_new_combo, axis=1)"
   ]
  },
  {
   "cell_type": "code",
   "execution_count": 15,
   "metadata": {},
   "outputs": [],
   "source": [
    "mini_year = master_merge[master_merge.year == 2000]"
   ]
  },
  {
   "cell_type": "code",
   "execution_count": null,
   "metadata": {},
   "outputs": [],
   "source": [
    "mini_year['new_combo'] = mini_year.apply(check_new_combo, axis=1)"
   ]
  },
  {
   "cell_type": "code",
   "execution_count": null,
   "metadata": {},
   "outputs": [],
   "source": []
  }
 ],
 "metadata": {
  "kernelspec": {
   "display_name": "Python 3",
   "language": "python",
   "name": "python3"
  },
  "language_info": {
   "codemirror_mode": {
    "name": "ipython",
    "version": 3
   },
   "file_extension": ".py",
   "mimetype": "text/x-python",
   "name": "python",
   "nbconvert_exporter": "python",
   "pygments_lexer": "ipython3",
   "version": "3.6.4"
  }
 },
 "nbformat": 4,
 "nbformat_minor": 2
}
