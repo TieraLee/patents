{
 "cells": [
  {
   "cell_type": "code",
   "execution_count": 27,
   "metadata": {},
   "outputs": [],
   "source": [
    "import pandas as pd\n",
    "import matplotlib.pyplot as plt\n",
    "\n",
    "%matplotlib inline"
   ]
  },
  {
   "cell_type": "code",
   "execution_count": 2,
   "metadata": {},
   "outputs": [],
   "source": [
    "application = pd.read_csv('data/application.tsv', delimiter = '\\t', usecols=['patent_id','date'])"
   ]
  },
  {
   "cell_type": "code",
   "execution_count": 3,
   "metadata": {},
   "outputs": [],
   "source": [
    "granted = pd.read_csv('data/patent.tsv', delimiter='\\t', usecols=['type','number','date'], dtype={'number':str})"
   ]
  },
  {
   "cell_type": "code",
   "execution_count": 4,
   "metadata": {},
   "outputs": [],
   "source": [
    "application = application.rename(index = str, columns={'date':'app_date'})\n",
    "\n",
    "granted = granted.rename(index=str, columns={'date':'grant_date', 'number':'patent_id'})"
   ]
  },
  {
   "cell_type": "code",
   "execution_count": 5,
   "metadata": {},
   "outputs": [
    {
     "name": "stdout",
     "output_type": "stream",
     "text": [
      "(6657478, 3) (6502933, 2)\n"
     ]
    }
   ],
   "source": [
    "print(granted.shape, application.shape)"
   ]
  },
  {
   "cell_type": "code",
   "execution_count": 7,
   "metadata": {},
   "outputs": [
    {
     "data": {
      "text/html": [
       "<div>\n",
       "<style scoped>\n",
       "    .dataframe tbody tr th:only-of-type {\n",
       "        vertical-align: middle;\n",
       "    }\n",
       "\n",
       "    .dataframe tbody tr th {\n",
       "        vertical-align: top;\n",
       "    }\n",
       "\n",
       "    .dataframe thead th {\n",
       "        text-align: right;\n",
       "    }\n",
       "</style>\n",
       "<table border=\"1\" class=\"dataframe\">\n",
       "  <thead>\n",
       "    <tr style=\"text-align: right;\">\n",
       "      <th></th>\n",
       "      <th>patent_id</th>\n",
       "      <th>app_date</th>\n",
       "      <th>type</th>\n",
       "      <th>grant_date</th>\n",
       "    </tr>\n",
       "  </thead>\n",
       "  <tbody>\n",
       "    <tr>\n",
       "      <th>0</th>\n",
       "      <td>D345393</td>\n",
       "      <td>1992-12-21</td>\n",
       "      <td>design</td>\n",
       "      <td>1994-03-22</td>\n",
       "    </tr>\n",
       "    <tr>\n",
       "      <th>1</th>\n",
       "      <td>5164715</td>\n",
       "      <td>1990-04-10</td>\n",
       "      <td>utility</td>\n",
       "      <td>1992-11-17</td>\n",
       "    </tr>\n",
       "    <tr>\n",
       "      <th>2</th>\n",
       "      <td>5177974</td>\n",
       "      <td>1988-06-23</td>\n",
       "      <td>utility</td>\n",
       "      <td>1993-01-12</td>\n",
       "    </tr>\n",
       "    <tr>\n",
       "      <th>3</th>\n",
       "      <td>5379515</td>\n",
       "      <td>1994-02-16</td>\n",
       "      <td>utility</td>\n",
       "      <td>1995-01-10</td>\n",
       "    </tr>\n",
       "    <tr>\n",
       "      <th>4</th>\n",
       "      <td>5264790</td>\n",
       "      <td>1991-07-01</td>\n",
       "      <td>utility</td>\n",
       "      <td>1993-11-23</td>\n",
       "    </tr>\n",
       "  </tbody>\n",
       "</table>\n",
       "</div>"
      ],
      "text/plain": [
       "  patent_id    app_date     type  grant_date\n",
       "0   D345393  1992-12-21   design  1994-03-22\n",
       "1   5164715  1990-04-10  utility  1992-11-17\n",
       "2   5177974  1988-06-23  utility  1993-01-12\n",
       "3   5379515  1994-02-16  utility  1995-01-10\n",
       "4   5264790  1991-07-01  utility  1993-11-23"
      ]
     },
     "execution_count": 7,
     "metadata": {},
     "output_type": "execute_result"
    }
   ],
   "source": [
    "master = pd.merge(application, granted, on='patent_id', how='inner')\n",
    "master.head()"
   ]
  },
  {
   "cell_type": "code",
   "execution_count": 14,
   "metadata": {},
   "outputs": [],
   "source": [
    "#convert to dat\n",
    "master['app_date'] = pd.to_datetime(master['app_date'], errors='coerce').dt.year\n",
    "\n",
    "master['grant_date'] = pd.to_datetime(master['grant_date'], errors='coerce').dt.year"
   ]
  },
  {
   "cell_type": "code",
   "execution_count": 15,
   "metadata": {},
   "outputs": [
    {
     "data": {
      "text/html": [
       "<div>\n",
       "<style scoped>\n",
       "    .dataframe tbody tr th:only-of-type {\n",
       "        vertical-align: middle;\n",
       "    }\n",
       "\n",
       "    .dataframe tbody tr th {\n",
       "        vertical-align: top;\n",
       "    }\n",
       "\n",
       "    .dataframe thead th {\n",
       "        text-align: right;\n",
       "    }\n",
       "</style>\n",
       "<table border=\"1\" class=\"dataframe\">\n",
       "  <thead>\n",
       "    <tr style=\"text-align: right;\">\n",
       "      <th></th>\n",
       "      <th>patent_id</th>\n",
       "      <th>app_date</th>\n",
       "      <th>type</th>\n",
       "      <th>grant_date</th>\n",
       "    </tr>\n",
       "  </thead>\n",
       "  <tbody>\n",
       "    <tr>\n",
       "      <th>0</th>\n",
       "      <td>D345393</td>\n",
       "      <td>1992.0</td>\n",
       "      <td>design</td>\n",
       "      <td>1994</td>\n",
       "    </tr>\n",
       "    <tr>\n",
       "      <th>1</th>\n",
       "      <td>5164715</td>\n",
       "      <td>1990.0</td>\n",
       "      <td>utility</td>\n",
       "      <td>1992</td>\n",
       "    </tr>\n",
       "    <tr>\n",
       "      <th>2</th>\n",
       "      <td>5177974</td>\n",
       "      <td>1988.0</td>\n",
       "      <td>utility</td>\n",
       "      <td>1993</td>\n",
       "    </tr>\n",
       "    <tr>\n",
       "      <th>3</th>\n",
       "      <td>5379515</td>\n",
       "      <td>1994.0</td>\n",
       "      <td>utility</td>\n",
       "      <td>1995</td>\n",
       "    </tr>\n",
       "    <tr>\n",
       "      <th>4</th>\n",
       "      <td>5264790</td>\n",
       "      <td>1991.0</td>\n",
       "      <td>utility</td>\n",
       "      <td>1993</td>\n",
       "    </tr>\n",
       "  </tbody>\n",
       "</table>\n",
       "</div>"
      ],
      "text/plain": [
       "  patent_id  app_date     type  grant_date\n",
       "0   D345393    1992.0   design        1994\n",
       "1   5164715    1990.0  utility        1992\n",
       "2   5177974    1988.0  utility        1993\n",
       "3   5379515    1994.0  utility        1995\n",
       "4   5264790    1991.0  utility        1993"
      ]
     },
     "execution_count": 15,
     "metadata": {},
     "output_type": "execute_result"
    }
   ],
   "source": [
    "master.head()"
   ]
  },
  {
   "cell_type": "code",
   "execution_count": 19,
   "metadata": {},
   "outputs": [
    {
     "data": {
      "text/plain": [
       "patent_id     0\n",
       "app_date      0\n",
       "type          0\n",
       "grant_date    0\n",
       "dtype: int64"
      ]
     },
     "execution_count": 19,
     "metadata": {},
     "output_type": "execute_result"
    }
   ],
   "source": [
    "master.isnull().sum()"
   ]
  },
  {
   "cell_type": "code",
   "execution_count": 20,
   "metadata": {},
   "outputs": [
    {
     "data": {
      "text/plain": [
       "array(['design', 'utility'], dtype=object)"
      ]
     },
     "execution_count": 20,
     "metadata": {},
     "output_type": "execute_result"
    }
   ],
   "source": [
    "master.type.unique()"
   ]
  },
  {
   "cell_type": "code",
   "execution_count": 24,
   "metadata": {},
   "outputs": [
    {
     "name": "stderr",
     "output_type": "stream",
     "text": [
      "/home/tiera/anaconda3/lib/python3.6/site-packages/ipykernel_launcher.py:1: SettingWithCopyWarning: \n",
      "A value is trying to be set on a copy of a slice from a DataFrame.\n",
      "Try using .loc[row_indexer,col_indexer] = value instead\n",
      "\n",
      "See the caveats in the documentation: http://pandas.pydata.org/pandas-docs/stable/indexing.html#indexing-view-versus-copy\n",
      "  \"\"\"Entry point for launching an IPython kernel.\n"
     ]
    }
   ],
   "source": [
    "master['pendency'] = master['grant_date'] - master['app_date']"
   ]
  },
  {
   "cell_type": "code",
   "execution_count": 23,
   "metadata": {},
   "outputs": [],
   "source": [
    "master.dropna(inplace=True)\n",
    "master = master.loc[(master['type'].str.match('design') | (master['type'].str.match('utility')))]\n",
    "\n",
    "master = master.loc[(master['app_date'] >= 1980)]"
   ]
  },
  {
   "cell_type": "code",
   "execution_count": 42,
   "metadata": {},
   "outputs": [
    {
     "data": {
      "text/plain": [
       "(0, 5)"
      ]
     },
     "execution_count": 42,
     "metadata": {},
     "output_type": "execute_result"
    },
    {
     "data": {
      "image/png": "[encoded data removed]",
      "text/plain": [
       "<Figure size 432x288 with 1 Axes>"
      ]
     },
     "metadata": {},
     "output_type": "display_data"
    }
   ],
   "source": [
    "fig, ax = plt.subplots()\n",
    "\n",
    "master.loc[master['type'].str.match('design')]\\\n",
    ".groupby('app_date')['pendency'].mean().plot(kind='line', label='Design Patent Pendency')\n",
    "master.loc[master['type'].str.match('utility')]\\\n",
    ".groupby('app_date')['pendency'].mean().plot(kind='line', label='Utility Patent Pendency')\n",
    "\n",
    "ax.legend()\n",
    "ax.set_ylabel('Pendency in Years')\n",
    "ax.set_xlabel('Application Year')\n",
    "ax.set_title('Mean Patent Pendency')\n",
    "ax.set_ylim([0,5])"
   ]
  },
  {
   "cell_type": "code",
   "execution_count": null,
   "metadata": {},
   "outputs": [],
   "source": []
  }
 ],
 "metadata": {
  "kernelspec": {
   "display_name": "Python 3",
   "language": "python",
   "name": "python3"
  },
  "language_info": {
   "codemirror_mode": {
    "name": "ipython",
    "version": 3
   },
   "file_extension": ".py",
   "mimetype": "text/x-python",
   "name": "python",
   "nbconvert_exporter": "python",
   "pygments_lexer": "ipython3",
   "version": "3.6.5"
  }
 },
 "nbformat": 4,
 "nbformat_minor": 2
}
