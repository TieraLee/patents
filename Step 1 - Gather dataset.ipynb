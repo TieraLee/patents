{
 "cells": [
  {
   "cell_type": "markdown",
   "metadata": {},
   "source": [
    "# Gathing the foundational dataset that this project will be based on\n",
    "\n",
    "What: Granted Design patents from the USPTO that were applied during the years 1980-2015\n",
    "\n",
    "How: Using the PatentsView API, which already disambiguates and aggregates patent data for us. This is a product directly from USPTO, makig it a realiable source. \n",
    "\n",
    "Data fields we are interested in:\n",
    "1. patent number\n",
    "2. application year\n",
    "3. number of inventors\n",
    "4. number of assignees\n",
    "5. number of cited design patents\n",
    "6. number of cited utility patents\n",
    "7. number of cited non-patent prior arts\n",
    "8. assignee name\n",
    "9. assignee city\n",
    "10. assignee state\n",
    "11. assignee country\n",
    "12. grant year\n",
    "13. priority date\n",
    "14. if cited any foreign patents\n",
    "15. design patent class\n",
    "16. design patent subclass\n",
    "17. number of figures\n",
    "18. if US inventor\n",
    "19. if any missing citations"
   ]
  },
  {
   "cell_type": "code",
   "execution_count": 2,
   "metadata": {},
   "outputs": [],
   "source": [
    "import requests\n",
    "import json\n",
    "import pandas as pd\n",
    "import numpy as np\n",
    "import matplotlib.pyplot as plt\n",
    "%matplotlib inline\n",
    "\n"
   ]
  },
  {
   "cell_type": "code",
   "execution_count": null,
   "metadata": {},
   "outputs": [],
   "source": [
    "\n",
    "#This particular API doesn't quite follow the standard REST protocol\n",
    "#This is setting up the parts of the URL that won't change between patents\n",
    "#See http://www.patentsview.org/api/query-language.html for more info\n",
    "\n",
    "\n",
    "base_url = \"http://www.patentsview.org/api/patents/query?\"\n",
    "field_list = \"&f=[\\\"patent_number\\\",\\\"app_date\\\",\\\"inventor_id\\\",\\\"assignee_city\\\",\\\"assignee_country\\\",\\\"assignee_state\\\",\\\"assignee_organization\\\",\\\"assignee_first_name\\\",\\\"assignee_last_name\\\",\\\"patent_year\\\",\\\"uspc_subclass_id\\\",\\\"uspc_mainclass_id\\\",\\\"cited_patent_number\\\",\\\"patent_num_foreign_citations\\\",\\\"patent_num_us_patent_citations\\\",\\\"forprior_country\\\", \\\"forprior_date\\\", \\\"patent_firstnamed_inventor_country\\\"]\"\n",
    "\n",
    "top_level = pd.DataFrame()\n",
    "applications_level = pd.DataFrame()\n",
    "assignee_level = pd.DataFrame()\n",
    "cited_patents_level = pd.DataFrame()\n",
    "inventor_level = pd.DataFrame()\n",
    "foreign_priority_level = pd.DataFrame()\n",
    "uspcs_level = pd.DataFrame()"
   ]
  },
  {
   "cell_type": "code",
   "execution_count": null,
   "metadata": {
    "scrolled": true
   },
   "outputs": [],
   "source": [
    "#Due to the limits of the amount of results the API can return, query must be performed in loop by date and page\n",
    "\n",
    "for year in range(1980,2016):\n",
    "    page = 1\n",
    "    more_patents = True\n",
    "    \n",
    "    while more_patents:\n",
    "        \n",
    "        query = \"q={{\\\"_and\\\":[{{\\\"patent_type\\\":\\\"Design\\\"}},{{\\\"_gte\\\":{{\\\"app_date\\\":\\\"{0}-01-01\\\"}}}},{{\\\"_lte\\\":{{\\\"app_date\\\":\\\"{0}-12-31\\\"}}}}]}}\".format(year)\n",
    "        options = \"&o={{\\\"per_page\\\":10000,\\\"page\\\":{}}}\".format(page)\n",
    "\n",
    "        full_url = base_url + query + field_list + options\n",
    "#         print(full_url)\n",
    "        r = requests.get(full_url)\n",
    "        print(r)\n",
    "        data = r.json()\n",
    "        print(year,\"-\",page,\"-\",data['count'])\n",
    "\n",
    "        print(data)\n",
    "        break\n",
    "        # several columns in the JSON are nested, which will create a nested dataframe.\n",
    "        # This creates different dataframes for each nested object, which can all be combined later\n",
    "        df = pd.io.json.json_normalize(data['patents'])\n",
    "        top_level = pd.concat([top_level, df], ignore_index=True)\n",
    "\n",
    "        \n",
    "        df = pd.io.json.json_normalize(data['patents'], record_path=['applications'], meta=['patent_number'])\n",
    "        applications_level = pd.concat([applications_level, df], ignore_index=True)\n",
    "        \n",
    "        df = pd.io.json.json_normalize(data['patents'], record_path=['assignees'], meta=['patent_number'])\n",
    "        assignee_level = pd.concat([assignee_level, df], ignore_index=True)\n",
    "        \n",
    "        df = pd.io.json.json_normalize(data['patents'], record_path = ['cited_patents'], meta=['patent_number'])\n",
    "        cited_patents_level = pd.concat([cited_patents_level, df], ignore_index=True)\n",
    "        \n",
    "        df = pd.io.json.json_normalize(data['patents'], record_path=['inventors'], meta=['patent_number'])\n",
    "        inventor_level = pd.concat([inventor_level, df], ignore_index=True)\n",
    "        \n",
    "        df = pd.io.json.json_normalize(data['patents'], record_path=['foreign_priority'], meta=['patent_number'])\n",
    "        foreign_priority_level = pd.concat([foreign_priority_level, df], ignore_index=True)\n",
    "        \n",
    "        df = pd.io.json.json_normalize(data['patents'], record_path = ['uspcs'], meta=['patent_number'])\n",
    "        uspcs_level = pd.concat([uspcs_level, df], ignore_index=True)\n",
    "\n",
    "\n",
    "        \n",
    "        # decide if to continue to next year or next page\n",
    "        if data['count'] < 10000:\n",
    "            more_patents = False\n",
    "        else:\n",
    "            page += 1\n",
    "            \n",
    "      \n"
   ]
  },
  {
   "cell_type": "markdown",
   "metadata": {},
   "source": [
    "Some of the data isnt available via the API, so it has to be extracted from the raw data downloaded from PatentsView website.\n",
    "This includes the number of non-patent citations and number of figures"
   ]
  },
  {
   "cell_type": "code",
   "execution_count": null,
   "metadata": {},
   "outputs": [],
   "source": [
    "figures = pd.read_csv('figures.tsv',delimiter='\\t',usecols=['patent_id','num_figures'])\n",
    "figures.rename(index=str, columns={\"patent_id\":\"patent_number\"}, inplace=True)\n",
    "figures.head()"
   ]
  },
  {
   "cell_type": "code",
   "execution_count": null,
   "metadata": {
    "scrolled": true
   },
   "outputs": [],
   "source": [
    "otherrefs = pd.read_csv('otherreference.tsv', delimiter='\\t', usecols=['uuid','patent_id'], engine='python', error_bad_lines=False)\n",
    "otherrefs = otherrefs['patent_id'].value_counts().reset_index().rename(index=str, columns={'index':'patent_number','patent_id':'non-pat_refs'})\n",
    "otherrefs.head()"
   ]
  },
  {
   "cell_type": "code",
   "execution_count": null,
   "metadata": {},
   "outputs": [],
   "source": [
    "application_citations = pd.read_csv('usapplicationcitation.tsv', delimiter = '\\t', usecols=['patent_id', 'date'])\n",
    "\n",
    "application_citations.head()"
   ]
  },
  {
   "cell_type": "code",
   "execution_count": null,
   "metadata": {},
   "outputs": [],
   "source": [
    "application_citations[application_citations['patent_id'].str.match('D703103')]"
   ]
  },
  {
   "cell_type": "code",
   "execution_count": null,
   "metadata": {},
   "outputs": [],
   "source": [
    "master = pd.read_csv('master.csv')"
   ]
  },
  {
   "cell_type": "code",
   "execution_count": null,
   "metadata": {},
   "outputs": [],
   "source": [
    "master[master['patent_number'].str.match('D703103')]"
   ]
  },
  {
   "cell_type": "code",
   "execution_count": null,
   "metadata": {},
   "outputs": [],
   "source": [
    "related = pd.read_csv('usreldoc.tsv', delimiter = '\\t')\n",
    "\n",
    "related.head()"
   ]
  },
  {
   "cell_type": "code",
   "execution_count": null,
   "metadata": {
    "scrolled": true
   },
   "outputs": [],
   "source": [
    "related[related['doctype'].str.contains('related')]"
   ]
  },
  {
   "cell_type": "code",
   "execution_count": null,
   "metadata": {},
   "outputs": [],
   "source": [
    "related['doctype'].unique()"
   ]
  },
  {
   "cell_type": "code",
   "execution_count": null,
   "metadata": {},
   "outputs": [],
   "source": [
    "print(\"top level: \",top_level.shape,\n",
    "      \"applications: \",applications_level.shape,\n",
    "      \"assignee: \", assignee_level.shape,\n",
    "      \"cited patents: \",cited_patents_level.shape,\n",
    "      \"inventors: \", inventor_level.shape,\n",
    "      \"foreign priority: \", foreign_priority_level.shape,\n",
    "      \"classes: \", uspcs_level.shape)"
   ]
  },
  {
   "cell_type": "markdown",
   "metadata": {},
   "source": [
    "# Data cleaning and combining\n",
    "\n",
    "Now that we have all the basic data that we are interested in, it's time to clean them up into neat pretty rows for useful analysis"
   ]
  },
  {
   "cell_type": "code",
   "execution_count": null,
   "metadata": {},
   "outputs": [],
   "source": [
    "master = pd.DataFrame()"
   ]
  },
  {
   "cell_type": "markdown",
   "metadata": {},
   "source": [
    "Let's look at the top level, non-nested, level data"
   ]
  },
  {
   "cell_type": "code",
   "execution_count": null,
   "metadata": {},
   "outputs": [],
   "source": [
    "top_level.head()"
   ]
  },
  {
   "cell_type": "code",
   "execution_count": null,
   "metadata": {},
   "outputs": [],
   "source": [
    "master['patent_number'] = top_level['patent_number']\n",
    "master.head()"
   ]
  },
  {
   "cell_type": "code",
   "execution_count": null,
   "metadata": {},
   "outputs": [],
   "source": [
    "master['grant_year'] = top_level['patent_year']\n",
    "master.head()"
   ]
  },
  {
   "cell_type": "markdown",
   "metadata": {},
   "source": [
    "Extracting application date"
   ]
  },
  {
   "cell_type": "code",
   "execution_count": null,
   "metadata": {},
   "outputs": [],
   "source": [
    "applications_level.head()"
   ]
  },
  {
   "cell_type": "code",
   "execution_count": null,
   "metadata": {},
   "outputs": [],
   "source": [
    "applications_level['app_date'] = pd.to_datetime(applications_level['app_date'], errors='coerce').apply(lambda x: x.year)\n",
    "master = pd.merge(master, applications_level, how='left', on='patent_number')"
   ]
  },
  {
   "cell_type": "code",
   "execution_count": null,
   "metadata": {},
   "outputs": [],
   "source": [
    "master = master.rename(index=str, columns={\"app_date\":\"app_year\"}).drop(labels=['app_id'], axis=1)\n",
    "master.head()"
   ]
  },
  {
   "cell_type": "markdown",
   "metadata": {},
   "source": [
    "Number of inventors"
   ]
  },
  {
   "cell_type": "code",
   "execution_count": null,
   "metadata": {},
   "outputs": [],
   "source": [
    "inventor_level.head()"
   ]
  },
  {
   "cell_type": "code",
   "execution_count": null,
   "metadata": {},
   "outputs": [],
   "source": [
    "number_inventors = inventor_level['patent_number'].value_counts().reset_index().rename(index=str, columns={'index':'patent_number','patent_number':'num_inventors'})\n",
    "master = pd.merge(master, number_inventors, how='left',on='patent_number')\n",
    "master.head()"
   ]
  },
  {
   "cell_type": "markdown",
   "metadata": {},
   "source": [
    "If US-first inventor"
   ]
  },
  {
   "cell_type": "code",
   "execution_count": null,
   "metadata": {},
   "outputs": [],
   "source": [
    "master = pd.merge(master, top_level[['patent_firstnamed_inventor_country', 'patent_number']], how='left', on='patent_number')\n",
    "master.head()"
   ]
  },
  {
   "cell_type": "code",
   "execution_count": null,
   "metadata": {},
   "outputs": [],
   "source": [
    "master['patent_firstnamed_inventor_countrymaster'] = master['patent_firstnamed_inventor_country'].str.match('US').astype(float)\n",
    "master.rename(index=str, columns={'patent_firstnamed_inventor_country':'us_inventor'}, inplace=True)\n",
    "master.head()"
   ]
  },
  {
   "cell_type": "code",
   "execution_count": null,
   "metadata": {},
   "outputs": [],
   "source": [
    "master.drop(labels=['us_inventor'], axis=1, inplace=True)\n",
    "master.rename(index=str, columns={'patent_firstnamed_inventor_countrymaster':'us_inventor'}, inplace=True)\n",
    "master.head()"
   ]
  },
  {
   "cell_type": "markdown",
   "metadata": {},
   "source": [
    "any foreign patents cited"
   ]
  },
  {
   "cell_type": "code",
   "execution_count": null,
   "metadata": {},
   "outputs": [],
   "source": [
    "master = pd.merge(master, top_level[['patent_num_foreign_citations', 'patent_number']], how='left', on='patent_number')\n",
    "master['patent_num_foreign_citations'] = (master['patent_num_foreign_citations'].astype(float) > 0).astype(float)\n",
    "master.rename(index=str, columns={'patent_num_foreign_citations':'cite_foreign_patent'}, inplace=True)\n",
    "master.head()"
   ]
  },
  {
   "cell_type": "markdown",
   "metadata": {},
   "source": [
    "Any missing patents"
   ]
  },
  {
   "cell_type": "code",
   "execution_count": null,
   "metadata": {},
   "outputs": [],
   "source": [
    "cited_patents_level.head()"
   ]
  },
  {
   "cell_type": "code",
   "execution_count": null,
   "metadata": {},
   "outputs": [],
   "source": [
    "missing_cits = cited_patents_level['patent_number'].value_counts().reset_index().rename(index=str, columns={'index':'patent_number','patent_number':'num_cits_reported'})\n",
    "missing_cits.head()"
   ]
  },
  {
   "cell_type": "code",
   "execution_count": null,
   "metadata": {},
   "outputs": [],
   "source": [
    "missing_cits = pd.merge(missing_cits, top_level[['patent_number','patent_num_us_patent_citations']], how='inner', on='patent_number')\n",
    "missing_cits['reported_less_than_count'] = (missing_cits['num_cits_reported'] < missing_cits['patent_num_us_patent_citations'].astype(int))\n",
    "missing_cits.head()"
   ]
  },
  {
   "cell_type": "code",
   "execution_count": null,
   "metadata": {},
   "outputs": [],
   "source": [
    "any_null_cites = cited_patents_level.groupby('patent_number')['cited_patent_number'].apply(lambda x: x.isnull().any()).to_frame()\n",
    "any_null_cites.reset_index(inplace=True)\n",
    "any_null_cites.head()"
   ]
  },
  {
   "cell_type": "code",
   "execution_count": null,
   "metadata": {
    "scrolled": true
   },
   "outputs": [],
   "source": [
    "missing_cits = pd.merge(missing_cits, any_null_cites, how='inner', on='patent_number')\n",
    "missing_cits.head()"
   ]
  },
  {
   "cell_type": "code",
   "execution_count": null,
   "metadata": {},
   "outputs": [],
   "source": [
    "missing_cits['is_missing'] = (missing_cits['reported_less_than_count'] | missing_cits['cited_patent_number']).astype(int)\n",
    "missing_cits.head()"
   ]
  },
  {
   "cell_type": "code",
   "execution_count": null,
   "metadata": {},
   "outputs": [],
   "source": [
    "master = pd.merge(master, missing_cits[['patent_number','is_missing']], on='patent_number', how='left')\n",
    "master.head()"
   ]
  },
  {
   "cell_type": "code",
   "execution_count": null,
   "metadata": {},
   "outputs": [],
   "source": [
    "# master = master.drop(labels=['is_missing_x'], axis=1).rename(index=str, columns={'is_missing_y':'is_missing'})\n",
    "# master.head()"
   ]
  },
  {
   "cell_type": "markdown",
   "metadata": {},
   "source": [
    "Number of cited design patents"
   ]
  },
  {
   "cell_type": "code",
   "execution_count": null,
   "metadata": {},
   "outputs": [],
   "source": [
    "cited_patents_level.head()"
   ]
  },
  {
   "cell_type": "code",
   "execution_count": null,
   "metadata": {},
   "outputs": [],
   "source": [
    "cited_design = cited_patents_level.groupby('patent_number')['cited_patent_number'].apply(lambda x: np.count_nonzero(x.str.contains('D\\d{6}'))).reset_index().rename(index=str, columns={'cited_patent_number':'num_design_cited'})\n",
    "cited_design.head()"
   ]
  },
  {
   "cell_type": "code",
   "execution_count": null,
   "metadata": {},
   "outputs": [],
   "source": [
    "master = pd.merge(master, cited_design, how='left', on='patent_number')\n",
    "master.head()"
   ]
  },
  {
   "cell_type": "markdown",
   "metadata": {},
   "source": [
    "Number of cited utility patents"
   ]
  },
  {
   "cell_type": "code",
   "execution_count": null,
   "metadata": {},
   "outputs": [],
   "source": [
    "cited_utility = cited_patents_level.groupby('patent_number')['cited_patent_number'].apply(lambda x: np.count_nonzero(x.str.contains('\\d{7}'))).reset_index().rename(index=str, columns={'cited_patent_number':'num_utility_cited'})\n",
    "cited_utility.head()"
   ]
  },
  {
   "cell_type": "code",
   "execution_count": null,
   "metadata": {},
   "outputs": [],
   "source": [
    "master = pd.merge(master, cited_utility, how='left', on='patent_number')\n",
    "master.head()"
   ]
  },
  {
   "cell_type": "markdown",
   "metadata": {},
   "source": [
    "Number of non-patent prior art"
   ]
  },
  {
   "cell_type": "code",
   "execution_count": null,
   "metadata": {},
   "outputs": [],
   "source": [
    "otherrefs.head()"
   ]
  },
  {
   "cell_type": "code",
   "execution_count": null,
   "metadata": {},
   "outputs": [],
   "source": [
    "master = pd.merge(master, otherrefs, on='patent_number', how='left')\n",
    "master.head()"
   ]
  },
  {
   "cell_type": "markdown",
   "metadata": {},
   "source": [
    "Number of figures"
   ]
  },
  {
   "cell_type": "code",
   "execution_count": null,
   "metadata": {},
   "outputs": [],
   "source": [
    "figures.head()"
   ]
  },
  {
   "cell_type": "code",
   "execution_count": null,
   "metadata": {},
   "outputs": [],
   "source": [
    "master = pd.merge(master, figures, on='patent_number', how='left')\n",
    "master.head()"
   ]
  },
  {
   "cell_type": "markdown",
   "metadata": {},
   "source": [
    "Number of assignees"
   ]
  },
  {
   "cell_type": "code",
   "execution_count": null,
   "metadata": {},
   "outputs": [],
   "source": [
    "assignee_level.head()"
   ]
  },
  {
   "cell_type": "code",
   "execution_count": null,
   "metadata": {
    "scrolled": true
   },
   "outputs": [],
   "source": [
    "num_assignees = assignee_level['patent_number'].value_counts().reset_index().rename(index=str, columns={'index':'patent_number', 'patent_number':'num_assignees'})\n",
    "num_assignees.head()"
   ]
  },
  {
   "cell_type": "code",
   "execution_count": null,
   "metadata": {
    "scrolled": true
   },
   "outputs": [],
   "source": [
    "master = pd.merge(master, num_assignees, on='patent_number', how='left')\n",
    "master.head()"
   ]
  },
  {
   "cell_type": "markdown",
   "metadata": {},
   "source": [
    "# Foreign Priority Date - Need to figure out"
   ]
  },
  {
   "cell_type": "code",
   "execution_count": null,
   "metadata": {},
   "outputs": [],
   "source": [
    "foreign_priority_level.head()"
   ]
  },
  {
   "cell_type": "code",
   "execution_count": null,
   "metadata": {
    "scrolled": true
   },
   "outputs": [],
   "source": [
    "foreign_priority_level['patent_number'].value_counts()"
   ]
  },
  {
   "cell_type": "code",
   "execution_count": null,
   "metadata": {},
   "outputs": [],
   "source": [
    "foreign_priority_level[foreign_priority_level['patent_number'].str.match('D665368')]"
   ]
  },
  {
   "cell_type": "markdown",
   "metadata": {},
   "source": [
    "Since design patents are designated by an D in the beginning of their number, let's see if any were missclassified. If so, they need to be removed"
   ]
  },
  {
   "cell_type": "code",
   "execution_count": 36,
   "metadata": {},
   "outputs": [],
   "source": [
    "#filter to make sure mis-classified patents are not included\n",
    "def remove_non_design(df):\n",
    "    return df[df.patent_number.str.contains('D')]\n",
    "    "
   ]
  },
  {
   "cell_type": "code",
   "execution_count": null,
   "metadata": {},
   "outputs": [],
   "source": [
    "master = remove_non_design(master)\n",
    "cited_patents_level = remove_non_design(cited_patents_level)\n",
    "assignee_level = remove_non_design(assignee_level)\n",
    "print(master.groupby('patent_number').ngroups , cited_patents_level.groupby('patent_number').ngroups, assignee_level.groupby('patent_number').ngroups)"
   ]
  },
  {
   "cell_type": "markdown",
   "metadata": {},
   "source": [
    "Now let's deal with any misssing values"
   ]
  },
  {
   "cell_type": "code",
   "execution_count": null,
   "metadata": {},
   "outputs": [],
   "source": [
    "master.isnull().sum()"
   ]
  },
  {
   "cell_type": "code",
   "execution_count": null,
   "metadata": {
    "scrolled": true
   },
   "outputs": [],
   "source": [
    "master[master['us_inventor'].isnull()]"
   ]
  },
  {
   "cell_type": "code",
   "execution_count": null,
   "metadata": {},
   "outputs": [],
   "source": [
    "#since most the N/A inventors are non-US. So they will all get a value of 0\n",
    "master['us_inventor'] = master['us_inventor'].fillna(0)"
   ]
  },
  {
   "cell_type": "code",
   "execution_count": null,
   "metadata": {
    "scrolled": true
   },
   "outputs": [],
   "source": [
    "master[master['non-pat_refs'].isnull()]"
   ]
  },
  {
   "cell_type": "code",
   "execution_count": null,
   "metadata": {},
   "outputs": [],
   "source": [
    "# The null non-patent reference means that no of these references were made. Fill it in with 0\n",
    "master['non-pat_refs'] = master['non-pat_refs'].fillna(0)"
   ]
  },
  {
   "cell_type": "code",
   "execution_count": null,
   "metadata": {
    "scrolled": true
   },
   "outputs": [],
   "source": [
    "master[master['num_figures'].isnull()]"
   ]
  },
  {
   "cell_type": "code",
   "execution_count": null,
   "metadata": {},
   "outputs": [],
   "source": [
    "#for some reason, certain patents are not listed in the figures.tsv. So we will just fill them in as 0\n",
    "master['num_figures'] = master['num_figures'].fillna(0)"
   ]
  },
  {
   "cell_type": "code",
   "execution_count": null,
   "metadata": {},
   "outputs": [],
   "source": [
    "cited_patents_level.isnull().sum()"
   ]
  },
  {
   "cell_type": "code",
   "execution_count": null,
   "metadata": {},
   "outputs": [],
   "source": [
    "#drop the null cited patents since they can't give us any information anyways\n",
    "cited_patents_level.dropna(inplace=True)"
   ]
  },
  {
   "cell_type": "code",
   "execution_count": null,
   "metadata": {},
   "outputs": [],
   "source": [
    "assignee_level.isnull().sum()"
   ]
  },
  {
   "cell_type": "markdown",
   "metadata": {},
   "source": [
    "Since assignee is a mixed bag of null, we will keep it for now and deal with it later"
   ]
  },
  {
   "cell_type": "markdown",
   "metadata": {},
   "source": [
    "# There are officially 525,490 design patents represented in this dataset\n",
    "Let's save the master, assignee, and cited patent so they can be used in future data analysis"
   ]
  },
  {
   "cell_type": "code",
   "execution_count": null,
   "metadata": {},
   "outputs": [],
   "source": [
    "master.to_csv('master.csv', index=False)\n",
    "cited_patents_level.to_csv('citations_patents_level.csv', index=False)\n",
    "assignee_level.to_csv('assignee_level.csv', index=False)"
   ]
  },
  {
   "cell_type": "markdown",
   "metadata": {},
   "source": [
    "# Priority Date\n",
    " \n",
    "definition: earliest date of action for patent, which can be the application date, the foreign priority date, or dates in the related documents sections (which includes continuations)\n",
    "\n",
    "Select the earliest year and the source of it, and the country"
   ]
  },
  {
   "cell_type": "code",
   "execution_count": 6,
   "metadata": {},
   "outputs": [
    {
     "data": {
      "text/html": [
       "<div>\n",
       "<style scoped>\n",
       "    .dataframe tbody tr th:only-of-type {\n",
       "        vertical-align: middle;\n",
       "    }\n",
       "\n",
       "    .dataframe tbody tr th {\n",
       "        vertical-align: top;\n",
       "    }\n",
       "\n",
       "    .dataframe thead th {\n",
       "        text-align: right;\n",
       "    }\n",
       "</style>\n",
       "<table border=\"1\" class=\"dataframe\">\n",
       "  <thead>\n",
       "    <tr style=\"text-align: right;\">\n",
       "      <th></th>\n",
       "      <th>patent_number</th>\n",
       "      <th>grant_year</th>\n",
       "      <th>app_year</th>\n",
       "      <th>num_inventors</th>\n",
       "      <th>us_inventor</th>\n",
       "      <th>cite_foreign_patent</th>\n",
       "      <th>is_missing</th>\n",
       "      <th>num_design_cited</th>\n",
       "      <th>num_utility_cited</th>\n",
       "      <th>non-pat_refs</th>\n",
       "      <th>num_figures</th>\n",
       "      <th>num_assignees</th>\n",
       "      <th>priority_date</th>\n",
       "    </tr>\n",
       "  </thead>\n",
       "  <tbody>\n",
       "    <tr>\n",
       "      <th>0</th>\n",
       "      <td>D257752</td>\n",
       "      <td>1981</td>\n",
       "      <td>1980</td>\n",
       "      <td>1</td>\n",
       "      <td>1.0</td>\n",
       "      <td>0.0</td>\n",
       "      <td>1</td>\n",
       "      <td>1</td>\n",
       "      <td>2</td>\n",
       "      <td>1.0</td>\n",
       "      <td>6.0</td>\n",
       "      <td>1</td>\n",
       "      <td>NaN</td>\n",
       "    </tr>\n",
       "    <tr>\n",
       "      <th>1</th>\n",
       "      <td>D257924</td>\n",
       "      <td>1981</td>\n",
       "      <td>1980</td>\n",
       "      <td>1</td>\n",
       "      <td>1.0</td>\n",
       "      <td>0.0</td>\n",
       "      <td>1</td>\n",
       "      <td>1</td>\n",
       "      <td>2</td>\n",
       "      <td>1.0</td>\n",
       "      <td>6.0</td>\n",
       "      <td>1</td>\n",
       "      <td>NaN</td>\n",
       "    </tr>\n",
       "    <tr>\n",
       "      <th>2</th>\n",
       "      <td>D258382</td>\n",
       "      <td>1981</td>\n",
       "      <td>1980</td>\n",
       "      <td>2</td>\n",
       "      <td>1.0</td>\n",
       "      <td>0.0</td>\n",
       "      <td>1</td>\n",
       "      <td>2</td>\n",
       "      <td>1</td>\n",
       "      <td>0.0</td>\n",
       "      <td>5.0</td>\n",
       "      <td>1</td>\n",
       "      <td>NaN</td>\n",
       "    </tr>\n",
       "    <tr>\n",
       "      <th>3</th>\n",
       "      <td>D258383</td>\n",
       "      <td>1981</td>\n",
       "      <td>1980</td>\n",
       "      <td>2</td>\n",
       "      <td>1.0</td>\n",
       "      <td>0.0</td>\n",
       "      <td>1</td>\n",
       "      <td>2</td>\n",
       "      <td>1</td>\n",
       "      <td>0.0</td>\n",
       "      <td>5.0</td>\n",
       "      <td>1</td>\n",
       "      <td>NaN</td>\n",
       "    </tr>\n",
       "    <tr>\n",
       "      <th>4</th>\n",
       "      <td>D258571</td>\n",
       "      <td>1981</td>\n",
       "      <td>1980</td>\n",
       "      <td>1</td>\n",
       "      <td>1.0</td>\n",
       "      <td>0.0</td>\n",
       "      <td>1</td>\n",
       "      <td>1</td>\n",
       "      <td>1</td>\n",
       "      <td>0.0</td>\n",
       "      <td>2.0</td>\n",
       "      <td>1</td>\n",
       "      <td>NaN</td>\n",
       "    </tr>\n",
       "  </tbody>\n",
       "</table>\n",
       "</div>"
      ],
      "text/plain": [
       "  patent_number  grant_year  app_year  num_inventors  us_inventor  \\\n",
       "0       D257752        1981      1980              1          1.0   \n",
       "1       D257924        1981      1980              1          1.0   \n",
       "2       D258382        1981      1980              2          1.0   \n",
       "3       D258383        1981      1980              2          1.0   \n",
       "4       D258571        1981      1980              1          1.0   \n",
       "\n",
       "   cite_foreign_patent  is_missing  num_design_cited  num_utility_cited  \\\n",
       "0                  0.0           1                 1                  2   \n",
       "1                  0.0           1                 1                  2   \n",
       "2                  0.0           1                 2                  1   \n",
       "3                  0.0           1                 2                  1   \n",
       "4                  0.0           1                 1                  1   \n",
       "\n",
       "   non-pat_refs  num_figures  num_assignees  priority_date  \n",
       "0           1.0          6.0              1            NaN  \n",
       "1           1.0          6.0              1            NaN  \n",
       "2           0.0          5.0              1            NaN  \n",
       "3           0.0          5.0              1            NaN  \n",
       "4           0.0          2.0              1            NaN  "
      ]
     },
     "execution_count": 6,
     "metadata": {},
     "output_type": "execute_result"
    }
   ],
   "source": [
    "master = pd.read_csv('data/master.csv')\n",
    "master.head()"
   ]
  },
  {
   "cell_type": "code",
   "execution_count": 9,
   "metadata": {},
   "outputs": [
    {
     "data": {
      "text/html": [
       "<div>\n",
       "<style scoped>\n",
       "    .dataframe tbody tr th:only-of-type {\n",
       "        vertical-align: middle;\n",
       "    }\n",
       "\n",
       "    .dataframe tbody tr th {\n",
       "        vertical-align: top;\n",
       "    }\n",
       "\n",
       "    .dataframe thead th {\n",
       "        text-align: right;\n",
       "    }\n",
       "</style>\n",
       "<table border=\"1\" class=\"dataframe\">\n",
       "  <thead>\n",
       "    <tr style=\"text-align: right;\">\n",
       "      <th></th>\n",
       "      <th>patent_number</th>\n",
       "      <th>grant_year</th>\n",
       "      <th>app_year</th>\n",
       "      <th>num_inventors</th>\n",
       "      <th>us_inventor</th>\n",
       "      <th>cite_foreign_patent</th>\n",
       "      <th>is_missing</th>\n",
       "      <th>num_design_cited</th>\n",
       "      <th>num_utility_cited</th>\n",
       "      <th>non-pat_refs</th>\n",
       "      <th>num_figures</th>\n",
       "      <th>num_assignees</th>\n",
       "    </tr>\n",
       "  </thead>\n",
       "  <tbody>\n",
       "    <tr>\n",
       "      <th>0</th>\n",
       "      <td>D257752</td>\n",
       "      <td>1981</td>\n",
       "      <td>1980</td>\n",
       "      <td>1</td>\n",
       "      <td>1.0</td>\n",
       "      <td>0.0</td>\n",
       "      <td>1</td>\n",
       "      <td>1</td>\n",
       "      <td>2</td>\n",
       "      <td>1.0</td>\n",
       "      <td>6.0</td>\n",
       "      <td>1</td>\n",
       "    </tr>\n",
       "    <tr>\n",
       "      <th>1</th>\n",
       "      <td>D257924</td>\n",
       "      <td>1981</td>\n",
       "      <td>1980</td>\n",
       "      <td>1</td>\n",
       "      <td>1.0</td>\n",
       "      <td>0.0</td>\n",
       "      <td>1</td>\n",
       "      <td>1</td>\n",
       "      <td>2</td>\n",
       "      <td>1.0</td>\n",
       "      <td>6.0</td>\n",
       "      <td>1</td>\n",
       "    </tr>\n",
       "    <tr>\n",
       "      <th>2</th>\n",
       "      <td>D258382</td>\n",
       "      <td>1981</td>\n",
       "      <td>1980</td>\n",
       "      <td>2</td>\n",
       "      <td>1.0</td>\n",
       "      <td>0.0</td>\n",
       "      <td>1</td>\n",
       "      <td>2</td>\n",
       "      <td>1</td>\n",
       "      <td>0.0</td>\n",
       "      <td>5.0</td>\n",
       "      <td>1</td>\n",
       "    </tr>\n",
       "    <tr>\n",
       "      <th>3</th>\n",
       "      <td>D258383</td>\n",
       "      <td>1981</td>\n",
       "      <td>1980</td>\n",
       "      <td>2</td>\n",
       "      <td>1.0</td>\n",
       "      <td>0.0</td>\n",
       "      <td>1</td>\n",
       "      <td>2</td>\n",
       "      <td>1</td>\n",
       "      <td>0.0</td>\n",
       "      <td>5.0</td>\n",
       "      <td>1</td>\n",
       "    </tr>\n",
       "    <tr>\n",
       "      <th>4</th>\n",
       "      <td>D258571</td>\n",
       "      <td>1981</td>\n",
       "      <td>1980</td>\n",
       "      <td>1</td>\n",
       "      <td>1.0</td>\n",
       "      <td>0.0</td>\n",
       "      <td>1</td>\n",
       "      <td>1</td>\n",
       "      <td>1</td>\n",
       "      <td>0.0</td>\n",
       "      <td>2.0</td>\n",
       "      <td>1</td>\n",
       "    </tr>\n",
       "  </tbody>\n",
       "</table>\n",
       "</div>"
      ],
      "text/plain": [
       "  patent_number  grant_year  app_year  num_inventors  us_inventor  \\\n",
       "0       D257752        1981      1980              1          1.0   \n",
       "1       D257924        1981      1980              1          1.0   \n",
       "2       D258382        1981      1980              2          1.0   \n",
       "3       D258383        1981      1980              2          1.0   \n",
       "4       D258571        1981      1980              1          1.0   \n",
       "\n",
       "   cite_foreign_patent  is_missing  num_design_cited  num_utility_cited  \\\n",
       "0                  0.0           1                 1                  2   \n",
       "1                  0.0           1                 1                  2   \n",
       "2                  0.0           1                 2                  1   \n",
       "3                  0.0           1                 2                  1   \n",
       "4                  0.0           1                 1                  1   \n",
       "\n",
       "   non-pat_refs  num_figures  num_assignees  \n",
       "0           1.0          6.0              1  \n",
       "1           1.0          6.0              1  \n",
       "2           0.0          5.0              1  \n",
       "3           0.0          5.0              1  \n",
       "4           0.0          2.0              1  "
      ]
     },
     "execution_count": 9,
     "metadata": {},
     "output_type": "execute_result"
    }
   ],
   "source": [
    "master.drop(labels=['priority_date'], axis=1, inplace=True)\n",
    "master.head()"
   ]
  },
  {
   "cell_type": "code",
   "execution_count": 11,
   "metadata": {},
   "outputs": [
    {
     "data": {
      "text/html": [
       "<div>\n",
       "<style scoped>\n",
       "    .dataframe tbody tr th:only-of-type {\n",
       "        vertical-align: middle;\n",
       "    }\n",
       "\n",
       "    .dataframe tbody tr th {\n",
       "        vertical-align: top;\n",
       "    }\n",
       "\n",
       "    .dataframe thead th {\n",
       "        text-align: right;\n",
       "    }\n",
       "</style>\n",
       "<table border=\"1\" class=\"dataframe\">\n",
       "  <thead>\n",
       "    <tr style=\"text-align: right;\">\n",
       "      <th></th>\n",
       "      <th>patent_id</th>\n",
       "      <th>date</th>\n",
       "      <th>country_transformed</th>\n",
       "    </tr>\n",
       "  </thead>\n",
       "  <tbody>\n",
       "    <tr>\n",
       "      <th>0</th>\n",
       "      <td>4579440</td>\n",
       "      <td>1982-11-18</td>\n",
       "      <td>JP</td>\n",
       "    </tr>\n",
       "    <tr>\n",
       "      <th>1</th>\n",
       "      <td>4736480</td>\n",
       "      <td>1985-03-27</td>\n",
       "      <td>DE</td>\n",
       "    </tr>\n",
       "    <tr>\n",
       "      <th>2</th>\n",
       "      <td>D449111</td>\n",
       "      <td>2001-01-09</td>\n",
       "      <td>HK</td>\n",
       "    </tr>\n",
       "    <tr>\n",
       "      <th>3</th>\n",
       "      <td>5228311</td>\n",
       "      <td>1990-08-16</td>\n",
       "      <td>DE</td>\n",
       "    </tr>\n",
       "    <tr>\n",
       "      <th>4</th>\n",
       "      <td>9711226</td>\n",
       "      <td>2015-03-04</td>\n",
       "      <td>JP</td>\n",
       "    </tr>\n",
       "  </tbody>\n",
       "</table>\n",
       "</div>"
      ],
      "text/plain": [
       "  patent_id        date country_transformed\n",
       "0   4579440  1982-11-18                  JP\n",
       "1   4736480  1985-03-27                  DE\n",
       "2   D449111  2001-01-09                  HK\n",
       "3   5228311  1990-08-16                  DE\n",
       "4   9711226  2015-03-04                  JP"
      ]
     },
     "execution_count": 11,
     "metadata": {},
     "output_type": "execute_result"
    }
   ],
   "source": [
    "foreign = pd.read_csv('data/foreign_priority.tsv', delimiter ='\\t', usecols=['patent_id','date','country_transformed'])\n",
    "foreign.head()"
   ]
  },
  {
   "cell_type": "code",
   "execution_count": 14,
   "metadata": {},
   "outputs": [
    {
     "data": {
      "text/html": [
       "<div>\n",
       "<style scoped>\n",
       "    .dataframe tbody tr th:only-of-type {\n",
       "        vertical-align: middle;\n",
       "    }\n",
       "\n",
       "    .dataframe tbody tr th {\n",
       "        vertical-align: top;\n",
       "    }\n",
       "\n",
       "    .dataframe thead th {\n",
       "        text-align: right;\n",
       "    }\n",
       "</style>\n",
       "<table border=\"1\" class=\"dataframe\">\n",
       "  <thead>\n",
       "    <tr style=\"text-align: right;\">\n",
       "      <th></th>\n",
       "      <th>patent_id</th>\n",
       "      <th>doctype</th>\n",
       "      <th>date</th>\n",
       "    </tr>\n",
       "  </thead>\n",
       "  <tbody>\n",
       "    <tr>\n",
       "      <th>0</th>\n",
       "      <td>9683848</td>\n",
       "      <td>continuation-in-part</td>\n",
       "      <td>2011-12-23</td>\n",
       "    </tr>\n",
       "    <tr>\n",
       "      <th>1</th>\n",
       "      <td>8343191</td>\n",
       "      <td>related-publication</td>\n",
       "      <td>2008-09-04</td>\n",
       "    </tr>\n",
       "    <tr>\n",
       "      <th>2</th>\n",
       "      <td>9435959</td>\n",
       "      <td>related-publication</td>\n",
       "      <td>2014-05-29</td>\n",
       "    </tr>\n",
       "    <tr>\n",
       "      <th>3</th>\n",
       "      <td>8394761</td>\n",
       "      <td>division</td>\n",
       "      <td>0000-00-00</td>\n",
       "    </tr>\n",
       "    <tr>\n",
       "      <th>4</th>\n",
       "      <td>7626702</td>\n",
       "      <td>related-publication</td>\n",
       "      <td>2008-06-19</td>\n",
       "    </tr>\n",
       "  </tbody>\n",
       "</table>\n",
       "</div>"
      ],
      "text/plain": [
       "  patent_id               doctype        date\n",
       "0   9683848  continuation-in-part  2011-12-23\n",
       "1   8343191   related-publication  2008-09-04\n",
       "2   9435959   related-publication  2014-05-29\n",
       "3   8394761              division  0000-00-00\n",
       "4   7626702   related-publication  2008-06-19"
      ]
     },
     "execution_count": 14,
     "metadata": {},
     "output_type": "execute_result"
    }
   ],
   "source": [
    "related = pd.read_csv('data/usreldoc.tsv', delimiter='\\t', usecols=['patent_id','doctype','date'])\n",
    "related.head()"
   ]
  },
  {
   "cell_type": "code",
   "execution_count": 18,
   "metadata": {},
   "outputs": [
    {
     "data": {
      "text/html": [
       "<div>\n",
       "<style scoped>\n",
       "    .dataframe tbody tr th:only-of-type {\n",
       "        vertical-align: middle;\n",
       "    }\n",
       "\n",
       "    .dataframe tbody tr th {\n",
       "        vertical-align: top;\n",
       "    }\n",
       "\n",
       "    .dataframe thead th {\n",
       "        text-align: right;\n",
       "    }\n",
       "</style>\n",
       "<table border=\"1\" class=\"dataframe\">\n",
       "  <thead>\n",
       "    <tr style=\"text-align: right;\">\n",
       "      <th></th>\n",
       "      <th>patent_id</th>\n",
       "      <th>date</th>\n",
       "    </tr>\n",
       "  </thead>\n",
       "  <tbody>\n",
       "    <tr>\n",
       "      <th>0</th>\n",
       "      <td>D345393</td>\n",
       "      <td>1992-12-21</td>\n",
       "    </tr>\n",
       "    <tr>\n",
       "      <th>1</th>\n",
       "      <td>5164715</td>\n",
       "      <td>1990-04-10</td>\n",
       "    </tr>\n",
       "    <tr>\n",
       "      <th>2</th>\n",
       "      <td>5177974</td>\n",
       "      <td>1988-06-23</td>\n",
       "    </tr>\n",
       "    <tr>\n",
       "      <th>3</th>\n",
       "      <td>5379515</td>\n",
       "      <td>1994-02-16</td>\n",
       "    </tr>\n",
       "    <tr>\n",
       "      <th>4</th>\n",
       "      <td>5264790</td>\n",
       "      <td>1991-07-01</td>\n",
       "    </tr>\n",
       "  </tbody>\n",
       "</table>\n",
       "</div>"
      ],
      "text/plain": [
       "  patent_id        date\n",
       "0   D345393  1992-12-21\n",
       "1   5164715  1990-04-10\n",
       "2   5177974  1988-06-23\n",
       "3   5379515  1994-02-16\n",
       "4   5264790  1991-07-01"
      ]
     },
     "execution_count": 18,
     "metadata": {},
     "output_type": "execute_result"
    }
   ],
   "source": [
    "applications = pd.read_csv('data/application.tsv', delimiter ='\\t',usecols=['patent_id','date'])\n",
    "applications.head()"
   ]
  },
  {
   "cell_type": "code",
   "execution_count": 20,
   "metadata": {},
   "outputs": [
    {
     "name": "stdout",
     "output_type": "stream",
     "text": [
      "2426215 3164930 6502933\n"
     ]
    }
   ],
   "source": [
    "print(foreign['patent_id'].nunique(), related['patent_id'].nunique(), applications['patent_id'].nunique())"
   ]
  },
  {
   "cell_type": "code",
   "execution_count": 22,
   "metadata": {},
   "outputs": [],
   "source": [
    "foreign.rename(index=str, columns={'patent_id':'patent_number', 'date':'foreign_date'}, inplace=True)\n",
    "related.rename(index=str, columns={'patent_id':'patent_number', 'date':'related_date'}, inplace=True)\n",
    "applications.rename(index=str, columns={'patent_id':'patent_number', 'date':'app_date'}, inplace=True)"
   ]
  },
  {
   "cell_type": "code",
   "execution_count": 48,
   "metadata": {},
   "outputs": [],
   "source": [
    "foreign['foreign_date'] = pd.to_datetime(foreign['foreign_date'], errors='coerce')\n",
    "related['related_date'] = pd.to_datetime(related['related_date'], errors='coerce')\n",
    "applications['app_date'] = pd.to_datetime(applications['app_date'], errors='coerce')"
   ]
  },
  {
   "cell_type": "code",
   "execution_count": 42,
   "metadata": {},
   "outputs": [],
   "source": [
    "foreign = remove_non_design(foreign)\n",
    "related = remove_non_design(related)\n",
    "applications = remove_non_design(applications)"
   ]
  },
  {
   "cell_type": "code",
   "execution_count": 38,
   "metadata": {},
   "outputs": [
    {
     "data": {
      "text/plain": [
       "patent_number          0\n",
       "foreign_date           0\n",
       "country_transformed    0\n",
       "dtype: int64"
      ]
     },
     "execution_count": 38,
     "metadata": {},
     "output_type": "execute_result"
    }
   ],
   "source": [
    "foreign.isnull().sum()"
   ]
  },
  {
   "cell_type": "code",
   "execution_count": 46,
   "metadata": {},
   "outputs": [
    {
     "data": {
      "text/html": [
       "<div>\n",
       "<style scoped>\n",
       "    .dataframe tbody tr th:only-of-type {\n",
       "        vertical-align: middle;\n",
       "    }\n",
       "\n",
       "    .dataframe tbody tr th {\n",
       "        vertical-align: top;\n",
       "    }\n",
       "\n",
       "    .dataframe thead th {\n",
       "        text-align: right;\n",
       "    }\n",
       "</style>\n",
       "<table border=\"1\" class=\"dataframe\">\n",
       "  <thead>\n",
       "    <tr style=\"text-align: right;\">\n",
       "      <th></th>\n",
       "      <th>patent_number</th>\n",
       "      <th>foreign_date</th>\n",
       "    </tr>\n",
       "  </thead>\n",
       "  <tbody>\n",
       "    <tr>\n",
       "      <th>0</th>\n",
       "      <td>D242583</td>\n",
       "      <td>1974-11-21</td>\n",
       "    </tr>\n",
       "    <tr>\n",
       "      <th>1</th>\n",
       "      <td>D242598</td>\n",
       "      <td>1975-01-15</td>\n",
       "    </tr>\n",
       "    <tr>\n",
       "      <th>2</th>\n",
       "      <td>D242606</td>\n",
       "      <td>1975-02-03</td>\n",
       "    </tr>\n",
       "    <tr>\n",
       "      <th>3</th>\n",
       "      <td>D242617</td>\n",
       "      <td>1973-10-01</td>\n",
       "    </tr>\n",
       "    <tr>\n",
       "      <th>4</th>\n",
       "      <td>D242626</td>\n",
       "      <td>1974-04-26</td>\n",
       "    </tr>\n",
       "  </tbody>\n",
       "</table>\n",
       "</div>"
      ],
      "text/plain": [
       "  patent_number foreign_date\n",
       "0       D242583   1974-11-21\n",
       "1       D242598   1975-01-15\n",
       "2       D242606   1975-02-03\n",
       "3       D242617   1973-10-01\n",
       "4       D242626   1974-04-26"
      ]
     },
     "execution_count": 46,
     "metadata": {},
     "output_type": "execute_result"
    }
   ],
   "source": [
    "foreign_min = foreign.dropna().groupby(\"patent_number\")[\"foreign_date\"].apply(lambda x: x.min()).reset_index()\n",
    "foreign_min.head()"
   ]
  },
  {
   "cell_type": "code",
   "execution_count": 51,
   "metadata": {},
   "outputs": [
    {
     "data": {
      "text/plain": [
       "patent_number        0\n",
       "doctype              0\n",
       "related_date     81206\n",
       "foreign_date     81206\n",
       "dtype: int64"
      ]
     },
     "execution_count": 51,
     "metadata": {},
     "output_type": "execute_result"
    }
   ],
   "source": [
    "related.isnull().sum()"
   ]
  },
  {
   "cell_type": "code",
   "execution_count": 56,
   "metadata": {},
   "outputs": [],
   "source": [
    "related_min = related.dropna().groupby('patent_number')['related_date'].apply(lambda x: x.min()).reset_index()"
   ]
  },
  {
   "cell_type": "code",
   "execution_count": 57,
   "metadata": {},
   "outputs": [
    {
     "data": {
      "text/plain": [
       "patent_number    0\n",
       "app_date         3\n",
       "dtype: int64"
      ]
     },
     "execution_count": 57,
     "metadata": {},
     "output_type": "execute_result"
    }
   ],
   "source": [
    "applications.isnull().sum()"
   ]
  },
  {
   "cell_type": "code",
   "execution_count": 61,
   "metadata": {},
   "outputs": [],
   "source": [
    "applications.dropna(inplace=True)"
   ]
  },
  {
   "cell_type": "code",
   "execution_count": 71,
   "metadata": {},
   "outputs": [
    {
     "data": {
      "text/html": [
       "<div>\n",
       "<style scoped>\n",
       "    .dataframe tbody tr th:only-of-type {\n",
       "        vertical-align: middle;\n",
       "    }\n",
       "\n",
       "    .dataframe tbody tr th {\n",
       "        vertical-align: top;\n",
       "    }\n",
       "\n",
       "    .dataframe thead th {\n",
       "        text-align: right;\n",
       "    }\n",
       "</style>\n",
       "<table border=\"1\" class=\"dataframe\">\n",
       "  <thead>\n",
       "    <tr style=\"text-align: right;\">\n",
       "      <th></th>\n",
       "      <th>patent_number</th>\n",
       "      <th>foreign_date</th>\n",
       "      <th>related_date</th>\n",
       "      <th>app_date</th>\n",
       "    </tr>\n",
       "  </thead>\n",
       "  <tbody>\n",
       "    <tr>\n",
       "      <th>0</th>\n",
       "      <td>D242583</td>\n",
       "      <td>1974-11-21</td>\n",
       "      <td>NaT</td>\n",
       "      <td>1975-05-20</td>\n",
       "    </tr>\n",
       "    <tr>\n",
       "      <th>1</th>\n",
       "      <td>D242598</td>\n",
       "      <td>1975-01-15</td>\n",
       "      <td>NaT</td>\n",
       "      <td>1975-07-11</td>\n",
       "    </tr>\n",
       "    <tr>\n",
       "      <th>2</th>\n",
       "      <td>D242606</td>\n",
       "      <td>1975-02-03</td>\n",
       "      <td>NaT</td>\n",
       "      <td>1975-07-17</td>\n",
       "    </tr>\n",
       "    <tr>\n",
       "      <th>3</th>\n",
       "      <td>D242617</td>\n",
       "      <td>1973-10-01</td>\n",
       "      <td>NaT</td>\n",
       "      <td>1975-09-19</td>\n",
       "    </tr>\n",
       "    <tr>\n",
       "      <th>4</th>\n",
       "      <td>D242626</td>\n",
       "      <td>1974-04-26</td>\n",
       "      <td>NaT</td>\n",
       "      <td>1974-08-14</td>\n",
       "    </tr>\n",
       "  </tbody>\n",
       "</table>\n",
       "</div>"
      ],
      "text/plain": [
       "  patent_number foreign_date related_date   app_date\n",
       "0       D242583   1974-11-21          NaT 1975-05-20\n",
       "1       D242598   1975-01-15          NaT 1975-07-11\n",
       "2       D242606   1975-02-03          NaT 1975-07-17\n",
       "3       D242617   1973-10-01          NaT 1975-09-19\n",
       "4       D242626   1974-04-26          NaT 1974-08-14"
      ]
     },
     "execution_count": 71,
     "metadata": {},
     "output_type": "execute_result"
    }
   ],
   "source": [
    "min_date = pd.merge(foreign_min, related_min, on='patent_number', how='outer')\n",
    "min_date = pd.merge(min_date, applications, on='patent_number', how='outer')\n",
    "min_date.head()"
   ]
  },
  {
   "cell_type": "code",
   "execution_count": 90,
   "metadata": {},
   "outputs": [
    {
     "data": {
      "text/html": [
       "<div>\n",
       "<style scoped>\n",
       "    .dataframe tbody tr th:only-of-type {\n",
       "        vertical-align: middle;\n",
       "    }\n",
       "\n",
       "    .dataframe tbody tr th {\n",
       "        vertical-align: top;\n",
       "    }\n",
       "\n",
       "    .dataframe thead th {\n",
       "        text-align: right;\n",
       "    }\n",
       "</style>\n",
       "<table border=\"1\" class=\"dataframe\">\n",
       "  <thead>\n",
       "    <tr style=\"text-align: right;\">\n",
       "      <th></th>\n",
       "      <th>patent_number</th>\n",
       "      <th>foreign_date</th>\n",
       "      <th>related_date</th>\n",
       "      <th>app_date</th>\n",
       "      <th>priority_date</th>\n",
       "    </tr>\n",
       "  </thead>\n",
       "  <tbody>\n",
       "    <tr>\n",
       "      <th>0</th>\n",
       "      <td>D242583</td>\n",
       "      <td>1974-11-21</td>\n",
       "      <td>NaT</td>\n",
       "      <td>1975-05-20</td>\n",
       "      <td>1974-11-21</td>\n",
       "    </tr>\n",
       "    <tr>\n",
       "      <th>1</th>\n",
       "      <td>D242598</td>\n",
       "      <td>1975-01-15</td>\n",
       "      <td>NaT</td>\n",
       "      <td>1975-07-11</td>\n",
       "      <td>1975-01-15</td>\n",
       "    </tr>\n",
       "    <tr>\n",
       "      <th>2</th>\n",
       "      <td>D242606</td>\n",
       "      <td>1975-02-03</td>\n",
       "      <td>NaT</td>\n",
       "      <td>1975-07-17</td>\n",
       "      <td>1975-02-03</td>\n",
       "    </tr>\n",
       "    <tr>\n",
       "      <th>3</th>\n",
       "      <td>D242617</td>\n",
       "      <td>1973-10-01</td>\n",
       "      <td>NaT</td>\n",
       "      <td>1975-09-19</td>\n",
       "      <td>1973-10-01</td>\n",
       "    </tr>\n",
       "    <tr>\n",
       "      <th>4</th>\n",
       "      <td>D242626</td>\n",
       "      <td>1974-04-26</td>\n",
       "      <td>NaT</td>\n",
       "      <td>1974-08-14</td>\n",
       "      <td>1974-04-26</td>\n",
       "    </tr>\n",
       "  </tbody>\n",
       "</table>\n",
       "</div>"
      ],
      "text/plain": [
       "  patent_number foreign_date related_date   app_date priority_date\n",
       "0       D242583   1974-11-21          NaT 1975-05-20    1974-11-21\n",
       "1       D242598   1975-01-15          NaT 1975-07-11    1975-01-15\n",
       "2       D242606   1975-02-03          NaT 1975-07-17    1975-02-03\n",
       "3       D242617   1973-10-01          NaT 1975-09-19    1973-10-01\n",
       "4       D242626   1974-04-26          NaT 1974-08-14    1974-04-26"
      ]
     },
     "execution_count": 90,
     "metadata": {},
     "output_type": "execute_result"
    }
   ],
   "source": [
    "min_date['priority_date'] = min_date.loc[:, ['foreign_date','related_date','app_date']].min(axis=1)\n",
    "min_date.head()"
   ]
  },
  {
   "cell_type": "code",
   "execution_count": 91,
   "metadata": {},
   "outputs": [],
   "source": [
    "min_date['priority_date'] = min_date['priority_date'].apply(lambda x: x.year)"
   ]
  },
  {
   "cell_type": "code",
   "execution_count": 104,
   "metadata": {},
   "outputs": [
    {
     "data": {
      "text/html": [
       "<div>\n",
       "<style scoped>\n",
       "    .dataframe tbody tr th:only-of-type {\n",
       "        vertical-align: middle;\n",
       "    }\n",
       "\n",
       "    .dataframe tbody tr th {\n",
       "        vertical-align: top;\n",
       "    }\n",
       "\n",
       "    .dataframe thead th {\n",
       "        text-align: right;\n",
       "    }\n",
       "</style>\n",
       "<table border=\"1\" class=\"dataframe\">\n",
       "  <thead>\n",
       "    <tr style=\"text-align: right;\">\n",
       "      <th></th>\n",
       "      <th>patent_number</th>\n",
       "      <th>grant_year</th>\n",
       "      <th>app_year</th>\n",
       "      <th>num_inventors</th>\n",
       "      <th>us_inventor</th>\n",
       "      <th>cite_foreign_patent</th>\n",
       "      <th>is_missing</th>\n",
       "      <th>num_design_cited</th>\n",
       "      <th>num_utility_cited</th>\n",
       "      <th>non-pat_refs</th>\n",
       "      <th>num_figures</th>\n",
       "      <th>num_assignees</th>\n",
       "      <th>priority_date</th>\n",
       "    </tr>\n",
       "  </thead>\n",
       "  <tbody>\n",
       "    <tr>\n",
       "      <th>0</th>\n",
       "      <td>D257752</td>\n",
       "      <td>1981</td>\n",
       "      <td>1980</td>\n",
       "      <td>1</td>\n",
       "      <td>1.0</td>\n",
       "      <td>0.0</td>\n",
       "      <td>1</td>\n",
       "      <td>1</td>\n",
       "      <td>2</td>\n",
       "      <td>1.0</td>\n",
       "      <td>6.0</td>\n",
       "      <td>1</td>\n",
       "      <td>1980</td>\n",
       "    </tr>\n",
       "    <tr>\n",
       "      <th>1</th>\n",
       "      <td>D257924</td>\n",
       "      <td>1981</td>\n",
       "      <td>1980</td>\n",
       "      <td>1</td>\n",
       "      <td>1.0</td>\n",
       "      <td>0.0</td>\n",
       "      <td>1</td>\n",
       "      <td>1</td>\n",
       "      <td>2</td>\n",
       "      <td>1.0</td>\n",
       "      <td>6.0</td>\n",
       "      <td>1</td>\n",
       "      <td>1980</td>\n",
       "    </tr>\n",
       "    <tr>\n",
       "      <th>2</th>\n",
       "      <td>D258382</td>\n",
       "      <td>1981</td>\n",
       "      <td>1980</td>\n",
       "      <td>2</td>\n",
       "      <td>1.0</td>\n",
       "      <td>0.0</td>\n",
       "      <td>1</td>\n",
       "      <td>2</td>\n",
       "      <td>1</td>\n",
       "      <td>0.0</td>\n",
       "      <td>5.0</td>\n",
       "      <td>1</td>\n",
       "      <td>1980</td>\n",
       "    </tr>\n",
       "    <tr>\n",
       "      <th>3</th>\n",
       "      <td>D258383</td>\n",
       "      <td>1981</td>\n",
       "      <td>1980</td>\n",
       "      <td>2</td>\n",
       "      <td>1.0</td>\n",
       "      <td>0.0</td>\n",
       "      <td>1</td>\n",
       "      <td>2</td>\n",
       "      <td>1</td>\n",
       "      <td>0.0</td>\n",
       "      <td>5.0</td>\n",
       "      <td>1</td>\n",
       "      <td>1980</td>\n",
       "    </tr>\n",
       "    <tr>\n",
       "      <th>4</th>\n",
       "      <td>D258571</td>\n",
       "      <td>1981</td>\n",
       "      <td>1980</td>\n",
       "      <td>1</td>\n",
       "      <td>1.0</td>\n",
       "      <td>0.0</td>\n",
       "      <td>1</td>\n",
       "      <td>1</td>\n",
       "      <td>1</td>\n",
       "      <td>0.0</td>\n",
       "      <td>2.0</td>\n",
       "      <td>1</td>\n",
       "      <td>1980</td>\n",
       "    </tr>\n",
       "  </tbody>\n",
       "</table>\n",
       "</div>"
      ],
      "text/plain": [
       "  patent_number  grant_year  app_year  num_inventors  us_inventor  \\\n",
       "0       D257752        1981      1980              1          1.0   \n",
       "1       D257924        1981      1980              1          1.0   \n",
       "2       D258382        1981      1980              2          1.0   \n",
       "3       D258383        1981      1980              2          1.0   \n",
       "4       D258571        1981      1980              1          1.0   \n",
       "\n",
       "   cite_foreign_patent  is_missing  num_design_cited  num_utility_cited  \\\n",
       "0                  0.0           1                 1                  2   \n",
       "1                  0.0           1                 1                  2   \n",
       "2                  0.0           1                 2                  1   \n",
       "3                  0.0           1                 2                  1   \n",
       "4                  0.0           1                 1                  1   \n",
       "\n",
       "   non-pat_refs  num_figures  num_assignees  priority_date  \n",
       "0           1.0          6.0              1           1980  \n",
       "1           1.0          6.0              1           1980  \n",
       "2           0.0          5.0              1           1980  \n",
       "3           0.0          5.0              1           1980  \n",
       "4           0.0          2.0              1           1980  "
      ]
     },
     "execution_count": 104,
     "metadata": {},
     "output_type": "execute_result"
    }
   ],
   "source": [
    "master = pd.merge(master, min_date[['patent_number','priority_date']], on='patent_number', how='left')\n",
    "master.head()"
   ]
  },
  {
   "cell_type": "code",
   "execution_count": 105,
   "metadata": {},
   "outputs": [],
   "source": [
    "master.to_csv('data/master.csv', index=False)"
   ]
  }
 ],
 "metadata": {
  "kernelspec": {
   "display_name": "Python 3",
   "language": "python",
   "name": "python3"
  },
  "language_info": {
   "codemirror_mode": {
    "name": "ipython",
    "version": 3
   },
   "file_extension": ".py",
   "mimetype": "text/x-python",
   "name": "python",
   "nbconvert_exporter": "python",
   "pygments_lexer": "ipython3",
   "version": "3.6.5"
  }
 },
 "nbformat": 4,
 "nbformat_minor": 2
}
