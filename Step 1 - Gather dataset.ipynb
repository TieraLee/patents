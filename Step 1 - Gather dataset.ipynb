{
 "cells": [
  {
   "cell_type": "markdown",
   "metadata": {},
   "source": [
    "# Gathing the foundational dataset that this project will be based on\n",
    "\n",
    "What: Granted Design patents from the USPTO that were applied during the years 1980-2015\n",
    "\n",
    "How: Using the PatentsView API, which already disambiguates and aggregates patent data for us. This is a product directly from USPTO, makig it a realiable source. \n",
    "\n",
    "Data fields we are interested in:\n",
    "1. patent number\n",
    "2. application year\n",
    "3. number of inventors\n",
    "4. number of assignees\n",
    "5. number of cited design patents\n",
    "6. number of cited utility patents\n",
    "7. number of cited non-patent prior arts\n",
    "8. assignee name\n",
    "9. assignee city\n",
    "10. assignee state\n",
    "11. assignee country\n",
    "12. grant year\n",
    "13. priority date\n",
    "14. if cited any foreign patents\n",
    "15. design patent class\n",
    "16. design patent subclass\n",
    "17. number of figures\n",
    "18. if US inventor\n",
    "19. if any missing citations"
   ]
  },
  {
   "cell_type": "code",
   "execution_count": null,
   "metadata": {},
   "outputs": [],
   "source": [
    "import requests\n",
    "import json\n",
    "import pandas as pd\n",
    "import numpy as np\n",
    "import matplotlib.pyplot as plt\n",
    "%matplotlib inline\n",
    "\n"
   ]
  },
  {
   "cell_type": "code",
   "execution_count": null,
   "metadata": {},
   "outputs": [],
   "source": [
    "\n",
    "#This particular API doesn't quite follow the standard REST protocol\n",
    "#This is setting up the parts of the URL that won't change between patents\n",
    "#See http://www.patentsview.org/api/query-language.html for more info\n",
    "\n",
    "\n",
    "base_url = \"http://www.patentsview.org/api/patents/query?\"\n",
    "field_list = \"&f=[\\\"patent_number\\\",\\\"app_date\\\",\\\"inventor_id\\\",\\\"assignee_city\\\",\\\"assignee_country\\\",\\\"assignee_state\\\",\\\"assignee_organization\\\",\\\"assignee_first_name\\\",\\\"assignee_last_name\\\",\\\"patent_year\\\",\\\"uspc_subclass_id\\\",\\\"uspc_mainclass_id\\\",\\\"cited_patent_number\\\",\\\"patent_num_foreign_citations\\\",\\\"patent_num_us_patent_citations\\\",\\\"forprior_country\\\", \\\"forprior_date\\\", \\\"patent_firstnamed_inventor_country\\\"]\"\n",
    "\n",
    "# top_level = pd.DataFrame()\n",
    "# applications_level = pd.DataFrame()\n",
    "# assignee_level = pd.DataFrame()\n",
    "# cited_patents_level = pd.DataFrame()\n",
    "# inventor_level = pd.DataFrame()\n",
    "# foreign_priority_level = pd.DataFrame()\n",
    "# uspcs_level = pd.DataFrame()"
   ]
  },
  {
   "cell_type": "code",
   "execution_count": null,
   "metadata": {
    "scrolled": true
   },
   "outputs": [],
   "source": [
    "#Due to the limits of the amount of results the API can return, query must be performed in loop by date and page\n",
    "\n",
    "for year in range(1980,2016):\n",
    "    page = 1\n",
    "    more_patents = True\n",
    "    \n",
    "    while more_patents:\n",
    "        \n",
    "        query = \"q={{\\\"_and\\\":[{{\\\"patent_type\\\":\\\"Design\\\"}},{{\\\"_gte\\\":{{\\\"app_date\\\":\\\"{0}-01-01\\\"}}}},{{\\\"_lte\\\":{{\\\"app_date\\\":\\\"{0}-12-31\\\"}}}}]}}\".format(year)\n",
    "        options = \"&o={{\\\"per_page\\\":10000,\\\"page\\\":{}}}\".format(page)\n",
    "\n",
    "        full_url = base_url + query + field_list + options\n",
    "#         print(full_url)\n",
    "        r = requests.get(full_url)\n",
    "        print(r)\n",
    "        data = r.json()\n",
    "        break\n",
    "#         print(data)\n",
    "#         print(year,\"-\",page,\"-\",data['count'])\n",
    "\n",
    "#         print(data)\n",
    "#         break\n",
    "#         # several columns in the JSON are nested, which will create a nested dataframe.\n",
    "#         # This creates different dataframes for each nested object, which can all be combined later\n",
    "#         df = pd.io.json.json_normalize(data['patents'])\n",
    "#         top_level = pd.concat([top_level, df], ignore_index=True)\n",
    "\n",
    "        \n",
    "#         df = pd.io.json.json_normalize(data['patents'], record_path=['applications'], meta=['patent_number'])\n",
    "#         applications_level = pd.concat([applications_level, df], ignore_index=True)\n",
    "        \n",
    "#         df = pd.io.json.json_normalize(data['patents'], record_path=['assignees'], meta=['patent_number'])\n",
    "#         assignee_level = pd.concat([assignee_level, df], ignore_index=True)\n",
    "        \n",
    "#         df = pd.io.json.json_normalize(data['patents'], record_path = ['cited_patents'], meta=['patent_number'])\n",
    "#         cited_patents_level = pd.concat([cited_patents_level, df], ignore_index=True)\n",
    "        \n",
    "#         df = pd.io.json.json_normalize(data['patents'], record_path=['inventors'], meta=['patent_number'])\n",
    "#         inventor_level = pd.concat([inventor_level, df], ignore_index=True)\n",
    "        \n",
    "#         df = pd.io.json.json_normalize(data['patents'], record_path=['foreign_priority'], meta=['patent_number'])\n",
    "#         foreign_priority_level = pd.concat([foreign_priority_level, df], ignore_index=True)\n",
    "        \n",
    "#         df = pd.io.json.json_normalize(data['patents'], record_path = ['uspcs'], meta=['patent_number'])\n",
    "#         uspcs_level = pd.concat([uspcs_level, df], ignore_index=True)\n",
    "\n",
    "\n",
    "        \n",
    "        # decide if to continue to next year or next page\n",
    "        if data['count'] < 10000:\n",
    "            more_patents = False\n",
    "        else:\n",
    "            page += 1\n",
    "            \n",
    "      \n"
   ]
  },
  {
   "cell_type": "markdown",
   "metadata": {},
   "source": [
    "Some of the data isnt available via the API, so it has to be extracted from the raw data downloaded from PatentsView website.\n",
    "This includes the number of non-patent citations and number of figures"
   ]
  },
  {
   "cell_type": "code",
   "execution_count": null,
   "metadata": {},
   "outputs": [],
   "source": [
    "figures = pd.read_csv('figures.tsv',delimiter='\\t',usecols=['patent_id','num_figures'])\n",
    "figures.rename(index=str, columns={\"patent_id\":\"patent_number\"}, inplace=True)\n",
    "figures.head()"
   ]
  },
  {
   "cell_type": "code",
   "execution_count": null,
   "metadata": {
    "scrolled": true
   },
   "outputs": [],
   "source": [
    "otherrefs = pd.read_csv('otherreference.tsv', delimiter='\\t', usecols=['uuid','patent_id'], engine='python', error_bad_lines=False)\n",
    "otherrefs = otherrefs['patent_id'].value_counts().reset_index().rename(index=str, columns={'index':'patent_number','patent_id':'non-pat_refs'})\n",
    "otherrefs.head()"
   ]
  },
  {
   "cell_type": "code",
   "execution_count": null,
   "metadata": {},
   "outputs": [],
   "source": [
    "application_citations = pd.read_csv('usapplicationcitation.tsv', delimiter = '\\t', usecols=['patent_id', 'date'])\n",
    "\n",
    "application_citations.head()"
   ]
  },
  {
   "cell_type": "code",
   "execution_count": null,
   "metadata": {},
   "outputs": [],
   "source": [
    "application_citations[application_citations['patent_id'].str.match('D703103')]"
   ]
  },
  {
   "cell_type": "code",
   "execution_count": null,
   "metadata": {},
   "outputs": [],
   "source": [
    "master = pd.read_csv('master.csv')"
   ]
  },
  {
   "cell_type": "code",
   "execution_count": null,
   "metadata": {},
   "outputs": [],
   "source": [
    "master[master['patent_number'].str.match('D703103')]"
   ]
  },
  {
   "cell_type": "code",
   "execution_count": null,
   "metadata": {},
   "outputs": [],
   "source": [
    "related = pd.read_csv('usreldoc.tsv', delimiter = '\\t')\n",
    "\n",
    "related.head()"
   ]
  },
  {
   "cell_type": "code",
   "execution_count": null,
   "metadata": {
    "scrolled": true
   },
   "outputs": [],
   "source": [
    "related[related['doctype'].str.contains('related')]"
   ]
  },
  {
   "cell_type": "code",
   "execution_count": null,
   "metadata": {},
   "outputs": [],
   "source": [
    "related['doctype'].unique()"
   ]
  },
  {
   "cell_type": "code",
   "execution_count": null,
   "metadata": {},
   "outputs": [],
   "source": [
    "print(\"top level: \",top_level.shape,\n",
    "      \"applications: \",applications_level.shape,\n",
    "      \"assignee: \", assignee_level.shape,\n",
    "      \"cited patents: \",cited_patents_level.shape,\n",
    "      \"inventors: \", inventor_level.shape,\n",
    "      \"foreign priority: \", foreign_priority_level.shape,\n",
    "      \"classes: \", uspcs_level.shape)"
   ]
  },
  {
   "cell_type": "markdown",
   "metadata": {},
   "source": [
    "# Data cleaning and combining\n",
    "\n",
    "Now that we have all the basic data that we are interested in, it's time to clean them up into neat pretty rows for useful analysis"
   ]
  },
  {
   "cell_type": "code",
   "execution_count": null,
   "metadata": {},
   "outputs": [],
   "source": [
    "master = pd.DataFrame()"
   ]
  },
  {
   "cell_type": "markdown",
   "metadata": {},
   "source": [
    "Let's look at the top level, non-nested, level data"
   ]
  },
  {
   "cell_type": "code",
   "execution_count": null,
   "metadata": {},
   "outputs": [],
   "source": [
    "top_level.head()"
   ]
  },
  {
   "cell_type": "code",
   "execution_count": null,
   "metadata": {},
   "outputs": [],
   "source": [
    "master['patent_number'] = top_level['patent_number']\n",
    "master.head()"
   ]
  },
  {
   "cell_type": "code",
   "execution_count": null,
   "metadata": {},
   "outputs": [],
   "source": [
    "master['grant_year'] = top_level['patent_year']\n",
    "master.head()"
   ]
  },
  {
   "cell_type": "markdown",
   "metadata": {},
   "source": [
    "Extracting application date"
   ]
  },
  {
   "cell_type": "code",
   "execution_count": null,
   "metadata": {},
   "outputs": [],
   "source": [
    "applications_level.head()"
   ]
  },
  {
   "cell_type": "code",
   "execution_count": null,
   "metadata": {},
   "outputs": [],
   "source": [
    "applications_level['app_date'] = pd.to_datetime(applications_level['app_date'], errors='coerce').apply(lambda x: x.year)\n",
    "master = pd.merge(master, applications_level, how='left', on='patent_number')"
   ]
  },
  {
   "cell_type": "code",
   "execution_count": null,
   "metadata": {},
   "outputs": [],
   "source": [
    "master = master.rename(index=str, columns={\"app_date\":\"app_year\"}).drop(labels=['app_id'], axis=1)\n",
    "master.head()"
   ]
  },
  {
   "cell_type": "markdown",
   "metadata": {},
   "source": [
    "Number of inventors"
   ]
  },
  {
   "cell_type": "code",
   "execution_count": null,
   "metadata": {},
   "outputs": [],
   "source": [
    "inventor_level.head()"
   ]
  },
  {
   "cell_type": "code",
   "execution_count": null,
   "metadata": {},
   "outputs": [],
   "source": [
    "number_inventors = inventor_level['patent_number'].value_counts().reset_index().rename(index=str, columns={'index':'patent_number','patent_number':'num_inventors'})\n",
    "master = pd.merge(master, number_inventors, how='left',on='patent_number')\n",
    "master.head()"
   ]
  },
  {
   "cell_type": "markdown",
   "metadata": {},
   "source": [
    "If US-first inventor"
   ]
  },
  {
   "cell_type": "code",
   "execution_count": null,
   "metadata": {},
   "outputs": [],
   "source": [
    "master = pd.merge(master, top_level[['patent_firstnamed_inventor_country', 'patent_number']], how='left', on='patent_number')\n",
    "master.head()"
   ]
  },
  {
   "cell_type": "code",
   "execution_count": null,
   "metadata": {},
   "outputs": [],
   "source": [
    "master['patent_firstnamed_inventor_countrymaster'] = master['patent_firstnamed_inventor_country'].str.match('US').astype(float)\n",
    "master.rename(index=str, columns={'patent_firstnamed_inventor_country':'us_inventor'}, inplace=True)\n",
    "master.head()"
   ]
  },
  {
   "cell_type": "code",
   "execution_count": null,
   "metadata": {},
   "outputs": [],
   "source": [
    "master.drop(labels=['us_inventor'], axis=1, inplace=True)\n",
    "master.rename(index=str, columns={'patent_firstnamed_inventor_countrymaster':'us_inventor'}, inplace=True)\n",
    "master.head()"
   ]
  },
  {
   "cell_type": "markdown",
   "metadata": {},
   "source": [
    "any foreign patents cited"
   ]
  },
  {
   "cell_type": "code",
   "execution_count": null,
   "metadata": {},
   "outputs": [],
   "source": [
    "master = pd.merge(master, top_level[['patent_num_foreign_citations', 'patent_number']], how='left', on='patent_number')\n",
    "master['patent_num_foreign_citations'] = (master['patent_num_foreign_citations'].astype(float) > 0).astype(float)\n",
    "master.rename(index=str, columns={'patent_num_foreign_citations':'cite_foreign_patent'}, inplace=True)\n",
    "master.head()"
   ]
  },
  {
   "cell_type": "markdown",
   "metadata": {},
   "source": [
    "Any missing patents"
   ]
  },
  {
   "cell_type": "code",
   "execution_count": null,
   "metadata": {},
   "outputs": [],
   "source": [
    "cited_patents_level.head()"
   ]
  },
  {
   "cell_type": "code",
   "execution_count": null,
   "metadata": {},
   "outputs": [],
   "source": [
    "missing_cits = cited_patents_level['patent_number'].value_counts().reset_index().rename(index=str, columns={'index':'patent_number','patent_number':'num_cits_reported'})\n",
    "missing_cits.head()"
   ]
  },
  {
   "cell_type": "code",
   "execution_count": null,
   "metadata": {},
   "outputs": [],
   "source": [
    "missing_cits = pd.merge(missing_cits, top_level[['patent_number','patent_num_us_patent_citations']], how='inner', on='patent_number')\n",
    "missing_cits['reported_less_than_count'] = (missing_cits['num_cits_reported'] < missing_cits['patent_num_us_patent_citations'].astype(int))\n",
    "missing_cits.head()"
   ]
  },
  {
   "cell_type": "code",
   "execution_count": null,
   "metadata": {},
   "outputs": [],
   "source": [
    "any_null_cites = cited_patents_level.groupby('patent_number')['cited_patent_number'].apply(lambda x: x.isnull().any()).to_frame()\n",
    "any_null_cites.reset_index(inplace=True)\n",
    "any_null_cites.head()"
   ]
  },
  {
   "cell_type": "code",
   "execution_count": null,
   "metadata": {
    "scrolled": true
   },
   "outputs": [],
   "source": [
    "missing_cits = pd.merge(missing_cits, any_null_cites, how='inner', on='patent_number')\n",
    "missing_cits.head()"
   ]
  },
  {
   "cell_type": "code",
   "execution_count": null,
   "metadata": {},
   "outputs": [],
   "source": [
    "missing_cits['is_missing'] = (missing_cits['reported_less_than_count'] | missing_cits['cited_patent_number']).astype(int)\n",
    "missing_cits.head()"
   ]
  },
  {
   "cell_type": "code",
   "execution_count": null,
   "metadata": {},
   "outputs": [],
   "source": [
    "master = pd.merge(master, missing_cits[['patent_number','is_missing']], on='patent_number', how='left')\n",
    "master.head()"
   ]
  },
  {
   "cell_type": "code",
   "execution_count": null,
   "metadata": {},
   "outputs": [],
   "source": [
    "# master = master.drop(labels=['is_missing_x'], axis=1).rename(index=str, columns={'is_missing_y':'is_missing'})\n",
    "# master.head()"
   ]
  },
  {
   "cell_type": "markdown",
   "metadata": {},
   "source": [
    "Number of cited design patents"
   ]
  },
  {
   "cell_type": "code",
   "execution_count": null,
   "metadata": {},
   "outputs": [],
   "source": [
    "cited_patents_level.head()"
   ]
  },
  {
   "cell_type": "code",
   "execution_count": null,
   "metadata": {},
   "outputs": [],
   "source": [
    "cited_design = cited_patents_level.groupby('patent_number')['cited_patent_number'].apply(lambda x: np.count_nonzero(x.str.contains('D\\d{6}'))).reset_index().rename(index=str, columns={'cited_patent_number':'num_design_cited'})\n",
    "cited_design.head()"
   ]
  },
  {
   "cell_type": "code",
   "execution_count": null,
   "metadata": {},
   "outputs": [],
   "source": [
    "master = pd.merge(master, cited_design, how='left', on='patent_number')\n",
    "master.head()"
   ]
  },
  {
   "cell_type": "markdown",
   "metadata": {},
   "source": [
    "Number of cited utility patents"
   ]
  },
  {
   "cell_type": "code",
   "execution_count": null,
   "metadata": {},
   "outputs": [],
   "source": [
    "cited_utility = cited_patents_level.groupby('patent_number')['cited_patent_number'].apply(lambda x: np.count_nonzero(x.str.contains('\\d{7}'))).reset_index().rename(index=str, columns={'cited_patent_number':'num_utility_cited'})\n",
    "cited_utility.head()"
   ]
  },
  {
   "cell_type": "code",
   "execution_count": null,
   "metadata": {},
   "outputs": [],
   "source": [
    "master = pd.merge(master, cited_utility, how='left', on='patent_number')\n",
    "master.head()"
   ]
  },
  {
   "cell_type": "markdown",
   "metadata": {},
   "source": [
    "Number of non-patent prior art"
   ]
  },
  {
   "cell_type": "code",
   "execution_count": null,
   "metadata": {},
   "outputs": [],
   "source": [
    "otherrefs.head()"
   ]
  },
  {
   "cell_type": "code",
   "execution_count": null,
   "metadata": {},
   "outputs": [],
   "source": [
    "master = pd.merge(master, otherrefs, on='patent_number', how='left')\n",
    "master.head()"
   ]
  },
  {
   "cell_type": "markdown",
   "metadata": {},
   "source": [
    "Number of figures"
   ]
  },
  {
   "cell_type": "code",
   "execution_count": null,
   "metadata": {},
   "outputs": [],
   "source": [
    "figures.head()"
   ]
  },
  {
   "cell_type": "code",
   "execution_count": null,
   "metadata": {},
   "outputs": [],
   "source": [
    "master = pd.merge(master, figures, on='patent_number', how='left')\n",
    "master.head()"
   ]
  },
  {
   "cell_type": "markdown",
   "metadata": {},
   "source": [
    "Number of assignees"
   ]
  },
  {
   "cell_type": "code",
   "execution_count": null,
   "metadata": {},
   "outputs": [],
   "source": [
    "assignee_level.head()"
   ]
  },
  {
   "cell_type": "code",
   "execution_count": null,
   "metadata": {
    "scrolled": true
   },
   "outputs": [],
   "source": [
    "num_assignees = assignee_level['patent_number'].value_counts().reset_index().rename(index=str, columns={'index':'patent_number', 'patent_number':'num_assignees'})\n",
    "num_assignees.head()"
   ]
  },
  {
   "cell_type": "code",
   "execution_count": null,
   "metadata": {
    "scrolled": true
   },
   "outputs": [],
   "source": [
    "master = pd.merge(master, num_assignees, on='patent_number', how='left')\n",
    "master.head()"
   ]
  },
  {
   "cell_type": "markdown",
   "metadata": {},
   "source": [
    "# Foreign Priority Date - Need to figure out"
   ]
  },
  {
   "cell_type": "code",
   "execution_count": null,
   "metadata": {},
   "outputs": [],
   "source": [
    "foreign_priority_level.head()"
   ]
  },
  {
   "cell_type": "code",
   "execution_count": null,
   "metadata": {
    "scrolled": true
   },
   "outputs": [],
   "source": [
    "foreign_priority_level['patent_number'].value_counts()"
   ]
  },
  {
   "cell_type": "code",
   "execution_count": null,
   "metadata": {},
   "outputs": [],
   "source": [
    "foreign_priority_level[foreign_priority_level['patent_number'].str.match('D665368')]"
   ]
  },
  {
   "cell_type": "markdown",
   "metadata": {},
   "source": [
    "Since design patents are designated by an D in the beginning of their number, let's see if any were missclassified. If so, they need to be removed"
   ]
  },
  {
   "cell_type": "code",
   "execution_count": null,
   "metadata": {},
   "outputs": [],
   "source": [
    "#filter to make sure mis-classified patents are not included\n",
    "def remove_non_design(df):\n",
    "    return df[df.patent_number.str.contains('D')]\n",
    "    "
   ]
  },
  {
   "cell_type": "code",
   "execution_count": null,
   "metadata": {},
   "outputs": [],
   "source": [
    "master = remove_non_design(master)\n",
    "cited_patents_level = remove_non_design(cited_patents_level)\n",
    "assignee_level = remove_non_design(assignee_level)\n",
    "print(master.groupby('patent_number').ngroups , cited_patents_level.groupby('patent_number').ngroups, assignee_level.groupby('patent_number').ngroups)"
   ]
  },
  {
   "cell_type": "markdown",
   "metadata": {},
   "source": [
    "Now let's deal with any misssing values"
   ]
  },
  {
   "cell_type": "code",
   "execution_count": null,
   "metadata": {},
   "outputs": [],
   "source": [
    "master.isnull().sum()"
   ]
  },
  {
   "cell_type": "code",
   "execution_count": null,
   "metadata": {
    "scrolled": true
   },
   "outputs": [],
   "source": [
    "master[master['us_inventor'].isnull()]"
   ]
  },
  {
   "cell_type": "code",
   "execution_count": null,
   "metadata": {},
   "outputs": [],
   "source": [
    "#since most the N/A inventors are non-US. So they will all get a value of 0\n",
    "master['us_inventor'] = master['us_inventor'].fillna(0)"
   ]
  },
  {
   "cell_type": "code",
   "execution_count": null,
   "metadata": {
    "scrolled": true
   },
   "outputs": [],
   "source": [
    "master[master['non-pat_refs'].isnull()]"
   ]
  },
  {
   "cell_type": "code",
   "execution_count": null,
   "metadata": {},
   "outputs": [],
   "source": [
    "# The null non-patent reference means that no of these references were made. Fill it in with 0\n",
    "master['non-pat_refs'] = master['non-pat_refs'].fillna(0)"
   ]
  },
  {
   "cell_type": "code",
   "execution_count": null,
   "metadata": {
    "scrolled": true
   },
   "outputs": [],
   "source": [
    "master[master['num_figures'].isnull()]"
   ]
  },
  {
   "cell_type": "code",
   "execution_count": null,
   "metadata": {},
   "outputs": [],
   "source": [
    "#for some reason, certain patents are not listed in the figures.tsv. So we will just fill them in as 0\n",
    "master['num_figures'] = master['num_figures'].fillna(0)"
   ]
  },
  {
   "cell_type": "code",
   "execution_count": null,
   "metadata": {},
   "outputs": [],
   "source": [
    "cited_patents_level.isnull().sum()"
   ]
  },
  {
   "cell_type": "code",
   "execution_count": null,
   "metadata": {},
   "outputs": [],
   "source": [
    "#drop the null cited patents since they can't give us any information anyways\n",
    "cited_patents_level.dropna(inplace=True)"
   ]
  },
  {
   "cell_type": "code",
   "execution_count": null,
   "metadata": {},
   "outputs": [],
   "source": [
    "assignee_level.isnull().sum()"
   ]
  },
  {
   "cell_type": "markdown",
   "metadata": {},
   "source": [
    "Since assignee is a mixed bag of null, we will keep it for now and deal with it later"
   ]
  },
  {
   "cell_type": "markdown",
   "metadata": {},
   "source": [
    "# There are officially 525,490 design patents represented in this dataset\n",
    "Let's save the master, assignee, and cited patent so they can be used in future data analysis"
   ]
  },
  {
   "cell_type": "code",
   "execution_count": null,
   "metadata": {},
   "outputs": [],
   "source": [
    "master.to_csv('master.csv', index=False)\n",
    "cited_patents_level.to_csv('citations_patents_level.csv', index=False)\n",
    "assignee_level.to_csv('assignee_level.csv', index=False)"
   ]
  },
  {
   "cell_type": "code",
   "execution_count": null,
   "metadata": {},
   "outputs": [],
   "source": [
    "foreign = pd.read_csv('foreign_priority.tsv', delimiter ='\\t')"
   ]
  },
  {
   "cell_type": "code",
   "execution_count": null,
   "metadata": {},
   "outputs": [],
   "source": [
    "foreign.head()"
   ]
  },
  {
   "cell_type": "code",
   "execution_count": null,
   "metadata": {
    "scrolled": true
   },
   "outputs": [],
   "source": [
    "foreign[(foreign['country_transformed'].str.match('JP')) & (foreign['patent_id'].str.contains('D'))]"
   ]
  },
  {
   "cell_type": "code",
   "execution_count": null,
   "metadata": {},
   "outputs": [],
   "source": [
    "related = pd.read_csv('usreldoc.tsv', delimiter='\\t', usecols=['patent_id','doctype','relkind','reldocno','date'])\n",
    "related.head()"
   ]
  },
  {
   "cell_type": "code",
   "execution_count": null,
   "metadata": {
    "scrolled": true
   },
   "outputs": [],
   "source": [
    "related = related[related['patent_id'].str.contains('D\\d{6}')]\n",
    "related.head()"
   ]
  },
  {
   "cell_type": "code",
   "execution_count": null,
   "metadata": {},
   "outputs": [],
   "source": [
    "related['date'] = pd.to_datetime(related['date'], errors='coerce')"
   ]
  },
  {
   "cell_type": "code",
   "execution_count": null,
   "metadata": {},
   "outputs": [],
   "source": [
    "related.dropna(subset=['date'], inplace=True)"
   ]
  },
  {
   "cell_type": "code",
   "execution_count": null,
   "metadata": {},
   "outputs": [],
   "source": [
    "earliest_date = related.groupby('patent_id')['date'].apply(lambda x: x.min()).reset_index().rename(index=str, columns={'patent_id':'patent_number', 'date':'priority_date'})\n",
    "earliest_date['priority_date'] = earliest_date['priority_date'].apply(lambda x: x.year)\n",
    "earliest_date.head()"
   ]
  },
  {
   "cell_type": "code",
   "execution_count": null,
   "metadata": {
    "scrolled": true
   },
   "outputs": [],
   "source": [
    "master = pd.read_csv('master.csv')"
   ]
  },
  {
   "cell_type": "code",
   "execution_count": null,
   "metadata": {},
   "outputs": [],
   "source": [
    "master = pd.merge(master, earliest_date, on='patent_number', how=\"left\")\n",
    "master.head()"
   ]
  },
  {
   "cell_type": "code",
   "execution_count": null,
   "metadata": {},
   "outputs": [],
   "source": [
    "master.to_csv('master.csv', index=False)"
   ]
  },
  {
   "cell_type": "code",
   "execution_count": null,
   "metadata": {},
   "outputs": [],
   "source": [
    "foreign = pd.read_csv('foreign_priority.tsv', delimiter='\\t', usecols=['patent_id','date', 'country_transformed'])\n",
    "foreign.head()"
   ]
  },
  {
   "cell_type": "code",
   "execution_count": null,
   "metadata": {},
   "outputs": [],
   "source": [
    "foreign['date'] = pd.to_datetime(foreign['date'], errors='coerce')\n",
    "foreign['date'] = foreign['date'].apply(lambda x: x.year)\n",
    "foreign.head()"
   ]
  },
  {
   "cell_type": "code",
   "execution_count": null,
   "metadata": {},
   "outputs": [],
   "source": [
    "foreign.shape"
   ]
  },
  {
   "cell_type": "code",
   "execution_count": null,
   "metadata": {},
   "outputs": [],
   "source": [
    "foreign.loc[foreign.groupby(\"patent_id\")[\"date\"].idxmin()]"
   ]
  },
  {
   "cell_type": "code",
   "execution_count": null,
   "metadata": {},
   "outputs": [],
   "source": []
  }
 ],
 "metadata": {
  "kernelspec": {
   "display_name": "Python 3",
   "language": "python",
   "name": "python3"
  },
  "language_info": {
   "codemirror_mode": {
    "name": "ipython",
    "version": 3
   },
   "file_extension": ".py",
   "mimetype": "text/x-python",
   "name": "python",
   "nbconvert_exporter": "python",
   "pygments_lexer": "ipython3",
   "version": "3.6.5"
  }
 },
 "nbformat": 4,
 "nbformat_minor": 2
}
