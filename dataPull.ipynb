{
 "cells": [
  {
   "cell_type": "markdown",
   "metadata": {},
   "source": [
    "# Using the PatentsView API to pull data about design patents granted by the USPTO applied for from 1980-2015\n",
    "\n",
    "Associated data fields:\n",
    "1. patent number\n",
    "2. application data\n",
    "3. USPC class at the subclass level"
   ]
  },
  {
   "cell_type": "code",
   "execution_count": 2,
   "metadata": {},
   "outputs": [],
   "source": [
    "import requests\n",
    "import json\n",
    "import pandas as pd\n",
    "import numpy as np\n",
    "import matplotlib.pyplot as plt\n",
    "%matplotlib inline\n",
    "from IPython.core.debugger import set_trace\n"
   ]
  },
  {
   "cell_type": "code",
   "execution_count": 2,
   "metadata": {},
   "outputs": [],
   "source": [
    "def remove_non_design(df):\n",
    "    #filter to make sure mis-classified patents are not included\n",
    "    return df[df.patent_number.str.contains('D')]\n",
    "    "
   ]
  },
  {
   "cell_type": "code",
   "execution_count": 3,
   "metadata": {},
   "outputs": [],
   "source": [
    "def extract_date(df):\n",
    "    keep = df.copy()\n",
    "    #extract application date and year\n",
    "    keep['app_date'] = keep['applications'].astype(str).str.extract('(\\d{4}-\\d{2}-\\d{2})')\n",
    "#     set_trace()\n",
    "    pd.to_datetime(keep.app_date, errors='coerce')\n",
    "    keep.drop('applications', axis=1, inplace=True)\n",
    "    \n",
    "    keep['app_date'] = pd.to_datetime(keep['app_date'], errors='coerce')\n",
    "    keep['year'] =keep['app_date'].apply(lambda x: x.year)\n",
    "    return keep"
   ]
  },
  {
   "cell_type": "code",
   "execution_count": 4,
   "metadata": {},
   "outputs": [],
   "source": [
    "def extract_class(df):\n",
    "    keep = df.copy()\n",
    "    #extract class information\n",
    "    pattern = \"([D0-9]\\d{2}/\\d{1,3}\\.?\\d{1,2})\"\n",
    "\n",
    "    keep['uspcs'] = keep['uspcs'].astype(str).str.findall(pattern)\n",
    "    holder = keep.apply(lambda x: pd.Series(x['uspcs']),axis=1).stack().reset_index(level=1, drop=True)\n",
    "    holder.name = 'class'\n",
    "    return keep.drop('uspcs', axis=1).join(holder)"
   ]
  },
  {
   "cell_type": "code",
   "execution_count": 5,
   "metadata": {},
   "outputs": [],
   "source": [
    "def mark_missing_citaitons(df):\n",
    "    \n",
    "    \"\"\" Marks patents that have missing citaiton data\n",
    "        \n",
    "        Args:\n",
    "        df(dataframe): the datafame to be cleaned\n",
    "        \n",
    "        Returns:\n",
    "        df(dataframe): the proccessed dataframe with additional columns is_missing(boolean) and num_missing(int)\n",
    "    \"\"\"\n",
    "    \n",
    "    keep = df.copy()\n",
    "\n",
    "    keep['num_cited_returned'] = keep['cited_patents'].astype(str).str.findall('(\\d{7}|D\\d{6})').apply(lambda x: len(x))\n",
    "    keep['patent_num_us_patent_citations'] = keep['patent_num_us_patent_citations'].astype(np.int64)\n",
    "    keep['num_missing'] = keep['patent_num_us_patent_citations'].sub(keep['num_cited_returned'])\n",
    "    keep['is_missing'] = np.where(keep['num_missing'] >0, 1, 0)\n",
    "    \n",
    "    return keep\n",
    "    "
   ]
  },
  {
   "cell_type": "code",
   "execution_count": 3,
   "metadata": {},
   "outputs": [],
   "source": [
    "# building the query dynamically\n",
    "base_url = \"http://www.patentsview.org/api/patents/query?\"\n",
    "field_list = \"&f=[\\\"patent_number\\\",\\\"app_date\\\",\\\"uspc_subclass_id\\\",\\\"cited_patent_number\\\",\\\"patent_num_us_patent_citations\\\"]\"\n",
    "\n",
    "master_df = pd.DataFrame()"
   ]
  },
  {
   "cell_type": "code",
   "execution_count": 7,
   "metadata": {
    "scrolled": true
   },
   "outputs": [
    {
     "name": "stdout",
     "output_type": "stream",
     "text": [
      "<Response [200]>\n",
      "1980 - 1 - 5034\n",
      "<Response [200]>\n",
      "1981 - 1 - 4807\n",
      "<Response [200]>\n",
      "1982 - 1 - 5216\n",
      "<Response [200]>\n",
      "1983 - 1 - 5495\n",
      "<Response [200]>\n",
      "1984 - 1 - 6020\n",
      "<Response [200]>\n",
      "1985 - 1 - 6506\n",
      "<Response [200]>\n",
      "1986 - 1 - 6337\n",
      "<Response [200]>\n",
      "1987 - 1 - 6950\n",
      "<Response [200]>\n",
      "1988 - 1 - 7409\n",
      "<Response [200]>\n",
      "1989 - 1 - 7581\n",
      "<Response [200]>\n",
      "1990 - 1 - 8388\n",
      "<Response [200]>\n",
      "1991 - 1 - 8533\n",
      "<Response [200]>\n",
      "1992 - 1 - 8722\n",
      "<Response [200]>\n",
      "1993 - 1 - 9296\n",
      "<Response [200]>\n",
      "1994 - 1 - 10000\n",
      "<Response [200]>\n",
      "1994 - 2 - 932\n",
      "<Response [200]>\n",
      "1995 - 1 - 10000\n",
      "<Response [200]>\n",
      "1995 - 2 - 1779\n",
      "<Response [200]>\n",
      "1996 - 1 - 10000\n",
      "<Response [200]>\n",
      "1996 - 2 - 2402\n",
      "<Response [200]>\n",
      "1997 - 1 - 10000\n",
      "<Response [200]>\n",
      "1997 - 2 - 3494\n",
      "<Response [200]>\n",
      "1998 - 1 - 10000\n",
      "<Response [200]>\n",
      "1998 - 2 - 4274\n",
      "<Response [200]>\n",
      "1999 - 1 - 10000\n",
      "<Response [200]>\n",
      "1999 - 2 - 4990\n",
      "<Response [200]>\n",
      "2000 - 1 - 10000\n",
      "<Response [200]>\n",
      "2000 - 2 - 5837\n",
      "<Response [200]>\n",
      "2001 - 1 - 10000\n",
      "<Response [200]>\n",
      "2001 - 2 - 5589\n",
      "<Response [200]>\n",
      "2002 - 1 - 10000\n",
      "<Response [200]>\n",
      "2002 - 2 - 7202\n",
      "<Response [200]>\n",
      "2003 - 1 - 10000\n",
      "<Response [200]>\n",
      "2003 - 2 - 8665\n",
      "<Response [200]>\n",
      "2004 - 1 - 10000\n",
      "<Response [200]>\n",
      "2004 - 2 - 9673\n",
      "<Response [200]>\n",
      "2005 - 1 - 10000\n",
      "<Response [200]>\n",
      "2005 - 2 - 10000\n",
      "<Response [200]>\n",
      "2005 - 3 - 966\n",
      "<Response [200]>\n",
      "2006 - 1 - 10000\n",
      "<Response [200]>\n",
      "2006 - 2 - 10000\n",
      "<Response [200]>\n",
      "2006 - 3 - 471\n",
      "<Response [200]>\n",
      "2007 - 1 - 10000\n",
      "<Response [200]>\n",
      "2007 - 2 - 10000\n",
      "<Response [200]>\n",
      "2007 - 3 - 1711\n",
      "<Response [200]>\n",
      "2008 - 1 - 10000\n",
      "<Response [200]>\n",
      "2008 - 2 - 10000\n",
      "<Response [200]>\n",
      "2008 - 3 - 1459\n",
      "<Response [200]>\n",
      "2009 - 1 - 10000\n",
      "<Response [200]>\n",
      "2009 - 2 - 10000\n",
      "<Response [200]>\n",
      "2009 - 3 - 863\n",
      "<Response [200]>\n",
      "2010 - 1 - 10000\n",
      "<Response [200]>\n",
      "2010 - 2 - 10000\n",
      "<Response [200]>\n",
      "2010 - 3 - 3437\n",
      "<Response [200]>\n",
      "2011 - 1 - 10000\n",
      "<Response [200]>\n",
      "2011 - 2 - 10000\n",
      "<Response [200]>\n",
      "2011 - 3 - 4647\n",
      "<Response [200]>\n",
      "2012 - 1 - 10000\n",
      "<Response [200]>\n",
      "2012 - 2 - 10000\n",
      "<Response [200]>\n",
      "2012 - 3 - 6286\n",
      "<Response [200]>\n",
      "2013 - 1 - 10000\n",
      "<Response [200]>\n",
      "2013 - 2 - 10000\n",
      "<Response [200]>\n",
      "2013 - 3 - 8788\n",
      "<Response [200]>\n",
      "2014 - 1 - 10000\n",
      "<Response [200]>\n",
      "2014 - 2 - 10000\n",
      "<Response [200]>\n",
      "2014 - 3 - 8299\n",
      "<Response [200]>\n",
      "2015 - 1 - 10000\n",
      "<Response [200]>\n",
      "2015 - 2 - 10000\n",
      "<Response [200]>\n",
      "2015 - 3 - 7454\n"
     ]
    }
   ],
   "source": [
    "#Due to the limits of the amount of results the API can return, query must be performed in loop by date and page\n",
    "\n",
    "for year in range(1980,2016):\n",
    "    page = 1\n",
    "    more_patents = True\n",
    "    \n",
    "    while more_patents:\n",
    "        \n",
    "        query = \"q={{\\\"_and\\\":[{{\\\"patent_type\\\":\\\"Design\\\"}},{{\\\"_gte\\\":{{\\\"app_date\\\":\\\"{0}-01-01\\\"}}}},{{\\\"_lte\\\":{{\\\"app_date\\\":\\\"{0}-12-31\\\"}}}}]}}\".format(year)\n",
    "        options = \"&o={{\\\"per_page\\\":10000,\\\"page\\\":{}}}\".format(page)\n",
    "\n",
    "        full_url = base_url + query + field_list + options\n",
    "        r = requests.get(full_url)\n",
    "        print(r)\n",
    "        data = r.json()\n",
    "        print(year,\"-\",page,\"-\",data['count'])\n",
    "\n",
    "        \n",
    "        df = pd.io.json.json_normalize(data['patents'])\n",
    "        master_df = pd.concat([master_df, df], ignore_index=True)\n",
    "\n",
    "        \n",
    "        # decide if to continue to next year or next page\n",
    "        if data['count'] < 10000:\n",
    "            more_patents = False\n",
    "        else:\n",
    "            page += 1\n",
    "            \n",
    "      \n"
   ]
  },
  {
   "cell_type": "code",
   "execution_count": 8,
   "metadata": {},
   "outputs": [
    {
     "data": {
      "text/html": [
       "<div>\n",
       "<style scoped>\n",
       "    .dataframe tbody tr th:only-of-type {\n",
       "        vertical-align: middle;\n",
       "    }\n",
       "\n",
       "    .dataframe tbody tr th {\n",
       "        vertical-align: top;\n",
       "    }\n",
       "\n",
       "    .dataframe thead th {\n",
       "        text-align: right;\n",
       "    }\n",
       "</style>\n",
       "<table border=\"1\" class=\"dataframe\">\n",
       "  <thead>\n",
       "    <tr style=\"text-align: right;\">\n",
       "      <th></th>\n",
       "      <th>applications</th>\n",
       "      <th>cited_patents</th>\n",
       "      <th>patent_num_us_patent_citations</th>\n",
       "      <th>patent_number</th>\n",
       "      <th>uspcs</th>\n",
       "    </tr>\n",
       "  </thead>\n",
       "  <tbody>\n",
       "    <tr>\n",
       "      <th>92493</th>\n",
       "      <td>[{'app_date': '1993-05-12', 'app_id': '29/0082...</td>\n",
       "      <td>[{'cited_patent_number': None}, {'cited_patent...</td>\n",
       "      <td>9</td>\n",
       "      <td>D356713</td>\n",
       "      <td>[{'uspc_subclass_id': 'D07/306'}, {'uspc_subcl...</td>\n",
       "    </tr>\n",
       "    <tr>\n",
       "      <th>220765</th>\n",
       "      <td>[{'app_date': '2002-12-19', 'app_id': '29/1728...</td>\n",
       "      <td>[{'cited_patent_number': 'D421918'}, {'cited_p...</td>\n",
       "      <td>6</td>\n",
       "      <td>D490325</td>\n",
       "      <td>[{'uspc_subclass_id': 'D10/39'}]</td>\n",
       "    </tr>\n",
       "    <tr>\n",
       "      <th>116229</th>\n",
       "      <td>[{'app_date': '1995-09-12', 'app_id': '29/0438...</td>\n",
       "      <td>[{'cited_patent_number': 'D328827'}, {'cited_p...</td>\n",
       "      <td>13</td>\n",
       "      <td>D381825</td>\n",
       "      <td>[{'uspc_subclass_id': 'D06/369'}, {'uspc_subcl...</td>\n",
       "    </tr>\n",
       "    <tr>\n",
       "      <th>247554</th>\n",
       "      <td>[{'app_date': '2004-10-26', 'app_id': '29/2158...</td>\n",
       "      <td>[{'cited_patent_number': None}, {'cited_patent...</td>\n",
       "      <td>9</td>\n",
       "      <td>D509550</td>\n",
       "      <td>[{'uspc_subclass_id': 'D21/713'}]</td>\n",
       "    </tr>\n",
       "    <tr>\n",
       "      <th>436343</th>\n",
       "      <td>[{'app_date': '2012-10-23', 'app_id': '29/4353...</td>\n",
       "      <td>[{'cited_patent_number': '5694292'}, {'cited_p...</td>\n",
       "      <td>38</td>\n",
       "      <td>D710841</td>\n",
       "      <td>[{'uspc_subclass_id': 'D14/318'}]</td>\n",
       "    </tr>\n",
       "  </tbody>\n",
       "</table>\n",
       "</div>"
      ],
      "text/plain": [
       "                                             applications  \\\n",
       "92493   [{'app_date': '1993-05-12', 'app_id': '29/0082...   \n",
       "220765  [{'app_date': '2002-12-19', 'app_id': '29/1728...   \n",
       "116229  [{'app_date': '1995-09-12', 'app_id': '29/0438...   \n",
       "247554  [{'app_date': '2004-10-26', 'app_id': '29/2158...   \n",
       "436343  [{'app_date': '2012-10-23', 'app_id': '29/4353...   \n",
       "\n",
       "                                            cited_patents  \\\n",
       "92493   [{'cited_patent_number': None}, {'cited_patent...   \n",
       "220765  [{'cited_patent_number': 'D421918'}, {'cited_p...   \n",
       "116229  [{'cited_patent_number': 'D328827'}, {'cited_p...   \n",
       "247554  [{'cited_patent_number': None}, {'cited_patent...   \n",
       "436343  [{'cited_patent_number': '5694292'}, {'cited_p...   \n",
       "\n",
       "       patent_num_us_patent_citations patent_number  \\\n",
       "92493                               9       D356713   \n",
       "220765                              6       D490325   \n",
       "116229                             13       D381825   \n",
       "247554                              9       D509550   \n",
       "436343                             38       D710841   \n",
       "\n",
       "                                                    uspcs  \n",
       "92493   [{'uspc_subclass_id': 'D07/306'}, {'uspc_subcl...  \n",
       "220765                   [{'uspc_subclass_id': 'D10/39'}]  \n",
       "116229  [{'uspc_subclass_id': 'D06/369'}, {'uspc_subcl...  \n",
       "247554                  [{'uspc_subclass_id': 'D21/713'}]  \n",
       "436343                  [{'uspc_subclass_id': 'D14/318'}]  "
      ]
     },
     "execution_count": 8,
     "metadata": {},
     "output_type": "execute_result"
    }
   ],
   "source": [
    "master_df.sample(5)"
   ]
  },
  {
   "cell_type": "code",
   "execution_count": 16,
   "metadata": {},
   "outputs": [],
   "source": [
    "master_df = remove_non_design(master_df)"
   ]
  },
  {
   "cell_type": "code",
   "execution_count": 9,
   "metadata": {},
   "outputs": [],
   "source": [
    "master_df.to_csv('designDirty')"
   ]
  },
  {
   "cell_type": "code",
   "execution_count": 19,
   "metadata": {},
   "outputs": [
    {
     "name": "stderr",
     "output_type": "stream",
     "text": [
      "/home/tiera/anaconda3/lib/python3.6/site-packages/ipykernel_launcher.py:4: FutureWarning: currently extract(expand=None) means expand=False (return Index/Series/DataFrame) but in a future version of pandas this will be changed to expand=True (return DataFrame)\n",
      "  after removing the cwd from sys.path.\n"
     ]
    }
   ],
   "source": [
    "master_df = extract_date(master_df)"
   ]
  },
  {
   "cell_type": "code",
   "execution_count": 20,
   "metadata": {},
   "outputs": [
    {
     "data": {
      "text/html": [
       "<div>\n",
       "<style scoped>\n",
       "    .dataframe tbody tr th:only-of-type {\n",
       "        vertical-align: middle;\n",
       "    }\n",
       "\n",
       "    .dataframe tbody tr th {\n",
       "        vertical-align: top;\n",
       "    }\n",
       "\n",
       "    .dataframe thead th {\n",
       "        text-align: right;\n",
       "    }\n",
       "</style>\n",
       "<table border=\"1\" class=\"dataframe\">\n",
       "  <thead>\n",
       "    <tr style=\"text-align: right;\">\n",
       "      <th></th>\n",
       "      <th>cited_patents</th>\n",
       "      <th>patent_num_us_patent_citations</th>\n",
       "      <th>patent_number</th>\n",
       "      <th>uspcs</th>\n",
       "      <th>app_date</th>\n",
       "      <th>year</th>\n",
       "    </tr>\n",
       "  </thead>\n",
       "  <tbody>\n",
       "    <tr>\n",
       "      <th>0</th>\n",
       "      <td>[{'cited_patent_number': None}, {'cited_patent...</td>\n",
       "      <td>5</td>\n",
       "      <td>D257752</td>\n",
       "      <td>[{'uspc_subclass_id': 'D19/75'}]</td>\n",
       "      <td>1980-01-14</td>\n",
       "      <td>1980</td>\n",
       "    </tr>\n",
       "    <tr>\n",
       "      <th>1</th>\n",
       "      <td>[{'cited_patent_number': None}, {'cited_patent...</td>\n",
       "      <td>5</td>\n",
       "      <td>D257924</td>\n",
       "      <td>[{'uspc_subclass_id': 'D06/573'}]</td>\n",
       "      <td>1980-01-14</td>\n",
       "      <td>1980</td>\n",
       "    </tr>\n",
       "    <tr>\n",
       "      <th>2</th>\n",
       "      <td>[{'cited_patent_number': None}, {'cited_patent...</td>\n",
       "      <td>10</td>\n",
       "      <td>D258382</td>\n",
       "      <td>[{'uspc_subclass_id': 'D23/214'}]</td>\n",
       "      <td>1980-01-17</td>\n",
       "      <td>1980</td>\n",
       "    </tr>\n",
       "    <tr>\n",
       "      <th>3</th>\n",
       "      <td>[{'cited_patent_number': None}, {'cited_patent...</td>\n",
       "      <td>10</td>\n",
       "      <td>D258383</td>\n",
       "      <td>[{'uspc_subclass_id': 'D23/214'}]</td>\n",
       "      <td>1980-01-17</td>\n",
       "      <td>1980</td>\n",
       "    </tr>\n",
       "    <tr>\n",
       "      <th>4</th>\n",
       "      <td>[{'cited_patent_number': None}]</td>\n",
       "      <td>4</td>\n",
       "      <td>D258571</td>\n",
       "      <td>[{'uspc_subclass_id': 'D09/560'}]</td>\n",
       "      <td>1980-04-03</td>\n",
       "      <td>1980</td>\n",
       "    </tr>\n",
       "  </tbody>\n",
       "</table>\n",
       "</div>"
      ],
      "text/plain": [
       "                                       cited_patents  \\\n",
       "0  [{'cited_patent_number': None}, {'cited_patent...   \n",
       "1  [{'cited_patent_number': None}, {'cited_patent...   \n",
       "2  [{'cited_patent_number': None}, {'cited_patent...   \n",
       "3  [{'cited_patent_number': None}, {'cited_patent...   \n",
       "4                    [{'cited_patent_number': None}]   \n",
       "\n",
       "  patent_num_us_patent_citations patent_number  \\\n",
       "0                              5       D257752   \n",
       "1                              5       D257924   \n",
       "2                             10       D258382   \n",
       "3                             10       D258383   \n",
       "4                              4       D258571   \n",
       "\n",
       "                               uspcs   app_date  year  \n",
       "0   [{'uspc_subclass_id': 'D19/75'}] 1980-01-14  1980  \n",
       "1  [{'uspc_subclass_id': 'D06/573'}] 1980-01-14  1980  \n",
       "2  [{'uspc_subclass_id': 'D23/214'}] 1980-01-17  1980  \n",
       "3  [{'uspc_subclass_id': 'D23/214'}] 1980-01-17  1980  \n",
       "4  [{'uspc_subclass_id': 'D09/560'}] 1980-04-03  1980  "
      ]
     },
     "execution_count": 20,
     "metadata": {},
     "output_type": "execute_result"
    }
   ],
   "source": [
    "master_df.head()"
   ]
  },
  {
   "cell_type": "markdown",
   "metadata": {},
   "source": [
    "How has design patent activity changed over time?"
   ]
  },
  {
   "cell_type": "code",
   "execution_count": 26,
   "metadata": {},
   "outputs": [],
   "source": [
    "by_year = master_df.set_index('patent_number')"
   ]
  },
  {
   "cell_type": "code",
   "execution_count": 27,
   "metadata": {},
   "outputs": [
    {
     "data": {
      "text/html": [
       "<div>\n",
       "<style scoped>\n",
       "    .dataframe tbody tr th:only-of-type {\n",
       "        vertical-align: middle;\n",
       "    }\n",
       "\n",
       "    .dataframe tbody tr th {\n",
       "        vertical-align: top;\n",
       "    }\n",
       "\n",
       "    .dataframe thead th {\n",
       "        text-align: right;\n",
       "    }\n",
       "</style>\n",
       "<table border=\"1\" class=\"dataframe\">\n",
       "  <thead>\n",
       "    <tr style=\"text-align: right;\">\n",
       "      <th></th>\n",
       "      <th>cited_patents</th>\n",
       "      <th>patent_num_us_patent_citations</th>\n",
       "      <th>uspcs</th>\n",
       "      <th>app_date</th>\n",
       "      <th>year</th>\n",
       "    </tr>\n",
       "    <tr>\n",
       "      <th>patent_number</th>\n",
       "      <th></th>\n",
       "      <th></th>\n",
       "      <th></th>\n",
       "      <th></th>\n",
       "      <th></th>\n",
       "    </tr>\n",
       "  </thead>\n",
       "  <tbody>\n",
       "    <tr>\n",
       "      <th>D257752</th>\n",
       "      <td>[{'cited_patent_number': None}, {'cited_patent...</td>\n",
       "      <td>5</td>\n",
       "      <td>[{'uspc_subclass_id': 'D19/75'}]</td>\n",
       "      <td>1980-01-14</td>\n",
       "      <td>1980</td>\n",
       "    </tr>\n",
       "    <tr>\n",
       "      <th>D257924</th>\n",
       "      <td>[{'cited_patent_number': None}, {'cited_patent...</td>\n",
       "      <td>5</td>\n",
       "      <td>[{'uspc_subclass_id': 'D06/573'}]</td>\n",
       "      <td>1980-01-14</td>\n",
       "      <td>1980</td>\n",
       "    </tr>\n",
       "    <tr>\n",
       "      <th>D258382</th>\n",
       "      <td>[{'cited_patent_number': None}, {'cited_patent...</td>\n",
       "      <td>10</td>\n",
       "      <td>[{'uspc_subclass_id': 'D23/214'}]</td>\n",
       "      <td>1980-01-17</td>\n",
       "      <td>1980</td>\n",
       "    </tr>\n",
       "    <tr>\n",
       "      <th>D258383</th>\n",
       "      <td>[{'cited_patent_number': None}, {'cited_patent...</td>\n",
       "      <td>10</td>\n",
       "      <td>[{'uspc_subclass_id': 'D23/214'}]</td>\n",
       "      <td>1980-01-17</td>\n",
       "      <td>1980</td>\n",
       "    </tr>\n",
       "    <tr>\n",
       "      <th>D258571</th>\n",
       "      <td>[{'cited_patent_number': None}]</td>\n",
       "      <td>4</td>\n",
       "      <td>[{'uspc_subclass_id': 'D09/560'}]</td>\n",
       "      <td>1980-04-03</td>\n",
       "      <td>1980</td>\n",
       "    </tr>\n",
       "  </tbody>\n",
       "</table>\n",
       "</div>"
      ],
      "text/plain": [
       "                                                   cited_patents  \\\n",
       "patent_number                                                      \n",
       "D257752        [{'cited_patent_number': None}, {'cited_patent...   \n",
       "D257924        [{'cited_patent_number': None}, {'cited_patent...   \n",
       "D258382        [{'cited_patent_number': None}, {'cited_patent...   \n",
       "D258383        [{'cited_patent_number': None}, {'cited_patent...   \n",
       "D258571                          [{'cited_patent_number': None}]   \n",
       "\n",
       "              patent_num_us_patent_citations  \\\n",
       "patent_number                                  \n",
       "D257752                                    5   \n",
       "D257924                                    5   \n",
       "D258382                                   10   \n",
       "D258383                                   10   \n",
       "D258571                                    4   \n",
       "\n",
       "                                           uspcs   app_date  year  \n",
       "patent_number                                                      \n",
       "D257752         [{'uspc_subclass_id': 'D19/75'}] 1980-01-14  1980  \n",
       "D257924        [{'uspc_subclass_id': 'D06/573'}] 1980-01-14  1980  \n",
       "D258382        [{'uspc_subclass_id': 'D23/214'}] 1980-01-17  1980  \n",
       "D258383        [{'uspc_subclass_id': 'D23/214'}] 1980-01-17  1980  \n",
       "D258571        [{'uspc_subclass_id': 'D09/560'}] 1980-04-03  1980  "
      ]
     },
     "execution_count": 27,
     "metadata": {},
     "output_type": "execute_result"
    }
   ],
   "source": [
    "by_year.head()"
   ]
  },
  {
   "cell_type": "code",
   "execution_count": 31,
   "metadata": {},
   "outputs": [],
   "source": [
    "by_year = by_year[['uspcs', 'year']]"
   ]
  },
  {
   "cell_type": "code",
   "execution_count": 46,
   "metadata": {},
   "outputs": [
    {
     "data": {
      "text/plain": [
       "<matplotlib.axes._subplots.AxesSubplot at 0x7fc68d485358>"
      ]
     },
     "execution_count": 46,
     "metadata": {},
     "output_type": "execute_result"
    },
    {
     "data": {
      "image/png": "[encoded data removed]",
      "text/plain": [
       "<matplotlib.figure.Figure at 0x7fc68d480c18>"
      ]
     },
     "metadata": {},
     "output_type": "display_data"
    }
   ],
   "source": [
    "by_year.groupby('year').agg('count').plot(kind='line', legend=False, title=\"USPTO Design patent Activity by Application Year\")"
   ]
  },
  {
   "cell_type": "markdown",
   "metadata": {},
   "source": [
    "What percentage of all patent applications are design patents?"
   ]
  },
  {
   "cell_type": "code",
   "execution_count": 4,
   "metadata": {},
   "outputs": [],
   "source": [
    "utility_df = pd.DataFrame()\n",
    "field_list = \"&f=[\\\"patent_number\\\",\\\"app_date\\\"]\""
   ]
  },
  {
   "cell_type": "code",
   "execution_count": 11,
   "metadata": {
    "scrolled": true
   },
   "outputs": [
    {
     "name": "stdout",
     "output_type": "stream",
     "text": [
      "<Response [200]>\n",
      "1993 - 1 - 10000\n",
      "<Response [200]>\n",
      "1993 - 2 - 10000\n",
      "<Response [200]>\n",
      "1993 - 3 - 10000\n",
      "<Response [200]>\n",
      "1993 - 4 - 10000\n",
      "<Response [200]>\n",
      "1993 - 5 - 10000\n",
      "<Response [200]>\n",
      "1993 - 6 - 10000\n",
      "<Response [200]>\n",
      "1993 - 7 - 10000\n",
      "<Response [200]>\n",
      "1993 - 8 - 10000\n",
      "<Response [200]>\n",
      "1993 - 9 - 10000\n",
      "<Response [200]>\n",
      "1993 - 10 - 10000\n",
      "<Response [200]>\n",
      "1993 - 11 - 0\n"
     ]
    },
    {
     "ename": "TypeError",
     "evalue": "'NoneType' object is not subscriptable",
     "output_type": "error",
     "traceback": [
      "\u001b[0;31m---------------------------------------------------------------------------\u001b[0m",
      "\u001b[0;31mTypeError\u001b[0m                                 Traceback (most recent call last)",
      "\u001b[0;32m<ipython-input-11-9168ff40ee76>\u001b[0m in \u001b[0;36m<module>\u001b[0;34m()\u001b[0m\n\u001b[1;32m     17\u001b[0m \u001b[0;34m\u001b[0m\u001b[0m\n\u001b[1;32m     18\u001b[0m \u001b[0;34m\u001b[0m\u001b[0m\n\u001b[0;32m---> 19\u001b[0;31m         \u001b[0mdf\u001b[0m \u001b[0;34m=\u001b[0m \u001b[0mpd\u001b[0m\u001b[0;34m.\u001b[0m\u001b[0mio\u001b[0m\u001b[0;34m.\u001b[0m\u001b[0mjson\u001b[0m\u001b[0;34m.\u001b[0m\u001b[0mjson_normalize\u001b[0m\u001b[0;34m(\u001b[0m\u001b[0mdata\u001b[0m\u001b[0;34m[\u001b[0m\u001b[0;34m'patents'\u001b[0m\u001b[0;34m]\u001b[0m\u001b[0;34m)\u001b[0m\u001b[0;34m\u001b[0m\u001b[0m\n\u001b[0m\u001b[1;32m     20\u001b[0m         \u001b[0mutility_df\u001b[0m \u001b[0;34m=\u001b[0m \u001b[0mpd\u001b[0m\u001b[0;34m.\u001b[0m\u001b[0mconcat\u001b[0m\u001b[0;34m(\u001b[0m\u001b[0;34m[\u001b[0m\u001b[0mmaster_df\u001b[0m\u001b[0;34m,\u001b[0m \u001b[0mdf\u001b[0m\u001b[0;34m]\u001b[0m\u001b[0;34m,\u001b[0m \u001b[0mignore_index\u001b[0m\u001b[0;34m=\u001b[0m\u001b[0;32mTrue\u001b[0m\u001b[0;34m)\u001b[0m\u001b[0;34m\u001b[0m\u001b[0m\n\u001b[1;32m     21\u001b[0m \u001b[0;34m\u001b[0m\u001b[0m\n",
      "\u001b[0;32m~/anaconda3/lib/python3.6/site-packages/pandas/io/json/normalize.py\u001b[0m in \u001b[0;36mjson_normalize\u001b[0;34m(data, record_path, meta, meta_prefix, record_prefix, errors, sep)\u001b[0m\n\u001b[1;32m    190\u001b[0m \u001b[0;34m\u001b[0m\u001b[0m\n\u001b[1;32m    191\u001b[0m     \u001b[0;32mif\u001b[0m \u001b[0mrecord_path\u001b[0m \u001b[0;32mis\u001b[0m \u001b[0;32mNone\u001b[0m\u001b[0;34m:\u001b[0m\u001b[0;34m\u001b[0m\u001b[0m\n\u001b[0;32m--> 192\u001b[0;31m         \u001b[0;32mif\u001b[0m \u001b[0many\u001b[0m\u001b[0;34m(\u001b[0m\u001b[0;34m[\u001b[0m\u001b[0misinstance\u001b[0m\u001b[0;34m(\u001b[0m\u001b[0mx\u001b[0m\u001b[0;34m,\u001b[0m \u001b[0mdict\u001b[0m\u001b[0;34m)\u001b[0m \u001b[0;32mfor\u001b[0m \u001b[0mx\u001b[0m \u001b[0;32min\u001b[0m \u001b[0mcompat\u001b[0m\u001b[0;34m.\u001b[0m\u001b[0mitervalues\u001b[0m\u001b[0;34m(\u001b[0m\u001b[0mdata\u001b[0m\u001b[0;34m[\u001b[0m\u001b[0;36m0\u001b[0m\u001b[0;34m]\u001b[0m\u001b[0;34m)\u001b[0m\u001b[0;34m]\u001b[0m\u001b[0;34m)\u001b[0m\u001b[0;34m:\u001b[0m\u001b[0;34m\u001b[0m\u001b[0m\n\u001b[0m\u001b[1;32m    193\u001b[0m             \u001b[0;31m# naive normalization, this is idempotent for flat records\u001b[0m\u001b[0;34m\u001b[0m\u001b[0;34m\u001b[0m\u001b[0m\n\u001b[1;32m    194\u001b[0m             \u001b[0;31m# and potentially will inflate the data considerably for\u001b[0m\u001b[0;34m\u001b[0m\u001b[0;34m\u001b[0m\u001b[0m\n",
      "\u001b[0;31mTypeError\u001b[0m: 'NoneType' object is not subscriptable"
     ]
    }
   ],
   "source": [
    "#Due to the limits of the amount of results the API can return, query must be performed in loop by date and page\n",
    "\n",
    "for year in range(1993,2016):\n",
    "    page = 1\n",
    "    more_patents = True\n",
    "    \n",
    "    while more_patents:\n",
    "        \n",
    "        query = \"q={{\\\"_and\\\":[{{\\\"patent_type\\\":\\\"Utility\\\"}},{{\\\"_gte\\\":{{\\\"app_date\\\":\\\"{0}-01-01\\\"}}}},{{\\\"_lte\\\":{{\\\"app_date\\\":\\\"{0}-12-31\\\"}}}}]}}\".format(year)\n",
    "        options = \"&o={{\\\"per_page\\\":10000,\\\"page\\\":{}}}\".format(page)\n",
    "\n",
    "        full_url = base_url + query + field_list + options\n",
    "        r = requests.get(full_url)\n",
    "        print(r)\n",
    "        data = r.json()\n",
    "        print(year,\"-\",page,\"-\",data['count'])\n",
    "\n",
    "        \n",
    "        df = pd.io.json.json_normalize(data['patents'])\n",
    "        utility_df = pd.concat([master_df, df], ignore_index=True)\n",
    "\n",
    "        \n",
    "        # decide if to continue to next year or next page\n",
    "        if data['count'] < 10000:\n",
    "            more_patents = False\n",
    "        else:\n",
    "            page += 1\n",
    "            \n",
    "      \n"
   ]
  },
  {
   "cell_type": "code",
   "execution_count": null,
   "metadata": {},
   "outputs": [],
   "source": [
    "utility_df.tail()"
   ]
  },
  {
   "cell_type": "code",
   "execution_count": 11,
   "metadata": {},
   "outputs": [
    {
     "name": "stderr",
     "output_type": "stream",
     "text": [
      "/home/tiera/anaconda3/lib/python3.6/site-packages/ipykernel_launcher.py:4: FutureWarning: currently extract(expand=None) means expand=False (return Index/Series/DataFrame) but in a future version of pandas this will be changed to expand=True (return DataFrame)\n",
      "  after removing the cwd from sys.path.\n"
     ]
    }
   ],
   "source": [
    "classes = extract_date(master_df)"
   ]
  },
  {
   "cell_type": "code",
   "execution_count": 12,
   "metadata": {},
   "outputs": [],
   "source": [
    "classes = extract_class(classes)"
   ]
  },
  {
   "cell_type": "code",
   "execution_count": 13,
   "metadata": {},
   "outputs": [],
   "source": [
    "classes.drop(columns = ['cited_patents','patent_num_us_patent_citations','app_date'], inplace=True)"
   ]
  },
  {
   "cell_type": "code",
   "execution_count": 14,
   "metadata": {},
   "outputs": [
    {
     "data": {
      "text/html": [
       "<div>\n",
       "<style scoped>\n",
       "    .dataframe tbody tr th:only-of-type {\n",
       "        vertical-align: middle;\n",
       "    }\n",
       "\n",
       "    .dataframe tbody tr th {\n",
       "        vertical-align: top;\n",
       "    }\n",
       "\n",
       "    .dataframe thead th {\n",
       "        text-align: right;\n",
       "    }\n",
       "</style>\n",
       "<table border=\"1\" class=\"dataframe\">\n",
       "  <thead>\n",
       "    <tr style=\"text-align: right;\">\n",
       "      <th></th>\n",
       "      <th>patent_number</th>\n",
       "      <th>year</th>\n",
       "      <th>class</th>\n",
       "    </tr>\n",
       "  </thead>\n",
       "  <tbody>\n",
       "    <tr>\n",
       "      <th>0</th>\n",
       "      <td>D257752</td>\n",
       "      <td>1980</td>\n",
       "      <td>D19/75</td>\n",
       "    </tr>\n",
       "    <tr>\n",
       "      <th>1</th>\n",
       "      <td>D257924</td>\n",
       "      <td>1980</td>\n",
       "      <td>D06/573</td>\n",
       "    </tr>\n",
       "    <tr>\n",
       "      <th>2</th>\n",
       "      <td>D258382</td>\n",
       "      <td>1980</td>\n",
       "      <td>D23/214</td>\n",
       "    </tr>\n",
       "    <tr>\n",
       "      <th>3</th>\n",
       "      <td>D258383</td>\n",
       "      <td>1980</td>\n",
       "      <td>D23/214</td>\n",
       "    </tr>\n",
       "    <tr>\n",
       "      <th>4</th>\n",
       "      <td>D258571</td>\n",
       "      <td>1980</td>\n",
       "      <td>D09/560</td>\n",
       "    </tr>\n",
       "  </tbody>\n",
       "</table>\n",
       "</div>"
      ],
      "text/plain": [
       "  patent_number  year    class\n",
       "0       D257752  1980   D19/75\n",
       "1       D257924  1980  D06/573\n",
       "2       D258382  1980  D23/214\n",
       "3       D258383  1980  D23/214\n",
       "4       D258571  1980  D09/560"
      ]
     },
     "execution_count": 14,
     "metadata": {},
     "output_type": "execute_result"
    }
   ],
   "source": [
    "classes.head()"
   ]
  },
  {
   "cell_type": "markdown",
   "metadata": {},
   "source": [
    "# How much citation data is missing?"
   ]
  },
  {
   "cell_type": "code",
   "execution_count": 10,
   "metadata": {},
   "outputs": [],
   "source": [
    "# # master_df = remove_non_design(master_df)\n",
    "# # master_df = extract_date(master_df)\n",
    "# # master_df = extract_class(master_df)\n",
    "# missing = mark_missing_citaitons(master_df)"
   ]
  },
  {
   "cell_type": "code",
   "execution_count": 11,
   "metadata": {},
   "outputs": [
    {
     "data": {
      "text/html": [
       "<div>\n",
       "<style scoped>\n",
       "    .dataframe tbody tr th:only-of-type {\n",
       "        vertical-align: middle;\n",
       "    }\n",
       "\n",
       "    .dataframe tbody tr th {\n",
       "        vertical-align: top;\n",
       "    }\n",
       "\n",
       "    .dataframe thead th {\n",
       "        text-align: right;\n",
       "    }\n",
       "</style>\n",
       "<table border=\"1\" class=\"dataframe\">\n",
       "  <thead>\n",
       "    <tr style=\"text-align: right;\">\n",
       "      <th></th>\n",
       "      <th>applications</th>\n",
       "      <th>cited_patents</th>\n",
       "      <th>patent_num_us_patent_citations</th>\n",
       "      <th>patent_number</th>\n",
       "      <th>uspcs</th>\n",
       "      <th>num_cited_returned</th>\n",
       "      <th>num_missing</th>\n",
       "      <th>is_missing</th>\n",
       "    </tr>\n",
       "  </thead>\n",
       "  <tbody>\n",
       "    <tr>\n",
       "      <th>0</th>\n",
       "      <td>[{'app_date': '1980-01-14', 'app_id': '06/1118...</td>\n",
       "      <td>[{'cited_patent_number': None}, {'cited_patent...</td>\n",
       "      <td>5</td>\n",
       "      <td>D257752</td>\n",
       "      <td>[{'uspc_subclass_id': 'D19/75'}]</td>\n",
       "      <td>1</td>\n",
       "      <td>4</td>\n",
       "      <td>1</td>\n",
       "    </tr>\n",
       "    <tr>\n",
       "      <th>1</th>\n",
       "      <td>[{'app_date': '1980-01-14', 'app_id': '06/1118...</td>\n",
       "      <td>[{'cited_patent_number': None}, {'cited_patent...</td>\n",
       "      <td>5</td>\n",
       "      <td>D257924</td>\n",
       "      <td>[{'uspc_subclass_id': 'D06/573'}]</td>\n",
       "      <td>1</td>\n",
       "      <td>4</td>\n",
       "      <td>1</td>\n",
       "    </tr>\n",
       "    <tr>\n",
       "      <th>2</th>\n",
       "      <td>[{'app_date': '1980-01-17', 'app_id': '06/1130...</td>\n",
       "      <td>[{'cited_patent_number': None}, {'cited_patent...</td>\n",
       "      <td>10</td>\n",
       "      <td>D258382</td>\n",
       "      <td>[{'uspc_subclass_id': 'D23/214'}]</td>\n",
       "      <td>1</td>\n",
       "      <td>9</td>\n",
       "      <td>1</td>\n",
       "    </tr>\n",
       "    <tr>\n",
       "      <th>3</th>\n",
       "      <td>[{'app_date': '1980-01-17', 'app_id': '06/1130...</td>\n",
       "      <td>[{'cited_patent_number': None}, {'cited_patent...</td>\n",
       "      <td>10</td>\n",
       "      <td>D258383</td>\n",
       "      <td>[{'uspc_subclass_id': 'D23/214'}]</td>\n",
       "      <td>1</td>\n",
       "      <td>9</td>\n",
       "      <td>1</td>\n",
       "    </tr>\n",
       "    <tr>\n",
       "      <th>4</th>\n",
       "      <td>[{'app_date': '1980-04-03', 'app_id': '06/1368...</td>\n",
       "      <td>[{'cited_patent_number': None}]</td>\n",
       "      <td>4</td>\n",
       "      <td>D258571</td>\n",
       "      <td>[{'uspc_subclass_id': 'D09/560'}]</td>\n",
       "      <td>0</td>\n",
       "      <td>4</td>\n",
       "      <td>1</td>\n",
       "    </tr>\n",
       "  </tbody>\n",
       "</table>\n",
       "</div>"
      ],
      "text/plain": [
       "                                        applications  \\\n",
       "0  [{'app_date': '1980-01-14', 'app_id': '06/1118...   \n",
       "1  [{'app_date': '1980-01-14', 'app_id': '06/1118...   \n",
       "2  [{'app_date': '1980-01-17', 'app_id': '06/1130...   \n",
       "3  [{'app_date': '1980-01-17', 'app_id': '06/1130...   \n",
       "4  [{'app_date': '1980-04-03', 'app_id': '06/1368...   \n",
       "\n",
       "                                       cited_patents  \\\n",
       "0  [{'cited_patent_number': None}, {'cited_patent...   \n",
       "1  [{'cited_patent_number': None}, {'cited_patent...   \n",
       "2  [{'cited_patent_number': None}, {'cited_patent...   \n",
       "3  [{'cited_patent_number': None}, {'cited_patent...   \n",
       "4                    [{'cited_patent_number': None}]   \n",
       "\n",
       "   patent_num_us_patent_citations patent_number  \\\n",
       "0                               5       D257752   \n",
       "1                               5       D257924   \n",
       "2                              10       D258382   \n",
       "3                              10       D258383   \n",
       "4                               4       D258571   \n",
       "\n",
       "                               uspcs  num_cited_returned  num_missing  \\\n",
       "0   [{'uspc_subclass_id': 'D19/75'}]                   1            4   \n",
       "1  [{'uspc_subclass_id': 'D06/573'}]                   1            4   \n",
       "2  [{'uspc_subclass_id': 'D23/214'}]                   1            9   \n",
       "3  [{'uspc_subclass_id': 'D23/214'}]                   1            9   \n",
       "4  [{'uspc_subclass_id': 'D09/560'}]                   0            4   \n",
       "\n",
       "   is_missing  \n",
       "0           1  \n",
       "1           1  \n",
       "2           1  \n",
       "3           1  \n",
       "4           1  "
      ]
     },
     "execution_count": 11,
     "metadata": {},
     "output_type": "execute_result"
    }
   ],
   "source": [
    "# missing.head()"
   ]
  },
  {
   "cell_type": "code",
   "execution_count": 11,
   "metadata": {},
   "outputs": [
    {
     "data": {
      "text/plain": [
       "(525490, 8)"
      ]
     },
     "execution_count": 11,
     "metadata": {},
     "output_type": "execute_result"
    }
   ],
   "source": [
    "# missing.shape"
   ]
  },
  {
   "cell_type": "code",
   "execution_count": null,
   "metadata": {},
   "outputs": [],
   "source": [
    "\n",
    "# (missing[missing['num_missing'] >0].shape[0]/master_df.shape[0]) *100"
   ]
  },
  {
   "cell_type": "markdown",
   "metadata": {},
   "source": [
    "Approx 54.926% of citation data is missing. This is mostly due to citing patents that were granted before 1976, which is the yeat that patentViews beings coverage."
   ]
  },
  {
   "cell_type": "markdown",
   "metadata": {},
   "source": [
    "Let's break it down by year"
   ]
  },
  {
   "cell_type": "code",
   "execution_count": null,
   "metadata": {},
   "outputs": [],
   "source": [
    "\n",
    "# master_df.groupby(['year']).apply((lambda x: (x[x['num_missing'] > 0].shape[0]/ x.shape[0])*100)).plot(title=\"Percent of Patents with missing Citation Data\")"
   ]
  },
  {
   "cell_type": "code",
   "execution_count": null,
   "metadata": {},
   "outputs": [],
   "source": [
    "# master_df['test'] = master_df['cited_patents'].astype(str).str.findall(pattern)"
   ]
  },
  {
   "cell_type": "code",
   "execution_count": 12,
   "metadata": {},
   "outputs": [],
   "source": [
    "# missing.drop(columns=['applications','patent_num_us_patent_citations','uspcs','num_cited_returned','num_missing'], inplace=True)"
   ]
  },
  {
   "cell_type": "code",
   "execution_count": 13,
   "metadata": {},
   "outputs": [],
   "source": [
    "# pattern = \"([D0-9]\\d{6})\""
   ]
  },
  {
   "cell_type": "code",
   "execution_count": 14,
   "metadata": {},
   "outputs": [],
   "source": [
    "# missing['cited_patents'] = missing['cited_patents'].astype(str).str.findall(pattern)"
   ]
  },
  {
   "cell_type": "code",
   "execution_count": null,
   "metadata": {},
   "outputs": [],
   "source": [
    "# holder = missing.apply(lambda x: pd.Series(x['cited_patents']),axis=1).stack().reset_index(level=1, drop=True)"
   ]
  },
  {
   "cell_type": "code",
   "execution_count": null,
   "metadata": {},
   "outputs": [],
   "source": [
    "# holder.name = 'class'"
   ]
  },
  {
   "cell_type": "code",
   "execution_count": null,
   "metadata": {},
   "outputs": [],
   "source": [
    "# missing.drop('cited_patents', axis=1).join(holder)"
   ]
  },
  {
   "cell_type": "code",
   "execution_count": null,
   "metadata": {},
   "outputs": [],
   "source": []
  }
 ],
 "metadata": {
  "kernelspec": {
   "display_name": "Python 3",
   "language": "python",
   "name": "python3"
  }
 },
 "nbformat": 4,
 "nbformat_minor": 2
}
