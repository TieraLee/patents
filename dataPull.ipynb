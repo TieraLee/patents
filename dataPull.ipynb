{
 "cells": [
  {
   "cell_type": "markdown",
   "metadata": {},
   "source": [
    "# Using the PatentsView API to pull data about design patents granted by the USPTO applied for from 1980-2015\n",
    "\n",
    "Associated data fields:\n",
    "1. patent number\n",
    "2. application data\n",
    "3. USPC class at the subclass level"
   ]
  },
  {
   "cell_type": "code",
   "execution_count": 1,
   "metadata": {},
   "outputs": [],
   "source": [
    "import requests\n",
    "import json\n",
    "import pandas as pd"
   ]
  },
  {
   "cell_type": "code",
   "execution_count": 2,
   "metadata": {},
   "outputs": [],
   "source": [
    "def clean_dataframe(df):\n",
    "    \"\"\" Cleans dataframe created by PatentsView JSON object\n",
    "        \n",
    "        Args:\n",
    "        df(dataframe): the datafame to be cleaned\n",
    "        \n",
    "        Returns:\n",
    "        df(dataframe): the proccessed dataframe\n",
    "    \"\"\"\n",
    "    \n",
    "    df = df[df.patent_number.str.contains('D')]\n",
    "\n",
    "    df['app_date'] = df['applications'].astype(str).str.extract('(\\d{4}-\\d{2}-\\d{2})')\n",
    "    pd.to_datetime(df.app_date, errors='coerce')\n",
    "    df.drop('applications', axis=1, inplace=True)\n",
    "\n",
    "    df['uspcs'] = df['uspcs'].astype(str).str.findall('(D\\d{2}\\/\\d{3}|\\d{3}\\/\\d{3})')\n",
    "    holder = df.apply(lambda x: pd.Series(x['uspcs']),axis=1).stack().reset_index(level=1, drop=True)\n",
    "    holder.name = 'class'\n",
    "    df = df.drop('uspcs', axis=1).join(holder)\n",
    "    df['mainclass'] = df['class'].str[0:3]\n",
    "    return df\n"
   ]
  },
  {
   "cell_type": "code",
   "execution_count": 3,
   "metadata": {},
   "outputs": [],
   "source": [
    "# building the query dynamically\n",
    "base_url = \"http://www.patentsview.org/api/patents/query?\"\n",
    "field_list = \"&f=[\\\"patent_number\\\",\\\"app_date\\\",\\\"uspc_subclass_id\\\"]\"\n",
    "\n",
    "master_df = pd.DataFrame()"
   ]
  },
  {
   "cell_type": "code",
   "execution_count": 4,
   "metadata": {
    "scrolled": true
   },
   "outputs": [
    {
     "name": "stdout",
     "output_type": "stream",
     "text": [
      "1980 - 1 - 5034\n"
     ]
    },
    {
     "name": "stderr",
     "output_type": "stream",
     "text": [
      "/home/tiera/anaconda3/lib/python3.6/site-packages/ipykernel_launcher.py:13: FutureWarning: currently extract(expand=None) means expand=False (return Index/Series/DataFrame) but in a future version of pandas this will be changed to expand=True (return DataFrame)\n",
      "  del sys.path[0]\n"
     ]
    },
    {
     "name": "stdout",
     "output_type": "stream",
     "text": [
      "1981 - 1 - 4807\n"
     ]
    },
    {
     "name": "stderr",
     "output_type": "stream",
     "text": [
      "/home/tiera/anaconda3/lib/python3.6/site-packages/ipykernel_launcher.py:13: SettingWithCopyWarning: \n",
      "A value is trying to be set on a copy of a slice from a DataFrame.\n",
      "Try using .loc[row_indexer,col_indexer] = value instead\n",
      "\n",
      "See the caveats in the documentation: http://pandas.pydata.org/pandas-docs/stable/indexing.html#indexing-view-versus-copy\n",
      "  del sys.path[0]\n",
      "/home/tiera/anaconda3/lib/python3.6/site-packages/ipykernel_launcher.py:15: SettingWithCopyWarning: \n",
      "A value is trying to be set on a copy of a slice from a DataFrame\n",
      "\n",
      "See the caveats in the documentation: http://pandas.pydata.org/pandas-docs/stable/indexing.html#indexing-view-versus-copy\n",
      "  from ipykernel import kernelapp as app\n",
      "/home/tiera/anaconda3/lib/python3.6/site-packages/ipykernel_launcher.py:17: SettingWithCopyWarning: \n",
      "A value is trying to be set on a copy of a slice from a DataFrame.\n",
      "Try using .loc[row_indexer,col_indexer] = value instead\n",
      "\n",
      "See the caveats in the documentation: http://pandas.pydata.org/pandas-docs/stable/indexing.html#indexing-view-versus-copy\n"
     ]
    },
    {
     "name": "stdout",
     "output_type": "stream",
     "text": [
      "1982 - 1 - 5216\n",
      "1983 - 1 - 5495\n",
      "1984 - 1 - 6020\n",
      "1985 - 1 - 6506\n",
      "1986 - 1 - 6337\n",
      "1987 - 1 - 6950\n",
      "1988 - 1 - 7409\n",
      "1989 - 1 - 7581\n",
      "1990 - 1 - 8388\n",
      "1991 - 1 - 8533\n",
      "1992 - 1 - 8722\n",
      "1993 - 1 - 9296\n",
      "1994 - 1 - 10000\n",
      "1994 - 2 - 932\n",
      "1995 - 1 - 10000\n",
      "1995 - 2 - 1779\n",
      "1996 - 1 - 10000\n",
      "1996 - 2 - 2402\n",
      "1997 - 1 - 10000\n",
      "1997 - 2 - 3494\n",
      "1998 - 1 - 10000\n",
      "1998 - 2 - 4274\n",
      "1999 - 1 - 10000\n",
      "1999 - 2 - 4990\n",
      "2000 - 1 - 10000\n",
      "2000 - 2 - 5837\n",
      "2001 - 1 - 10000\n",
      "2001 - 2 - 5589\n",
      "2002 - 1 - 10000\n",
      "2002 - 2 - 7202\n",
      "2003 - 1 - 10000\n",
      "2003 - 2 - 8665\n",
      "2004 - 1 - 10000\n",
      "2004 - 2 - 9673\n",
      "2005 - 1 - 10000\n",
      "2005 - 2 - 10000\n",
      "2005 - 3 - 966\n",
      "2006 - 1 - 10000\n",
      "2006 - 2 - 10000\n",
      "2006 - 3 - 471\n",
      "2007 - 1 - 10000\n",
      "2007 - 2 - 10000\n",
      "2007 - 3 - 1711\n",
      "2008 - 1 - 10000\n",
      "2008 - 2 - 10000\n",
      "2008 - 3 - 1459\n",
      "2009 - 1 - 10000\n",
      "2009 - 2 - 10000\n",
      "2009 - 3 - 863\n",
      "2010 - 1 - 10000\n",
      "2010 - 2 - 10000\n",
      "2010 - 3 - 3437\n",
      "2011 - 1 - 10000\n",
      "2011 - 2 - 10000\n",
      "2011 - 3 - 4647\n",
      "2012 - 1 - 10000\n",
      "2012 - 2 - 10000\n",
      "2012 - 3 - 6286\n",
      "2013 - 1 - 10000\n",
      "2013 - 2 - 10000\n",
      "2013 - 3 - 8788\n",
      "2014 - 1 - 10000\n",
      "2014 - 2 - 10000\n",
      "2014 - 3 - 8299\n",
      "2015 - 1 - 10000\n",
      "2015 - 2 - 10000\n",
      "2015 - 3 - 7454\n"
     ]
    }
   ],
   "source": [
    "#Due to the limits of the amount of results the API can return, query must be performed in loop by date and page\n",
    "\n",
    "for year in range(1980,2016):\n",
    "#     print(year)\n",
    "    page = 1\n",
    "    more_patents = True\n",
    "    \n",
    "    while more_patents:\n",
    "        \n",
    "        query = \"q={{\\\"_and\\\":[{{\\\"patent_type\\\":\\\"Design\\\"}},{{\\\"_gte\\\":{{\\\"app_date\\\":\\\"{0}-01-01\\\"}}}},{{\\\"_lte\\\":{{\\\"app_date\\\":\\\"{0}-12-31\\\"}}}}]}}\".format(year)\n",
    "        options = \"&o={{\\\"per_page\\\":10000,\\\"page\\\":{}}}\".format(page)\n",
    "\n",
    "        full_url = base_url + query + field_list + options\n",
    "        r = requests.get(full_url)\n",
    "        data = r.json()\n",
    "        print(year,\"-\",page,\"-\",data['count'])\n",
    "\n",
    "        df = pd.io.json.json_normalize(data['patents'])\n",
    "        cleaned = clean_dataframe(df)\n",
    "        master_df = pd.concat([master_df, cleaned], ignore_index=True)\n",
    "\n",
    "        \n",
    "        # decide if to continue to next year or next page\n",
    "        if data['count'] < 10000:\n",
    "            more_patents = False\n",
    "        else:\n",
    "            page += 1\n",
    "            \n",
    "      \n"
   ]
  },
  {
   "cell_type": "code",
   "execution_count": 7,
   "metadata": {
    "scrolled": false
   },
   "outputs": [
    {
     "data": {
      "text/plain": [
       "patent_number         0\n",
       "app_date              0\n",
       "class            110356\n",
       "mainclass        110356\n",
       "dtype: int64"
      ]
     },
     "execution_count": 7,
     "metadata": {},
     "output_type": "execute_result"
    }
   ],
   "source": [
    "master_df.isnull().sum()"
   ]
  },
  {
   "cell_type": "code",
   "execution_count": 9,
   "metadata": {
    "scrolled": true
   },
   "outputs": [],
   "source": [
    "master_df.dropna(inplace=True) # removing data poins where the classification data is null, since its not useful.\n",
    "#most of the data null data is from 2015, so this might improve with time.\n",
    "master_df.to_csv('USDesign.csv',index=False)"
   ]
  },
  {
   "cell_type": "code",
   "execution_count": null,
   "metadata": {},
   "outputs": [],
   "source": []
  }
 ],
 "metadata": {
  "kernelspec": {
   "display_name": "Python 3",
   "language": "python",
   "name": "python3"
  },
  "language_info": {
   "codemirror_mode": {
    "name": "ipython",
    "version": 3
   },
   "file_extension": ".py",
   "mimetype": "text/x-python",
   "name": "python",
   "nbconvert_exporter": "python",
   "pygments_lexer": "ipython3",
   "version": "3.6.4"
  }
 },
 "nbformat": 4,
 "nbformat_minor": 2
}
