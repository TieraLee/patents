{
 "cells": [
  {
   "cell_type": "code",
   "execution_count": 1,
   "metadata": {},
   "outputs": [],
   "source": [
    "import requests"
   ]
  },
  {
   "cell_type": "code",
   "execution_count": 64,
   "metadata": {},
   "outputs": [],
   "source": [
    "r = requests.get('http://www.patentsview.org/api/patents/query?q={\"patent_type\":\"design\"}&f=[\"patent_number\",\"patent_title\"]')"
   ]
  },
  {
   "cell_type": "code",
   "execution_count": 65,
   "metadata": {
    "scrolled": true
   },
   "outputs": [
    {
     "data": {
      "text/plain": [
       "{'count': 25,\n",
       " 'patents': [{'patent_number': '4198236',\n",
       "   'patent_title': 'Method for preparation of lithographic printing plate having addition polymerized areas and binder areas'},\n",
       "  {'patent_number': '4366172',\n",
       "   'patent_title': '4-Amino-cyclohexanols, their pharmaceutical compositions and methods of use'},\n",
       "  {'patent_number': '4371816',\n",
       "   'patent_title': 'Control circuit for an ultrasonic dental scaler'},\n",
       "  {'patent_number': '4419147',\n",
       "   'patent_title': 'Phosphating process of metal surface'},\n",
       "  {'patent_number': '4451875',\n",
       "   'patent_title': 'Poster panel lighting fixture'},\n",
       "  {'patent_number': '4461003',\n",
       "   'patent_title': 'Circuit arrangement for preventing a microcomputer from malfunctioning'},\n",
       "  {'patent_number': '4486659', 'patent_title': 'Emisson-electron microscope'},\n",
       "  {'patent_number': '4544582',\n",
       "   'patent_title': 'Primer compositions for improving adhesion of abrasion resistant silicone coatings to plastic surfaces'},\n",
       "  {'patent_number': '4547613',\n",
       "   'patent_title': 'Process for converting olefins to high viscosity index lubricants'},\n",
       "  {'patent_number': '4568335',\n",
       "   'patent_title': 'Device for the controlled infusion of medications'},\n",
       "  {'patent_number': '4583454', 'patent_title': 'Side air flow food processor'},\n",
       "  {'patent_number': '4589463', 'patent_title': 'Expandable volume lavatory'},\n",
       "  {'patent_number': '4594660', 'patent_title': 'Collector'},\n",
       "  {'patent_number': '4600537',\n",
       "   'patent_title': 'Preparation of (.+-.) 4-demethoxy-6 (and-11-)-deoxydaunomycinone'},\n",
       "  {'patent_number': '4653445', 'patent_title': 'Engine protection system'},\n",
       "  {'patent_number': 'D242583', 'patent_title': 'Sports shoe'},\n",
       "  {'patent_number': 'D242584', 'patent_title': 'Combined brush and sponge'},\n",
       "  {'patent_number': 'D242585', 'patent_title': 'Combined brush and sponge'},\n",
       "  {'patent_number': 'D242586', 'patent_title': 'Combined brush and sponge'},\n",
       "  {'patent_number': 'D242587', 'patent_title': 'Desk'},\n",
       "  {'patent_number': 'D242588', 'patent_title': 'Pivoting soap tray'},\n",
       "  {'patent_number': 'D242589', 'patent_title': 'Toiletries dispenser'},\n",
       "  {'patent_number': 'D242590', 'patent_title': 'Desk'},\n",
       "  {'patent_number': 'D242591',\n",
       "   'patent_title': 'Rack for pocketbooks, magazines and the like'},\n",
       "  {'patent_number': 'D242592', 'patent_title': 'Base for swivel chair'}],\n",
       " 'total_patent_count': 100000}"
      ]
     },
     "execution_count": 65,
     "metadata": {},
     "output_type": "execute_result"
    }
   ],
   "source": [
    "r.json()"
   ]
  },
  {
   "cell_type": "code",
   "execution_count": null,
   "metadata": {},
   "outputs": [],
   "source": []
  }
 ],
 "metadata": {
  "kernelspec": {
   "display_name": "Python 3",
   "language": "python",
   "name": "python3"
  },
  "language_info": {
   "codemirror_mode": {
    "name": "ipython",
    "version": 3
   },
   "file_extension": ".py",
   "mimetype": "text/x-python",
   "name": "python",
   "nbconvert_exporter": "python",
   "pygments_lexer": "ipython3",
   "version": "3.6.4"
  }
 },
 "nbformat": 4,
 "nbformat_minor": 2
}
