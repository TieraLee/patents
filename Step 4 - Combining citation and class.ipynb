{
 "cells": [
  {
   "cell_type": "code",
   "execution_count": 1,
   "metadata": {},
   "outputs": [],
   "source": [
    "import pandas as pd\n",
    "import numpy as np\n",
    "\n",
    "import design_class_dictionary"
   ]
  },
  {
   "cell_type": "code",
   "execution_count": 2,
   "metadata": {},
   "outputs": [],
   "source": [
    "#import relevant data\n",
    "# master = pd.read_csv('data/master.csv')\n",
    "master = pd.read_csv('data/master_1980_2013.csv')\n",
    "citations = pd.read_csv('data/citations.csv', dtype={'patent_number':str})\n",
    "focal_citation_link = pd.read_csv('data/citations_patents_level.csv')\n",
    "focal_class = pd.read_csv('data/uspcs_level.csv')"
   ]
  },
  {
   "cell_type": "code",
   "execution_count": 3,
   "metadata": {
    "scrolled": true
   },
   "outputs": [
    {
     "data": {
      "text/html": [
       "<div>\n",
       "<style scoped>\n",
       "    .dataframe tbody tr th:only-of-type {\n",
       "        vertical-align: middle;\n",
       "    }\n",
       "\n",
       "    .dataframe tbody tr th {\n",
       "        vertical-align: top;\n",
       "    }\n",
       "\n",
       "    .dataframe thead th {\n",
       "        text-align: right;\n",
       "    }\n",
       "</style>\n",
       "<table border=\"1\" class=\"dataframe\">\n",
       "  <thead>\n",
       "    <tr style=\"text-align: right;\">\n",
       "      <th></th>\n",
       "      <th>patent_number</th>\n",
       "      <th>grant_year</th>\n",
       "      <th>app_year</th>\n",
       "      <th>num_inventors</th>\n",
       "      <th>us_inventor</th>\n",
       "      <th>cite_foreign_patent</th>\n",
       "      <th>is_missing</th>\n",
       "      <th>num_design_cited</th>\n",
       "      <th>num_utility_cited</th>\n",
       "      <th>non-pat_refs</th>\n",
       "      <th>num_figures</th>\n",
       "      <th>num_assignees</th>\n",
       "      <th>missing_data</th>\n",
       "      <th>family_size</th>\n",
       "      <th>country_transformed</th>\n",
       "      <th>priority_date</th>\n",
       "      <th>origin</th>\n",
       "    </tr>\n",
       "  </thead>\n",
       "  <tbody>\n",
       "    <tr>\n",
       "      <th>0</th>\n",
       "      <td>D257752</td>\n",
       "      <td>1981</td>\n",
       "      <td>1980</td>\n",
       "      <td>1</td>\n",
       "      <td>1</td>\n",
       "      <td>0</td>\n",
       "      <td>1</td>\n",
       "      <td>1</td>\n",
       "      <td>2</td>\n",
       "      <td>1</td>\n",
       "      <td>6</td>\n",
       "      <td>1</td>\n",
       "      <td>0</td>\n",
       "      <td>1</td>\n",
       "      <td>US</td>\n",
       "      <td>1980.0</td>\n",
       "      <td>0</td>\n",
       "    </tr>\n",
       "    <tr>\n",
       "      <th>1</th>\n",
       "      <td>D257924</td>\n",
       "      <td>1981</td>\n",
       "      <td>1980</td>\n",
       "      <td>1</td>\n",
       "      <td>1</td>\n",
       "      <td>0</td>\n",
       "      <td>1</td>\n",
       "      <td>1</td>\n",
       "      <td>2</td>\n",
       "      <td>1</td>\n",
       "      <td>6</td>\n",
       "      <td>1</td>\n",
       "      <td>0</td>\n",
       "      <td>1</td>\n",
       "      <td>US</td>\n",
       "      <td>1980.0</td>\n",
       "      <td>0</td>\n",
       "    </tr>\n",
       "    <tr>\n",
       "      <th>2</th>\n",
       "      <td>D258382</td>\n",
       "      <td>1981</td>\n",
       "      <td>1980</td>\n",
       "      <td>2</td>\n",
       "      <td>1</td>\n",
       "      <td>0</td>\n",
       "      <td>1</td>\n",
       "      <td>2</td>\n",
       "      <td>1</td>\n",
       "      <td>0</td>\n",
       "      <td>5</td>\n",
       "      <td>1</td>\n",
       "      <td>0</td>\n",
       "      <td>1</td>\n",
       "      <td>US</td>\n",
       "      <td>1980.0</td>\n",
       "      <td>0</td>\n",
       "    </tr>\n",
       "    <tr>\n",
       "      <th>3</th>\n",
       "      <td>D258383</td>\n",
       "      <td>1981</td>\n",
       "      <td>1980</td>\n",
       "      <td>2</td>\n",
       "      <td>1</td>\n",
       "      <td>0</td>\n",
       "      <td>1</td>\n",
       "      <td>2</td>\n",
       "      <td>1</td>\n",
       "      <td>0</td>\n",
       "      <td>5</td>\n",
       "      <td>1</td>\n",
       "      <td>0</td>\n",
       "      <td>1</td>\n",
       "      <td>US</td>\n",
       "      <td>1980.0</td>\n",
       "      <td>0</td>\n",
       "    </tr>\n",
       "    <tr>\n",
       "      <th>4</th>\n",
       "      <td>D258678</td>\n",
       "      <td>1981</td>\n",
       "      <td>1980</td>\n",
       "      <td>2</td>\n",
       "      <td>1</td>\n",
       "      <td>0</td>\n",
       "      <td>1</td>\n",
       "      <td>2</td>\n",
       "      <td>1</td>\n",
       "      <td>0</td>\n",
       "      <td>5</td>\n",
       "      <td>1</td>\n",
       "      <td>0</td>\n",
       "      <td>1</td>\n",
       "      <td>US</td>\n",
       "      <td>1980.0</td>\n",
       "      <td>0</td>\n",
       "    </tr>\n",
       "  </tbody>\n",
       "</table>\n",
       "</div>"
      ],
      "text/plain": [
       "  patent_number  grant_year  app_year  num_inventors  us_inventor  \\\n",
       "0       D257752        1981      1980              1            1   \n",
       "1       D257924        1981      1980              1            1   \n",
       "2       D258382        1981      1980              2            1   \n",
       "3       D258383        1981      1980              2            1   \n",
       "4       D258678        1981      1980              2            1   \n",
       "\n",
       "   cite_foreign_patent  is_missing  num_design_cited  num_utility_cited  \\\n",
       "0                    0           1                 1                  2   \n",
       "1                    0           1                 1                  2   \n",
       "2                    0           1                 2                  1   \n",
       "3                    0           1                 2                  1   \n",
       "4                    0           1                 2                  1   \n",
       "\n",
       "   non-pat_refs  num_figures  num_assignees  missing_data family_size  \\\n",
       "0             1            6              1             0           1   \n",
       "1             1            6              1             0           1   \n",
       "2             0            5              1             0           1   \n",
       "3             0            5              1             0           1   \n",
       "4             0            5              1             0           1   \n",
       "\n",
       "  country_transformed  priority_date  origin  \n",
       "0                  US         1980.0       0  \n",
       "1                  US         1980.0       0  \n",
       "2                  US         1980.0       0  \n",
       "3                  US         1980.0       0  \n",
       "4                  US         1980.0       0  "
      ]
     },
     "execution_count": 3,
     "metadata": {},
     "output_type": "execute_result"
    }
   ],
   "source": [
    "master.head()"
   ]
  },
  {
   "cell_type": "code",
   "execution_count": 4,
   "metadata": {
    "scrolled": true
   },
   "outputs": [
    {
     "data": {
      "text/html": [
       "<div>\n",
       "<style scoped>\n",
       "    .dataframe tbody tr th:only-of-type {\n",
       "        vertical-align: middle;\n",
       "    }\n",
       "\n",
       "    .dataframe tbody tr th {\n",
       "        vertical-align: top;\n",
       "    }\n",
       "\n",
       "    .dataframe thead th {\n",
       "        text-align: right;\n",
       "    }\n",
       "</style>\n",
       "<table border=\"1\" class=\"dataframe\">\n",
       "  <thead>\n",
       "    <tr style=\"text-align: right;\">\n",
       "      <th></th>\n",
       "      <th>patent_number</th>\n",
       "      <th>priority_date</th>\n",
       "    </tr>\n",
       "  </thead>\n",
       "  <tbody>\n",
       "    <tr>\n",
       "      <th>0</th>\n",
       "      <td>D257752</td>\n",
       "      <td>1980.0</td>\n",
       "    </tr>\n",
       "    <tr>\n",
       "      <th>1</th>\n",
       "      <td>D257924</td>\n",
       "      <td>1980.0</td>\n",
       "    </tr>\n",
       "    <tr>\n",
       "      <th>2</th>\n",
       "      <td>D258382</td>\n",
       "      <td>1980.0</td>\n",
       "    </tr>\n",
       "    <tr>\n",
       "      <th>3</th>\n",
       "      <td>D258383</td>\n",
       "      <td>1980.0</td>\n",
       "    </tr>\n",
       "    <tr>\n",
       "      <th>4</th>\n",
       "      <td>D258678</td>\n",
       "      <td>1980.0</td>\n",
       "    </tr>\n",
       "  </tbody>\n",
       "</table>\n",
       "</div>"
      ],
      "text/plain": [
       "  patent_number  priority_date\n",
       "0       D257752         1980.0\n",
       "1       D257924         1980.0\n",
       "2       D258382         1980.0\n",
       "3       D258383         1980.0\n",
       "4       D258678         1980.0"
      ]
     },
     "execution_count": 4,
     "metadata": {},
     "output_type": "execute_result"
    }
   ],
   "source": [
    "focal = master[['patent_number','priority_date']]\n",
    "focal.head()"
   ]
  },
  {
   "cell_type": "code",
   "execution_count": 5,
   "metadata": {},
   "outputs": [
    {
     "data": {
      "text/html": [
       "<div>\n",
       "<style scoped>\n",
       "    .dataframe tbody tr th:only-of-type {\n",
       "        vertical-align: middle;\n",
       "    }\n",
       "\n",
       "    .dataframe tbody tr th {\n",
       "        vertical-align: top;\n",
       "    }\n",
       "\n",
       "    .dataframe thead th {\n",
       "        text-align: right;\n",
       "    }\n",
       "</style>\n",
       "<table border=\"1\" class=\"dataframe\">\n",
       "  <thead>\n",
       "    <tr style=\"text-align: right;\">\n",
       "      <th></th>\n",
       "      <th>uspc_mainclass_id</th>\n",
       "      <th>uspc_subclass_id</th>\n",
       "      <th>patent_number</th>\n",
       "    </tr>\n",
       "  </thead>\n",
       "  <tbody>\n",
       "    <tr>\n",
       "      <th>0</th>\n",
       "      <td>248</td>\n",
       "      <td>248/423</td>\n",
       "      <td>3930272</td>\n",
       "    </tr>\n",
       "    <tr>\n",
       "      <th>1</th>\n",
       "      <td>403</td>\n",
       "      <td>403/107</td>\n",
       "      <td>3930272</td>\n",
       "    </tr>\n",
       "    <tr>\n",
       "      <th>2</th>\n",
       "      <td>5</td>\n",
       "      <td>5/11</td>\n",
       "      <td>3930272</td>\n",
       "    </tr>\n",
       "    <tr>\n",
       "      <th>3</th>\n",
       "      <td>5</td>\n",
       "      <td>5/100</td>\n",
       "      <td>3930272</td>\n",
       "    </tr>\n",
       "    <tr>\n",
       "      <th>4</th>\n",
       "      <td>47</td>\n",
       "      <td>47/58.1R</td>\n",
       "      <td>3930335</td>\n",
       "    </tr>\n",
       "  </tbody>\n",
       "</table>\n",
       "</div>"
      ],
      "text/plain": [
       "  uspc_mainclass_id uspc_subclass_id patent_number\n",
       "0               248          248/423       3930272\n",
       "1               403          403/107       3930272\n",
       "2                 5             5/11       3930272\n",
       "3                 5            5/100       3930272\n",
       "4                47         47/58.1R       3930335"
      ]
     },
     "execution_count": 5,
     "metadata": {},
     "output_type": "execute_result"
    }
   ],
   "source": [
    "citations.head()"
   ]
  },
  {
   "cell_type": "code",
   "execution_count": 6,
   "metadata": {},
   "outputs": [
    {
     "data": {
      "text/html": [
       "<div>\n",
       "<style scoped>\n",
       "    .dataframe tbody tr th:only-of-type {\n",
       "        vertical-align: middle;\n",
       "    }\n",
       "\n",
       "    .dataframe tbody tr th {\n",
       "        vertical-align: top;\n",
       "    }\n",
       "\n",
       "    .dataframe thead th {\n",
       "        text-align: right;\n",
       "    }\n",
       "</style>\n",
       "<table border=\"1\" class=\"dataframe\">\n",
       "  <thead>\n",
       "    <tr style=\"text-align: right;\">\n",
       "      <th></th>\n",
       "      <th>cited_patent_number</th>\n",
       "      <th>patent_number</th>\n",
       "    </tr>\n",
       "  </thead>\n",
       "  <tbody>\n",
       "    <tr>\n",
       "      <th>0</th>\n",
       "      <td>4162014</td>\n",
       "      <td>D257752</td>\n",
       "    </tr>\n",
       "    <tr>\n",
       "      <th>1</th>\n",
       "      <td>4162014</td>\n",
       "      <td>D257924</td>\n",
       "    </tr>\n",
       "    <tr>\n",
       "      <th>2</th>\n",
       "      <td>D253842</td>\n",
       "      <td>D258382</td>\n",
       "    </tr>\n",
       "    <tr>\n",
       "      <th>3</th>\n",
       "      <td>D253842</td>\n",
       "      <td>D258383</td>\n",
       "    </tr>\n",
       "    <tr>\n",
       "      <th>4</th>\n",
       "      <td>D253842</td>\n",
       "      <td>D258678</td>\n",
       "    </tr>\n",
       "  </tbody>\n",
       "</table>\n",
       "</div>"
      ],
      "text/plain": [
       "  cited_patent_number patent_number\n",
       "0             4162014       D257752\n",
       "1             4162014       D257924\n",
       "2             D253842       D258382\n",
       "3             D253842       D258383\n",
       "4             D253842       D258678"
      ]
     },
     "execution_count": 6,
     "metadata": {},
     "output_type": "execute_result"
    }
   ],
   "source": [
    "focal_citation_link.head()"
   ]
  },
  {
   "cell_type": "code",
   "execution_count": 7,
   "metadata": {},
   "outputs": [
    {
     "data": {
      "text/plain": [
       "cited_patent_number    0\n",
       "patent_number          0\n",
       "dtype: int64"
      ]
     },
     "execution_count": 7,
     "metadata": {},
     "output_type": "execute_result"
    }
   ],
   "source": [
    "focal_citation_link.isnull().sum()"
   ]
  },
  {
   "cell_type": "code",
   "execution_count": 8,
   "metadata": {
    "scrolled": true
   },
   "outputs": [
    {
     "data": {
      "text/html": [
       "<div>\n",
       "<style scoped>\n",
       "    .dataframe tbody tr th:only-of-type {\n",
       "        vertical-align: middle;\n",
       "    }\n",
       "\n",
       "    .dataframe tbody tr th {\n",
       "        vertical-align: top;\n",
       "    }\n",
       "\n",
       "    .dataframe thead th {\n",
       "        text-align: right;\n",
       "    }\n",
       "</style>\n",
       "<table border=\"1\" class=\"dataframe\">\n",
       "  <thead>\n",
       "    <tr style=\"text-align: right;\">\n",
       "      <th></th>\n",
       "      <th>patent_number</th>\n",
       "      <th>priority_date</th>\n",
       "      <th>cited_patent_number</th>\n",
       "    </tr>\n",
       "  </thead>\n",
       "  <tbody>\n",
       "    <tr>\n",
       "      <th>0</th>\n",
       "      <td>D257752</td>\n",
       "      <td>1980.0</td>\n",
       "      <td>4162014</td>\n",
       "    </tr>\n",
       "    <tr>\n",
       "      <th>1</th>\n",
       "      <td>D257924</td>\n",
       "      <td>1980.0</td>\n",
       "      <td>4162014</td>\n",
       "    </tr>\n",
       "    <tr>\n",
       "      <th>2</th>\n",
       "      <td>D258382</td>\n",
       "      <td>1980.0</td>\n",
       "      <td>D253842</td>\n",
       "    </tr>\n",
       "    <tr>\n",
       "      <th>3</th>\n",
       "      <td>D258383</td>\n",
       "      <td>1980.0</td>\n",
       "      <td>D253842</td>\n",
       "    </tr>\n",
       "    <tr>\n",
       "      <th>4</th>\n",
       "      <td>D258678</td>\n",
       "      <td>1980.0</td>\n",
       "      <td>D253842</td>\n",
       "    </tr>\n",
       "  </tbody>\n",
       "</table>\n",
       "</div>"
      ],
      "text/plain": [
       "  patent_number  priority_date cited_patent_number\n",
       "0       D257752         1980.0             4162014\n",
       "1       D257924         1980.0             4162014\n",
       "2       D258382         1980.0             D253842\n",
       "3       D258383         1980.0             D253842\n",
       "4       D258678         1980.0             D253842"
      ]
     },
     "execution_count": 8,
     "metadata": {},
     "output_type": "execute_result"
    }
   ],
   "source": [
    "focal_citation = pd.merge(focal, focal_citation_link, on='patent_number', how='left')\n",
    "focal_citation.head()"
   ]
  },
  {
   "cell_type": "code",
   "execution_count": 9,
   "metadata": {},
   "outputs": [
    {
     "data": {
      "text/plain": [
       "437678"
      ]
     },
     "execution_count": 9,
     "metadata": {},
     "output_type": "execute_result"
    }
   ],
   "source": [
    "focal_citation['patent_number'].nunique()"
   ]
  },
  {
   "cell_type": "code",
   "execution_count": 10,
   "metadata": {},
   "outputs": [
    {
     "data": {
      "text/plain": [
       "patent_number          0\n",
       "priority_date          0\n",
       "cited_patent_number    0\n",
       "dtype: int64"
      ]
     },
     "execution_count": 10,
     "metadata": {},
     "output_type": "execute_result"
    }
   ],
   "source": [
    "focal_citation.isnull().sum()"
   ]
  },
  {
   "cell_type": "markdown",
   "metadata": {},
   "source": [
    "Let's see what is null and why"
   ]
  },
  {
   "cell_type": "code",
   "execution_count": 11,
   "metadata": {
    "scrolled": true
   },
   "outputs": [
    {
     "data": {
      "text/html": [
       "<div>\n",
       "<style scoped>\n",
       "    .dataframe tbody tr th:only-of-type {\n",
       "        vertical-align: middle;\n",
       "    }\n",
       "\n",
       "    .dataframe tbody tr th {\n",
       "        vertical-align: top;\n",
       "    }\n",
       "\n",
       "    .dataframe thead th {\n",
       "        text-align: right;\n",
       "    }\n",
       "</style>\n",
       "<table border=\"1\" class=\"dataframe\">\n",
       "  <thead>\n",
       "    <tr style=\"text-align: right;\">\n",
       "      <th></th>\n",
       "      <th>patent_number</th>\n",
       "      <th>priority_date</th>\n",
       "      <th>cited_patent_number</th>\n",
       "    </tr>\n",
       "  </thead>\n",
       "  <tbody>\n",
       "  </tbody>\n",
       "</table>\n",
       "</div>"
      ],
      "text/plain": [
       "Empty DataFrame\n",
       "Columns: [patent_number, priority_date, cited_patent_number]\n",
       "Index: []"
      ]
     },
     "execution_count": 11,
     "metadata": {},
     "output_type": "execute_result"
    }
   ],
   "source": [
    "focal_citation.loc[focal_citation['cited_patent_number'].isnull()]"
   ]
  },
  {
   "cell_type": "markdown",
   "metadata": {},
   "source": [
    "After viewing a sample, these patents either don't make references, rare, or all of their references are pre 1976, more common. Since they are not useful for analysis, I will drop them"
   ]
  },
  {
   "cell_type": "code",
   "execution_count": 12,
   "metadata": {},
   "outputs": [
    {
     "data": {
      "text/plain": [
       "D337569    0.000071\n",
       "D341848    0.000067\n",
       "D504889    0.000063\n",
       "D561358    0.000063\n",
       "D292182    0.000061\n",
       "Name: cited_patent_number, dtype: float64"
      ]
     },
     "execution_count": 12,
     "metadata": {},
     "output_type": "execute_result"
    }
   ],
   "source": [
    "# percentage of patents affected\n",
    "focal_citation['cited_patent_number'].value_counts(normalize=True, dropna=False).head()"
   ]
  },
  {
   "cell_type": "markdown",
   "metadata": {},
   "source": [
    "Less than 1 percent of patents are affected by this"
   ]
  },
  {
   "cell_type": "code",
   "execution_count": 13,
   "metadata": {},
   "outputs": [
    {
     "data": {
      "text/plain": [
       "437678"
      ]
     },
     "execution_count": 13,
     "metadata": {},
     "output_type": "execute_result"
    }
   ],
   "source": [
    "focal_citation.dropna(inplace=True)\n",
    "focal_citation.patent_number.nunique()"
   ]
  },
  {
   "cell_type": "markdown",
   "metadata": {},
   "source": [
    "# current number of patents represened: 507,127"
   ]
  },
  {
   "cell_type": "code",
   "execution_count": 14,
   "metadata": {},
   "outputs": [
    {
     "data": {
      "text/plain": [
       "437678"
      ]
     },
     "execution_count": 14,
     "metadata": {},
     "output_type": "execute_result"
    }
   ],
   "source": [
    "citations.rename(index=str, columns={'patent_number':'cited_patent_number'}, inplace=True)\n",
    "focal_citation_citeclass = pd.merge(focal_citation, citations, on='cited_patent_number', how='left')\n",
    "focal_citation_citeclass.patent_number.nunique()"
   ]
  },
  {
   "cell_type": "code",
   "execution_count": 15,
   "metadata": {},
   "outputs": [
    {
     "data": {
      "text/html": [
       "<div>\n",
       "<style scoped>\n",
       "    .dataframe tbody tr th:only-of-type {\n",
       "        vertical-align: middle;\n",
       "    }\n",
       "\n",
       "    .dataframe tbody tr th {\n",
       "        vertical-align: top;\n",
       "    }\n",
       "\n",
       "    .dataframe thead th {\n",
       "        text-align: right;\n",
       "    }\n",
       "</style>\n",
       "<table border=\"1\" class=\"dataframe\">\n",
       "  <thead>\n",
       "    <tr style=\"text-align: right;\">\n",
       "      <th></th>\n",
       "      <th>patent_number</th>\n",
       "      <th>priority_date</th>\n",
       "      <th>cited_patent_number</th>\n",
       "      <th>uspc_mainclass_id</th>\n",
       "      <th>uspc_subclass_id</th>\n",
       "    </tr>\n",
       "  </thead>\n",
       "  <tbody>\n",
       "    <tr>\n",
       "      <th>0</th>\n",
       "      <td>D257752</td>\n",
       "      <td>1980.0</td>\n",
       "      <td>4162014</td>\n",
       "      <td>211</td>\n",
       "      <td>211/50</td>\n",
       "    </tr>\n",
       "    <tr>\n",
       "      <th>1</th>\n",
       "      <td>D257752</td>\n",
       "      <td>1980.0</td>\n",
       "      <td>4162014</td>\n",
       "      <td>211</td>\n",
       "      <td>211/55</td>\n",
       "    </tr>\n",
       "    <tr>\n",
       "      <th>2</th>\n",
       "      <td>D257752</td>\n",
       "      <td>1980.0</td>\n",
       "      <td>4162014</td>\n",
       "      <td>211</td>\n",
       "      <td>211/126.1</td>\n",
       "    </tr>\n",
       "    <tr>\n",
       "      <th>3</th>\n",
       "      <td>D257924</td>\n",
       "      <td>1980.0</td>\n",
       "      <td>4162014</td>\n",
       "      <td>211</td>\n",
       "      <td>211/50</td>\n",
       "    </tr>\n",
       "    <tr>\n",
       "      <th>4</th>\n",
       "      <td>D257924</td>\n",
       "      <td>1980.0</td>\n",
       "      <td>4162014</td>\n",
       "      <td>211</td>\n",
       "      <td>211/55</td>\n",
       "    </tr>\n",
       "  </tbody>\n",
       "</table>\n",
       "</div>"
      ],
      "text/plain": [
       "  patent_number  priority_date cited_patent_number uspc_mainclass_id  \\\n",
       "0       D257752         1980.0             4162014               211   \n",
       "1       D257752         1980.0             4162014               211   \n",
       "2       D257752         1980.0             4162014               211   \n",
       "3       D257924         1980.0             4162014               211   \n",
       "4       D257924         1980.0             4162014               211   \n",
       "\n",
       "  uspc_subclass_id  \n",
       "0           211/50  \n",
       "1           211/55  \n",
       "2        211/126.1  \n",
       "3           211/50  \n",
       "4           211/55  "
      ]
     },
     "execution_count": 15,
     "metadata": {},
     "output_type": "execute_result"
    }
   ],
   "source": [
    "focal_citation_citeclass.head()"
   ]
  },
  {
   "cell_type": "code",
   "execution_count": 16,
   "metadata": {},
   "outputs": [
    {
     "data": {
      "text/plain": [
       "patent_number            0\n",
       "priority_date            0\n",
       "cited_patent_number      0\n",
       "cite_mainclass         348\n",
       "cite_subclass          348\n",
       "dtype: int64"
      ]
     },
     "execution_count": 16,
     "metadata": {},
     "output_type": "execute_result"
    }
   ],
   "source": [
    "focal_citation_citeclass.rename(index=str, columns={'uspc_mainclass_id':'cite_mainclass', 'uspc_subclass_id':'cite_subclass'}, inplace=True)\n",
    "focal_citation_citeclass.isnull().sum()"
   ]
  },
  {
   "cell_type": "markdown",
   "metadata": {},
   "source": [
    "Drop nulls. Without classification its useles"
   ]
  },
  {
   "cell_type": "code",
   "execution_count": 17,
   "metadata": {},
   "outputs": [
    {
     "data": {
      "text/plain": [
       "437678"
      ]
     },
     "execution_count": 17,
     "metadata": {},
     "output_type": "execute_result"
    }
   ],
   "source": [
    "focal_citation_citeclass.dropna(inplace=True)\n",
    "focal_citation_citeclass['patent_number'].nunique()"
   ]
  },
  {
   "cell_type": "code",
   "execution_count": 18,
   "metadata": {
    "scrolled": true
   },
   "outputs": [
    {
     "data": {
      "text/html": [
       "<div>\n",
       "<style scoped>\n",
       "    .dataframe tbody tr th:only-of-type {\n",
       "        vertical-align: middle;\n",
       "    }\n",
       "\n",
       "    .dataframe tbody tr th {\n",
       "        vertical-align: top;\n",
       "    }\n",
       "\n",
       "    .dataframe thead th {\n",
       "        text-align: right;\n",
       "    }\n",
       "</style>\n",
       "<table border=\"1\" class=\"dataframe\">\n",
       "  <thead>\n",
       "    <tr style=\"text-align: right;\">\n",
       "      <th></th>\n",
       "      <th>patent_number</th>\n",
       "      <th>priority_date</th>\n",
       "      <th>cited_patent_number</th>\n",
       "      <th>cite_mainclass</th>\n",
       "      <th>cite_subclass</th>\n",
       "    </tr>\n",
       "  </thead>\n",
       "  <tbody>\n",
       "    <tr>\n",
       "      <th>36</th>\n",
       "      <td>D258766</td>\n",
       "      <td>1980.0</td>\n",
       "      <td>4069641</td>\n",
       "      <td>D25</td>\n",
       "      <td>D25/48.7</td>\n",
       "    </tr>\n",
       "    <tr>\n",
       "      <th>37</th>\n",
       "      <td>D258766</td>\n",
       "      <td>1980.0</td>\n",
       "      <td>4069641</td>\n",
       "      <td>D25</td>\n",
       "      <td>D25/119</td>\n",
       "    </tr>\n",
       "    <tr>\n",
       "      <th>54</th>\n",
       "      <td>D258766</td>\n",
       "      <td>1980.0</td>\n",
       "      <td>4184297</td>\n",
       "      <td>D25</td>\n",
       "      <td>D25/56</td>\n",
       "    </tr>\n",
       "    <tr>\n",
       "      <th>55</th>\n",
       "      <td>D258766</td>\n",
       "      <td>1980.0</td>\n",
       "      <td>4184297</td>\n",
       "      <td>D25</td>\n",
       "      <td>D25/123</td>\n",
       "    </tr>\n",
       "    <tr>\n",
       "      <th>90</th>\n",
       "      <td>D259281</td>\n",
       "      <td>1980.0</td>\n",
       "      <td>4098036</td>\n",
       "      <td>D25</td>\n",
       "      <td>D25/1</td>\n",
       "    </tr>\n",
       "    <tr>\n",
       "      <th>102</th>\n",
       "      <td>D259509</td>\n",
       "      <td>1980.0</td>\n",
       "      <td>3935984</td>\n",
       "      <td>D24</td>\n",
       "      <td>D24/165</td>\n",
       "    </tr>\n",
       "    <tr>\n",
       "      <th>116</th>\n",
       "      <td>D259510</td>\n",
       "      <td>1980.0</td>\n",
       "      <td>3952338</td>\n",
       "      <td>D25</td>\n",
       "      <td>D25/2</td>\n",
       "    </tr>\n",
       "    <tr>\n",
       "      <th>154</th>\n",
       "      <td>D259740</td>\n",
       "      <td>1980.0</td>\n",
       "      <td>4098036</td>\n",
       "      <td>D25</td>\n",
       "      <td>D25/1</td>\n",
       "    </tr>\n",
       "    <tr>\n",
       "      <th>213</th>\n",
       "      <td>D260549</td>\n",
       "      <td>1980.0</td>\n",
       "      <td>4164826</td>\n",
       "      <td>D22</td>\n",
       "      <td>D22/126</td>\n",
       "    </tr>\n",
       "    <tr>\n",
       "      <th>220</th>\n",
       "      <td>D260724</td>\n",
       "      <td>1980.0</td>\n",
       "      <td>3942591</td>\n",
       "      <td>D08</td>\n",
       "      <td>D08/7</td>\n",
       "    </tr>\n",
       "    <tr>\n",
       "      <th>221</th>\n",
       "      <td>D260724</td>\n",
       "      <td>1980.0</td>\n",
       "      <td>3942591</td>\n",
       "      <td>D08</td>\n",
       "      <td>D08/11</td>\n",
       "    </tr>\n",
       "    <tr>\n",
       "      <th>228</th>\n",
       "      <td>D260830</td>\n",
       "      <td>1980.0</td>\n",
       "      <td>4125192</td>\n",
       "      <td>D06</td>\n",
       "      <td>D06/552</td>\n",
       "    </tr>\n",
       "    <tr>\n",
       "      <th>229</th>\n",
       "      <td>D260830</td>\n",
       "      <td>1980.0</td>\n",
       "      <td>4125192</td>\n",
       "      <td>D06</td>\n",
       "      <td>D06/574</td>\n",
       "    </tr>\n",
       "    <tr>\n",
       "      <th>252</th>\n",
       "      <td>D260926</td>\n",
       "      <td>1980.0</td>\n",
       "      <td>4247042</td>\n",
       "      <td>D22</td>\n",
       "      <td>D22/120</td>\n",
       "    </tr>\n",
       "    <tr>\n",
       "      <th>253</th>\n",
       "      <td>D260926</td>\n",
       "      <td>1980.0</td>\n",
       "      <td>4247042</td>\n",
       "      <td>D23</td>\n",
       "      <td>D23/360</td>\n",
       "    </tr>\n",
       "    <tr>\n",
       "      <th>261</th>\n",
       "      <td>D260934</td>\n",
       "      <td>1980.0</td>\n",
       "      <td>4098036</td>\n",
       "      <td>D25</td>\n",
       "      <td>D25/1</td>\n",
       "    </tr>\n",
       "    <tr>\n",
       "      <th>273</th>\n",
       "      <td>D260952</td>\n",
       "      <td>1980.0</td>\n",
       "      <td>4114824</td>\n",
       "      <td>D06</td>\n",
       "      <td>D06/523</td>\n",
       "    </tr>\n",
       "    <tr>\n",
       "      <th>363</th>\n",
       "      <td>D261245</td>\n",
       "      <td>1980.0</td>\n",
       "      <td>4218894</td>\n",
       "      <td>D11</td>\n",
       "      <td>D11/57</td>\n",
       "    </tr>\n",
       "    <tr>\n",
       "      <th>364</th>\n",
       "      <td>D261245</td>\n",
       "      <td>1980.0</td>\n",
       "      <td>4218894</td>\n",
       "      <td>D11</td>\n",
       "      <td>D11/88</td>\n",
       "    </tr>\n",
       "    <tr>\n",
       "      <th>370</th>\n",
       "      <td>D261246</td>\n",
       "      <td>1980.0</td>\n",
       "      <td>4218894</td>\n",
       "      <td>D11</td>\n",
       "      <td>D11/57</td>\n",
       "    </tr>\n",
       "    <tr>\n",
       "      <th>371</th>\n",
       "      <td>D261246</td>\n",
       "      <td>1980.0</td>\n",
       "      <td>4218894</td>\n",
       "      <td>D11</td>\n",
       "      <td>D11/88</td>\n",
       "    </tr>\n",
       "    <tr>\n",
       "      <th>377</th>\n",
       "      <td>D261247</td>\n",
       "      <td>1980.0</td>\n",
       "      <td>4218894</td>\n",
       "      <td>D11</td>\n",
       "      <td>D11/57</td>\n",
       "    </tr>\n",
       "    <tr>\n",
       "      <th>378</th>\n",
       "      <td>D261247</td>\n",
       "      <td>1980.0</td>\n",
       "      <td>4218894</td>\n",
       "      <td>D11</td>\n",
       "      <td>D11/88</td>\n",
       "    </tr>\n",
       "    <tr>\n",
       "      <th>402</th>\n",
       "      <td>D261304</td>\n",
       "      <td>1980.0</td>\n",
       "      <td>4048774</td>\n",
       "      <td>D25</td>\n",
       "      <td>D25/124</td>\n",
       "    </tr>\n",
       "    <tr>\n",
       "      <th>411</th>\n",
       "      <td>D261305</td>\n",
       "      <td>1980.0</td>\n",
       "      <td>4048774</td>\n",
       "      <td>D25</td>\n",
       "      <td>D25/124</td>\n",
       "    </tr>\n",
       "    <tr>\n",
       "      <th>418</th>\n",
       "      <td>D261306</td>\n",
       "      <td>1980.0</td>\n",
       "      <td>4048774</td>\n",
       "      <td>D25</td>\n",
       "      <td>D25/124</td>\n",
       "    </tr>\n",
       "    <tr>\n",
       "      <th>427</th>\n",
       "      <td>D261307</td>\n",
       "      <td>1980.0</td>\n",
       "      <td>4048774</td>\n",
       "      <td>D25</td>\n",
       "      <td>D25/124</td>\n",
       "    </tr>\n",
       "    <tr>\n",
       "      <th>436</th>\n",
       "      <td>D261308</td>\n",
       "      <td>1980.0</td>\n",
       "      <td>4048774</td>\n",
       "      <td>D25</td>\n",
       "      <td>D25/124</td>\n",
       "    </tr>\n",
       "    <tr>\n",
       "      <th>443</th>\n",
       "      <td>D261309</td>\n",
       "      <td>1980.0</td>\n",
       "      <td>4048774</td>\n",
       "      <td>D25</td>\n",
       "      <td>D25/124</td>\n",
       "    </tr>\n",
       "    <tr>\n",
       "      <th>452</th>\n",
       "      <td>D261310</td>\n",
       "      <td>1980.0</td>\n",
       "      <td>4048774</td>\n",
       "      <td>D25</td>\n",
       "      <td>D25/124</td>\n",
       "    </tr>\n",
       "    <tr>\n",
       "      <th>...</th>\n",
       "      <td>...</td>\n",
       "      <td>...</td>\n",
       "      <td>...</td>\n",
       "      <td>...</td>\n",
       "      <td>...</td>\n",
       "    </tr>\n",
       "    <tr>\n",
       "      <th>11187025</th>\n",
       "      <td>D759180</td>\n",
       "      <td>2013.0</td>\n",
       "      <td>5020465</td>\n",
       "      <td>D12</td>\n",
       "      <td>D12/316</td>\n",
       "    </tr>\n",
       "    <tr>\n",
       "      <th>11187493</th>\n",
       "      <td>D766050</td>\n",
       "      <td>2013.0</td>\n",
       "      <td>4797295</td>\n",
       "      <td>D01</td>\n",
       "      <td>D01/102</td>\n",
       "    </tr>\n",
       "    <tr>\n",
       "      <th>11187980</th>\n",
       "      <td>D775124</td>\n",
       "      <td>2012.0</td>\n",
       "      <td>6757156</td>\n",
       "      <td>D14</td>\n",
       "      <td>D14/344</td>\n",
       "    </tr>\n",
       "    <tr>\n",
       "      <th>11187981</th>\n",
       "      <td>D775124</td>\n",
       "      <td>2012.0</td>\n",
       "      <td>6757156</td>\n",
       "      <td>D14</td>\n",
       "      <td>D14/389</td>\n",
       "    </tr>\n",
       "    <tr>\n",
       "      <th>11188011</th>\n",
       "      <td>D775124</td>\n",
       "      <td>2012.0</td>\n",
       "      <td>8213997</td>\n",
       "      <td>D14</td>\n",
       "      <td>D14/138G</td>\n",
       "    </tr>\n",
       "    <tr>\n",
       "      <th>11188012</th>\n",
       "      <td>D775124</td>\n",
       "      <td>2012.0</td>\n",
       "      <td>8213997</td>\n",
       "      <td>D14</td>\n",
       "      <td>D14/138R</td>\n",
       "    </tr>\n",
       "    <tr>\n",
       "      <th>11188013</th>\n",
       "      <td>D775124</td>\n",
       "      <td>2012.0</td>\n",
       "      <td>8213997</td>\n",
       "      <td>D14</td>\n",
       "      <td>D14/138.AD</td>\n",
       "    </tr>\n",
       "    <tr>\n",
       "      <th>11188014</th>\n",
       "      <td>D775124</td>\n",
       "      <td>2012.0</td>\n",
       "      <td>8213997</td>\n",
       "      <td>D14</td>\n",
       "      <td>D14/140</td>\n",
       "    </tr>\n",
       "    <tr>\n",
       "      <th>11188015</th>\n",
       "      <td>D775124</td>\n",
       "      <td>2012.0</td>\n",
       "      <td>8213997</td>\n",
       "      <td>D14</td>\n",
       "      <td>D14/140.11</td>\n",
       "    </tr>\n",
       "    <tr>\n",
       "      <th>11188016</th>\n",
       "      <td>D775124</td>\n",
       "      <td>2012.0</td>\n",
       "      <td>8213997</td>\n",
       "      <td>D14</td>\n",
       "      <td>D14/248</td>\n",
       "    </tr>\n",
       "    <tr>\n",
       "      <th>11188017</th>\n",
       "      <td>D775124</td>\n",
       "      <td>2012.0</td>\n",
       "      <td>8213997</td>\n",
       "      <td>D14</td>\n",
       "      <td>D14/250</td>\n",
       "    </tr>\n",
       "    <tr>\n",
       "      <th>11188018</th>\n",
       "      <td>D775124</td>\n",
       "      <td>2012.0</td>\n",
       "      <td>8213997</td>\n",
       "      <td>D14</td>\n",
       "      <td>D14/316</td>\n",
       "    </tr>\n",
       "    <tr>\n",
       "      <th>11188019</th>\n",
       "      <td>D775124</td>\n",
       "      <td>2012.0</td>\n",
       "      <td>8213997</td>\n",
       "      <td>D14</td>\n",
       "      <td>D14/328</td>\n",
       "    </tr>\n",
       "    <tr>\n",
       "      <th>11188020</th>\n",
       "      <td>D775124</td>\n",
       "      <td>2012.0</td>\n",
       "      <td>8213997</td>\n",
       "      <td>D14</td>\n",
       "      <td>D14/329</td>\n",
       "    </tr>\n",
       "    <tr>\n",
       "      <th>11188263</th>\n",
       "      <td>D775625</td>\n",
       "      <td>2012.0</td>\n",
       "      <td>6757156</td>\n",
       "      <td>D14</td>\n",
       "      <td>D14/344</td>\n",
       "    </tr>\n",
       "    <tr>\n",
       "      <th>11188264</th>\n",
       "      <td>D775625</td>\n",
       "      <td>2012.0</td>\n",
       "      <td>6757156</td>\n",
       "      <td>D14</td>\n",
       "      <td>D14/389</td>\n",
       "    </tr>\n",
       "    <tr>\n",
       "      <th>11188294</th>\n",
       "      <td>D775625</td>\n",
       "      <td>2012.0</td>\n",
       "      <td>8213997</td>\n",
       "      <td>D14</td>\n",
       "      <td>D14/138G</td>\n",
       "    </tr>\n",
       "    <tr>\n",
       "      <th>11188295</th>\n",
       "      <td>D775625</td>\n",
       "      <td>2012.0</td>\n",
       "      <td>8213997</td>\n",
       "      <td>D14</td>\n",
       "      <td>D14/138R</td>\n",
       "    </tr>\n",
       "    <tr>\n",
       "      <th>11188296</th>\n",
       "      <td>D775625</td>\n",
       "      <td>2012.0</td>\n",
       "      <td>8213997</td>\n",
       "      <td>D14</td>\n",
       "      <td>D14/138.AD</td>\n",
       "    </tr>\n",
       "    <tr>\n",
       "      <th>11188297</th>\n",
       "      <td>D775625</td>\n",
       "      <td>2012.0</td>\n",
       "      <td>8213997</td>\n",
       "      <td>D14</td>\n",
       "      <td>D14/140</td>\n",
       "    </tr>\n",
       "    <tr>\n",
       "      <th>11188298</th>\n",
       "      <td>D775625</td>\n",
       "      <td>2012.0</td>\n",
       "      <td>8213997</td>\n",
       "      <td>D14</td>\n",
       "      <td>D14/140.11</td>\n",
       "    </tr>\n",
       "    <tr>\n",
       "      <th>11188299</th>\n",
       "      <td>D775625</td>\n",
       "      <td>2012.0</td>\n",
       "      <td>8213997</td>\n",
       "      <td>D14</td>\n",
       "      <td>D14/248</td>\n",
       "    </tr>\n",
       "    <tr>\n",
       "      <th>11188300</th>\n",
       "      <td>D775625</td>\n",
       "      <td>2012.0</td>\n",
       "      <td>8213997</td>\n",
       "      <td>D14</td>\n",
       "      <td>D14/250</td>\n",
       "    </tr>\n",
       "    <tr>\n",
       "      <th>11188301</th>\n",
       "      <td>D775625</td>\n",
       "      <td>2012.0</td>\n",
       "      <td>8213997</td>\n",
       "      <td>D14</td>\n",
       "      <td>D14/316</td>\n",
       "    </tr>\n",
       "    <tr>\n",
       "      <th>11188302</th>\n",
       "      <td>D775625</td>\n",
       "      <td>2012.0</td>\n",
       "      <td>8213997</td>\n",
       "      <td>D14</td>\n",
       "      <td>D14/328</td>\n",
       "    </tr>\n",
       "    <tr>\n",
       "      <th>11188303</th>\n",
       "      <td>D775625</td>\n",
       "      <td>2012.0</td>\n",
       "      <td>8213997</td>\n",
       "      <td>D14</td>\n",
       "      <td>D14/329</td>\n",
       "    </tr>\n",
       "    <tr>\n",
       "      <th>11188363</th>\n",
       "      <td>D776293</td>\n",
       "      <td>2013.0</td>\n",
       "      <td>5223229</td>\n",
       "      <td>D24</td>\n",
       "      <td>D24/217</td>\n",
       "    </tr>\n",
       "    <tr>\n",
       "      <th>11188680</th>\n",
       "      <td>D785947</td>\n",
       "      <td>2011.0</td>\n",
       "      <td>5331704</td>\n",
       "      <td>D04</td>\n",
       "      <td>D04/106</td>\n",
       "    </tr>\n",
       "    <tr>\n",
       "      <th>11188689</th>\n",
       "      <td>D785947</td>\n",
       "      <td>2011.0</td>\n",
       "      <td>5398369</td>\n",
       "      <td>D04</td>\n",
       "      <td>D04/104</td>\n",
       "    </tr>\n",
       "    <tr>\n",
       "      <th>11188690</th>\n",
       "      <td>D785947</td>\n",
       "      <td>2011.0</td>\n",
       "      <td>5398369</td>\n",
       "      <td>D04</td>\n",
       "      <td>D04/138</td>\n",
       "    </tr>\n",
       "  </tbody>\n",
       "</table>\n",
       "<p>166449 rows × 5 columns</p>\n",
       "</div>"
      ],
      "text/plain": [
       "         patent_number  priority_date cited_patent_number cite_mainclass  \\\n",
       "36             D258766         1980.0             4069641            D25   \n",
       "37             D258766         1980.0             4069641            D25   \n",
       "54             D258766         1980.0             4184297            D25   \n",
       "55             D258766         1980.0             4184297            D25   \n",
       "90             D259281         1980.0             4098036            D25   \n",
       "102            D259509         1980.0             3935984            D24   \n",
       "116            D259510         1980.0             3952338            D25   \n",
       "154            D259740         1980.0             4098036            D25   \n",
       "213            D260549         1980.0             4164826            D22   \n",
       "220            D260724         1980.0             3942591            D08   \n",
       "221            D260724         1980.0             3942591            D08   \n",
       "228            D260830         1980.0             4125192            D06   \n",
       "229            D260830         1980.0             4125192            D06   \n",
       "252            D260926         1980.0             4247042            D22   \n",
       "253            D260926         1980.0             4247042            D23   \n",
       "261            D260934         1980.0             4098036            D25   \n",
       "273            D260952         1980.0             4114824            D06   \n",
       "363            D261245         1980.0             4218894            D11   \n",
       "364            D261245         1980.0             4218894            D11   \n",
       "370            D261246         1980.0             4218894            D11   \n",
       "371            D261246         1980.0             4218894            D11   \n",
       "377            D261247         1980.0             4218894            D11   \n",
       "378            D261247         1980.0             4218894            D11   \n",
       "402            D261304         1980.0             4048774            D25   \n",
       "411            D261305         1980.0             4048774            D25   \n",
       "418            D261306         1980.0             4048774            D25   \n",
       "427            D261307         1980.0             4048774            D25   \n",
       "436            D261308         1980.0             4048774            D25   \n",
       "443            D261309         1980.0             4048774            D25   \n",
       "452            D261310         1980.0             4048774            D25   \n",
       "...                ...            ...                 ...            ...   \n",
       "11187025       D759180         2013.0             5020465            D12   \n",
       "11187493       D766050         2013.0             4797295            D01   \n",
       "11187980       D775124         2012.0             6757156            D14   \n",
       "11187981       D775124         2012.0             6757156            D14   \n",
       "11188011       D775124         2012.0             8213997            D14   \n",
       "11188012       D775124         2012.0             8213997            D14   \n",
       "11188013       D775124         2012.0             8213997            D14   \n",
       "11188014       D775124         2012.0             8213997            D14   \n",
       "11188015       D775124         2012.0             8213997            D14   \n",
       "11188016       D775124         2012.0             8213997            D14   \n",
       "11188017       D775124         2012.0             8213997            D14   \n",
       "11188018       D775124         2012.0             8213997            D14   \n",
       "11188019       D775124         2012.0             8213997            D14   \n",
       "11188020       D775124         2012.0             8213997            D14   \n",
       "11188263       D775625         2012.0             6757156            D14   \n",
       "11188264       D775625         2012.0             6757156            D14   \n",
       "11188294       D775625         2012.0             8213997            D14   \n",
       "11188295       D775625         2012.0             8213997            D14   \n",
       "11188296       D775625         2012.0             8213997            D14   \n",
       "11188297       D775625         2012.0             8213997            D14   \n",
       "11188298       D775625         2012.0             8213997            D14   \n",
       "11188299       D775625         2012.0             8213997            D14   \n",
       "11188300       D775625         2012.0             8213997            D14   \n",
       "11188301       D775625         2012.0             8213997            D14   \n",
       "11188302       D775625         2012.0             8213997            D14   \n",
       "11188303       D775625         2012.0             8213997            D14   \n",
       "11188363       D776293         2013.0             5223229            D24   \n",
       "11188680       D785947         2011.0             5331704            D04   \n",
       "11188689       D785947         2011.0             5398369            D04   \n",
       "11188690       D785947         2011.0             5398369            D04   \n",
       "\n",
       "         cite_subclass  \n",
       "36            D25/48.7  \n",
       "37             D25/119  \n",
       "54              D25/56  \n",
       "55             D25/123  \n",
       "90               D25/1  \n",
       "102            D24/165  \n",
       "116              D25/2  \n",
       "154              D25/1  \n",
       "213            D22/126  \n",
       "220              D08/7  \n",
       "221             D08/11  \n",
       "228            D06/552  \n",
       "229            D06/574  \n",
       "252            D22/120  \n",
       "253            D23/360  \n",
       "261              D25/1  \n",
       "273            D06/523  \n",
       "363             D11/57  \n",
       "364             D11/88  \n",
       "370             D11/57  \n",
       "371             D11/88  \n",
       "377             D11/57  \n",
       "378             D11/88  \n",
       "402            D25/124  \n",
       "411            D25/124  \n",
       "418            D25/124  \n",
       "427            D25/124  \n",
       "436            D25/124  \n",
       "443            D25/124  \n",
       "452            D25/124  \n",
       "...                ...  \n",
       "11187025       D12/316  \n",
       "11187493       D01/102  \n",
       "11187980       D14/344  \n",
       "11187981       D14/389  \n",
       "11188011      D14/138G  \n",
       "11188012      D14/138R  \n",
       "11188013    D14/138.AD  \n",
       "11188014       D14/140  \n",
       "11188015    D14/140.11  \n",
       "11188016       D14/248  \n",
       "11188017       D14/250  \n",
       "11188018       D14/316  \n",
       "11188019       D14/328  \n",
       "11188020       D14/329  \n",
       "11188263       D14/344  \n",
       "11188264       D14/389  \n",
       "11188294      D14/138G  \n",
       "11188295      D14/138R  \n",
       "11188296    D14/138.AD  \n",
       "11188297       D14/140  \n",
       "11188298    D14/140.11  \n",
       "11188299       D14/248  \n",
       "11188300       D14/250  \n",
       "11188301       D14/316  \n",
       "11188302       D14/328  \n",
       "11188303       D14/329  \n",
       "11188363       D24/217  \n",
       "11188680       D04/106  \n",
       "11188689       D04/104  \n",
       "11188690       D04/138  \n",
       "\n",
       "[166449 rows x 5 columns]"
      ]
     },
     "execution_count": 18,
     "metadata": {},
     "output_type": "execute_result"
    }
   ],
   "source": [
    "focal_citation_citeclass.loc[(focal_citation_citeclass.cite_mainclass.str.contains('D')) & (~focal_citation_citeclass.cited_patent_number.str.contains('D'))]"
   ]
  },
  {
   "cell_type": "code",
   "execution_count": 19,
   "metadata": {},
   "outputs": [
    {
     "data": {
      "text/html": [
       "<div>\n",
       "<style scoped>\n",
       "    .dataframe tbody tr th:only-of-type {\n",
       "        vertical-align: middle;\n",
       "    }\n",
       "\n",
       "    .dataframe tbody tr th {\n",
       "        vertical-align: top;\n",
       "    }\n",
       "\n",
       "    .dataframe thead th {\n",
       "        text-align: right;\n",
       "    }\n",
       "</style>\n",
       "<table border=\"1\" class=\"dataframe\">\n",
       "  <thead>\n",
       "    <tr style=\"text-align: right;\">\n",
       "      <th></th>\n",
       "      <th>uspc_mainclass_id</th>\n",
       "      <th>uspc_subclass_id</th>\n",
       "      <th>cited_patent_number</th>\n",
       "    </tr>\n",
       "  </thead>\n",
       "  <tbody>\n",
       "    <tr>\n",
       "      <th>0</th>\n",
       "      <td>248</td>\n",
       "      <td>248/423</td>\n",
       "      <td>3930272</td>\n",
       "    </tr>\n",
       "    <tr>\n",
       "      <th>1</th>\n",
       "      <td>403</td>\n",
       "      <td>403/107</td>\n",
       "      <td>3930272</td>\n",
       "    </tr>\n",
       "    <tr>\n",
       "      <th>2</th>\n",
       "      <td>5</td>\n",
       "      <td>5/11</td>\n",
       "      <td>3930272</td>\n",
       "    </tr>\n",
       "    <tr>\n",
       "      <th>3</th>\n",
       "      <td>5</td>\n",
       "      <td>5/100</td>\n",
       "      <td>3930272</td>\n",
       "    </tr>\n",
       "    <tr>\n",
       "      <th>4</th>\n",
       "      <td>47</td>\n",
       "      <td>47/58.1R</td>\n",
       "      <td>3930335</td>\n",
       "    </tr>\n",
       "  </tbody>\n",
       "</table>\n",
       "</div>"
      ],
      "text/plain": [
       "  uspc_mainclass_id uspc_subclass_id cited_patent_number\n",
       "0               248          248/423             3930272\n",
       "1               403          403/107             3930272\n",
       "2                 5             5/11             3930272\n",
       "3                 5            5/100             3930272\n",
       "4                47         47/58.1R             3930335"
      ]
     },
     "execution_count": 19,
     "metadata": {},
     "output_type": "execute_result"
    }
   ],
   "source": [
    "citations.head()"
   ]
  },
  {
   "cell_type": "code",
   "execution_count": 20,
   "metadata": {},
   "outputs": [
    {
     "data": {
      "text/html": [
       "<div>\n",
       "<style scoped>\n",
       "    .dataframe tbody tr th:only-of-type {\n",
       "        vertical-align: middle;\n",
       "    }\n",
       "\n",
       "    .dataframe tbody tr th {\n",
       "        vertical-align: top;\n",
       "    }\n",
       "\n",
       "    .dataframe thead th {\n",
       "        text-align: right;\n",
       "    }\n",
       "</style>\n",
       "<table border=\"1\" class=\"dataframe\">\n",
       "  <thead>\n",
       "    <tr style=\"text-align: right;\">\n",
       "      <th></th>\n",
       "      <th>uspc_mainclass_id</th>\n",
       "      <th>uspc_subclass_id</th>\n",
       "      <th>cited_patent_number</th>\n",
       "    </tr>\n",
       "  </thead>\n",
       "  <tbody>\n",
       "    <tr>\n",
       "      <th>56717</th>\n",
       "      <td>52</td>\n",
       "      <td>52/202</td>\n",
       "      <td>4069641</td>\n",
       "    </tr>\n",
       "    <tr>\n",
       "      <th>56718</th>\n",
       "      <td>52</td>\n",
       "      <td>52/476</td>\n",
       "      <td>4069641</td>\n",
       "    </tr>\n",
       "    <tr>\n",
       "      <th>56719</th>\n",
       "      <td>52</td>\n",
       "      <td>52/717.1</td>\n",
       "      <td>4069641</td>\n",
       "    </tr>\n",
       "    <tr>\n",
       "      <th>56720</th>\n",
       "      <td>D25</td>\n",
       "      <td>D25/48.7</td>\n",
       "      <td>4069641</td>\n",
       "    </tr>\n",
       "    <tr>\n",
       "      <th>56721</th>\n",
       "      <td>D25</td>\n",
       "      <td>D25/119</td>\n",
       "      <td>4069641</td>\n",
       "    </tr>\n",
       "  </tbody>\n",
       "</table>\n",
       "</div>"
      ],
      "text/plain": [
       "      uspc_mainclass_id uspc_subclass_id cited_patent_number\n",
       "56717                52           52/202             4069641\n",
       "56718                52           52/476             4069641\n",
       "56719                52         52/717.1             4069641\n",
       "56720               D25         D25/48.7             4069641\n",
       "56721               D25          D25/119             4069641"
      ]
     },
     "execution_count": 20,
     "metadata": {},
     "output_type": "execute_result"
    }
   ],
   "source": [
    "citations.loc[citations.cited_patent_number.str.match('4069641')]"
   ]
  },
  {
   "cell_type": "markdown",
   "metadata": {},
   "source": [
    "# Current number of patents represented: 507,126"
   ]
  },
  {
   "cell_type": "code",
   "execution_count": 21,
   "metadata": {},
   "outputs": [
    {
     "data": {
      "text/html": [
       "<div>\n",
       "<style scoped>\n",
       "    .dataframe tbody tr th:only-of-type {\n",
       "        vertical-align: middle;\n",
       "    }\n",
       "\n",
       "    .dataframe tbody tr th {\n",
       "        vertical-align: top;\n",
       "    }\n",
       "\n",
       "    .dataframe thead th {\n",
       "        text-align: right;\n",
       "    }\n",
       "</style>\n",
       "<table border=\"1\" class=\"dataframe\">\n",
       "  <thead>\n",
       "    <tr style=\"text-align: right;\">\n",
       "      <th></th>\n",
       "      <th>patent_number</th>\n",
       "      <th>priority_date</th>\n",
       "      <th>cited_patent_number</th>\n",
       "      <th>cite_mainclass</th>\n",
       "      <th>cite_subclass</th>\n",
       "      <th>uspc_mainclass_id</th>\n",
       "      <th>uspc_subclass_id</th>\n",
       "    </tr>\n",
       "  </thead>\n",
       "  <tbody>\n",
       "    <tr>\n",
       "      <th>0</th>\n",
       "      <td>D257752</td>\n",
       "      <td>1980.0</td>\n",
       "      <td>4162014</td>\n",
       "      <td>211</td>\n",
       "      <td>211/50</td>\n",
       "      <td>D19</td>\n",
       "      <td>D19/75</td>\n",
       "    </tr>\n",
       "    <tr>\n",
       "      <th>1</th>\n",
       "      <td>D257752</td>\n",
       "      <td>1980.0</td>\n",
       "      <td>4162014</td>\n",
       "      <td>211</td>\n",
       "      <td>211/55</td>\n",
       "      <td>D19</td>\n",
       "      <td>D19/75</td>\n",
       "    </tr>\n",
       "    <tr>\n",
       "      <th>2</th>\n",
       "      <td>D257752</td>\n",
       "      <td>1980.0</td>\n",
       "      <td>4162014</td>\n",
       "      <td>211</td>\n",
       "      <td>211/126.1</td>\n",
       "      <td>D19</td>\n",
       "      <td>D19/75</td>\n",
       "    </tr>\n",
       "    <tr>\n",
       "      <th>3</th>\n",
       "      <td>D257924</td>\n",
       "      <td>1980.0</td>\n",
       "      <td>4162014</td>\n",
       "      <td>211</td>\n",
       "      <td>211/50</td>\n",
       "      <td>D06</td>\n",
       "      <td>D06/573</td>\n",
       "    </tr>\n",
       "    <tr>\n",
       "      <th>4</th>\n",
       "      <td>D257924</td>\n",
       "      <td>1980.0</td>\n",
       "      <td>4162014</td>\n",
       "      <td>211</td>\n",
       "      <td>211/55</td>\n",
       "      <td>D06</td>\n",
       "      <td>D06/573</td>\n",
       "    </tr>\n",
       "  </tbody>\n",
       "</table>\n",
       "</div>"
      ],
      "text/plain": [
       "  patent_number  priority_date cited_patent_number cite_mainclass  \\\n",
       "0       D257752         1980.0             4162014            211   \n",
       "1       D257752         1980.0             4162014            211   \n",
       "2       D257752         1980.0             4162014            211   \n",
       "3       D257924         1980.0             4162014            211   \n",
       "4       D257924         1980.0             4162014            211   \n",
       "\n",
       "  cite_subclass uspc_mainclass_id uspc_subclass_id  \n",
       "0        211/50               D19           D19/75  \n",
       "1        211/55               D19           D19/75  \n",
       "2     211/126.1               D19           D19/75  \n",
       "3        211/50               D06          D06/573  \n",
       "4        211/55               D06          D06/573  "
      ]
     },
     "execution_count": 21,
     "metadata": {},
     "output_type": "execute_result"
    }
   ],
   "source": [
    "final = pd.merge(focal_citation_citeclass, focal_class, on='patent_number', how='left')\n",
    "final.head()"
   ]
  },
  {
   "cell_type": "code",
   "execution_count": 22,
   "metadata": {},
   "outputs": [],
   "source": [
    "final.rename(index=str, columns={'uspc_mainclass_id':'focal_mainclass', 'uspc_subclass_id':'focal_subclass'}, inplace=True)"
   ]
  },
  {
   "cell_type": "code",
   "execution_count": 23,
   "metadata": {},
   "outputs": [
    {
     "data": {
      "text/plain": [
       "(16731605, 7)"
      ]
     },
     "execution_count": 23,
     "metadata": {},
     "output_type": "execute_result"
    }
   ],
   "source": [
    "final.shape"
   ]
  },
  {
   "cell_type": "code",
   "execution_count": 24,
   "metadata": {
    "scrolled": true
   },
   "outputs": [
    {
     "data": {
      "text/plain": [
       "437678"
      ]
     },
     "execution_count": 24,
     "metadata": {},
     "output_type": "execute_result"
    }
   ],
   "source": [
    "final.patent_number.nunique()"
   ]
  },
  {
   "cell_type": "code",
   "execution_count": 25,
   "metadata": {},
   "outputs": [
    {
     "data": {
      "text/plain": [
       "patent_number          0\n",
       "priority_date          0\n",
       "cited_patent_number    0\n",
       "cite_mainclass         0\n",
       "cite_subclass          0\n",
       "focal_mainclass        0\n",
       "focal_subclass         0\n",
       "dtype: int64"
      ]
     },
     "execution_count": 25,
     "metadata": {},
     "output_type": "execute_result"
    }
   ],
   "source": [
    "final.isnull().sum()"
   ]
  },
  {
   "cell_type": "markdown",
   "metadata": {},
   "source": [
    "4000 of our patents had null citations. These are mainly withdrawn patents and newly granted patent. I assume this has to do with patentsview getting updated information"
   ]
  },
  {
   "cell_type": "code",
   "execution_count": 26,
   "metadata": {},
   "outputs": [
    {
     "data": {
      "text/plain": [
       "437678"
      ]
     },
     "execution_count": 26,
     "metadata": {},
     "output_type": "execute_result"
    }
   ],
   "source": [
    "final.dropna(inplace=True)\n",
    "final['patent_number'].nunique()"
   ]
  },
  {
   "cell_type": "markdown",
   "metadata": {},
   "source": [
    "# Current patent count: 503,128"
   ]
  },
  {
   "cell_type": "code",
   "execution_count": 27,
   "metadata": {},
   "outputs": [],
   "source": [
    "final.to_csv('data/final_no_drops.csv', index_label=False)"
   ]
  },
  {
   "cell_type": "code",
   "execution_count": 28,
   "metadata": {},
   "outputs": [
    {
     "data": {
      "text/html": [
       "<div>\n",
       "<style scoped>\n",
       "    .dataframe tbody tr th:only-of-type {\n",
       "        vertical-align: middle;\n",
       "    }\n",
       "\n",
       "    .dataframe tbody tr th {\n",
       "        vertical-align: top;\n",
       "    }\n",
       "\n",
       "    .dataframe thead th {\n",
       "        text-align: right;\n",
       "    }\n",
       "</style>\n",
       "<table border=\"1\" class=\"dataframe\">\n",
       "  <thead>\n",
       "    <tr style=\"text-align: right;\">\n",
       "      <th></th>\n",
       "      <th>patent_number</th>\n",
       "      <th>priority_date</th>\n",
       "      <th>cited_patent_number</th>\n",
       "      <th>cite_mainclass</th>\n",
       "      <th>cite_subclass</th>\n",
       "      <th>focal_mainclass</th>\n",
       "      <th>focal_subclass</th>\n",
       "    </tr>\n",
       "  </thead>\n",
       "  <tbody>\n",
       "    <tr>\n",
       "      <th>0</th>\n",
       "      <td>D257752</td>\n",
       "      <td>1980.0</td>\n",
       "      <td>4162014</td>\n",
       "      <td>211</td>\n",
       "      <td>211/50</td>\n",
       "      <td>D19</td>\n",
       "      <td>D19/75</td>\n",
       "    </tr>\n",
       "    <tr>\n",
       "      <th>1</th>\n",
       "      <td>D257752</td>\n",
       "      <td>1980.0</td>\n",
       "      <td>4162014</td>\n",
       "      <td>211</td>\n",
       "      <td>211/55</td>\n",
       "      <td>D19</td>\n",
       "      <td>D19/75</td>\n",
       "    </tr>\n",
       "    <tr>\n",
       "      <th>2</th>\n",
       "      <td>D257752</td>\n",
       "      <td>1980.0</td>\n",
       "      <td>4162014</td>\n",
       "      <td>211</td>\n",
       "      <td>211/126.1</td>\n",
       "      <td>D19</td>\n",
       "      <td>D19/75</td>\n",
       "    </tr>\n",
       "    <tr>\n",
       "      <th>3</th>\n",
       "      <td>D257924</td>\n",
       "      <td>1980.0</td>\n",
       "      <td>4162014</td>\n",
       "      <td>211</td>\n",
       "      <td>211/50</td>\n",
       "      <td>D06</td>\n",
       "      <td>D06/573</td>\n",
       "    </tr>\n",
       "    <tr>\n",
       "      <th>4</th>\n",
       "      <td>D257924</td>\n",
       "      <td>1980.0</td>\n",
       "      <td>4162014</td>\n",
       "      <td>211</td>\n",
       "      <td>211/55</td>\n",
       "      <td>D06</td>\n",
       "      <td>D06/573</td>\n",
       "    </tr>\n",
       "  </tbody>\n",
       "</table>\n",
       "</div>"
      ],
      "text/plain": [
       "  patent_number  priority_date cited_patent_number cite_mainclass  \\\n",
       "0       D257752         1980.0             4162014            211   \n",
       "1       D257752         1980.0             4162014            211   \n",
       "2       D257752         1980.0             4162014            211   \n",
       "3       D257924         1980.0             4162014            211   \n",
       "4       D257924         1980.0             4162014            211   \n",
       "\n",
       "  cite_subclass focal_mainclass focal_subclass  \n",
       "0        211/50             D19         D19/75  \n",
       "1        211/55             D19         D19/75  \n",
       "2     211/126.1             D19         D19/75  \n",
       "3        211/50             D06        D06/573  \n",
       "4        211/55             D06        D06/573  "
      ]
     },
     "execution_count": 28,
     "metadata": {},
     "output_type": "execute_result"
    }
   ],
   "source": [
    "final = pd.read_csv('data/final_no_drops.csv')\n",
    "final.head()"
   ]
  },
  {
   "cell_type": "code",
   "execution_count": 29,
   "metadata": {
    "scrolled": true
   },
   "outputs": [],
   "source": [
    "# final.focal_mainclass.sort_values().unique()"
   ]
  },
  {
   "cell_type": "code",
   "execution_count": 30,
   "metadata": {
    "scrolled": true
   },
   "outputs": [],
   "source": [
    "# final.cite_mainclass.sort_values().unique()"
   ]
  },
  {
   "cell_type": "markdown",
   "metadata": {},
   "source": [
    "There are inconsitency in some of the class name. Ex: D01 and D1. This needs to be reconciled"
   ]
  },
  {
   "cell_type": "code",
   "execution_count": 31,
   "metadata": {
    "scrolled": true
   },
   "outputs": [],
   "source": [
    "class_dictionary = {'D1':'D01', 'D2':'D02', 'D3':'D03', 'D4':'D04', 'D5':'D05', 'D6':'D06', 'D7':'D07', 'D8':'D08', 'D9':'D09'}"
   ]
  },
  {
   "cell_type": "code",
   "execution_count": 32,
   "metadata": {},
   "outputs": [],
   "source": [
    "# replacing mainclass level\n",
    "final['cite_mainclass'] = final['cite_mainclass'].replace(class_dictionary)\n",
    "final['focal_mainclass'] = final['focal_mainclass'].replace(class_dictionary)"
   ]
  },
  {
   "cell_type": "code",
   "execution_count": 33,
   "metadata": {
    "scrolled": true
   },
   "outputs": [],
   "source": [
    "# final.cite_mainclass.sort_values().unique()"
   ]
  },
  {
   "cell_type": "code",
   "execution_count": 34,
   "metadata": {},
   "outputs": [],
   "source": [
    "#replacing subclass level\n",
    "#easier to remove portion of string than adding in the middle contionally. D1 and D01 are equivalent anyways\n",
    "final['cite_subclass'] = final['cite_subclass'].replace('D0', 'D', regex=True)\n",
    "final['focal_subclass'] = final['focal_subclass'].replace('D0', 'D', regex=True)\n"
   ]
  },
  {
   "cell_type": "markdown",
   "metadata": {},
   "source": [
    "No all patents have a typical class assignements or citations. Going to remove them from the master dataset and put them aside for further analysis"
   ]
  },
  {
   "cell_type": "code",
   "execution_count": 35,
   "metadata": {},
   "outputs": [],
   "source": [
    "# remove cite_mainclass from no longer published, or plant"
   ]
  },
  {
   "cell_type": "code",
   "execution_count": 36,
   "metadata": {
    "scrolled": true
   },
   "outputs": [],
   "source": [
    "special = final.loc[(final.cite_mainclass.str.contains('No longer published')) | (final.cite_mainclass.str.contains('PLT'))]"
   ]
  },
  {
   "cell_type": "code",
   "execution_count": 37,
   "metadata": {
    "scrolled": true
   },
   "outputs": [],
   "source": [
    "final = final.drop(special.index)"
   ]
  },
  {
   "cell_type": "code",
   "execution_count": 38,
   "metadata": {},
   "outputs": [
    {
     "data": {
      "text/plain": [
       "437678"
      ]
     },
     "execution_count": 38,
     "metadata": {},
     "output_type": "execute_result"
    }
   ],
   "source": [
    "final.patent_number.nunique()"
   ]
  },
  {
   "cell_type": "markdown",
   "metadata": {},
   "source": [
    "# Current patent count: 503,117"
   ]
  },
  {
   "cell_type": "code",
   "execution_count": 39,
   "metadata": {
    "scrolled": true
   },
   "outputs": [],
   "source": [
    "# remove design patent with utility class and utility patent with design class\n",
    "design_with_util_class = final.loc[(~final.focal_mainclass.str.contains('D'))]"
   ]
  },
  {
   "cell_type": "code",
   "execution_count": 40,
   "metadata": {},
   "outputs": [],
   "source": [
    "final = final.drop(design_with_util_class.index)"
   ]
  },
  {
   "cell_type": "code",
   "execution_count": 41,
   "metadata": {},
   "outputs": [],
   "source": [
    "utility_with_design_class = final.loc[(~final.cited_patent_number.str.contains('D')) & (final.cite_mainclass.str.contains('D'))]\n",
    "final = final.drop(utility_with_design_class.index)"
   ]
  },
  {
   "cell_type": "code",
   "execution_count": 42,
   "metadata": {},
   "outputs": [
    {
     "data": {
      "text/plain": [
       "437678"
      ]
     },
     "execution_count": 42,
     "metadata": {},
     "output_type": "execute_result"
    }
   ],
   "source": [
    "final.patent_number.nunique()"
   ]
  },
  {
   "cell_type": "markdown",
   "metadata": {},
   "source": [
    "# Current patent count: 503,107\n",
    "\n",
    "This is with very tradional design and utility classes"
   ]
  },
  {
   "cell_type": "code",
   "execution_count": 43,
   "metadata": {},
   "outputs": [],
   "source": [
    "outcast = pd.concat([special, design_with_util_class, utility_with_design_class])"
   ]
  },
  {
   "cell_type": "code",
   "execution_count": 44,
   "metadata": {
    "scrolled": true
   },
   "outputs": [
    {
     "data": {
      "text/plain": [
       "86907"
      ]
     },
     "execution_count": 44,
     "metadata": {},
     "output_type": "execute_result"
    }
   ],
   "source": [
    "outcast.patent_number.nunique()"
   ]
  },
  {
   "cell_type": "markdown",
   "metadata": {},
   "source": [
    "102,972 patents are affected by these extraordinary catogories, but only 21 patents overall were unusable"
   ]
  },
  {
   "cell_type": "code",
   "execution_count": 45,
   "metadata": {},
   "outputs": [],
   "source": [
    "#save\n",
    "# final.to_csv('data/final.csv', index_label=False)\n",
    "# outcast.to_csv('data/outcast.csv', index_label=False)\n",
    "\n",
    "# final.to_csv('data/final_481186.csv', index_label=False)\n"
   ]
  },
  {
   "cell_type": "code",
   "execution_count": null,
   "metadata": {},
   "outputs": [],
   "source": []
  }
 ],
 "metadata": {
  "kernelspec": {
   "display_name": "Python 3",
   "language": "python",
   "name": "python3"
  },
  "language_info": {
   "codemirror_mode": {
    "name": "ipython",
    "version": 3
   },
   "file_extension": ".py",
   "mimetype": "text/x-python",
   "name": "python",
   "nbconvert_exporter": "python",
   "pygments_lexer": "ipython3",
   "version": "3.6.5"
  }
 },
 "nbformat": 4,
 "nbformat_minor": 2
}
