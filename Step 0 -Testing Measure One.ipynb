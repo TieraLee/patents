{
 "cells": [
  {
   "cell_type": "markdown",
   "metadata": {},
   "source": [
    "# Evaluating if method 1 (novelty in recombination) from Veugelers paper is feasible\n",
    "\n",
    "Novelty in recombination: Determine if a pairwise combination of USPTO classes of a patent has occured previously, or is it the first (and thus novel) occurance"
   ]
  },
  {
   "cell_type": "code",
   "execution_count": 1,
   "metadata": {},
   "outputs": [],
   "source": [
    "import pandas as pd"
   ]
  },
  {
   "cell_type": "code",
   "execution_count": 2,
   "metadata": {},
   "outputs": [
    {
     "data": {
      "text/html": [
       "<div>\n",
       "<style scoped>\n",
       "    .dataframe tbody tr th:only-of-type {\n",
       "        vertical-align: middle;\n",
       "    }\n",
       "\n",
       "    .dataframe tbody tr th {\n",
       "        vertical-align: top;\n",
       "    }\n",
       "\n",
       "    .dataframe thead th {\n",
       "        text-align: right;\n",
       "    }\n",
       "</style>\n",
       "<table border=\"1\" class=\"dataframe\">\n",
       "  <thead>\n",
       "    <tr style=\"text-align: right;\">\n",
       "      <th></th>\n",
       "      <th>patent_number</th>\n",
       "      <th>app_date</th>\n",
       "      <th>class</th>\n",
       "      <th>mainclass</th>\n",
       "    </tr>\n",
       "  </thead>\n",
       "  <tbody>\n",
       "    <tr>\n",
       "      <th>0</th>\n",
       "      <td>D257924</td>\n",
       "      <td>1980-01-14</td>\n",
       "      <td>D06/573</td>\n",
       "      <td>D06</td>\n",
       "    </tr>\n",
       "    <tr>\n",
       "      <th>1</th>\n",
       "      <td>D258382</td>\n",
       "      <td>1980-01-17</td>\n",
       "      <td>D23/214</td>\n",
       "      <td>D23</td>\n",
       "    </tr>\n",
       "    <tr>\n",
       "      <th>2</th>\n",
       "      <td>D258383</td>\n",
       "      <td>1980-01-17</td>\n",
       "      <td>D23/214</td>\n",
       "      <td>D23</td>\n",
       "    </tr>\n",
       "    <tr>\n",
       "      <th>3</th>\n",
       "      <td>D258571</td>\n",
       "      <td>1980-04-03</td>\n",
       "      <td>D09/560</td>\n",
       "      <td>D09</td>\n",
       "    </tr>\n",
       "    <tr>\n",
       "      <th>4</th>\n",
       "      <td>D258650</td>\n",
       "      <td>1980-06-09</td>\n",
       "      <td>D12/410</td>\n",
       "      <td>D12</td>\n",
       "    </tr>\n",
       "  </tbody>\n",
       "</table>\n",
       "</div>"
      ],
      "text/plain": [
       "  patent_number    app_date    class mainclass\n",
       "0       D257924  1980-01-14  D06/573       D06\n",
       "1       D258382  1980-01-17  D23/214       D23\n",
       "2       D258383  1980-01-17  D23/214       D23\n",
       "3       D258571  1980-04-03  D09/560       D09\n",
       "4       D258650  1980-06-09  D12/410       D12"
      ]
     },
     "execution_count": 2,
     "metadata": {},
     "output_type": "execute_result"
    }
   ],
   "source": [
    "#take in data\n",
    "master = pd.read_csv('USDesign.csv')\n",
    "master.head()"
   ]
  },
  {
   "cell_type": "markdown",
   "metadata": {},
   "source": [
    "Based off full classification"
   ]
  },
  {
   "cell_type": "code",
   "execution_count": 4,
   "metadata": {},
   "outputs": [],
   "source": [
    "num_pats = master.patent_number.nunique()"
   ]
  },
  {
   "cell_type": "code",
   "execution_count": 5,
   "metadata": {},
   "outputs": [
    {
     "data": {
      "text/plain": [
       "415134"
      ]
     },
     "execution_count": 5,
     "metadata": {},
     "output_type": "execute_result"
    }
   ],
   "source": [
    "num_pats"
   ]
  },
  {
   "cell_type": "code",
   "execution_count": 6,
   "metadata": {},
   "outputs": [],
   "source": [
    "num_pats_multiclass = master[master.duplicated(subset=['patent_number'], keep=False)].patent_number.nunique()"
   ]
  },
  {
   "cell_type": "code",
   "execution_count": 7,
   "metadata": {},
   "outputs": [
    {
     "data": {
      "text/plain": [
       "113248"
      ]
     },
     "execution_count": 7,
     "metadata": {},
     "output_type": "execute_result"
    }
   ],
   "source": [
    "num_pats_multiclass"
   ]
  },
  {
   "cell_type": "code",
   "execution_count": 8,
   "metadata": {},
   "outputs": [
    {
     "data": {
      "text/plain": [
       "72.72013373994903"
      ]
     },
     "execution_count": 8,
     "metadata": {},
     "output_type": "execute_result"
    }
   ],
   "source": [
    "((num_pats - num_pats_multiclass)/num_pats) * 100"
   ]
  },
  {
   "cell_type": "markdown",
   "metadata": {},
   "source": [
    "~~There are 342,800 data points representing 312,050 unique patent numbers. 27,448 of these patents have more than one class associated with them at the group level, resulting in 90% of the patent population only having one class. Based on these metrics, it is **not** appropriate to use novelty in recombination as a measure.~~\n",
    "\n",
    "~~**Important** The statement above was determined during the intial data query, which was only requesting the group level classification.~~\n",
    "\n",
    "~~There are 358,321 data data points representing 254,113 unique patent numbers. More work will have to be done to understand why there is a discrepancy between the first and second totals of unique patent numbers. 72,758 Of these patents have classes associated with them, resulting in 71.36% of the patents only havine one class. Based on these metrics, it is not appropriate to use novelty in recombination as a measure.~~\n",
    "\n",
    "The lastest pull represents 415,134 unique patent numbers. Of these about 72% of the patents only have one class associated with them. Based off this, novelty in recombination does not seem like the best method"
   ]
  },
  {
   "cell_type": "code",
   "execution_count": null,
   "metadata": {},
   "outputs": [],
   "source": []
  }
 ],
 "metadata": {
  "kernelspec": {
   "display_name": "Python 3",
   "language": "python",
   "name": "python3"
  },
  "language_info": {
   "codemirror_mode": {
    "name": "ipython",
    "version": 3
   },
   "file_extension": ".py",
   "mimetype": "text/x-python",
   "name": "python",
   "nbconvert_exporter": "python",
   "pygments_lexer": "ipython3",
   "version": "3.6.4"
  }
 },
 "nbformat": 4,
 "nbformat_minor": 2
}
