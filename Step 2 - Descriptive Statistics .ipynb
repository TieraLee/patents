{
 "cells": [
  {
   "cell_type": "markdown",
   "metadata": {},
   "source": [
    "# Let's examin our dataset in detail and get some descriptive statistics and graphs going on here"
   ]
  },
  {
   "cell_type": "code",
   "execution_count": 6,
   "metadata": {},
   "outputs": [],
   "source": [
    "import pandas as pd\n",
    "import numpy as np\n",
    "import matplotlib.pyplot as plt\n",
    "%matplotlib inline\n"
   ]
  },
  {
   "cell_type": "code",
   "execution_count": 3,
   "metadata": {},
   "outputs": [
    {
     "data": {
      "text/html": [
       "<div>\n",
       "<style scoped>\n",
       "    .dataframe tbody tr th:only-of-type {\n",
       "        vertical-align: middle;\n",
       "    }\n",
       "\n",
       "    .dataframe tbody tr th {\n",
       "        vertical-align: top;\n",
       "    }\n",
       "\n",
       "    .dataframe thead th {\n",
       "        text-align: right;\n",
       "    }\n",
       "</style>\n",
       "<table border=\"1\" class=\"dataframe\">\n",
       "  <thead>\n",
       "    <tr style=\"text-align: right;\">\n",
       "      <th></th>\n",
       "      <th>patent_number</th>\n",
       "      <th>grant_year</th>\n",
       "      <th>app_year</th>\n",
       "      <th>num_inventors</th>\n",
       "      <th>us_inventor</th>\n",
       "      <th>cite_foreign_patent</th>\n",
       "      <th>is_missing</th>\n",
       "      <th>num_design_cited</th>\n",
       "      <th>num_utility_cited</th>\n",
       "      <th>non-pat_refs</th>\n",
       "      <th>num_figures</th>\n",
       "      <th>num_assignees</th>\n",
       "    </tr>\n",
       "  </thead>\n",
       "  <tbody>\n",
       "    <tr>\n",
       "      <th>0</th>\n",
       "      <td>D257752</td>\n",
       "      <td>1981</td>\n",
       "      <td>1980</td>\n",
       "      <td>1</td>\n",
       "      <td>1.0</td>\n",
       "      <td>0.0</td>\n",
       "      <td>1</td>\n",
       "      <td>1</td>\n",
       "      <td>2</td>\n",
       "      <td>1.0</td>\n",
       "      <td>6.0</td>\n",
       "      <td>1</td>\n",
       "    </tr>\n",
       "    <tr>\n",
       "      <th>1</th>\n",
       "      <td>D257924</td>\n",
       "      <td>1981</td>\n",
       "      <td>1980</td>\n",
       "      <td>1</td>\n",
       "      <td>1.0</td>\n",
       "      <td>0.0</td>\n",
       "      <td>1</td>\n",
       "      <td>1</td>\n",
       "      <td>2</td>\n",
       "      <td>1.0</td>\n",
       "      <td>6.0</td>\n",
       "      <td>1</td>\n",
       "    </tr>\n",
       "    <tr>\n",
       "      <th>2</th>\n",
       "      <td>D258382</td>\n",
       "      <td>1981</td>\n",
       "      <td>1980</td>\n",
       "      <td>2</td>\n",
       "      <td>1.0</td>\n",
       "      <td>0.0</td>\n",
       "      <td>1</td>\n",
       "      <td>2</td>\n",
       "      <td>1</td>\n",
       "      <td>0.0</td>\n",
       "      <td>5.0</td>\n",
       "      <td>1</td>\n",
       "    </tr>\n",
       "    <tr>\n",
       "      <th>3</th>\n",
       "      <td>D258383</td>\n",
       "      <td>1981</td>\n",
       "      <td>1980</td>\n",
       "      <td>2</td>\n",
       "      <td>1.0</td>\n",
       "      <td>0.0</td>\n",
       "      <td>1</td>\n",
       "      <td>2</td>\n",
       "      <td>1</td>\n",
       "      <td>0.0</td>\n",
       "      <td>5.0</td>\n",
       "      <td>1</td>\n",
       "    </tr>\n",
       "    <tr>\n",
       "      <th>4</th>\n",
       "      <td>D258571</td>\n",
       "      <td>1981</td>\n",
       "      <td>1980</td>\n",
       "      <td>1</td>\n",
       "      <td>1.0</td>\n",
       "      <td>0.0</td>\n",
       "      <td>1</td>\n",
       "      <td>1</td>\n",
       "      <td>1</td>\n",
       "      <td>0.0</td>\n",
       "      <td>2.0</td>\n",
       "      <td>1</td>\n",
       "    </tr>\n",
       "  </tbody>\n",
       "</table>\n",
       "</div>"
      ],
      "text/plain": [
       "  patent_number  grant_year  app_year  num_inventors  us_inventor  \\\n",
       "0       D257752        1981      1980              1          1.0   \n",
       "1       D257924        1981      1980              1          1.0   \n",
       "2       D258382        1981      1980              2          1.0   \n",
       "3       D258383        1981      1980              2          1.0   \n",
       "4       D258571        1981      1980              1          1.0   \n",
       "\n",
       "   cite_foreign_patent  is_missing  num_design_cited  num_utility_cited  \\\n",
       "0                  0.0           1                 1                  2   \n",
       "1                  0.0           1                 1                  2   \n",
       "2                  0.0           1                 2                  1   \n",
       "3                  0.0           1                 2                  1   \n",
       "4                  0.0           1                 1                  1   \n",
       "\n",
       "   non-pat_refs  num_figures  num_assignees  \n",
       "0           1.0          6.0              1  \n",
       "1           1.0          6.0              1  \n",
       "2           0.0          5.0              1  \n",
       "3           0.0          5.0              1  \n",
       "4           0.0          2.0              1  "
      ]
     },
     "execution_count": 3,
     "metadata": {},
     "output_type": "execute_result"
    }
   ],
   "source": [
    "master = pd.read_csv('master.csv')\n",
    "master.head()"
   ]
  },
  {
   "cell_type": "markdown",
   "metadata": {},
   "source": [
    "Descriptive statisitcs\n",
    "Note: Grant year and app year are not applicable columns for this"
   ]
  },
  {
   "cell_type": "code",
   "execution_count": 4,
   "metadata": {},
   "outputs": [
    {
     "data": {
      "text/html": [
       "<div>\n",
       "<style scoped>\n",
       "    .dataframe tbody tr th:only-of-type {\n",
       "        vertical-align: middle;\n",
       "    }\n",
       "\n",
       "    .dataframe tbody tr th {\n",
       "        vertical-align: top;\n",
       "    }\n",
       "\n",
       "    .dataframe thead th {\n",
       "        text-align: right;\n",
       "    }\n",
       "</style>\n",
       "<table border=\"1\" class=\"dataframe\">\n",
       "  <thead>\n",
       "    <tr style=\"text-align: right;\">\n",
       "      <th></th>\n",
       "      <th>grant_year</th>\n",
       "      <th>app_year</th>\n",
       "      <th>num_inventors</th>\n",
       "      <th>us_inventor</th>\n",
       "      <th>cite_foreign_patent</th>\n",
       "      <th>is_missing</th>\n",
       "      <th>num_design_cited</th>\n",
       "      <th>num_utility_cited</th>\n",
       "      <th>non-pat_refs</th>\n",
       "      <th>num_figures</th>\n",
       "      <th>num_assignees</th>\n",
       "    </tr>\n",
       "  </thead>\n",
       "  <tbody>\n",
       "    <tr>\n",
       "      <th>count</th>\n",
       "      <td>525490.000000</td>\n",
       "      <td>525490.000000</td>\n",
       "      <td>525490.000000</td>\n",
       "      <td>525490.000000</td>\n",
       "      <td>525490.000000</td>\n",
       "      <td>525490.000000</td>\n",
       "      <td>525490.000000</td>\n",
       "      <td>525490.000000</td>\n",
       "      <td>525490.000000</td>\n",
       "      <td>525490.000000</td>\n",
       "      <td>525490.000000</td>\n",
       "    </tr>\n",
       "    <tr>\n",
       "      <th>mean</th>\n",
       "      <td>2004.314710</td>\n",
       "      <td>2002.757445</td>\n",
       "      <td>1.779726</td>\n",
       "      <td>0.598485</td>\n",
       "      <td>0.136646</td>\n",
       "      <td>0.551676</td>\n",
       "      <td>9.162595</td>\n",
       "      <td>4.275358</td>\n",
       "      <td>1.308341</td>\n",
       "      <td>7.032210</td>\n",
       "      <td>1.007928</td>\n",
       "    </tr>\n",
       "    <tr>\n",
       "      <th>std</th>\n",
       "      <td>9.031546</td>\n",
       "      <td>9.326707</td>\n",
       "      <td>1.462698</td>\n",
       "      <td>0.490205</td>\n",
       "      <td>0.343473</td>\n",
       "      <td>0.497323</td>\n",
       "      <td>14.498546</td>\n",
       "      <td>13.186508</td>\n",
       "      <td>7.008215</td>\n",
       "      <td>4.448545</td>\n",
       "      <td>0.097574</td>\n",
       "    </tr>\n",
       "    <tr>\n",
       "      <th>min</th>\n",
       "      <td>1981.000000</td>\n",
       "      <td>1980.000000</td>\n",
       "      <td>1.000000</td>\n",
       "      <td>0.000000</td>\n",
       "      <td>0.000000</td>\n",
       "      <td>0.000000</td>\n",
       "      <td>0.000000</td>\n",
       "      <td>0.000000</td>\n",
       "      <td>0.000000</td>\n",
       "      <td>0.000000</td>\n",
       "      <td>1.000000</td>\n",
       "    </tr>\n",
       "    <tr>\n",
       "      <th>25%</th>\n",
       "      <td>1998.000000</td>\n",
       "      <td>1996.000000</td>\n",
       "      <td>1.000000</td>\n",
       "      <td>0.000000</td>\n",
       "      <td>0.000000</td>\n",
       "      <td>0.000000</td>\n",
       "      <td>3.000000</td>\n",
       "      <td>1.000000</td>\n",
       "      <td>0.000000</td>\n",
       "      <td>5.000000</td>\n",
       "      <td>1.000000</td>\n",
       "    </tr>\n",
       "    <tr>\n",
       "      <th>50%</th>\n",
       "      <td>2006.000000</td>\n",
       "      <td>2005.000000</td>\n",
       "      <td>1.000000</td>\n",
       "      <td>1.000000</td>\n",
       "      <td>0.000000</td>\n",
       "      <td>1.000000</td>\n",
       "      <td>5.000000</td>\n",
       "      <td>2.000000</td>\n",
       "      <td>0.000000</td>\n",
       "      <td>7.000000</td>\n",
       "      <td>1.000000</td>\n",
       "    </tr>\n",
       "    <tr>\n",
       "      <th>75%</th>\n",
       "      <td>2012.000000</td>\n",
       "      <td>2011.000000</td>\n",
       "      <td>2.000000</td>\n",
       "      <td>1.000000</td>\n",
       "      <td>0.000000</td>\n",
       "      <td>1.000000</td>\n",
       "      <td>11.000000</td>\n",
       "      <td>4.000000</td>\n",
       "      <td>1.000000</td>\n",
       "      <td>8.000000</td>\n",
       "      <td>1.000000</td>\n",
       "    </tr>\n",
       "    <tr>\n",
       "      <th>max</th>\n",
       "      <td>2017.000000</td>\n",
       "      <td>2015.000000</td>\n",
       "      <td>37.000000</td>\n",
       "      <td>1.000000</td>\n",
       "      <td>1.000000</td>\n",
       "      <td>1.000000</td>\n",
       "      <td>562.000000</td>\n",
       "      <td>989.000000</td>\n",
       "      <td>540.000000</td>\n",
       "      <td>576.000000</td>\n",
       "      <td>8.000000</td>\n",
       "    </tr>\n",
       "  </tbody>\n",
       "</table>\n",
       "</div>"
      ],
      "text/plain": [
       "          grant_year       app_year  num_inventors    us_inventor  \\\n",
       "count  525490.000000  525490.000000  525490.000000  525490.000000   \n",
       "mean     2004.314710    2002.757445       1.779726       0.598485   \n",
       "std         9.031546       9.326707       1.462698       0.490205   \n",
       "min      1981.000000    1980.000000       1.000000       0.000000   \n",
       "25%      1998.000000    1996.000000       1.000000       0.000000   \n",
       "50%      2006.000000    2005.000000       1.000000       1.000000   \n",
       "75%      2012.000000    2011.000000       2.000000       1.000000   \n",
       "max      2017.000000    2015.000000      37.000000       1.000000   \n",
       "\n",
       "       cite_foreign_patent     is_missing  num_design_cited  \\\n",
       "count        525490.000000  525490.000000     525490.000000   \n",
       "mean              0.136646       0.551676          9.162595   \n",
       "std               0.343473       0.497323         14.498546   \n",
       "min               0.000000       0.000000          0.000000   \n",
       "25%               0.000000       0.000000          3.000000   \n",
       "50%               0.000000       1.000000          5.000000   \n",
       "75%               0.000000       1.000000         11.000000   \n",
       "max               1.000000       1.000000        562.000000   \n",
       "\n",
       "       num_utility_cited   non-pat_refs    num_figures  num_assignees  \n",
       "count      525490.000000  525490.000000  525490.000000  525490.000000  \n",
       "mean            4.275358       1.308341       7.032210       1.007928  \n",
       "std            13.186508       7.008215       4.448545       0.097574  \n",
       "min             0.000000       0.000000       0.000000       1.000000  \n",
       "25%             1.000000       0.000000       5.000000       1.000000  \n",
       "50%             2.000000       0.000000       7.000000       1.000000  \n",
       "75%             4.000000       1.000000       8.000000       1.000000  \n",
       "max           989.000000     540.000000     576.000000       8.000000  "
      ]
     },
     "execution_count": 4,
     "metadata": {},
     "output_type": "execute_result"
    }
   ],
   "source": [
    "#grant year and app year are not applicat\n",
    "master.describe()"
   ]
  },
  {
   "cell_type": "markdown",
   "metadata": {},
   "source": [
    "# missing references\n",
    "\n",
    "There are approx: 55.167% patents affected by missing references"
   ]
  },
  {
   "cell_type": "code",
   "execution_count": 19,
   "metadata": {},
   "outputs": [
    {
     "data": {
      "text/plain": [
       "<matplotlib.axes._subplots.AxesSubplot at 0x7f96f4c9f048>"
      ]
     },
     "execution_count": 19,
     "metadata": {},
     "output_type": "execute_result"
    },
    {
     "data": {
      "image/png": "[encoded data removed]",
      "text/plain": [
       "<Figure size 432x288 with 1 Axes>"
      ]
     },
     "metadata": {},
     "output_type": "display_data"
    }
   ],
   "source": [
    "master[master['is_missing'] == 1].groupby('app_year')['is_missing'].count().plot(title=\"Number of Patents Affected By Missing References\")"
   ]
  },
  {
   "cell_type": "markdown",
   "metadata": {},
   "source": [
    "# Task 1- Graphs of descriptive trends over time"
   ]
  },
  {
   "cell_type": "code",
   "execution_count": 23,
   "metadata": {},
   "outputs": [
    {
     "data": {
      "text/plain": [
       "<matplotlib.axes._subplots.AxesSubplot at 0x7f96f4c7ff28>"
      ]
     },
     "execution_count": 23,
     "metadata": {},
     "output_type": "execute_result"
    },
    {
     "data": {
      "image/png": "[encoded data removed]",
      "text/plain": [
       "<Figure size 432x288 with 1 Axes>"
      ]
     },
     "metadata": {},
     "output_type": "display_data"
    }
   ],
   "source": [
    "master.groupby('app_year')['patent_number'].count().plot(title=\"USPTO Design Patent Activity by Application Year\")"
   ]
  },
  {
   "cell_type": "code",
   "execution_count": 24,
   "metadata": {},
   "outputs": [
    {
     "data": {
      "text/plain": [
       "<matplotlib.axes._subplots.AxesSubplot at 0x7f96f4be1390>"
      ]
     },
     "execution_count": 24,
     "metadata": {},
     "output_type": "execute_result"
    },
    {
     "data": {
      "image/png": "[encoded data removed]",
      "text/plain": [
       "<Figure size 432x288 with 1 Axes>"
      ]
     },
     "metadata": {},
     "output_type": "display_data"
    }
   ],
   "source": [
    "master.groupby('grant_year')['patent_number'].count().plot(title=\"USPTO Design Patent Activity by Grant Year\")"
   ]
  },
  {
   "cell_type": "code",
   "execution_count": null,
   "metadata": {},
   "outputs": [],
   "source": []
  }
 ],
 "metadata": {
  "kernelspec": {
   "display_name": "Python 3",
   "language": "python",
   "name": "python3"
  },
  "language_info": {
   "codemirror_mode": {
    "name": "ipython",
    "version": 3
   },
   "file_extension": ".py",
   "mimetype": "text/x-python",
   "name": "python",
   "nbconvert_exporter": "python",
   "pygments_lexer": "ipython3",
   "version": "3.6.5"
  }
 },
 "nbformat": 4,
 "nbformat_minor": 2
}
