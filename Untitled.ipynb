{
 "cells": [
  {
   "cell_type": "code",
   "execution_count": 38,
   "metadata": {
    "collapsed": true
   },
   "outputs": [],
   "source": [
    "import pandas as pd\n",
    "import numpy as np\n",
    "import matplotlib.pyplot as plt\n",
    "%matplotlib inline"
   ]
  },
  {
   "cell_type": "code",
   "execution_count": 2,
   "metadata": {
    "collapsed": true
   },
   "outputs": [],
   "source": [
    "apps = pd.read_csv('application.tsv',delimiter = '\\t', usecols=['patent_id','date'], dtype={'patent_id':str}, parse_dates=['date'])"
   ]
  },
  {
   "cell_type": "code",
   "execution_count": 3,
   "metadata": {},
   "outputs": [
    {
     "data": {
      "text/html": [
       "<div>\n",
       "<style>\n",
       "    .dataframe thead tr:only-child th {\n",
       "        text-align: right;\n",
       "    }\n",
       "\n",
       "    .dataframe thead th {\n",
       "        text-align: left;\n",
       "    }\n",
       "\n",
       "    .dataframe tbody tr th {\n",
       "        vertical-align: top;\n",
       "    }\n",
       "</style>\n",
       "<table border=\"1\" class=\"dataframe\">\n",
       "  <thead>\n",
       "    <tr style=\"text-align: right;\">\n",
       "      <th></th>\n",
       "      <th>patent_id</th>\n",
       "      <th>date</th>\n",
       "    </tr>\n",
       "  </thead>\n",
       "  <tbody>\n",
       "    <tr>\n",
       "      <th>0</th>\n",
       "      <td>D345393</td>\n",
       "      <td>1992-12-21</td>\n",
       "    </tr>\n",
       "    <tr>\n",
       "      <th>1</th>\n",
       "      <td>5164715</td>\n",
       "      <td>1990-04-10</td>\n",
       "    </tr>\n",
       "    <tr>\n",
       "      <th>2</th>\n",
       "      <td>5177974</td>\n",
       "      <td>1988-06-23</td>\n",
       "    </tr>\n",
       "    <tr>\n",
       "      <th>3</th>\n",
       "      <td>5379515</td>\n",
       "      <td>1994-02-16</td>\n",
       "    </tr>\n",
       "    <tr>\n",
       "      <th>4</th>\n",
       "      <td>5264790</td>\n",
       "      <td>1991-07-01</td>\n",
       "    </tr>\n",
       "  </tbody>\n",
       "</table>\n",
       "</div>"
      ],
      "text/plain": [
       "  patent_id        date\n",
       "0   D345393  1992-12-21\n",
       "1   5164715  1990-04-10\n",
       "2   5177974  1988-06-23\n",
       "3   5379515  1994-02-16\n",
       "4   5264790  1991-07-01"
      ]
     },
     "execution_count": 3,
     "metadata": {},
     "output_type": "execute_result"
    }
   ],
   "source": [
    "apps.head()"
   ]
  },
  {
   "cell_type": "markdown",
   "metadata": {},
   "source": [
    "Select applications from the 1980s forward"
   ]
  },
  {
   "cell_type": "code",
   "execution_count": 4,
   "metadata": {
    "collapsed": true
   },
   "outputs": [],
   "source": [
    "apps.date = pd.to_datetime(apps.date, errors='coerce')"
   ]
  },
  {
   "cell_type": "code",
   "execution_count": 5,
   "metadata": {
    "collapsed": true
   },
   "outputs": [],
   "source": [
    "ts = pd.to_datetime('1980')\n",
    "master = apps[apps.date >= ts]"
   ]
  },
  {
   "cell_type": "markdown",
   "metadata": {},
   "source": [
    "Select Design Patents based off patent id"
   ]
  },
  {
   "cell_type": "code",
   "execution_count": 6,
   "metadata": {
    "collapsed": true
   },
   "outputs": [],
   "source": [
    "master = master[master.patent_id.str.contains('D')]"
   ]
  },
  {
   "cell_type": "markdown",
   "metadata": {},
   "source": [
    "Select design patents based off US inventors"
   ]
  },
  {
   "cell_type": "code",
   "execution_count": 7,
   "metadata": {
    "collapsed": true
   },
   "outputs": [],
   "source": [
    "inventors = pd.read_csv('rawinventor.tsv', delimiter='\\t', usecols=['patent_id','rawlocation_id','name_first','name_last','sequence'],\n",
    "                       dtype={'patent_id':str, 'raw_location_id':str, 'name_first':str, 'name_last':str, 'sequence':np.int64})"
   ]
  },
  {
   "cell_type": "code",
   "execution_count": 8,
   "metadata": {
    "collapsed": true
   },
   "outputs": [],
   "source": [
    "locations = pd.read_csv('rawlocation.tsv', delimiter='\\t',usecols=['id','city','state','country','location_id_transformed'],\n",
    "            dtype= {'id':str,'city':str, 'state':str,'country':str, 'location_id_transformed':str})"
   ]
  },
  {
   "cell_type": "code",
   "execution_count": 9,
   "metadata": {},
   "outputs": [
    {
     "data": {
      "text/html": [
       "<div>\n",
       "<style>\n",
       "    .dataframe thead tr:only-child th {\n",
       "        text-align: right;\n",
       "    }\n",
       "\n",
       "    .dataframe thead th {\n",
       "        text-align: left;\n",
       "    }\n",
       "\n",
       "    .dataframe tbody tr th {\n",
       "        vertical-align: top;\n",
       "    }\n",
       "</style>\n",
       "<table border=\"1\" class=\"dataframe\">\n",
       "  <thead>\n",
       "    <tr style=\"text-align: right;\">\n",
       "      <th></th>\n",
       "      <th>patent_id</th>\n",
       "      <th>rawlocation_id</th>\n",
       "      <th>name_first</th>\n",
       "      <th>name_last</th>\n",
       "      <th>sequence</th>\n",
       "    </tr>\n",
       "  </thead>\n",
       "  <tbody>\n",
       "    <tr>\n",
       "      <th>0</th>\n",
       "      <td>9515408</td>\n",
       "      <td>3usfjd36zpw4ynhorsmpkg6zy</td>\n",
       "      <td>Nicholas Paul</td>\n",
       "      <td>Ruffini</td>\n",
       "      <td>5</td>\n",
       "    </tr>\n",
       "    <tr>\n",
       "      <th>1</th>\n",
       "      <td>6584128</td>\n",
       "      <td>o2ema6bl3kkh6iwziprbzu4m9</td>\n",
       "      <td>Richard</td>\n",
       "      <td>Kroeger</td>\n",
       "      <td>0</td>\n",
       "    </tr>\n",
       "    <tr>\n",
       "      <th>2</th>\n",
       "      <td>4789863</td>\n",
       "      <td>tkz70bmoqx88n1lfz3fl657lh</td>\n",
       "      <td>Thomas A.</td>\n",
       "      <td>Bush</td>\n",
       "      <td>0</td>\n",
       "    </tr>\n",
       "    <tr>\n",
       "      <th>3</th>\n",
       "      <td>6795487</td>\n",
       "      <td>96s3xenagksk3dyad1r777a9e</td>\n",
       "      <td>Gerald</td>\n",
       "      <td>Whitworth</td>\n",
       "      <td>1</td>\n",
       "    </tr>\n",
       "    <tr>\n",
       "      <th>4</th>\n",
       "      <td>D474886</td>\n",
       "      <td>cmf9hebugybql8ufffo47uwcz</td>\n",
       "      <td>Thomas W.</td>\n",
       "      <td>Fleming</td>\n",
       "      <td>0</td>\n",
       "    </tr>\n",
       "  </tbody>\n",
       "</table>\n",
       "</div>"
      ],
      "text/plain": [
       "  patent_id             rawlocation_id     name_first  name_last  sequence\n",
       "0   9515408  3usfjd36zpw4ynhorsmpkg6zy  Nicholas Paul    Ruffini         5\n",
       "1   6584128  o2ema6bl3kkh6iwziprbzu4m9        Richard    Kroeger         0\n",
       "2   4789863  tkz70bmoqx88n1lfz3fl657lh      Thomas A.       Bush         0\n",
       "3   6795487  96s3xenagksk3dyad1r777a9e         Gerald  Whitworth         1\n",
       "4   D474886  cmf9hebugybql8ufffo47uwcz      Thomas W.    Fleming         0"
      ]
     },
     "execution_count": 9,
     "metadata": {},
     "output_type": "execute_result"
    }
   ],
   "source": [
    "inventors.head()"
   ]
  },
  {
   "cell_type": "code",
   "execution_count": 10,
   "metadata": {},
   "outputs": [
    {
     "data": {
      "text/html": [
       "<div>\n",
       "<style>\n",
       "    .dataframe thead tr:only-child th {\n",
       "        text-align: right;\n",
       "    }\n",
       "\n",
       "    .dataframe thead th {\n",
       "        text-align: left;\n",
       "    }\n",
       "\n",
       "    .dataframe tbody tr th {\n",
       "        vertical-align: top;\n",
       "    }\n",
       "</style>\n",
       "<table border=\"1\" class=\"dataframe\">\n",
       "  <thead>\n",
       "    <tr style=\"text-align: right;\">\n",
       "      <th></th>\n",
       "      <th>id</th>\n",
       "      <th>city</th>\n",
       "      <th>state</th>\n",
       "      <th>country</th>\n",
       "      <th>location_id_transformed</th>\n",
       "    </tr>\n",
       "  </thead>\n",
       "  <tbody>\n",
       "    <tr>\n",
       "      <th>0</th>\n",
       "      <td>000035ewn5fb3oerojqwcw4hg</td>\n",
       "      <td>Tokyo</td>\n",
       "      <td>NaN</td>\n",
       "      <td>JP</td>\n",
       "      <td>35.685|139.751389</td>\n",
       "    </tr>\n",
       "    <tr>\n",
       "      <th>1</th>\n",
       "      <td>00009e4hmsyr396nx2bo0ld17</td>\n",
       "      <td>Colorado Springs</td>\n",
       "      <td>CO</td>\n",
       "      <td>US</td>\n",
       "      <td>38.8338889|-104.8208333</td>\n",
       "    </tr>\n",
       "    <tr>\n",
       "      <th>2</th>\n",
       "      <td>0000b606fnwnupiane3dfkoyl</td>\n",
       "      <td>Baton Rouge</td>\n",
       "      <td>LA</td>\n",
       "      <td>US</td>\n",
       "      <td>30.4505556|-91.1544444</td>\n",
       "    </tr>\n",
       "    <tr>\n",
       "      <th>3</th>\n",
       "      <td>0000k2elx4we5g8f0mq96nwh9</td>\n",
       "      <td>Delhi</td>\n",
       "      <td>NaN</td>\n",
       "      <td>IN</td>\n",
       "      <td>28.4512815|76.9111575</td>\n",
       "    </tr>\n",
       "    <tr>\n",
       "      <th>4</th>\n",
       "      <td>0000m7q4vqehbzmlwwdqnleho</td>\n",
       "      <td>Lauchheim</td>\n",
       "      <td>NaN</td>\n",
       "      <td>DE</td>\n",
       "      <td>48.866667|10.25</td>\n",
       "    </tr>\n",
       "  </tbody>\n",
       "</table>\n",
       "</div>"
      ],
      "text/plain": [
       "                          id              city state country  \\\n",
       "0  000035ewn5fb3oerojqwcw4hg             Tokyo   NaN      JP   \n",
       "1  00009e4hmsyr396nx2bo0ld17  Colorado Springs    CO      US   \n",
       "2  0000b606fnwnupiane3dfkoyl       Baton Rouge    LA      US   \n",
       "3  0000k2elx4we5g8f0mq96nwh9             Delhi   NaN      IN   \n",
       "4  0000m7q4vqehbzmlwwdqnleho         Lauchheim   NaN      DE   \n",
       "\n",
       "   location_id_transformed  \n",
       "0        35.685|139.751389  \n",
       "1  38.8338889|-104.8208333  \n",
       "2   30.4505556|-91.1544444  \n",
       "3    28.4512815|76.9111575  \n",
       "4          48.866667|10.25  "
      ]
     },
     "execution_count": 10,
     "metadata": {},
     "output_type": "execute_result"
    }
   ],
   "source": [
    "locations.head()"
   ]
  },
  {
   "cell_type": "code",
   "execution_count": 11,
   "metadata": {
    "collapsed": true
   },
   "outputs": [],
   "source": [
    "#select first inventors\n",
    "inventors = inventors[inventors.sequence == 0]"
   ]
  },
  {
   "cell_type": "code",
   "execution_count": 12,
   "metadata": {},
   "outputs": [],
   "source": [
    "#select US inventors\n",
    "locations.dropna(subset=['country'],inplace=True)\n",
    "locations = locations[locations.country.str.contains('US')]"
   ]
  },
  {
   "cell_type": "code",
   "execution_count": 13,
   "metadata": {},
   "outputs": [],
   "source": [
    "inventors.rename(index=str, columns={\"rawlocation_id\": \"id\"}, inplace = True)\n",
    "inventors_locations = pd.merge(inventors, locations, on='id', how='inner')"
   ]
  },
  {
   "cell_type": "code",
   "execution_count": 15,
   "metadata": {},
   "outputs": [],
   "source": [
    "master = pd.merge(inventors_locations, master,on='patent_id', how ='inner')"
   ]
  },
  {
   "cell_type": "code",
   "execution_count": 16,
   "metadata": {},
   "outputs": [
    {
     "data": {
      "text/html": [
       "<div>\n",
       "<style>\n",
       "    .dataframe thead tr:only-child th {\n",
       "        text-align: right;\n",
       "    }\n",
       "\n",
       "    .dataframe thead th {\n",
       "        text-align: left;\n",
       "    }\n",
       "\n",
       "    .dataframe tbody tr th {\n",
       "        vertical-align: top;\n",
       "    }\n",
       "</style>\n",
       "<table border=\"1\" class=\"dataframe\">\n",
       "  <thead>\n",
       "    <tr style=\"text-align: right;\">\n",
       "      <th></th>\n",
       "      <th>patent_id</th>\n",
       "      <th>id</th>\n",
       "      <th>name_first</th>\n",
       "      <th>name_last</th>\n",
       "      <th>sequence</th>\n",
       "      <th>city</th>\n",
       "      <th>state</th>\n",
       "      <th>country</th>\n",
       "      <th>location_id_transformed</th>\n",
       "      <th>date</th>\n",
       "    </tr>\n",
       "  </thead>\n",
       "  <tbody>\n",
       "    <tr>\n",
       "      <th>0</th>\n",
       "      <td>D474886</td>\n",
       "      <td>cmf9hebugybql8ufffo47uwcz</td>\n",
       "      <td>Thomas W.</td>\n",
       "      <td>Fleming</td>\n",
       "      <td>0</td>\n",
       "      <td>San Diego</td>\n",
       "      <td>CA</td>\n",
       "      <td>US</td>\n",
       "      <td>32.7152778|-117.1563889</td>\n",
       "      <td>2002-08-28</td>\n",
       "    </tr>\n",
       "    <tr>\n",
       "      <th>1</th>\n",
       "      <td>D668927</td>\n",
       "      <td>9s3ytu3kxg2ulg9tizh3d1vxp</td>\n",
       "      <td>Catalin</td>\n",
       "      <td>Matei</td>\n",
       "      <td>0</td>\n",
       "      <td>Redondo Beach</td>\n",
       "      <td>CA</td>\n",
       "      <td>US</td>\n",
       "      <td>33.8491667|-118.3875</td>\n",
       "      <td>2010-06-11</td>\n",
       "    </tr>\n",
       "    <tr>\n",
       "      <th>2</th>\n",
       "      <td>D544141</td>\n",
       "      <td>6erx86wi3e13gsi1warrhdegl</td>\n",
       "      <td>James P.</td>\n",
       "      <td>Elwell</td>\n",
       "      <td>0</td>\n",
       "      <td>Johnston</td>\n",
       "      <td>IA</td>\n",
       "      <td>US</td>\n",
       "      <td>41.6709834|-93.7130493</td>\n",
       "      <td>2006-08-15</td>\n",
       "    </tr>\n",
       "    <tr>\n",
       "      <th>3</th>\n",
       "      <td>D340040</td>\n",
       "      <td>xe6v865ur562nbk6mxqsej6tt</td>\n",
       "      <td>Michael F.</td>\n",
       "      <td>Gifford</td>\n",
       "      <td>0</td>\n",
       "      <td>San Jose</td>\n",
       "      <td>CA</td>\n",
       "      <td>US</td>\n",
       "      <td>37.3382082|-121.8863286</td>\n",
       "      <td>1991-07-03</td>\n",
       "    </tr>\n",
       "    <tr>\n",
       "      <th>4</th>\n",
       "      <td>D466884</td>\n",
       "      <td>sgpz42gn26ganv60gs2ace97j</td>\n",
       "      <td>Jimmy L.</td>\n",
       "      <td>Clayton</td>\n",
       "      <td>0</td>\n",
       "      <td>Jacksonville</td>\n",
       "      <td>FL</td>\n",
       "      <td>US</td>\n",
       "      <td>30.3319444|-81.6558333</td>\n",
       "      <td>2002-03-21</td>\n",
       "    </tr>\n",
       "  </tbody>\n",
       "</table>\n",
       "</div>"
      ],
      "text/plain": [
       "  patent_id                         id  name_first name_last  sequence  \\\n",
       "0   D474886  cmf9hebugybql8ufffo47uwcz   Thomas W.   Fleming         0   \n",
       "1   D668927  9s3ytu3kxg2ulg9tizh3d1vxp     Catalin     Matei         0   \n",
       "2   D544141  6erx86wi3e13gsi1warrhdegl    James P.    Elwell         0   \n",
       "3   D340040  xe6v865ur562nbk6mxqsej6tt  Michael F.   Gifford         0   \n",
       "4   D466884  sgpz42gn26ganv60gs2ace97j    Jimmy L.   Clayton         0   \n",
       "\n",
       "            city state country  location_id_transformed       date  \n",
       "0      San Diego    CA      US  32.7152778|-117.1563889 2002-08-28  \n",
       "1  Redondo Beach    CA      US     33.8491667|-118.3875 2010-06-11  \n",
       "2       Johnston    IA      US   41.6709834|-93.7130493 2006-08-15  \n",
       "3       San Jose    CA      US  37.3382082|-121.8863286 1991-07-03  \n",
       "4   Jacksonville    FL      US   30.3319444|-81.6558333 2002-03-21  "
      ]
     },
     "execution_count": 16,
     "metadata": {},
     "output_type": "execute_result"
    }
   ],
   "source": [
    "master.head()"
   ]
  },
  {
   "cell_type": "markdown",
   "metadata": {},
   "source": [
    "Attatch assignee to master"
   ]
  },
  {
   "cell_type": "code",
   "execution_count": 25,
   "metadata": {},
   "outputs": [],
   "source": [
    "assignees = pd.read_csv('rawassignee.tsv', delimiter = '\\t',usecols=['patent_id','organization', 'sequence'],\n",
    "            dtype = {'patent_id':str, 'organization':str, 'sequence':np.int64})"
   ]
  },
  {
   "cell_type": "code",
   "execution_count": 26,
   "metadata": {},
   "outputs": [
    {
     "data": {
      "text/html": [
       "<div>\n",
       "<style>\n",
       "    .dataframe thead tr:only-child th {\n",
       "        text-align: right;\n",
       "    }\n",
       "\n",
       "    .dataframe thead th {\n",
       "        text-align: left;\n",
       "    }\n",
       "\n",
       "    .dataframe tbody tr th {\n",
       "        vertical-align: top;\n",
       "    }\n",
       "</style>\n",
       "<table border=\"1\" class=\"dataframe\">\n",
       "  <thead>\n",
       "    <tr style=\"text-align: right;\">\n",
       "      <th></th>\n",
       "      <th>patent_id</th>\n",
       "      <th>organization</th>\n",
       "      <th>sequence</th>\n",
       "    </tr>\n",
       "  </thead>\n",
       "  <tbody>\n",
       "    <tr>\n",
       "      <th>0</th>\n",
       "      <td>5856666</td>\n",
       "      <td>U.S. Philips Corporation</td>\n",
       "      <td>0</td>\n",
       "    </tr>\n",
       "    <tr>\n",
       "      <th>1</th>\n",
       "      <td>7406942</td>\n",
       "      <td>Toyota Jidosha Kabushiki Kaisha</td>\n",
       "      <td>0</td>\n",
       "    </tr>\n",
       "    <tr>\n",
       "      <th>2</th>\n",
       "      <td>8683223</td>\n",
       "      <td>International Business Machines Corporation</td>\n",
       "      <td>0</td>\n",
       "    </tr>\n",
       "    <tr>\n",
       "      <th>3</th>\n",
       "      <td>8263426</td>\n",
       "      <td>Electronics and Telecommunications Research In...</td>\n",
       "      <td>0</td>\n",
       "    </tr>\n",
       "    <tr>\n",
       "      <th>4</th>\n",
       "      <td>5204210</td>\n",
       "      <td>Xerox Corporation</td>\n",
       "      <td>0</td>\n",
       "    </tr>\n",
       "  </tbody>\n",
       "</table>\n",
       "</div>"
      ],
      "text/plain": [
       "  patent_id                                       organization  sequence\n",
       "0   5856666                           U.S. Philips Corporation         0\n",
       "1   7406942                    Toyota Jidosha Kabushiki Kaisha         0\n",
       "2   8683223        International Business Machines Corporation         0\n",
       "3   8263426  Electronics and Telecommunications Research In...         0\n",
       "4   5204210                                  Xerox Corporation         0"
      ]
     },
     "execution_count": 26,
     "metadata": {},
     "output_type": "execute_result"
    }
   ],
   "source": [
    "assignees.head()"
   ]
  },
  {
   "cell_type": "code",
   "execution_count": 28,
   "metadata": {},
   "outputs": [],
   "source": [
    "#select only first assignees\n",
    "assignees = assignees[assignees.sequence == 0]"
   ]
  },
  {
   "cell_type": "code",
   "execution_count": 30,
   "metadata": {},
   "outputs": [],
   "source": [
    "master = pd.merge(master, assignees, how='inner', on='patent_id')"
   ]
  },
  {
   "cell_type": "code",
   "execution_count": 31,
   "metadata": {},
   "outputs": [
    {
     "data": {
      "text/html": [
       "<div>\n",
       "<style>\n",
       "    .dataframe thead tr:only-child th {\n",
       "        text-align: right;\n",
       "    }\n",
       "\n",
       "    .dataframe thead th {\n",
       "        text-align: left;\n",
       "    }\n",
       "\n",
       "    .dataframe tbody tr th {\n",
       "        vertical-align: top;\n",
       "    }\n",
       "</style>\n",
       "<table border=\"1\" class=\"dataframe\">\n",
       "  <thead>\n",
       "    <tr style=\"text-align: right;\">\n",
       "      <th></th>\n",
       "      <th>patent_id</th>\n",
       "      <th>id</th>\n",
       "      <th>name_first</th>\n",
       "      <th>name_last</th>\n",
       "      <th>sequence_x</th>\n",
       "      <th>city</th>\n",
       "      <th>state</th>\n",
       "      <th>country</th>\n",
       "      <th>location_id_transformed</th>\n",
       "      <th>date</th>\n",
       "      <th>organization</th>\n",
       "      <th>sequence_y</th>\n",
       "    </tr>\n",
       "  </thead>\n",
       "  <tbody>\n",
       "    <tr>\n",
       "      <th>0</th>\n",
       "      <td>D474886</td>\n",
       "      <td>cmf9hebugybql8ufffo47uwcz</td>\n",
       "      <td>Thomas W.</td>\n",
       "      <td>Fleming</td>\n",
       "      <td>0</td>\n",
       "      <td>San Diego</td>\n",
       "      <td>CA</td>\n",
       "      <td>US</td>\n",
       "      <td>32.7152778|-117.1563889</td>\n",
       "      <td>2002-08-28</td>\n",
       "      <td>Bacou-Dalloz USA Safety, Inc.</td>\n",
       "      <td>0</td>\n",
       "    </tr>\n",
       "    <tr>\n",
       "      <th>1</th>\n",
       "      <td>D668927</td>\n",
       "      <td>9s3ytu3kxg2ulg9tizh3d1vxp</td>\n",
       "      <td>Catalin</td>\n",
       "      <td>Matei</td>\n",
       "      <td>0</td>\n",
       "      <td>Redondo Beach</td>\n",
       "      <td>CA</td>\n",
       "      <td>US</td>\n",
       "      <td>33.8491667|-118.3875</td>\n",
       "      <td>2010-06-11</td>\n",
       "      <td>Honda Motor Co., Ltd.</td>\n",
       "      <td>0</td>\n",
       "    </tr>\n",
       "    <tr>\n",
       "      <th>2</th>\n",
       "      <td>D544141</td>\n",
       "      <td>6erx86wi3e13gsi1warrhdegl</td>\n",
       "      <td>James P.</td>\n",
       "      <td>Elwell</td>\n",
       "      <td>0</td>\n",
       "      <td>Johnston</td>\n",
       "      <td>IA</td>\n",
       "      <td>US</td>\n",
       "      <td>41.6709834|-93.7130493</td>\n",
       "      <td>2006-08-15</td>\n",
       "      <td>Putco, Inc.</td>\n",
       "      <td>0</td>\n",
       "    </tr>\n",
       "    <tr>\n",
       "      <th>3</th>\n",
       "      <td>D340040</td>\n",
       "      <td>xe6v865ur562nbk6mxqsej6tt</td>\n",
       "      <td>Michael F.</td>\n",
       "      <td>Gifford</td>\n",
       "      <td>0</td>\n",
       "      <td>San Jose</td>\n",
       "      <td>CA</td>\n",
       "      <td>US</td>\n",
       "      <td>37.3382082|-121.8863286</td>\n",
       "      <td>1991-07-03</td>\n",
       "      <td>Sun Microsystems, Inc.</td>\n",
       "      <td>0</td>\n",
       "    </tr>\n",
       "    <tr>\n",
       "      <th>4</th>\n",
       "      <td>D679194</td>\n",
       "      <td>89rrrs8mpkk070umq4fzycxqp</td>\n",
       "      <td>Timothy L.</td>\n",
       "      <td>Green</td>\n",
       "      <td>0</td>\n",
       "      <td>Portland</td>\n",
       "      <td>MI</td>\n",
       "      <td>US</td>\n",
       "      <td>42.8691667|-84.9030556</td>\n",
       "      <td>2012-02-10</td>\n",
       "      <td>Access Business Group International LLC</td>\n",
       "      <td>0</td>\n",
       "    </tr>\n",
       "  </tbody>\n",
       "</table>\n",
       "</div>"
      ],
      "text/plain": [
       "  patent_id                         id  name_first name_last  sequence_x  \\\n",
       "0   D474886  cmf9hebugybql8ufffo47uwcz   Thomas W.   Fleming           0   \n",
       "1   D668927  9s3ytu3kxg2ulg9tizh3d1vxp     Catalin     Matei           0   \n",
       "2   D544141  6erx86wi3e13gsi1warrhdegl    James P.    Elwell           0   \n",
       "3   D340040  xe6v865ur562nbk6mxqsej6tt  Michael F.   Gifford           0   \n",
       "4   D679194  89rrrs8mpkk070umq4fzycxqp  Timothy L.     Green           0   \n",
       "\n",
       "            city state country  location_id_transformed       date  \\\n",
       "0      San Diego    CA      US  32.7152778|-117.1563889 2002-08-28   \n",
       "1  Redondo Beach    CA      US     33.8491667|-118.3875 2010-06-11   \n",
       "2       Johnston    IA      US   41.6709834|-93.7130493 2006-08-15   \n",
       "3       San Jose    CA      US  37.3382082|-121.8863286 1991-07-03   \n",
       "4       Portland    MI      US   42.8691667|-84.9030556 2012-02-10   \n",
       "\n",
       "                              organization  sequence_y  \n",
       "0            Bacou-Dalloz USA Safety, Inc.           0  \n",
       "1                    Honda Motor Co., Ltd.           0  \n",
       "2                              Putco, Inc.           0  \n",
       "3                   Sun Microsystems, Inc.           0  \n",
       "4  Access Business Group International LLC           0  "
      ]
     },
     "execution_count": 31,
     "metadata": {},
     "output_type": "execute_result"
    }
   ],
   "source": [
    "master.head()"
   ]
  },
  {
   "cell_type": "markdown",
   "metadata": {},
   "source": [
    "Top design patent assignees overall"
   ]
  },
  {
   "cell_type": "code",
   "execution_count": 40,
   "metadata": {},
   "outputs": [
    {
     "data": {
      "text/plain": [
       "<matplotlib.axes._subplots.AxesSubplot at 0x7f93eff33da0>"
      ]
     },
     "execution_count": 40,
     "metadata": {},
     "output_type": "execute_result"
    },
    {
     "data": {
      "image/png": "[encoded data removed]",
      "text/plain": [
       "<matplotlib.figure.Figure at 0x7f93eac036a0>"
      ]
     },
     "metadata": {},
     "output_type": "display_data"
    }
   ],
   "source": [
    "master.organization.value_counts().nlargest(11).plot(kind='bar')"
   ]
  },
  {
   "cell_type": "code",
   "execution_count": 48,
   "metadata": {},
   "outputs": [
    {
     "data": {
      "text/plain": [
       "organization\n",
       "\"\"\"Z\"\" Rack Storage Systems, Inc.\"                 1\n",
       "\"Chas. \"\"Robby\"\" Robinson Enterprises, Inc.\"       2\n",
       "\"Custom \"\"Logo Lite\"\" Manufacturing, Inc.\"         1\n",
       "\"Marketing \"\"10\"\", Inc.\"                           1\n",
       "\"Podlaska Wytwornia Wodek \"\"POLMOS\"\"\"              1\n",
       "\"Tolhurst Big \"\"T\"\" Enterprises \"                  1\n",
       "\"Triple \"\"R\"\" Specialty of Jax., Inc.\"             1\n",
       "(Bless You Books & Buddies) Angela Randazzo        1\n",
       "(Quartet Division) General Binding Corporation     1\n",
       "(WE) FOR DOGS, LLC                                 1\n",
       "001 Corporation                                    6\n",
       "0210, LLC                                          3\n",
       "100% Speedlab, LLC                                 2\n",
       "101 Holdings                                       6\n",
       "10Charge, Inc.                                     2\n",
       "11 Pine, Inc.                                      1\n",
       "1102552 Ontario, Ltd.                              1\n",
       "12PAWS LLC                                         2\n",
       "143 Designs, LLC                                   1\n",
       "152310 Canada                                      4\n",
       "180s, Inc.                                         2\n",
       "19th Hole Cart LLC                                 1\n",
       "1READY, LLC                                        1\n",
       "1st Call Consulting, Pte Ltd.                      1\n",
       "1uard-Tech Industries, Inc.                        1\n",
       "2 M Tool Co., Inc.                                 1\n",
       "2 Wheel Tunes, Inc.                                3\n",
       "2001 Brands Inc.                                   1\n",
       "2001 Brands, Inc.                                  1\n",
       "2033875 Ontario, Inc.                              1\n",
       "                                                  ..\n",
       "nView Corporation                                  1\n",
       "nXn Tech, LLC                                      4\n",
       "nanonation Incorporated                            1\n",
       "nanonation.net, Inc.                               1\n",
       "nanonation.net,Inc.                                1\n",
       "olioclip, LLC                                      1\n",
       "olloclip, LLC                                      8\n",
       "protoCAD Corp.                                     1\n",
       "qMGN, Inc.                                         1\n",
       "sBumble BE Holdings, LLC                           1\n",
       "salesforce.com, inc.                              31\n",
       "sanofi-aventis                                     1\n",
       "simplehuman, LLC                                  45\n",
       "simplehumans, LLC                                  1\n",
       "the Procter & Gamble Company                       3\n",
       "the Wm. Wrigley Jr. Company                        1\n",
       "the Wm. Wrigley Jr. Company                        1\n",
       "toSense, Inc.                                      1\n",
       "totes ISOTONER CORPORATION                         1\n",
       "totes Isotoner Corporation                        13\n",
       "totes Isotoner Corporation                         1\n",
       "totes, Incorporated                                1\n",
       "trans2 Corporation                                 1\n",
       "ttools, LLC                                        1\n",
       "ttools, LLC                                        1\n",
       "uTouch Products, LLC                               1\n",
       "vpr Matrix, Inc.                                   2\n",
       "zBox Company                                       1\n",
       "zSpace, Inc.                                       1\n",
       "Össur hf                                           1\n",
       "Length: 37399, dtype: int64"
      ]
     },
     "execution_count": 48,
     "metadata": {},
     "output_type": "execute_result"
    }
   ],
   "source": [
    "master.groupby('organization').size()"
   ]
  },
  {
   "cell_type": "code",
   "execution_count": 49,
   "metadata": {},
   "outputs": [
    {
     "data": {
      "text/html": [
       "<div>\n",
       "<style>\n",
       "    .dataframe thead tr:only-child th {\n",
       "        text-align: right;\n",
       "    }\n",
       "\n",
       "    .dataframe thead th {\n",
       "        text-align: left;\n",
       "    }\n",
       "\n",
       "    .dataframe tbody tr th {\n",
       "        vertical-align: top;\n",
       "    }\n",
       "</style>\n",
       "<table border=\"1\" class=\"dataframe\">\n",
       "  <thead>\n",
       "    <tr style=\"text-align: right;\">\n",
       "      <th></th>\n",
       "      <th>uuid</th>\n",
       "      <th>patent_id</th>\n",
       "      <th>assignee_id</th>\n",
       "      <th>rawlocation_id</th>\n",
       "      <th>type</th>\n",
       "      <th>name_first</th>\n",
       "      <th>name_last</th>\n",
       "      <th>organization</th>\n",
       "      <th>sequence</th>\n",
       "    </tr>\n",
       "  </thead>\n",
       "  <tbody>\n",
       "    <tr>\n",
       "      <th>0</th>\n",
       "      <td>0000p94wkezw94s8cz7dbxlvz</td>\n",
       "      <td>5856666</td>\n",
       "      <td>eaa92f175be7bfb71011f17eafb1e71f</td>\n",
       "      <td>orskbf54s58e97lkmw8na5rpx</td>\n",
       "      <td>2</td>\n",
       "      <td>NaN</td>\n",
       "      <td>NaN</td>\n",
       "      <td>U.S. Philips Corporation</td>\n",
       "      <td>0</td>\n",
       "    </tr>\n",
       "    <tr>\n",
       "      <th>1</th>\n",
       "      <td>0000u0ishlid2nxhl1au1fved</td>\n",
       "      <td>7406942</td>\n",
       "      <td>563021a87f404cec4dccf521122a6bf6</td>\n",
       "      <td>rg390u8evtblykw9753txluaj</td>\n",
       "      <td>3</td>\n",
       "      <td>NaN</td>\n",
       "      <td>NaN</td>\n",
       "      <td>Toyota Jidosha Kabushiki Kaisha</td>\n",
       "      <td>0</td>\n",
       "    </tr>\n",
       "    <tr>\n",
       "      <th>2</th>\n",
       "      <td>0000vvis94zfafke14wap1tih</td>\n",
       "      <td>8683223</td>\n",
       "      <td>29a03fd21a4c9b1420a55ecba2105eae</td>\n",
       "      <td>4sis4ya87v11w0wg5zigyy3ut</td>\n",
       "      <td>2</td>\n",
       "      <td>NaN</td>\n",
       "      <td>NaN</td>\n",
       "      <td>International Business Machines Corporation</td>\n",
       "      <td>0</td>\n",
       "    </tr>\n",
       "    <tr>\n",
       "      <th>3</th>\n",
       "      <td>00012e1y2v3ilvcf5rd5zcft4</td>\n",
       "      <td>8263426</td>\n",
       "      <td>2a56edeb93bafcfa8ee3001814f66b61</td>\n",
       "      <td>2cfgbm7zfx0vdozredpel5q3b</td>\n",
       "      <td>3</td>\n",
       "      <td>NaN</td>\n",
       "      <td>NaN</td>\n",
       "      <td>Electronics and Telecommunications Research In...</td>\n",
       "      <td>0</td>\n",
       "    </tr>\n",
       "    <tr>\n",
       "      <th>4</th>\n",
       "      <td>00013vk881wap9u4mbo7lwwhp</td>\n",
       "      <td>5204210</td>\n",
       "      <td>e572ad43a89039b0d72acc4ce970a33f</td>\n",
       "      <td>mue862v5lcjdhzqqk86ei75kj</td>\n",
       "      <td>2</td>\n",
       "      <td>NaN</td>\n",
       "      <td>NaN</td>\n",
       "      <td>Xerox Corporation</td>\n",
       "      <td>0</td>\n",
       "    </tr>\n",
       "  </tbody>\n",
       "</table>\n",
       "</div>"
      ],
      "text/plain": [
       "                        uuid  patent_id                       assignee_id  \\\n",
       "0  0000p94wkezw94s8cz7dbxlvz    5856666  eaa92f175be7bfb71011f17eafb1e71f   \n",
       "1  0000u0ishlid2nxhl1au1fved    7406942  563021a87f404cec4dccf521122a6bf6   \n",
       "2  0000vvis94zfafke14wap1tih    8683223  29a03fd21a4c9b1420a55ecba2105eae   \n",
       "3  00012e1y2v3ilvcf5rd5zcft4    8263426  2a56edeb93bafcfa8ee3001814f66b61   \n",
       "4  00013vk881wap9u4mbo7lwwhp    5204210  e572ad43a89039b0d72acc4ce970a33f   \n",
       "\n",
       "              rawlocation_id  type  name_first  name_last  \\\n",
       "0  orskbf54s58e97lkmw8na5rpx     2         NaN        NaN   \n",
       "1  rg390u8evtblykw9753txluaj     3         NaN        NaN   \n",
       "2  4sis4ya87v11w0wg5zigyy3ut     2         NaN        NaN   \n",
       "3  2cfgbm7zfx0vdozredpel5q3b     3         NaN        NaN   \n",
       "4  mue862v5lcjdhzqqk86ei75kj     2         NaN        NaN   \n",
       "\n",
       "                                        organization  sequence  \n",
       "0                           U.S. Philips Corporation         0  \n",
       "1                    Toyota Jidosha Kabushiki Kaisha         0  \n",
       "2        International Business Machines Corporation         0  \n",
       "3  Electronics and Telecommunications Research In...         0  \n",
       "4                                  Xerox Corporation         0  "
      ]
     },
     "execution_count": 49,
     "metadata": {},
     "output_type": "execute_result"
    }
   ],
   "source": [
    "pd.read_csv('rawassignee.tsv', delimiter = '\\t', nrows=5)"
   ]
  },
  {
   "cell_type": "code",
   "execution_count": null,
   "metadata": {
    "collapsed": true
   },
   "outputs": [],
   "source": []
  }
 ],
 "metadata": {
  "kernelspec": {
   "display_name": "Python 3",
   "language": "python",
   "name": "python3"
  },
  "language_info": {
   "codemirror_mode": {
    "name": "ipython",
    "version": 3
   },
   "file_extension": ".py",
   "mimetype": "text/x-python",
   "name": "python",
   "nbconvert_exporter": "python",
   "pygments_lexer": "ipython3",
   "version": "3.6.1"
  }
 },
 "nbformat": 4,
 "nbformat_minor": 2
}
