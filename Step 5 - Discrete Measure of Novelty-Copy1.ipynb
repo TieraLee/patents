{
 "cells": [
  {
   "cell_type": "code",
   "execution_count": 1,
   "metadata": {},
   "outputs": [],
   "source": [
    "import pandas as pd\n",
    "import numpy as np\n",
    "import itertools"
   ]
  },
  {
   "cell_type": "code",
   "execution_count": 2,
   "metadata": {},
   "outputs": [],
   "source": [
    "#import relevant data\n",
    "master = pd.read_csv('data/master.csv')\n",
    "citations = pd.read_csv('data/citations.csv', dtype={'patent_number':str})\n",
    "focal_citation_link = pd.read_csv('data/citations_patents_level.csv')\n",
    "focal_class = pd.read_csv('data/uspcs_level.csv')"
   ]
  },
  {
   "cell_type": "code",
   "execution_count": 3,
   "metadata": {
    "scrolled": true
   },
   "outputs": [
    {
     "data": {
      "text/html": [
       "<div>\n",
       "<style scoped>\n",
       "    .dataframe tbody tr th:only-of-type {\n",
       "        vertical-align: middle;\n",
       "    }\n",
       "\n",
       "    .dataframe tbody tr th {\n",
       "        vertical-align: top;\n",
       "    }\n",
       "\n",
       "    .dataframe thead th {\n",
       "        text-align: right;\n",
       "    }\n",
       "</style>\n",
       "<table border=\"1\" class=\"dataframe\">\n",
       "  <thead>\n",
       "    <tr style=\"text-align: right;\">\n",
       "      <th></th>\n",
       "      <th>patent_number</th>\n",
       "      <th>grant_year</th>\n",
       "      <th>app_year</th>\n",
       "      <th>num_inventors</th>\n",
       "      <th>us_inventor</th>\n",
       "      <th>cite_foreign_patent</th>\n",
       "      <th>is_missing</th>\n",
       "      <th>num_design_cited</th>\n",
       "      <th>num_utility_cited</th>\n",
       "      <th>non-pat_refs</th>\n",
       "      <th>num_figures</th>\n",
       "      <th>num_assignees</th>\n",
       "      <th>priority_date</th>\n",
       "    </tr>\n",
       "  </thead>\n",
       "  <tbody>\n",
       "    <tr>\n",
       "      <th>0</th>\n",
       "      <td>D257752</td>\n",
       "      <td>1981</td>\n",
       "      <td>1980</td>\n",
       "      <td>1</td>\n",
       "      <td>1.0</td>\n",
       "      <td>0.0</td>\n",
       "      <td>1</td>\n",
       "      <td>1</td>\n",
       "      <td>2</td>\n",
       "      <td>1.0</td>\n",
       "      <td>6.0</td>\n",
       "      <td>1</td>\n",
       "      <td>1980</td>\n",
       "    </tr>\n",
       "    <tr>\n",
       "      <th>1</th>\n",
       "      <td>D257924</td>\n",
       "      <td>1981</td>\n",
       "      <td>1980</td>\n",
       "      <td>1</td>\n",
       "      <td>1.0</td>\n",
       "      <td>0.0</td>\n",
       "      <td>1</td>\n",
       "      <td>1</td>\n",
       "      <td>2</td>\n",
       "      <td>1.0</td>\n",
       "      <td>6.0</td>\n",
       "      <td>1</td>\n",
       "      <td>1980</td>\n",
       "    </tr>\n",
       "    <tr>\n",
       "      <th>2</th>\n",
       "      <td>D258382</td>\n",
       "      <td>1981</td>\n",
       "      <td>1980</td>\n",
       "      <td>2</td>\n",
       "      <td>1.0</td>\n",
       "      <td>0.0</td>\n",
       "      <td>1</td>\n",
       "      <td>2</td>\n",
       "      <td>1</td>\n",
       "      <td>0.0</td>\n",
       "      <td>5.0</td>\n",
       "      <td>1</td>\n",
       "      <td>1980</td>\n",
       "    </tr>\n",
       "    <tr>\n",
       "      <th>3</th>\n",
       "      <td>D258383</td>\n",
       "      <td>1981</td>\n",
       "      <td>1980</td>\n",
       "      <td>2</td>\n",
       "      <td>1.0</td>\n",
       "      <td>0.0</td>\n",
       "      <td>1</td>\n",
       "      <td>2</td>\n",
       "      <td>1</td>\n",
       "      <td>0.0</td>\n",
       "      <td>5.0</td>\n",
       "      <td>1</td>\n",
       "      <td>1980</td>\n",
       "    </tr>\n",
       "    <tr>\n",
       "      <th>4</th>\n",
       "      <td>D258571</td>\n",
       "      <td>1981</td>\n",
       "      <td>1980</td>\n",
       "      <td>1</td>\n",
       "      <td>1.0</td>\n",
       "      <td>0.0</td>\n",
       "      <td>1</td>\n",
       "      <td>1</td>\n",
       "      <td>1</td>\n",
       "      <td>0.0</td>\n",
       "      <td>2.0</td>\n",
       "      <td>1</td>\n",
       "      <td>1980</td>\n",
       "    </tr>\n",
       "  </tbody>\n",
       "</table>\n",
       "</div>"
      ],
      "text/plain": [
       "  patent_number  grant_year  app_year  num_inventors  us_inventor  \\\n",
       "0       D257752        1981      1980              1          1.0   \n",
       "1       D257924        1981      1980              1          1.0   \n",
       "2       D258382        1981      1980              2          1.0   \n",
       "3       D258383        1981      1980              2          1.0   \n",
       "4       D258571        1981      1980              1          1.0   \n",
       "\n",
       "   cite_foreign_patent  is_missing  num_design_cited  num_utility_cited  \\\n",
       "0                  0.0           1                 1                  2   \n",
       "1                  0.0           1                 1                  2   \n",
       "2                  0.0           1                 2                  1   \n",
       "3                  0.0           1                 2                  1   \n",
       "4                  0.0           1                 1                  1   \n",
       "\n",
       "   non-pat_refs  num_figures  num_assignees  priority_date  \n",
       "0           1.0          6.0              1           1980  \n",
       "1           1.0          6.0              1           1980  \n",
       "2           0.0          5.0              1           1980  \n",
       "3           0.0          5.0              1           1980  \n",
       "4           0.0          2.0              1           1980  "
      ]
     },
     "execution_count": 3,
     "metadata": {},
     "output_type": "execute_result"
    }
   ],
   "source": [
    "master.head()"
   ]
  },
  {
   "cell_type": "code",
   "execution_count": 4,
   "metadata": {
    "scrolled": true
   },
   "outputs": [
    {
     "data": {
      "text/html": [
       "<div>\n",
       "<style scoped>\n",
       "    .dataframe tbody tr th:only-of-type {\n",
       "        vertical-align: middle;\n",
       "    }\n",
       "\n",
       "    .dataframe tbody tr th {\n",
       "        vertical-align: top;\n",
       "    }\n",
       "\n",
       "    .dataframe thead th {\n",
       "        text-align: right;\n",
       "    }\n",
       "</style>\n",
       "<table border=\"1\" class=\"dataframe\">\n",
       "  <thead>\n",
       "    <tr style=\"text-align: right;\">\n",
       "      <th></th>\n",
       "      <th>patent_number</th>\n",
       "      <th>priority_date</th>\n",
       "    </tr>\n",
       "  </thead>\n",
       "  <tbody>\n",
       "    <tr>\n",
       "      <th>0</th>\n",
       "      <td>D257752</td>\n",
       "      <td>1980</td>\n",
       "    </tr>\n",
       "    <tr>\n",
       "      <th>1</th>\n",
       "      <td>D257924</td>\n",
       "      <td>1980</td>\n",
       "    </tr>\n",
       "    <tr>\n",
       "      <th>2</th>\n",
       "      <td>D258382</td>\n",
       "      <td>1980</td>\n",
       "    </tr>\n",
       "    <tr>\n",
       "      <th>3</th>\n",
       "      <td>D258383</td>\n",
       "      <td>1980</td>\n",
       "    </tr>\n",
       "    <tr>\n",
       "      <th>4</th>\n",
       "      <td>D258571</td>\n",
       "      <td>1980</td>\n",
       "    </tr>\n",
       "  </tbody>\n",
       "</table>\n",
       "</div>"
      ],
      "text/plain": [
       "  patent_number  priority_date\n",
       "0       D257752           1980\n",
       "1       D257924           1980\n",
       "2       D258382           1980\n",
       "3       D258383           1980\n",
       "4       D258571           1980"
      ]
     },
     "execution_count": 4,
     "metadata": {},
     "output_type": "execute_result"
    }
   ],
   "source": [
    "focal = master[['patent_number','priority_date']]\n",
    "focal.head()"
   ]
  },
  {
   "cell_type": "code",
   "execution_count": 5,
   "metadata": {},
   "outputs": [
    {
     "data": {
      "text/html": [
       "<div>\n",
       "<style scoped>\n",
       "    .dataframe tbody tr th:only-of-type {\n",
       "        vertical-align: middle;\n",
       "    }\n",
       "\n",
       "    .dataframe tbody tr th {\n",
       "        vertical-align: top;\n",
       "    }\n",
       "\n",
       "    .dataframe thead th {\n",
       "        text-align: right;\n",
       "    }\n",
       "</style>\n",
       "<table border=\"1\" class=\"dataframe\">\n",
       "  <thead>\n",
       "    <tr style=\"text-align: right;\">\n",
       "      <th></th>\n",
       "      <th>uspc_mainclass_id</th>\n",
       "      <th>uspc_subclass_id</th>\n",
       "      <th>patent_number</th>\n",
       "    </tr>\n",
       "  </thead>\n",
       "  <tbody>\n",
       "    <tr>\n",
       "      <th>0</th>\n",
       "      <td>248</td>\n",
       "      <td>248/423</td>\n",
       "      <td>3930272</td>\n",
       "    </tr>\n",
       "    <tr>\n",
       "      <th>1</th>\n",
       "      <td>403</td>\n",
       "      <td>403/107</td>\n",
       "      <td>3930272</td>\n",
       "    </tr>\n",
       "    <tr>\n",
       "      <th>2</th>\n",
       "      <td>5</td>\n",
       "      <td>5/11</td>\n",
       "      <td>3930272</td>\n",
       "    </tr>\n",
       "    <tr>\n",
       "      <th>3</th>\n",
       "      <td>5</td>\n",
       "      <td>5/100</td>\n",
       "      <td>3930272</td>\n",
       "    </tr>\n",
       "    <tr>\n",
       "      <th>4</th>\n",
       "      <td>47</td>\n",
       "      <td>47/58.1R</td>\n",
       "      <td>3930335</td>\n",
       "    </tr>\n",
       "  </tbody>\n",
       "</table>\n",
       "</div>"
      ],
      "text/plain": [
       "  uspc_mainclass_id uspc_subclass_id patent_number\n",
       "0               248          248/423       3930272\n",
       "1               403          403/107       3930272\n",
       "2                 5             5/11       3930272\n",
       "3                 5            5/100       3930272\n",
       "4                47         47/58.1R       3930335"
      ]
     },
     "execution_count": 5,
     "metadata": {},
     "output_type": "execute_result"
    }
   ],
   "source": [
    "citations.head()"
   ]
  },
  {
   "cell_type": "code",
   "execution_count": 6,
   "metadata": {},
   "outputs": [
    {
     "data": {
      "text/html": [
       "<div>\n",
       "<style scoped>\n",
       "    .dataframe tbody tr th:only-of-type {\n",
       "        vertical-align: middle;\n",
       "    }\n",
       "\n",
       "    .dataframe tbody tr th {\n",
       "        vertical-align: top;\n",
       "    }\n",
       "\n",
       "    .dataframe thead th {\n",
       "        text-align: right;\n",
       "    }\n",
       "</style>\n",
       "<table border=\"1\" class=\"dataframe\">\n",
       "  <thead>\n",
       "    <tr style=\"text-align: right;\">\n",
       "      <th></th>\n",
       "      <th>cited_patent_number</th>\n",
       "      <th>patent_number</th>\n",
       "    </tr>\n",
       "  </thead>\n",
       "  <tbody>\n",
       "    <tr>\n",
       "      <th>0</th>\n",
       "      <td>4162014</td>\n",
       "      <td>D257752</td>\n",
       "    </tr>\n",
       "    <tr>\n",
       "      <th>1</th>\n",
       "      <td>4162014</td>\n",
       "      <td>D257924</td>\n",
       "    </tr>\n",
       "    <tr>\n",
       "      <th>2</th>\n",
       "      <td>D253842</td>\n",
       "      <td>D258382</td>\n",
       "    </tr>\n",
       "    <tr>\n",
       "      <th>3</th>\n",
       "      <td>D253842</td>\n",
       "      <td>D258383</td>\n",
       "    </tr>\n",
       "    <tr>\n",
       "      <th>4</th>\n",
       "      <td>D253842</td>\n",
       "      <td>D258678</td>\n",
       "    </tr>\n",
       "  </tbody>\n",
       "</table>\n",
       "</div>"
      ],
      "text/plain": [
       "  cited_patent_number patent_number\n",
       "0             4162014       D257752\n",
       "1             4162014       D257924\n",
       "2             D253842       D258382\n",
       "3             D253842       D258383\n",
       "4             D253842       D258678"
      ]
     },
     "execution_count": 6,
     "metadata": {},
     "output_type": "execute_result"
    }
   ],
   "source": [
    "focal_citation_link.head()"
   ]
  },
  {
   "cell_type": "code",
   "execution_count": 7,
   "metadata": {},
   "outputs": [
    {
     "data": {
      "text/plain": [
       "cited_patent_number    0\n",
       "patent_number          0\n",
       "dtype: int64"
      ]
     },
     "execution_count": 7,
     "metadata": {},
     "output_type": "execute_result"
    }
   ],
   "source": [
    "focal_citation_link.isnull().sum()"
   ]
  },
  {
   "cell_type": "markdown",
   "metadata": {},
   "source": [
    "Let's Test this out on a sample set"
   ]
  },
  {
   "cell_type": "code",
   "execution_count": 8,
   "metadata": {
    "scrolled": true
   },
   "outputs": [
    {
     "data": {
      "text/html": [
       "<div>\n",
       "<style scoped>\n",
       "    .dataframe tbody tr th:only-of-type {\n",
       "        vertical-align: middle;\n",
       "    }\n",
       "\n",
       "    .dataframe tbody tr th {\n",
       "        vertical-align: top;\n",
       "    }\n",
       "\n",
       "    .dataframe thead th {\n",
       "        text-align: right;\n",
       "    }\n",
       "</style>\n",
       "<table border=\"1\" class=\"dataframe\">\n",
       "  <thead>\n",
       "    <tr style=\"text-align: right;\">\n",
       "      <th></th>\n",
       "      <th>patent_number</th>\n",
       "      <th>priority_date</th>\n",
       "      <th>cited_patent_number</th>\n",
       "    </tr>\n",
       "  </thead>\n",
       "  <tbody>\n",
       "    <tr>\n",
       "      <th>0</th>\n",
       "      <td>D257752</td>\n",
       "      <td>1980</td>\n",
       "      <td>4162014</td>\n",
       "    </tr>\n",
       "    <tr>\n",
       "      <th>1</th>\n",
       "      <td>D257924</td>\n",
       "      <td>1980</td>\n",
       "      <td>4162014</td>\n",
       "    </tr>\n",
       "    <tr>\n",
       "      <th>2</th>\n",
       "      <td>D258382</td>\n",
       "      <td>1980</td>\n",
       "      <td>D253842</td>\n",
       "    </tr>\n",
       "    <tr>\n",
       "      <th>3</th>\n",
       "      <td>D258383</td>\n",
       "      <td>1980</td>\n",
       "      <td>D253842</td>\n",
       "    </tr>\n",
       "    <tr>\n",
       "      <th>4</th>\n",
       "      <td>D258571</td>\n",
       "      <td>1980</td>\n",
       "      <td>NaN</td>\n",
       "    </tr>\n",
       "  </tbody>\n",
       "</table>\n",
       "</div>"
      ],
      "text/plain": [
       "  patent_number  priority_date cited_patent_number\n",
       "0       D257752           1980             4162014\n",
       "1       D257924           1980             4162014\n",
       "2       D258382           1980             D253842\n",
       "3       D258383           1980             D253842\n",
       "4       D258571           1980                 NaN"
      ]
     },
     "execution_count": 8,
     "metadata": {},
     "output_type": "execute_result"
    }
   ],
   "source": [
    "focal_citation = pd.merge(focal, focal_citation_link, on='patent_number', how='left')\n",
    "focal_citation.head()"
   ]
  },
  {
   "cell_type": "code",
   "execution_count": 9,
   "metadata": {},
   "outputs": [
    {
     "data": {
      "text/plain": [
       "525490"
      ]
     },
     "execution_count": 9,
     "metadata": {},
     "output_type": "execute_result"
    }
   ],
   "source": [
    "focal_citation['patent_number'].nunique()"
   ]
  },
  {
   "cell_type": "code",
   "execution_count": 10,
   "metadata": {},
   "outputs": [
    {
     "data": {
      "text/plain": [
       "patent_number              0\n",
       "priority_date              0\n",
       "cited_patent_number    18363\n",
       "dtype: int64"
      ]
     },
     "execution_count": 10,
     "metadata": {},
     "output_type": "execute_result"
    }
   ],
   "source": [
    "focal_citation.isnull().sum()"
   ]
  },
  {
   "cell_type": "markdown",
   "metadata": {},
   "source": [
    "Let's see what is null and why"
   ]
  },
  {
   "cell_type": "code",
   "execution_count": 11,
   "metadata": {
    "scrolled": true
   },
   "outputs": [
    {
     "data": {
      "text/html": [
       "<div>\n",
       "<style scoped>\n",
       "    .dataframe tbody tr th:only-of-type {\n",
       "        vertical-align: middle;\n",
       "    }\n",
       "\n",
       "    .dataframe tbody tr th {\n",
       "        vertical-align: top;\n",
       "    }\n",
       "\n",
       "    .dataframe thead th {\n",
       "        text-align: right;\n",
       "    }\n",
       "</style>\n",
       "<table border=\"1\" class=\"dataframe\">\n",
       "  <thead>\n",
       "    <tr style=\"text-align: right;\">\n",
       "      <th></th>\n",
       "      <th>patent_number</th>\n",
       "      <th>priority_date</th>\n",
       "      <th>cited_patent_number</th>\n",
       "    </tr>\n",
       "  </thead>\n",
       "  <tbody>\n",
       "    <tr>\n",
       "      <th>4</th>\n",
       "      <td>D258571</td>\n",
       "      <td>1980</td>\n",
       "      <td>NaN</td>\n",
       "    </tr>\n",
       "    <tr>\n",
       "      <th>5</th>\n",
       "      <td>D258650</td>\n",
       "      <td>1980</td>\n",
       "      <td>NaN</td>\n",
       "    </tr>\n",
       "    <tr>\n",
       "      <th>8</th>\n",
       "      <td>D258760</td>\n",
       "      <td>1980</td>\n",
       "      <td>NaN</td>\n",
       "    </tr>\n",
       "    <tr>\n",
       "      <th>21</th>\n",
       "      <td>D259183</td>\n",
       "      <td>1980</td>\n",
       "      <td>NaN</td>\n",
       "    </tr>\n",
       "    <tr>\n",
       "      <th>45</th>\n",
       "      <td>D259575</td>\n",
       "      <td>1980</td>\n",
       "      <td>NaN</td>\n",
       "    </tr>\n",
       "    <tr>\n",
       "      <th>46</th>\n",
       "      <td>D259610</td>\n",
       "      <td>1980</td>\n",
       "      <td>NaN</td>\n",
       "    </tr>\n",
       "    <tr>\n",
       "      <th>56</th>\n",
       "      <td>D259669</td>\n",
       "      <td>1980</td>\n",
       "      <td>NaN</td>\n",
       "    </tr>\n",
       "    <tr>\n",
       "      <th>63</th>\n",
       "      <td>D259753</td>\n",
       "      <td>1980</td>\n",
       "      <td>NaN</td>\n",
       "    </tr>\n",
       "    <tr>\n",
       "      <th>65</th>\n",
       "      <td>D259820</td>\n",
       "      <td>1980</td>\n",
       "      <td>NaN</td>\n",
       "    </tr>\n",
       "    <tr>\n",
       "      <th>75</th>\n",
       "      <td>D259959</td>\n",
       "      <td>1980</td>\n",
       "      <td>NaN</td>\n",
       "    </tr>\n",
       "    <tr>\n",
       "      <th>77</th>\n",
       "      <td>D260020</td>\n",
       "      <td>1980</td>\n",
       "      <td>NaN</td>\n",
       "    </tr>\n",
       "    <tr>\n",
       "      <th>82</th>\n",
       "      <td>D260062</td>\n",
       "      <td>1980</td>\n",
       "      <td>NaN</td>\n",
       "    </tr>\n",
       "    <tr>\n",
       "      <th>83</th>\n",
       "      <td>D260068</td>\n",
       "      <td>1980</td>\n",
       "      <td>NaN</td>\n",
       "    </tr>\n",
       "    <tr>\n",
       "      <th>91</th>\n",
       "      <td>D260233</td>\n",
       "      <td>1980</td>\n",
       "      <td>NaN</td>\n",
       "    </tr>\n",
       "    <tr>\n",
       "      <th>93</th>\n",
       "      <td>D260297</td>\n",
       "      <td>1980</td>\n",
       "      <td>NaN</td>\n",
       "    </tr>\n",
       "    <tr>\n",
       "      <th>94</th>\n",
       "      <td>D260320</td>\n",
       "      <td>1980</td>\n",
       "      <td>NaN</td>\n",
       "    </tr>\n",
       "    <tr>\n",
       "      <th>96</th>\n",
       "      <td>D260337</td>\n",
       "      <td>1980</td>\n",
       "      <td>NaN</td>\n",
       "    </tr>\n",
       "    <tr>\n",
       "      <th>101</th>\n",
       "      <td>D260416</td>\n",
       "      <td>1980</td>\n",
       "      <td>NaN</td>\n",
       "    </tr>\n",
       "    <tr>\n",
       "      <th>109</th>\n",
       "      <td>D260560</td>\n",
       "      <td>1980</td>\n",
       "      <td>NaN</td>\n",
       "    </tr>\n",
       "    <tr>\n",
       "      <th>110</th>\n",
       "      <td>D260567</td>\n",
       "      <td>1980</td>\n",
       "      <td>NaN</td>\n",
       "    </tr>\n",
       "    <tr>\n",
       "      <th>111</th>\n",
       "      <td>D260592</td>\n",
       "      <td>1980</td>\n",
       "      <td>NaN</td>\n",
       "    </tr>\n",
       "    <tr>\n",
       "      <th>112</th>\n",
       "      <td>D260633</td>\n",
       "      <td>1980</td>\n",
       "      <td>NaN</td>\n",
       "    </tr>\n",
       "    <tr>\n",
       "      <th>113</th>\n",
       "      <td>D260687</td>\n",
       "      <td>1980</td>\n",
       "      <td>NaN</td>\n",
       "    </tr>\n",
       "    <tr>\n",
       "      <th>116</th>\n",
       "      <td>D260719</td>\n",
       "      <td>1979</td>\n",
       "      <td>NaN</td>\n",
       "    </tr>\n",
       "    <tr>\n",
       "      <th>117</th>\n",
       "      <td>D260722</td>\n",
       "      <td>1980</td>\n",
       "      <td>NaN</td>\n",
       "    </tr>\n",
       "    <tr>\n",
       "      <th>119</th>\n",
       "      <td>D260747</td>\n",
       "      <td>1980</td>\n",
       "      <td>NaN</td>\n",
       "    </tr>\n",
       "    <tr>\n",
       "      <th>121</th>\n",
       "      <td>D260803</td>\n",
       "      <td>1980</td>\n",
       "      <td>NaN</td>\n",
       "    </tr>\n",
       "    <tr>\n",
       "      <th>122</th>\n",
       "      <td>D260809</td>\n",
       "      <td>1980</td>\n",
       "      <td>NaN</td>\n",
       "    </tr>\n",
       "    <tr>\n",
       "      <th>123</th>\n",
       "      <td>D260829</td>\n",
       "      <td>1980</td>\n",
       "      <td>NaN</td>\n",
       "    </tr>\n",
       "    <tr>\n",
       "      <th>128</th>\n",
       "      <td>D260839</td>\n",
       "      <td>1980</td>\n",
       "      <td>NaN</td>\n",
       "    </tr>\n",
       "    <tr>\n",
       "      <th>...</th>\n",
       "      <td>...</td>\n",
       "      <td>...</td>\n",
       "      <td>...</td>\n",
       "    </tr>\n",
       "    <tr>\n",
       "      <th>5898261</th>\n",
       "      <td>D742662</td>\n",
       "      <td>2014</td>\n",
       "      <td>NaN</td>\n",
       "    </tr>\n",
       "    <tr>\n",
       "      <th>5917476</th>\n",
       "      <td>D749461</td>\n",
       "      <td>2015</td>\n",
       "      <td>NaN</td>\n",
       "    </tr>\n",
       "    <tr>\n",
       "      <th>5977445</th>\n",
       "      <td>D758734</td>\n",
       "      <td>2015</td>\n",
       "      <td>NaN</td>\n",
       "    </tr>\n",
       "    <tr>\n",
       "      <th>5979458</th>\n",
       "      <td>D758896</td>\n",
       "      <td>2015</td>\n",
       "      <td>NaN</td>\n",
       "    </tr>\n",
       "    <tr>\n",
       "      <th>5992969</th>\n",
       "      <td>D760113</td>\n",
       "      <td>2015</td>\n",
       "      <td>NaN</td>\n",
       "    </tr>\n",
       "    <tr>\n",
       "      <th>6028245</th>\n",
       "      <td>D763404</td>\n",
       "      <td>2015</td>\n",
       "      <td>NaN</td>\n",
       "    </tr>\n",
       "    <tr>\n",
       "      <th>6031466</th>\n",
       "      <td>D763708</td>\n",
       "      <td>2015</td>\n",
       "      <td>NaN</td>\n",
       "    </tr>\n",
       "    <tr>\n",
       "      <th>6044208</th>\n",
       "      <td>D764824</td>\n",
       "      <td>2015</td>\n",
       "      <td>NaN</td>\n",
       "    </tr>\n",
       "    <tr>\n",
       "      <th>6087067</th>\n",
       "      <td>D767979</td>\n",
       "      <td>2015</td>\n",
       "      <td>NaN</td>\n",
       "    </tr>\n",
       "    <tr>\n",
       "      <th>6102184</th>\n",
       "      <td>D769150</td>\n",
       "      <td>2015</td>\n",
       "      <td>NaN</td>\n",
       "    </tr>\n",
       "    <tr>\n",
       "      <th>6102745</th>\n",
       "      <td>D769205</td>\n",
       "      <td>2014</td>\n",
       "      <td>NaN</td>\n",
       "    </tr>\n",
       "    <tr>\n",
       "      <th>6124649</th>\n",
       "      <td>D770186</td>\n",
       "      <td>2015</td>\n",
       "      <td>NaN</td>\n",
       "    </tr>\n",
       "    <tr>\n",
       "      <th>6127088</th>\n",
       "      <td>D770328</td>\n",
       "      <td>2015</td>\n",
       "      <td>NaN</td>\n",
       "    </tr>\n",
       "    <tr>\n",
       "      <th>6156190</th>\n",
       "      <td>D772301</td>\n",
       "      <td>2015</td>\n",
       "      <td>NaN</td>\n",
       "    </tr>\n",
       "    <tr>\n",
       "      <th>6167055</th>\n",
       "      <td>D773004</td>\n",
       "      <td>2015</td>\n",
       "      <td>NaN</td>\n",
       "    </tr>\n",
       "    <tr>\n",
       "      <th>6185747</th>\n",
       "      <td>D774301</td>\n",
       "      <td>2013</td>\n",
       "      <td>NaN</td>\n",
       "    </tr>\n",
       "    <tr>\n",
       "      <th>6201189</th>\n",
       "      <td>D775297</td>\n",
       "      <td>2015</td>\n",
       "      <td>NaN</td>\n",
       "    </tr>\n",
       "    <tr>\n",
       "      <th>6256902</th>\n",
       "      <td>D778957</td>\n",
       "      <td>2015</td>\n",
       "      <td>NaN</td>\n",
       "    </tr>\n",
       "    <tr>\n",
       "      <th>6270484</th>\n",
       "      <td>D779816</td>\n",
       "      <td>2015</td>\n",
       "      <td>NaN</td>\n",
       "    </tr>\n",
       "    <tr>\n",
       "      <th>6277622</th>\n",
       "      <td>D780296</td>\n",
       "      <td>2015</td>\n",
       "      <td>NaN</td>\n",
       "    </tr>\n",
       "    <tr>\n",
       "      <th>6288380</th>\n",
       "      <td>D781001</td>\n",
       "      <td>2015</td>\n",
       "      <td>NaN</td>\n",
       "    </tr>\n",
       "    <tr>\n",
       "      <th>6296837</th>\n",
       "      <td>D781732</td>\n",
       "      <td>2015</td>\n",
       "      <td>NaN</td>\n",
       "    </tr>\n",
       "    <tr>\n",
       "      <th>6303539</th>\n",
       "      <td>D782176</td>\n",
       "      <td>2015</td>\n",
       "      <td>NaN</td>\n",
       "    </tr>\n",
       "    <tr>\n",
       "      <th>6322822</th>\n",
       "      <td>D783709</td>\n",
       "      <td>2015</td>\n",
       "      <td>NaN</td>\n",
       "    </tr>\n",
       "    <tr>\n",
       "      <th>6334529</th>\n",
       "      <td>D784707</td>\n",
       "      <td>2015</td>\n",
       "      <td>NaN</td>\n",
       "    </tr>\n",
       "    <tr>\n",
       "      <th>6362326</th>\n",
       "      <td>D786952</td>\n",
       "      <td>2015</td>\n",
       "      <td>NaN</td>\n",
       "    </tr>\n",
       "    <tr>\n",
       "      <th>6370477</th>\n",
       "      <td>D787764</td>\n",
       "      <td>2015</td>\n",
       "      <td>NaN</td>\n",
       "    </tr>\n",
       "    <tr>\n",
       "      <th>6412378</th>\n",
       "      <td>D791822</td>\n",
       "      <td>2015</td>\n",
       "      <td>NaN</td>\n",
       "    </tr>\n",
       "    <tr>\n",
       "      <th>6422085</th>\n",
       "      <td>D793043</td>\n",
       "      <td>2015</td>\n",
       "      <td>NaN</td>\n",
       "    </tr>\n",
       "    <tr>\n",
       "      <th>6458208</th>\n",
       "      <td>D797582</td>\n",
       "      <td>2015</td>\n",
       "      <td>NaN</td>\n",
       "    </tr>\n",
       "  </tbody>\n",
       "</table>\n",
       "<p>18363 rows × 3 columns</p>\n",
       "</div>"
      ],
      "text/plain": [
       "        patent_number  priority_date cited_patent_number\n",
       "4             D258571           1980                 NaN\n",
       "5             D258650           1980                 NaN\n",
       "8             D258760           1980                 NaN\n",
       "21            D259183           1980                 NaN\n",
       "45            D259575           1980                 NaN\n",
       "46            D259610           1980                 NaN\n",
       "56            D259669           1980                 NaN\n",
       "63            D259753           1980                 NaN\n",
       "65            D259820           1980                 NaN\n",
       "75            D259959           1980                 NaN\n",
       "77            D260020           1980                 NaN\n",
       "82            D260062           1980                 NaN\n",
       "83            D260068           1980                 NaN\n",
       "91            D260233           1980                 NaN\n",
       "93            D260297           1980                 NaN\n",
       "94            D260320           1980                 NaN\n",
       "96            D260337           1980                 NaN\n",
       "101           D260416           1980                 NaN\n",
       "109           D260560           1980                 NaN\n",
       "110           D260567           1980                 NaN\n",
       "111           D260592           1980                 NaN\n",
       "112           D260633           1980                 NaN\n",
       "113           D260687           1980                 NaN\n",
       "116           D260719           1979                 NaN\n",
       "117           D260722           1980                 NaN\n",
       "119           D260747           1980                 NaN\n",
       "121           D260803           1980                 NaN\n",
       "122           D260809           1980                 NaN\n",
       "123           D260829           1980                 NaN\n",
       "128           D260839           1980                 NaN\n",
       "...               ...            ...                 ...\n",
       "5898261       D742662           2014                 NaN\n",
       "5917476       D749461           2015                 NaN\n",
       "5977445       D758734           2015                 NaN\n",
       "5979458       D758896           2015                 NaN\n",
       "5992969       D760113           2015                 NaN\n",
       "6028245       D763404           2015                 NaN\n",
       "6031466       D763708           2015                 NaN\n",
       "6044208       D764824           2015                 NaN\n",
       "6087067       D767979           2015                 NaN\n",
       "6102184       D769150           2015                 NaN\n",
       "6102745       D769205           2014                 NaN\n",
       "6124649       D770186           2015                 NaN\n",
       "6127088       D770328           2015                 NaN\n",
       "6156190       D772301           2015                 NaN\n",
       "6167055       D773004           2015                 NaN\n",
       "6185747       D774301           2013                 NaN\n",
       "6201189       D775297           2015                 NaN\n",
       "6256902       D778957           2015                 NaN\n",
       "6270484       D779816           2015                 NaN\n",
       "6277622       D780296           2015                 NaN\n",
       "6288380       D781001           2015                 NaN\n",
       "6296837       D781732           2015                 NaN\n",
       "6303539       D782176           2015                 NaN\n",
       "6322822       D783709           2015                 NaN\n",
       "6334529       D784707           2015                 NaN\n",
       "6362326       D786952           2015                 NaN\n",
       "6370477       D787764           2015                 NaN\n",
       "6412378       D791822           2015                 NaN\n",
       "6422085       D793043           2015                 NaN\n",
       "6458208       D797582           2015                 NaN\n",
       "\n",
       "[18363 rows x 3 columns]"
      ]
     },
     "execution_count": 11,
     "metadata": {},
     "output_type": "execute_result"
    }
   ],
   "source": [
    "focal_citation.loc[focal_citation['cited_patent_number'].isnull()]"
   ]
  },
  {
   "cell_type": "markdown",
   "metadata": {},
   "source": [
    "After viewing a sample, these patents either don't make references, rare, or all of their references are pre 1976, more common. Since they are not useful for analysis, I will drop them"
   ]
  },
  {
   "cell_type": "code",
   "execution_count": 12,
   "metadata": {},
   "outputs": [
    {
     "data": {
      "text/plain": [
       "NaN        0.002822\n",
       "D504889    0.000077\n",
       "D337569    0.000071\n",
       "D341848    0.000068\n",
       "D561358    0.000059\n",
       "Name: cited_patent_number, dtype: float64"
      ]
     },
     "execution_count": 12,
     "metadata": {},
     "output_type": "execute_result"
    }
   ],
   "source": [
    "# percentage of patents affected\n",
    "focal_citation['cited_patent_number'].value_counts(normalize=True, dropna=False).head()"
   ]
  },
  {
   "cell_type": "markdown",
   "metadata": {},
   "source": [
    "Less than 1 percent of patents are affected by this"
   ]
  },
  {
   "cell_type": "code",
   "execution_count": 13,
   "metadata": {},
   "outputs": [
    {
     "data": {
      "text/plain": [
       "507127"
      ]
     },
     "execution_count": 13,
     "metadata": {},
     "output_type": "execute_result"
    }
   ],
   "source": [
    "focal_citation.dropna(inplace=True)\n",
    "focal_citation.patent_number.nunique()"
   ]
  },
  {
   "cell_type": "markdown",
   "metadata": {},
   "source": [
    "# current number of patents represened: 507,127"
   ]
  },
  {
   "cell_type": "code",
   "execution_count": 14,
   "metadata": {},
   "outputs": [
    {
     "data": {
      "text/plain": [
       "507127"
      ]
     },
     "execution_count": 14,
     "metadata": {},
     "output_type": "execute_result"
    }
   ],
   "source": [
    "citations.rename(index=str, columns={'patent_number':'cited_patent_number'}, inplace=True)\n",
    "focal_citation_citeclass = pd.merge(focal_citation, citations, on='cited_patent_number', how='left')\n",
    "focal_citation_citeclass.patent_number.nunique()"
   ]
  },
  {
   "cell_type": "code",
   "execution_count": 15,
   "metadata": {},
   "outputs": [
    {
     "data": {
      "text/html": [
       "<div>\n",
       "<style scoped>\n",
       "    .dataframe tbody tr th:only-of-type {\n",
       "        vertical-align: middle;\n",
       "    }\n",
       "\n",
       "    .dataframe tbody tr th {\n",
       "        vertical-align: top;\n",
       "    }\n",
       "\n",
       "    .dataframe thead th {\n",
       "        text-align: right;\n",
       "    }\n",
       "</style>\n",
       "<table border=\"1\" class=\"dataframe\">\n",
       "  <thead>\n",
       "    <tr style=\"text-align: right;\">\n",
       "      <th></th>\n",
       "      <th>patent_number</th>\n",
       "      <th>priority_date</th>\n",
       "      <th>cited_patent_number</th>\n",
       "      <th>uspc_mainclass_id</th>\n",
       "      <th>uspc_subclass_id</th>\n",
       "    </tr>\n",
       "  </thead>\n",
       "  <tbody>\n",
       "    <tr>\n",
       "      <th>0</th>\n",
       "      <td>D257752</td>\n",
       "      <td>1980</td>\n",
       "      <td>4162014</td>\n",
       "      <td>211</td>\n",
       "      <td>211/50</td>\n",
       "    </tr>\n",
       "    <tr>\n",
       "      <th>1</th>\n",
       "      <td>D257752</td>\n",
       "      <td>1980</td>\n",
       "      <td>4162014</td>\n",
       "      <td>211</td>\n",
       "      <td>211/55</td>\n",
       "    </tr>\n",
       "    <tr>\n",
       "      <th>2</th>\n",
       "      <td>D257752</td>\n",
       "      <td>1980</td>\n",
       "      <td>4162014</td>\n",
       "      <td>211</td>\n",
       "      <td>211/126.1</td>\n",
       "    </tr>\n",
       "    <tr>\n",
       "      <th>3</th>\n",
       "      <td>D257924</td>\n",
       "      <td>1980</td>\n",
       "      <td>4162014</td>\n",
       "      <td>211</td>\n",
       "      <td>211/50</td>\n",
       "    </tr>\n",
       "    <tr>\n",
       "      <th>4</th>\n",
       "      <td>D257924</td>\n",
       "      <td>1980</td>\n",
       "      <td>4162014</td>\n",
       "      <td>211</td>\n",
       "      <td>211/55</td>\n",
       "    </tr>\n",
       "  </tbody>\n",
       "</table>\n",
       "</div>"
      ],
      "text/plain": [
       "  patent_number  priority_date cited_patent_number uspc_mainclass_id  \\\n",
       "0       D257752           1980             4162014               211   \n",
       "1       D257752           1980             4162014               211   \n",
       "2       D257752           1980             4162014               211   \n",
       "3       D257924           1980             4162014               211   \n",
       "4       D257924           1980             4162014               211   \n",
       "\n",
       "  uspc_subclass_id  \n",
       "0           211/50  \n",
       "1           211/55  \n",
       "2        211/126.1  \n",
       "3           211/50  \n",
       "4           211/55  "
      ]
     },
     "execution_count": 15,
     "metadata": {},
     "output_type": "execute_result"
    }
   ],
   "source": [
    "focal_citation_citeclass.head()"
   ]
  },
  {
   "cell_type": "code",
   "execution_count": 16,
   "metadata": {},
   "outputs": [
    {
     "data": {
      "text/plain": [
       "patent_number            0\n",
       "priority_date            0\n",
       "cited_patent_number      0\n",
       "cite_mainclass         530\n",
       "cite_subclass          530\n",
       "dtype: int64"
      ]
     },
     "execution_count": 16,
     "metadata": {},
     "output_type": "execute_result"
    }
   ],
   "source": [
    "focal_citation_citeclass.rename(index=str, columns={'uspc_mainclass_id':'cite_mainclass', 'uspc_subclass_id':'cite_subclass'}, inplace=True)\n",
    "focal_citation_citeclass.isnull().sum()"
   ]
  },
  {
   "cell_type": "markdown",
   "metadata": {},
   "source": [
    "Drop nulls. Without classification its useles"
   ]
  },
  {
   "cell_type": "code",
   "execution_count": 17,
   "metadata": {},
   "outputs": [
    {
     "data": {
      "text/plain": [
       "507126"
      ]
     },
     "execution_count": 17,
     "metadata": {},
     "output_type": "execute_result"
    }
   ],
   "source": [
    "focal_citation_citeclass.dropna(inplace=True)\n",
    "focal_citation_citeclass['patent_number'].nunique()"
   ]
  },
  {
   "cell_type": "markdown",
   "metadata": {},
   "source": [
    "# Current number of patents represented: 507,126"
   ]
  },
  {
   "cell_type": "code",
   "execution_count": 18,
   "metadata": {},
   "outputs": [
    {
     "data": {
      "text/html": [
       "<div>\n",
       "<style scoped>\n",
       "    .dataframe tbody tr th:only-of-type {\n",
       "        vertical-align: middle;\n",
       "    }\n",
       "\n",
       "    .dataframe tbody tr th {\n",
       "        vertical-align: top;\n",
       "    }\n",
       "\n",
       "    .dataframe thead th {\n",
       "        text-align: right;\n",
       "    }\n",
       "</style>\n",
       "<table border=\"1\" class=\"dataframe\">\n",
       "  <thead>\n",
       "    <tr style=\"text-align: right;\">\n",
       "      <th></th>\n",
       "      <th>patent_number</th>\n",
       "      <th>priority_date</th>\n",
       "      <th>cited_patent_number</th>\n",
       "      <th>cite_mainclass</th>\n",
       "      <th>cite_subclass</th>\n",
       "      <th>uspc_mainclass_id</th>\n",
       "      <th>uspc_subclass_id</th>\n",
       "    </tr>\n",
       "  </thead>\n",
       "  <tbody>\n",
       "    <tr>\n",
       "      <th>0</th>\n",
       "      <td>D257752</td>\n",
       "      <td>1980</td>\n",
       "      <td>4162014</td>\n",
       "      <td>211</td>\n",
       "      <td>211/50</td>\n",
       "      <td>D19</td>\n",
       "      <td>D19/75</td>\n",
       "    </tr>\n",
       "    <tr>\n",
       "      <th>1</th>\n",
       "      <td>D257752</td>\n",
       "      <td>1980</td>\n",
       "      <td>4162014</td>\n",
       "      <td>211</td>\n",
       "      <td>211/55</td>\n",
       "      <td>D19</td>\n",
       "      <td>D19/75</td>\n",
       "    </tr>\n",
       "    <tr>\n",
       "      <th>2</th>\n",
       "      <td>D257752</td>\n",
       "      <td>1980</td>\n",
       "      <td>4162014</td>\n",
       "      <td>211</td>\n",
       "      <td>211/126.1</td>\n",
       "      <td>D19</td>\n",
       "      <td>D19/75</td>\n",
       "    </tr>\n",
       "    <tr>\n",
       "      <th>3</th>\n",
       "      <td>D257924</td>\n",
       "      <td>1980</td>\n",
       "      <td>4162014</td>\n",
       "      <td>211</td>\n",
       "      <td>211/50</td>\n",
       "      <td>D06</td>\n",
       "      <td>D06/573</td>\n",
       "    </tr>\n",
       "    <tr>\n",
       "      <th>4</th>\n",
       "      <td>D257924</td>\n",
       "      <td>1980</td>\n",
       "      <td>4162014</td>\n",
       "      <td>211</td>\n",
       "      <td>211/55</td>\n",
       "      <td>D06</td>\n",
       "      <td>D06/573</td>\n",
       "    </tr>\n",
       "  </tbody>\n",
       "</table>\n",
       "</div>"
      ],
      "text/plain": [
       "  patent_number  priority_date cited_patent_number cite_mainclass  \\\n",
       "0       D257752           1980             4162014            211   \n",
       "1       D257752           1980             4162014            211   \n",
       "2       D257752           1980             4162014            211   \n",
       "3       D257924           1980             4162014            211   \n",
       "4       D257924           1980             4162014            211   \n",
       "\n",
       "  cite_subclass uspc_mainclass_id uspc_subclass_id  \n",
       "0        211/50               D19           D19/75  \n",
       "1        211/55               D19           D19/75  \n",
       "2     211/126.1               D19           D19/75  \n",
       "3        211/50               D06          D06/573  \n",
       "4        211/55               D06          D06/573  "
      ]
     },
     "execution_count": 18,
     "metadata": {},
     "output_type": "execute_result"
    }
   ],
   "source": [
    "final = pd.merge(focal_citation_citeclass, focal_class, on='patent_number', how='left')\n",
    "final.head()"
   ]
  },
  {
   "cell_type": "code",
   "execution_count": 19,
   "metadata": {},
   "outputs": [],
   "source": [
    "final.rename(index=str, columns={'uspc_mainclass_id':'focal_mainclass', 'uspc_subclass_id':'focal_subclass'}, inplace=True)"
   ]
  },
  {
   "cell_type": "code",
   "execution_count": 20,
   "metadata": {},
   "outputs": [
    {
     "data": {
      "text/plain": [
       "(21778093, 7)"
      ]
     },
     "execution_count": 20,
     "metadata": {},
     "output_type": "execute_result"
    }
   ],
   "source": [
    "final.shape"
   ]
  },
  {
   "cell_type": "code",
   "execution_count": 21,
   "metadata": {
    "scrolled": true
   },
   "outputs": [
    {
     "data": {
      "text/plain": [
       "507126"
      ]
     },
     "execution_count": 21,
     "metadata": {},
     "output_type": "execute_result"
    }
   ],
   "source": [
    "final.patent_number.nunique()"
   ]
  },
  {
   "cell_type": "code",
   "execution_count": 22,
   "metadata": {},
   "outputs": [
    {
     "data": {
      "text/plain": [
       "patent_number               0\n",
       "priority_date               0\n",
       "cited_patent_number         0\n",
       "cite_mainclass              0\n",
       "cite_subclass               0\n",
       "focal_mainclass        207651\n",
       "focal_subclass         207651\n",
       "dtype: int64"
      ]
     },
     "execution_count": 22,
     "metadata": {},
     "output_type": "execute_result"
    }
   ],
   "source": [
    "final.isnull().sum()"
   ]
  },
  {
   "cell_type": "markdown",
   "metadata": {},
   "source": [
    "4000 of our patents had null citations. These are mainly withdrawn patents and newly granted patent. I assume this has to do with patentsview getting updated information"
   ]
  },
  {
   "cell_type": "code",
   "execution_count": 23,
   "metadata": {},
   "outputs": [
    {
     "data": {
      "text/plain": [
       "503128"
      ]
     },
     "execution_count": 23,
     "metadata": {},
     "output_type": "execute_result"
    }
   ],
   "source": [
    "final.dropna(inplace=True)\n",
    "final['patent_number'].nunique()"
   ]
  },
  {
   "cell_type": "markdown",
   "metadata": {},
   "source": [
    "# Current patent count: 503,128"
   ]
  },
  {
   "cell_type": "markdown",
   "metadata": {},
   "source": [
    "Let's make this smaller to be easier for memory to deal with"
   ]
  },
  {
   "cell_type": "code",
   "execution_count": 24,
   "metadata": {},
   "outputs": [
    {
     "data": {
      "text/plain": [
       "0.9574454318826239"
      ]
     },
     "execution_count": 24,
     "metadata": {},
     "output_type": "execute_result"
    }
   ],
   "source": [
    "final['patent_number'].nunique() /master['patent_number'].nunique()"
   ]
  },
  {
   "cell_type": "markdown",
   "metadata": {},
   "source": [
    "95.74% of the original dataset is still represented"
   ]
  },
  {
   "cell_type": "code",
   "execution_count": 25,
   "metadata": {},
   "outputs": [
    {
     "data": {
      "text/html": [
       "<div>\n",
       "<style scoped>\n",
       "    .dataframe tbody tr th:only-of-type {\n",
       "        vertical-align: middle;\n",
       "    }\n",
       "\n",
       "    .dataframe tbody tr th {\n",
       "        vertical-align: top;\n",
       "    }\n",
       "\n",
       "    .dataframe thead th {\n",
       "        text-align: right;\n",
       "    }\n",
       "</style>\n",
       "<table border=\"1\" class=\"dataframe\">\n",
       "  <thead>\n",
       "    <tr style=\"text-align: right;\">\n",
       "      <th></th>\n",
       "      <th>patent_number</th>\n",
       "      <th>priority_date</th>\n",
       "      <th>cited_patent_number</th>\n",
       "      <th>cite_mainclass</th>\n",
       "      <th>cite_subclass</th>\n",
       "      <th>focal_mainclass</th>\n",
       "      <th>focal_subclass</th>\n",
       "    </tr>\n",
       "  </thead>\n",
       "  <tbody>\n",
       "    <tr>\n",
       "      <th>0</th>\n",
       "      <td>D257752</td>\n",
       "      <td>1980</td>\n",
       "      <td>4162014</td>\n",
       "      <td>211</td>\n",
       "      <td>211/50</td>\n",
       "      <td>D19</td>\n",
       "      <td>D19/75</td>\n",
       "    </tr>\n",
       "    <tr>\n",
       "      <th>1</th>\n",
       "      <td>D257752</td>\n",
       "      <td>1980</td>\n",
       "      <td>4162014</td>\n",
       "      <td>211</td>\n",
       "      <td>211/55</td>\n",
       "      <td>D19</td>\n",
       "      <td>D19/75</td>\n",
       "    </tr>\n",
       "    <tr>\n",
       "      <th>2</th>\n",
       "      <td>D257752</td>\n",
       "      <td>1980</td>\n",
       "      <td>4162014</td>\n",
       "      <td>211</td>\n",
       "      <td>211/126.1</td>\n",
       "      <td>D19</td>\n",
       "      <td>D19/75</td>\n",
       "    </tr>\n",
       "    <tr>\n",
       "      <th>3</th>\n",
       "      <td>D257924</td>\n",
       "      <td>1980</td>\n",
       "      <td>4162014</td>\n",
       "      <td>211</td>\n",
       "      <td>211/50</td>\n",
       "      <td>D06</td>\n",
       "      <td>D06/573</td>\n",
       "    </tr>\n",
       "    <tr>\n",
       "      <th>4</th>\n",
       "      <td>D257924</td>\n",
       "      <td>1980</td>\n",
       "      <td>4162014</td>\n",
       "      <td>211</td>\n",
       "      <td>211/55</td>\n",
       "      <td>D06</td>\n",
       "      <td>D06/573</td>\n",
       "    </tr>\n",
       "  </tbody>\n",
       "</table>\n",
       "</div>"
      ],
      "text/plain": [
       "  patent_number  priority_date cited_patent_number cite_mainclass  \\\n",
       "0       D257752           1980             4162014            211   \n",
       "1       D257752           1980             4162014            211   \n",
       "2       D257752           1980             4162014            211   \n",
       "3       D257924           1980             4162014            211   \n",
       "4       D257924           1980             4162014            211   \n",
       "\n",
       "  cite_subclass focal_mainclass focal_subclass  \n",
       "0        211/50             D19         D19/75  \n",
       "1        211/55             D19         D19/75  \n",
       "2     211/126.1             D19         D19/75  \n",
       "3        211/50             D06        D06/573  \n",
       "4        211/55             D06        D06/573  "
      ]
     },
     "execution_count": 25,
     "metadata": {},
     "output_type": "execute_result"
    }
   ],
   "source": [
    "final.head()"
   ]
  },
  {
   "cell_type": "code",
   "execution_count": 26,
   "metadata": {
    "scrolled": true
   },
   "outputs": [
    {
     "data": {
      "text/html": [
       "<div>\n",
       "<style scoped>\n",
       "    .dataframe tbody tr th:only-of-type {\n",
       "        vertical-align: middle;\n",
       "    }\n",
       "\n",
       "    .dataframe tbody tr th {\n",
       "        vertical-align: top;\n",
       "    }\n",
       "\n",
       "    .dataframe thead th {\n",
       "        text-align: right;\n",
       "    }\n",
       "</style>\n",
       "<table border=\"1\" class=\"dataframe\">\n",
       "  <thead>\n",
       "    <tr style=\"text-align: right;\">\n",
       "      <th></th>\n",
       "      <th>patent_number</th>\n",
       "      <th>priority_date</th>\n",
       "      <th>cite_subclass</th>\n",
       "      <th>focal_subclass</th>\n",
       "    </tr>\n",
       "  </thead>\n",
       "  <tbody>\n",
       "    <tr>\n",
       "      <th>4602315</th>\n",
       "      <td>D466542</td>\n",
       "      <td>1902</td>\n",
       "      <td>D16/311</td>\n",
       "      <td>D16/303</td>\n",
       "    </tr>\n",
       "    <tr>\n",
       "      <th>4602316</th>\n",
       "      <td>D466542</td>\n",
       "      <td>1902</td>\n",
       "      <td>2/428</td>\n",
       "      <td>D16/303</td>\n",
       "    </tr>\n",
       "    <tr>\n",
       "      <th>4602317</th>\n",
       "      <td>D466542</td>\n",
       "      <td>1902</td>\n",
       "      <td>2/452</td>\n",
       "      <td>D16/303</td>\n",
       "    </tr>\n",
       "    <tr>\n",
       "      <th>4602318</th>\n",
       "      <td>D466542</td>\n",
       "      <td>1902</td>\n",
       "      <td>2/442</td>\n",
       "      <td>D16/303</td>\n",
       "    </tr>\n",
       "    <tr>\n",
       "      <th>4602320</th>\n",
       "      <td>D466542</td>\n",
       "      <td>1902</td>\n",
       "      <td>2/445</td>\n",
       "      <td>D16/303</td>\n",
       "    </tr>\n",
       "  </tbody>\n",
       "</table>\n",
       "</div>"
      ],
      "text/plain": [
       "        patent_number  priority_date cite_subclass focal_subclass\n",
       "4602315       D466542           1902       D16/311        D16/303\n",
       "4602316       D466542           1902         2/428        D16/303\n",
       "4602317       D466542           1902         2/452        D16/303\n",
       "4602318       D466542           1902         2/442        D16/303\n",
       "4602320       D466542           1902         2/445        D16/303"
      ]
     },
     "execution_count": 26,
     "metadata": {},
     "output_type": "execute_result"
    }
   ],
   "source": [
    "final_combinations = final.drop(['cited_patent_number','cite_mainclass','focal_mainclass'], axis=1).drop_duplicates().sort_values(by=['priority_date','patent_number','focal_subclass'])\n",
    "final_combinations.head()"
   ]
  },
  {
   "cell_type": "code",
   "execution_count": 27,
   "metadata": {},
   "outputs": [
    {
     "data": {
      "text/html": [
       "<div>\n",
       "<style scoped>\n",
       "    .dataframe tbody tr th:only-of-type {\n",
       "        vertical-align: middle;\n",
       "    }\n",
       "\n",
       "    .dataframe tbody tr th {\n",
       "        vertical-align: top;\n",
       "    }\n",
       "\n",
       "    .dataframe thead th {\n",
       "        text-align: right;\n",
       "    }\n",
       "</style>\n",
       "<table border=\"1\" class=\"dataframe\">\n",
       "  <thead>\n",
       "    <tr style=\"text-align: right;\">\n",
       "      <th></th>\n",
       "      <th>patent_number</th>\n",
       "      <th>priority_date</th>\n",
       "      <th>cite_subclass</th>\n",
       "      <th>focal_subclass</th>\n",
       "    </tr>\n",
       "  </thead>\n",
       "  <tbody>\n",
       "    <tr>\n",
       "      <th>0</th>\n",
       "      <td>D466542</td>\n",
       "      <td>1902</td>\n",
       "      <td>D16/311</td>\n",
       "      <td>D16/303</td>\n",
       "    </tr>\n",
       "    <tr>\n",
       "      <th>1</th>\n",
       "      <td>D466542</td>\n",
       "      <td>1902</td>\n",
       "      <td>2/428</td>\n",
       "      <td>D16/303</td>\n",
       "    </tr>\n",
       "    <tr>\n",
       "      <th>2</th>\n",
       "      <td>D466542</td>\n",
       "      <td>1902</td>\n",
       "      <td>2/452</td>\n",
       "      <td>D16/303</td>\n",
       "    </tr>\n",
       "    <tr>\n",
       "      <th>3</th>\n",
       "      <td>D466542</td>\n",
       "      <td>1902</td>\n",
       "      <td>2/442</td>\n",
       "      <td>D16/303</td>\n",
       "    </tr>\n",
       "    <tr>\n",
       "      <th>4</th>\n",
       "      <td>D466542</td>\n",
       "      <td>1902</td>\n",
       "      <td>2/445</td>\n",
       "      <td>D16/303</td>\n",
       "    </tr>\n",
       "  </tbody>\n",
       "</table>\n",
       "</div>"
      ],
      "text/plain": [
       "  patent_number  priority_date cite_subclass focal_subclass\n",
       "0       D466542           1902       D16/311        D16/303\n",
       "1       D466542           1902         2/428        D16/303\n",
       "2       D466542           1902         2/452        D16/303\n",
       "3       D466542           1902         2/442        D16/303\n",
       "4       D466542           1902         2/445        D16/303"
      ]
     },
     "execution_count": 27,
     "metadata": {},
     "output_type": "execute_result"
    }
   ],
   "source": [
    "#necessary for accurate indexing\n",
    "final_combinations = final_combinations.sort_values('priority_date').reset_index(drop=True)\n",
    "final_combinations.head()"
   ]
  },
  {
   "cell_type": "code",
   "execution_count": 31,
   "metadata": {},
   "outputs": [],
   "source": [
    "p_year = final_combinations['priority_date'].unique()"
   ]
  },
  {
   "cell_type": "code",
   "execution_count": 33,
   "metadata": {
    "scrolled": true
   },
   "outputs": [
    {
     "name": "stdout",
     "output_type": "stream",
     "text": [
      "1902   6\n",
      "1904   5\n",
      "1905   5\n",
      "1906   195\n",
      "1908   13\n",
      "1909   12\n",
      "1913   7\n",
      "1919   37\n",
      "1920   1116\n",
      "1934   21\n",
      "1963   24\n",
      "1966   7\n",
      "1977   23\n",
      "1978   71\n",
      "1979   1453\n",
      "1980   22957\n",
      "1981   26423\n",
      "1982   30758\n",
      "1983   40300\n",
      "1984   50685\n",
      "1985   54035\n",
      "1986   62019\n",
      "1987   74464\n",
      "1988   88342\n",
      "1989   103199\n",
      "1990   126546\n",
      "1991   138690\n",
      "1992   136701\n",
      "1993   163258\n",
      "1994   187675\n",
      "1995   199728\n",
      "1996   219570\n",
      "1997   257621\n",
      "1998   284649\n",
      "1999   307193\n",
      "2000   308700\n",
      "2001   339476\n",
      "2002   393695\n",
      "2003   418418\n",
      "2004   512301\n",
      "2005   527442\n",
      "2006   488292\n",
      "2007   522454\n",
      "2008   570858\n",
      "2009   602760\n",
      "2010   717878\n",
      "2011   722273\n",
      "2012   785476\n",
      "2013   771273\n",
      "2014   706202\n",
      "2015   482274\n"
     ]
    },
    {
     "data": {
      "text/html": [
       "<div>\n",
       "<style scoped>\n",
       "    .dataframe tbody tr th:only-of-type {\n",
       "        vertical-align: middle;\n",
       "    }\n",
       "\n",
       "    .dataframe tbody tr th {\n",
       "        vertical-align: top;\n",
       "    }\n",
       "\n",
       "    .dataframe thead th {\n",
       "        text-align: right;\n",
       "    }\n",
       "</style>\n",
       "<table border=\"1\" class=\"dataframe\">\n",
       "  <thead>\n",
       "    <tr style=\"text-align: right;\">\n",
       "      <th></th>\n",
       "      <th>patent_number</th>\n",
       "      <th>priority_date</th>\n",
       "      <th>cite_subclass</th>\n",
       "      <th>focal_subclass</th>\n",
       "    </tr>\n",
       "  </thead>\n",
       "  <tbody>\n",
       "    <tr>\n",
       "      <th>0</th>\n",
       "      <td>D466542</td>\n",
       "      <td>1902</td>\n",
       "      <td>D16/311</td>\n",
       "      <td>D16/303</td>\n",
       "    </tr>\n",
       "    <tr>\n",
       "      <th>1</th>\n",
       "      <td>D466542</td>\n",
       "      <td>1902</td>\n",
       "      <td>2/428</td>\n",
       "      <td>D16/303</td>\n",
       "    </tr>\n",
       "    <tr>\n",
       "      <th>2</th>\n",
       "      <td>D466542</td>\n",
       "      <td>1902</td>\n",
       "      <td>2/452</td>\n",
       "      <td>D16/303</td>\n",
       "    </tr>\n",
       "    <tr>\n",
       "      <th>3</th>\n",
       "      <td>D466542</td>\n",
       "      <td>1902</td>\n",
       "      <td>2/442</td>\n",
       "      <td>D16/303</td>\n",
       "    </tr>\n",
       "    <tr>\n",
       "      <th>4</th>\n",
       "      <td>D466542</td>\n",
       "      <td>1902</td>\n",
       "      <td>2/445</td>\n",
       "      <td>D16/303</td>\n",
       "    </tr>\n",
       "    <tr>\n",
       "      <th>5</th>\n",
       "      <td>D466542</td>\n",
       "      <td>1902</td>\n",
       "      <td>D16/303</td>\n",
       "      <td>D16/303</td>\n",
       "    </tr>\n",
       "  </tbody>\n",
       "</table>\n",
       "</div>"
      ],
      "text/plain": [
       "  patent_number  priority_date cite_subclass focal_subclass\n",
       "0       D466542           1902       D16/311        D16/303\n",
       "1       D466542           1902         2/428        D16/303\n",
       "2       D466542           1902         2/452        D16/303\n",
       "3       D466542           1902         2/442        D16/303\n",
       "4       D466542           1902         2/445        D16/303\n",
       "5       D466542           1902       D16/303        D16/303"
      ]
     },
     "execution_count": 33,
     "metadata": {},
     "output_type": "execute_result"
    }
   ],
   "source": [
    "for year in p_year:\n",
    "    print(year,' ',final_combinations.loc[final_combinations['priority_date'] == year].shape[0])"
   ]
  },
  {
   "cell_type": "markdown",
   "metadata": {},
   "source": [
    "# Analysis with subclass granularity"
   ]
  },
  {
   "cell_type": "code",
   "execution_count": 34,
   "metadata": {},
   "outputs": [],
   "source": [
    "def unique_combinations(class1, class2):\n",
    "    pairs = list(zip(class1, class2))\n",
    "    return list(set(tuple(sorted(p)) for p in pairs))"
   ]
  },
  {
   "cell_type": "code",
   "execution_count": 35,
   "metadata": {},
   "outputs": [],
   "source": [
    "subclass_combos = unique_combinations(final_combinations['focal_subclass'], final_combinations['cite_subclass'])"
   ]
  },
  {
   "cell_type": "code",
   "execution_count": 36,
   "metadata": {},
   "outputs": [],
   "source": [
    "test =final_combinations.loc[final_combinations['priority_date'] == 1902]"
   ]
  },
  {
   "cell_type": "code",
   "execution_count": 37,
   "metadata": {},
   "outputs": [
    {
     "data": {
      "text/html": [
       "<div>\n",
       "<style scoped>\n",
       "    .dataframe tbody tr th:only-of-type {\n",
       "        vertical-align: middle;\n",
       "    }\n",
       "\n",
       "    .dataframe tbody tr th {\n",
       "        vertical-align: top;\n",
       "    }\n",
       "\n",
       "    .dataframe thead th {\n",
       "        text-align: right;\n",
       "    }\n",
       "</style>\n",
       "<table border=\"1\" class=\"dataframe\">\n",
       "  <thead>\n",
       "    <tr style=\"text-align: right;\">\n",
       "      <th></th>\n",
       "      <th>patent_number</th>\n",
       "      <th>priority_date</th>\n",
       "      <th>cite_subclass</th>\n",
       "      <th>focal_subclass</th>\n",
       "    </tr>\n",
       "  </thead>\n",
       "  <tbody>\n",
       "    <tr>\n",
       "      <th>0</th>\n",
       "      <td>D466542</td>\n",
       "      <td>1902</td>\n",
       "      <td>D16/311</td>\n",
       "      <td>D16/303</td>\n",
       "    </tr>\n",
       "    <tr>\n",
       "      <th>1</th>\n",
       "      <td>D466542</td>\n",
       "      <td>1902</td>\n",
       "      <td>2/428</td>\n",
       "      <td>D16/303</td>\n",
       "    </tr>\n",
       "    <tr>\n",
       "      <th>2</th>\n",
       "      <td>D466542</td>\n",
       "      <td>1902</td>\n",
       "      <td>2/452</td>\n",
       "      <td>D16/303</td>\n",
       "    </tr>\n",
       "    <tr>\n",
       "      <th>3</th>\n",
       "      <td>D466542</td>\n",
       "      <td>1902</td>\n",
       "      <td>2/442</td>\n",
       "      <td>D16/303</td>\n",
       "    </tr>\n",
       "    <tr>\n",
       "      <th>4</th>\n",
       "      <td>D466542</td>\n",
       "      <td>1902</td>\n",
       "      <td>2/445</td>\n",
       "      <td>D16/303</td>\n",
       "    </tr>\n",
       "    <tr>\n",
       "      <th>5</th>\n",
       "      <td>D466542</td>\n",
       "      <td>1902</td>\n",
       "      <td>D16/303</td>\n",
       "      <td>D16/303</td>\n",
       "    </tr>\n",
       "  </tbody>\n",
       "</table>\n",
       "</div>"
      ],
      "text/plain": [
       "  patent_number  priority_date cite_subclass focal_subclass\n",
       "0       D466542           1902       D16/311        D16/303\n",
       "1       D466542           1902         2/428        D16/303\n",
       "2       D466542           1902         2/452        D16/303\n",
       "3       D466542           1902         2/442        D16/303\n",
       "4       D466542           1902         2/445        D16/303\n",
       "5       D466542           1902       D16/303        D16/303"
      ]
     },
     "execution_count": 37,
     "metadata": {},
     "output_type": "execute_result"
    }
   ],
   "source": [
    "test"
   ]
  },
  {
   "cell_type": "code",
   "execution_count": 93,
   "metadata": {},
   "outputs": [
    {
     "data": {
      "text/plain": [
       "(11447580, 5)"
      ]
     },
     "execution_count": 93,
     "metadata": {},
     "output_type": "execute_result"
    }
   ],
   "source": [
    "final_combinations.shape"
   ]
  },
  {
   "cell_type": "markdown",
   "metadata": {},
   "source": [
    "11,447,580 rows of pairs"
   ]
  },
  {
   "cell_type": "markdown",
   "metadata": {},
   "source": [
    "# Number of unique patent backwards combinations: 2,716,435"
   ]
  },
  {
   "cell_type": "markdown",
   "metadata": {},
   "source": [
    "Let's split by reference class type. Maybe this will be faster?"
   ]
  },
  {
   "cell_type": "code",
   "execution_count": 38,
   "metadata": {
    "scrolled": true
   },
   "outputs": [
    {
     "data": {
      "text/html": [
       "<div>\n",
       "<style scoped>\n",
       "    .dataframe tbody tr th:only-of-type {\n",
       "        vertical-align: middle;\n",
       "    }\n",
       "\n",
       "    .dataframe tbody tr th {\n",
       "        vertical-align: top;\n",
       "    }\n",
       "\n",
       "    .dataframe thead th {\n",
       "        text-align: right;\n",
       "    }\n",
       "</style>\n",
       "<table border=\"1\" class=\"dataframe\">\n",
       "  <thead>\n",
       "    <tr style=\"text-align: right;\">\n",
       "      <th></th>\n",
       "      <th>patent_number</th>\n",
       "      <th>priority_date</th>\n",
       "      <th>cite_subclass</th>\n",
       "      <th>focal_subclass</th>\n",
       "    </tr>\n",
       "  </thead>\n",
       "  <tbody>\n",
       "    <tr>\n",
       "      <th>0</th>\n",
       "      <td>D466542</td>\n",
       "      <td>1902</td>\n",
       "      <td>D16/311</td>\n",
       "      <td>D16/303</td>\n",
       "    </tr>\n",
       "    <tr>\n",
       "      <th>5</th>\n",
       "      <td>D466542</td>\n",
       "      <td>1902</td>\n",
       "      <td>D16/303</td>\n",
       "      <td>D16/303</td>\n",
       "    </tr>\n",
       "    <tr>\n",
       "      <th>9</th>\n",
       "      <td>D499408</td>\n",
       "      <td>1904</td>\n",
       "      <td>D14/444</td>\n",
       "      <td>D14/444</td>\n",
       "    </tr>\n",
       "    <tr>\n",
       "      <th>10</th>\n",
       "      <td>D499408</td>\n",
       "      <td>1904</td>\n",
       "      <td>D14/441</td>\n",
       "      <td>D14/444</td>\n",
       "    </tr>\n",
       "    <tr>\n",
       "      <th>11</th>\n",
       "      <td>D510547</td>\n",
       "      <td>1905</td>\n",
       "      <td>D12/178</td>\n",
       "      <td>D12/111</td>\n",
       "    </tr>\n",
       "  </tbody>\n",
       "</table>\n",
       "</div>"
      ],
      "text/plain": [
       "   patent_number  priority_date cite_subclass focal_subclass\n",
       "0        D466542           1902       D16/311        D16/303\n",
       "5        D466542           1902       D16/303        D16/303\n",
       "9        D499408           1904       D14/444        D14/444\n",
       "10       D499408           1904       D14/441        D14/444\n",
       "11       D510547           1905       D12/178        D12/111"
      ]
     },
     "execution_count": 38,
     "metadata": {},
     "output_type": "execute_result"
    }
   ],
   "source": [
    "#selecting Design -> Design\n",
    "\n",
    "design_to_design = final_combinations.loc[(final_combinations['focal_subclass'].str.contains('D')) & (final_combinations['cite_subclass'].str.contains('D'))]\n",
    "design_to_design.head()"
   ]
  },
  {
   "cell_type": "code",
   "execution_count": 99,
   "metadata": {},
   "outputs": [
    {
     "name": "stdout",
     "output_type": "stream",
     "text": [
      "(4389261, 5) 484611\n"
     ]
    }
   ],
   "source": [
    "print(design_to_design.shape, design_to_design['patent_number'].nunique())"
   ]
  },
  {
   "cell_type": "markdown",
   "metadata": {},
   "source": [
    "4,389,261 combinations are represented, 484,611 parents are represented too"
   ]
  },
  {
   "cell_type": "code",
   "execution_count": 39,
   "metadata": {},
   "outputs": [],
   "source": [
    "design_to_design = design_to_design.sort_values('priority_date').reset_index(drop=True)"
   ]
  },
  {
   "cell_type": "code",
   "execution_count": 48,
   "metadata": {
    "scrolled": true
   },
   "outputs": [
    {
     "name": "stdout",
     "output_type": "stream",
     "text": [
      "1902   2\n",
      "1904   2\n",
      "1905   3\n",
      "1906   30\n",
      "1908   6\n",
      "1909   11\n",
      "1913   4\n",
      "1919   20\n",
      "1920   720\n",
      "1934   15\n",
      "1963   8\n",
      "1966   7\n",
      "1977   10\n",
      "1978   38\n",
      "1979   590\n",
      "1980   8783\n",
      "1981   10208\n",
      "1982   12636\n",
      "1983   16423\n",
      "1984   19938\n",
      "1985   22538\n",
      "1986   24665\n",
      "1987   26919\n",
      "1988   33375\n",
      "1989   39536\n",
      "1990   48299\n",
      "1991   50612\n",
      "1992   51138\n",
      "1993   57399\n",
      "1994   66197\n",
      "1995   74168\n",
      "1996   82218\n",
      "1997   98346\n",
      "1998   101484\n",
      "1999   113581\n",
      "2000   117993\n",
      "2001   120274\n",
      "2002   143001\n",
      "2003   150211\n",
      "2004   182020\n",
      "2005   201082\n",
      "2006   198399\n",
      "2007   212634\n",
      "2008   225623\n",
      "2009   229956\n",
      "2010   274780\n",
      "2011   273300\n",
      "2012   290939\n",
      "2013   301492\n",
      "2014   290461\n",
      "2015   217167\n"
     ]
    }
   ],
   "source": [
    "for year in design_to_design['priority_date'].unique():\n",
    "    print(year, ' ',design_to_design.loc[design_to_design['priority_date'] == year].shape[0])"
   ]
  },
  {
   "cell_type": "code",
   "execution_count": 45,
   "metadata": {},
   "outputs": [],
   "source": [
    "design_design_subclass_combos = unique_combinations(design_to_design['focal_subclass'], design_to_design['cite_subclass'])"
   ]
  },
  {
   "cell_type": "code",
   "execution_count": 55,
   "metadata": {},
   "outputs": [
    {
     "data": {
      "text/plain": [
       "set()"
      ]
     },
     "execution_count": 55,
     "metadata": {},
     "output_type": "execute_result"
    }
   ],
   "source": [
    "seen_pairs = set()\n",
    "seen_pairs"
   ]
  },
  {
   "cell_type": "code",
   "execution_count": 59,
   "metadata": {},
   "outputs": [
    {
     "name": "stderr",
     "output_type": "stream",
     "text": [
      "/home/tiera/anaconda3/lib/python3.6/site-packages/ipykernel_launcher.py:2: SettingWithCopyWarning: \n",
      "A value is trying to be set on a copy of a slice from a DataFrame.\n",
      "Try using .loc[row_indexer,col_indexer] = value instead\n",
      "\n",
      "See the caveats in the documentation: http://pandas.pydata.org/pandas-docs/stable/indexing.html#indexing-view-versus-copy\n",
      "  \n"
     ]
    },
    {
     "data": {
      "text/html": [
       "<div>\n",
       "<style scoped>\n",
       "    .dataframe tbody tr th:only-of-type {\n",
       "        vertical-align: middle;\n",
       "    }\n",
       "\n",
       "    .dataframe tbody tr th {\n",
       "        vertical-align: top;\n",
       "    }\n",
       "\n",
       "    .dataframe thead th {\n",
       "        text-align: right;\n",
       "    }\n",
       "</style>\n",
       "<table border=\"1\" class=\"dataframe\">\n",
       "  <thead>\n",
       "    <tr style=\"text-align: right;\">\n",
       "      <th></th>\n",
       "      <th>patent_number</th>\n",
       "      <th>priority_date</th>\n",
       "      <th>cite_subclass</th>\n",
       "      <th>focal_subclass</th>\n",
       "      <th>first_seen</th>\n",
       "    </tr>\n",
       "  </thead>\n",
       "  <tbody>\n",
       "    <tr>\n",
       "      <th>0</th>\n",
       "      <td>D466542</td>\n",
       "      <td>1902</td>\n",
       "      <td>D16/311</td>\n",
       "      <td>D16/303</td>\n",
       "      <td>0</td>\n",
       "    </tr>\n",
       "    <tr>\n",
       "      <th>1</th>\n",
       "      <td>D466542</td>\n",
       "      <td>1902</td>\n",
       "      <td>D16/303</td>\n",
       "      <td>D16/303</td>\n",
       "      <td>0</td>\n",
       "    </tr>\n",
       "  </tbody>\n",
       "</table>\n",
       "</div>"
      ],
      "text/plain": [
       "  patent_number  priority_date cite_subclass focal_subclass  first_seen\n",
       "0       D466542           1902       D16/311        D16/303           0\n",
       "1       D466542           1902       D16/303        D16/303           0"
      ]
     },
     "execution_count": 59,
     "metadata": {},
     "output_type": "execute_result"
    }
   ],
   "source": [
    "year1 = design_to_design.loc[design_to_design['priority_date'] == 1902]\n",
    "year1['first_seen'] = 0\n",
    "year1"
   ]
  },
  {
   "cell_type": "code",
   "execution_count": 53,
   "metadata": {},
   "outputs": [
    {
     "data": {
      "text/plain": [
       "[('D16/303', 'D16/311'), ('D16/303', 'D16/303')]"
      ]
     },
     "execution_count": 53,
     "metadata": {},
     "output_type": "execute_result"
    }
   ],
   "source": [
    "year1_pairs = unique_combinations(year1['focal_subclass'], year1['cite_subclass'])\n",
    "year1_pairs"
   ]
  },
  {
   "cell_type": "code",
   "execution_count": 57,
   "metadata": {},
   "outputs": [
    {
     "name": "stdout",
     "output_type": "stream",
     "text": [
      "False\n",
      "False\n"
     ]
    }
   ],
   "source": [
    "for pair in year1_pairs:\n",
    "    print(pair in seen_pairs)\n",
    "    fo"
   ]
  },
  {
   "cell_type": "code",
   "execution_count": 92,
   "metadata": {},
   "outputs": [
    {
     "data": {
      "text/html": [
       "<div>\n",
       "<style scoped>\n",
       "    .dataframe tbody tr th:only-of-type {\n",
       "        vertical-align: middle;\n",
       "    }\n",
       "\n",
       "    .dataframe tbody tr th {\n",
       "        vertical-align: top;\n",
       "    }\n",
       "\n",
       "    .dataframe thead th {\n",
       "        text-align: right;\n",
       "    }\n",
       "</style>\n",
       "<table border=\"1\" class=\"dataframe\">\n",
       "  <thead>\n",
       "    <tr style=\"text-align: right;\">\n",
       "      <th></th>\n",
       "      <th>patent_number</th>\n",
       "      <th>priority_date</th>\n",
       "      <th>cite_subclass</th>\n",
       "      <th>focal_subclass</th>\n",
       "      <th>first_seen</th>\n",
       "    </tr>\n",
       "  </thead>\n",
       "  <tbody>\n",
       "    <tr>\n",
       "      <th>0</th>\n",
       "      <td>False</td>\n",
       "      <td>False</td>\n",
       "      <td>True</td>\n",
       "      <td>True</td>\n",
       "      <td>False</td>\n",
       "    </tr>\n",
       "    <tr>\n",
       "      <th>1</th>\n",
       "      <td>False</td>\n",
       "      <td>False</td>\n",
       "      <td>True</td>\n",
       "      <td>True</td>\n",
       "      <td>False</td>\n",
       "    </tr>\n",
       "  </tbody>\n",
       "</table>\n",
       "</div>"
      ],
      "text/plain": [
       "   patent_number  priority_date  cite_subclass  focal_subclass  first_seen\n",
       "0          False          False           True            True       False\n",
       "1          False          False           True            True       False"
      ]
     },
     "execution_count": 92,
     "metadata": {},
     "output_type": "execute_result"
    }
   ],
   "source": [
    "year1.isin(year1_pairs[0])"
   ]
  },
  {
   "cell_type": "code",
   "execution_count": 109,
   "metadata": {},
   "outputs": [],
   "source": [
    "def mark_first_novel_appearance(df, unique_combos, class1_name, class2_name, year_name):\n",
    "    df['first_seen'] = 0\n",
    "    year_col = df.columns.get_loc(year_name)\n",
    "    i = 0\n",
    "    for combo in(unique_combos):\n",
    "        if (i% 1000 == 0):\n",
    "            print('loop counter: ',i )\n",
    "        # calculate year of first appearance\n",
    "        index = df[[class1_name,class2_name]].isin(combo).all(axis=1).idxmax()\n",
    "        year = df.iloc[index, year_col]\n",
    "        year_boolean = df[[year_name]].isin([year]).all(axis=1)\n",
    "\n",
    "#         # set all single or simulatnious novel appearances\n",
    "        combo_boolean = df[[class1_name,class2_name]].isin(combo).all(axis=1)\n",
    "        novel_indicies = np.where(combo_boolean & year_boolean)[0]\n",
    "#         print(novel_indicies)\n",
    "        df.loc[novel_indicies, 'first_seen'] = 1\n",
    "        i = i+ 1\n",
    "    return df"
   ]
  },
  {
   "cell_type": "code",
   "execution_count": 103,
   "metadata": {},
   "outputs": [
    {
     "data": {
      "text/plain": [
       "565186"
      ]
     },
     "execution_count": 103,
     "metadata": {},
     "output_type": "execute_result"
    }
   ],
   "source": [
    "len(design_design_subclass_combos)"
   ]
  },
  {
   "cell_type": "markdown",
   "metadata": {},
   "source": [
    "565,186 combinations represented"
   ]
  },
  {
   "cell_type": "code",
   "execution_count": null,
   "metadata": {
    "scrolled": false
   },
   "outputs": [
    {
     "name": "stdout",
     "output_type": "stream",
     "text": [
      "loop counter:  0\n",
      "loop counter:  1000\n",
      "loop counter:  2000\n",
      "loop counter:  3000\n"
     ]
    }
   ],
   "source": [
    "design_design_1 = mark_first_novel_appearance(design_to_design, design_design_subclass_combos, 'focal_subclass', 'cite_subclass', 'priority_date')"
   ]
  },
  {
   "cell_type": "markdown",
   "metadata": {},
   "source": [
    "# Protoype dataframe"
   ]
  },
  {
   "cell_type": "code",
   "execution_count": null,
   "metadata": {},
   "outputs": [],
   "source": [
    "data = [('D111111',2000, 'A','B'),('D222222', 2001, 'B', 'A'),('D333333',2000,'B','A'),('D444444',2005, 'A','B'), ('D555555',2000,'C','D'),('D666666',2010,'D','C')]\n",
    "cols = ['id', 'year','class1','class2']"
   ]
  },
  {
   "cell_type": "code",
   "execution_count": null,
   "metadata": {},
   "outputs": [],
   "source": [
    "df = pd.DataFrame.from_records(data, columns=cols)\n",
    "df"
   ]
  },
  {
   "cell_type": "code",
   "execution_count": null,
   "metadata": {},
   "outputs": [],
   "source": [
    "df = df.sort_values('year').reset_index(drop=True)\n",
    "df"
   ]
  },
  {
   "cell_type": "code",
   "execution_count": null,
   "metadata": {},
   "outputs": [],
   "source": [
    "df['first_seen'] = 0\n",
    "df"
   ]
  },
  {
   "cell_type": "code",
   "execution_count": null,
   "metadata": {},
   "outputs": [],
   "source": [
    "list1 = df['class1'].tolist()\n",
    "list2 = df['class2'].tolist()"
   ]
  },
  {
   "cell_type": "code",
   "execution_count": null,
   "metadata": {},
   "outputs": [],
   "source": [
    "pairs = list(zip(list1, list2))"
   ]
  },
  {
   "cell_type": "code",
   "execution_count": null,
   "metadata": {},
   "outputs": [],
   "source": [
    "unique_combos = list(set(tuple(sorted(p)) for p in pairs))\n",
    "unique_combos"
   ]
  },
  {
   "cell_type": "code",
   "execution_count": null,
   "metadata": {},
   "outputs": [],
   "source": [
    "i = df[['class1','class2']].isin(unique_combos[0]).all(axis=1).idxmax()"
   ]
  },
  {
   "cell_type": "code",
   "execution_count": null,
   "metadata": {},
   "outputs": [],
   "source": [
    "year = df.iloc[i,1]\n",
    "year"
   ]
  },
  {
   "cell_type": "code",
   "execution_count": null,
   "metadata": {},
   "outputs": [],
   "source": [
    "b1 = df[['class1','class2']].isin(unique_combos[0]).all(axis=1)"
   ]
  },
  {
   "cell_type": "code",
   "execution_count": null,
   "metadata": {},
   "outputs": [],
   "source": [
    "b2 = df[['year']].isin([year]).all(axis=1)"
   ]
  },
  {
   "cell_type": "code",
   "execution_count": null,
   "metadata": {},
   "outputs": [],
   "source": [
    "(b1 & b2)"
   ]
  },
  {
   "cell_type": "code",
   "execution_count": null,
   "metadata": {},
   "outputs": [],
   "source": [
    "test = np.where(b1 & b2)[0]"
   ]
  },
  {
   "cell_type": "code",
   "execution_count": null,
   "metadata": {},
   "outputs": [],
   "source": [
    "acol = df.columns.get_loc('first_seen')"
   ]
  },
  {
   "cell_type": "code",
   "execution_count": null,
   "metadata": {},
   "outputs": [],
   "source": [
    "df"
   ]
  },
  {
   "cell_type": "code",
   "execution_count": null,
   "metadata": {},
   "outputs": [],
   "source": [
    "test = [0,1]"
   ]
  },
  {
   "cell_type": "code",
   "execution_count": null,
   "metadata": {},
   "outputs": [],
   "source": [
    "df.loc[test, 'first_seen'] = 1"
   ]
  },
  {
   "cell_type": "code",
   "execution_count": null,
   "metadata": {},
   "outputs": [],
   "source": [
    "df"
   ]
  },
  {
   "cell_type": "code",
   "execution_count": null,
   "metadata": {},
   "outputs": [],
   "source": []
  }
 ],
 "metadata": {
  "kernelspec": {
   "display_name": "Python 3",
   "language": "python",
   "name": "python3"
  },
  "language_info": {
   "codemirror_mode": {
    "name": "ipython",
    "version": 3
   },
   "file_extension": ".py",
   "mimetype": "text/x-python",
   "name": "python",
   "nbconvert_exporter": "python",
   "pygments_lexer": "ipython3",
   "version": "3.6.5"
  }
 },
 "nbformat": 4,
 "nbformat_minor": 2
}
