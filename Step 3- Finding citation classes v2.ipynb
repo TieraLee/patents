{
 "cells": [
  {
   "cell_type": "markdown",
   "metadata": {},
   "source": [
    "# Gathering Citation class information"
   ]
  },
  {
   "cell_type": "code",
   "execution_count": 1,
   "metadata": {},
   "outputs": [],
   "source": [
    "import pandas as pd\n",
    "import numpy as np"
   ]
  },
  {
   "cell_type": "code",
   "execution_count": 3,
   "metadata": {},
   "outputs": [
    {
     "data": {
      "text/html": [
       "<div>\n",
       "<style scoped>\n",
       "    .dataframe tbody tr th:only-of-type {\n",
       "        vertical-align: middle;\n",
       "    }\n",
       "\n",
       "    .dataframe tbody tr th {\n",
       "        vertical-align: top;\n",
       "    }\n",
       "\n",
       "    .dataframe thead th {\n",
       "        text-align: right;\n",
       "    }\n",
       "</style>\n",
       "<table border=\"1\" class=\"dataframe\">\n",
       "  <thead>\n",
       "    <tr style=\"text-align: right;\">\n",
       "      <th></th>\n",
       "      <th>cited_patent_number</th>\n",
       "      <th>patent_number</th>\n",
       "    </tr>\n",
       "  </thead>\n",
       "  <tbody>\n",
       "    <tr>\n",
       "      <th>0</th>\n",
       "      <td>NaN</td>\n",
       "      <td>D257752</td>\n",
       "    </tr>\n",
       "    <tr>\n",
       "      <th>1</th>\n",
       "      <td>4162014</td>\n",
       "      <td>D257752</td>\n",
       "    </tr>\n",
       "    <tr>\n",
       "      <th>2</th>\n",
       "      <td>NaN</td>\n",
       "      <td>D257924</td>\n",
       "    </tr>\n",
       "    <tr>\n",
       "      <th>3</th>\n",
       "      <td>4162014</td>\n",
       "      <td>D257924</td>\n",
       "    </tr>\n",
       "    <tr>\n",
       "      <th>4</th>\n",
       "      <td>NaN</td>\n",
       "      <td>D258382</td>\n",
       "    </tr>\n",
       "  </tbody>\n",
       "</table>\n",
       "</div>"
      ],
      "text/plain": [
       "  cited_patent_number patent_number\n",
       "0                 NaN       D257752\n",
       "1             4162014       D257752\n",
       "2                 NaN       D257924\n",
       "3             4162014       D257924\n",
       "4                 NaN       D258382"
      ]
     },
     "execution_count": 3,
     "metadata": {},
     "output_type": "execute_result"
    }
   ],
   "source": [
    "citations = pd.read_csv('citations_patents_level.csv')\n",
    "citations.head()"
   ]
  },
  {
   "cell_type": "code",
   "execution_count": 4,
   "metadata": {},
   "outputs": [
    {
     "data": {
      "text/plain": [
       "(6777757, 2)"
      ]
     },
     "execution_count": 4,
     "metadata": {},
     "output_type": "execute_result"
    }
   ],
   "source": [
    "citations.shape"
   ]
  },
  {
   "cell_type": "code",
   "execution_count": 7,
   "metadata": {},
   "outputs": [
    {
     "data": {
      "text/plain": [
       "525512"
      ]
     },
     "execution_count": 7,
     "metadata": {},
     "output_type": "execute_result"
    }
   ],
   "source": [
    "citations.groupby('patent_number').ngroups"
   ]
  },
  {
   "cell_type": "markdown",
   "metadata": {},
   "source": [
    "For some reason or another, the version that filters non-design patents did not save. Let's fix that real quick"
   ]
  },
  {
   "cell_type": "code",
   "execution_count": 8,
   "metadata": {},
   "outputs": [],
   "source": [
    "def remove_non_design(df):\n",
    "    return df[df.patent_number.str.contains('D')]\n",
    "    "
   ]
  },
  {
   "cell_type": "code",
   "execution_count": 9,
   "metadata": {},
   "outputs": [],
   "source": [
    "citations = remove_non_design(citations)"
   ]
  },
  {
   "cell_type": "code",
   "execution_count": 10,
   "metadata": {},
   "outputs": [
    {
     "data": {
      "text/plain": [
       "525490"
      ]
     },
     "execution_count": 10,
     "metadata": {},
     "output_type": "execute_result"
    }
   ],
   "source": [
    "citations.groupby('patent_number').ngroups"
   ]
  },
  {
   "cell_type": "code",
   "execution_count": 11,
   "metadata": {},
   "outputs": [],
   "source": [
    "citations.to_csv('citations_patents_level.csv', index=False)"
   ]
  },
  {
   "cell_type": "code",
   "execution_count": 12,
   "metadata": {},
   "outputs": [
    {
     "data": {
      "text/plain": [
       "cited_patent_number    289567\n",
       "patent_number               0\n",
       "dtype: int64"
      ]
     },
     "execution_count": 12,
     "metadata": {},
     "output_type": "execute_result"
    }
   ],
   "source": [
    "citations.isnull().sum()"
   ]
  },
  {
   "cell_type": "code",
   "execution_count": 15,
   "metadata": {},
   "outputs": [
    {
     "data": {
      "text/plain": [
       "(6488089, 2)"
      ]
     },
     "execution_count": 15,
     "metadata": {},
     "output_type": "execute_result"
    }
   ],
   "source": [
    "citations.dropna(inplace=True)\n",
    "citations.shape"
   ]
  },
  {
   "cell_type": "markdown",
   "metadata": {},
   "source": [
    "Let's remove any duplicate patents that have been referenced by multiple patents"
   ]
  },
  {
   "cell_type": "code",
   "execution_count": 16,
   "metadata": {},
   "outputs": [
    {
     "data": {
      "text/plain": [
       "(941034, 2)"
      ]
     },
     "execution_count": 16,
     "metadata": {},
     "output_type": "execute_result"
    }
   ],
   "source": [
    "citations.drop_duplicates(subset=['cited_patent_number'],inplace=True)\n",
    "citations.shape"
   ]
  },
  {
   "cell_type": "code",
   "execution_count": 18,
   "metadata": {},
   "outputs": [
    {
     "data": {
      "text/plain": [
       "0.13884150759609706"
      ]
     },
     "execution_count": 18,
     "metadata": {},
     "output_type": "execute_result"
    }
   ],
   "source": [
    "941034/6777757"
   ]
  },
  {
   "cell_type": "code",
   "execution_count": 24,
   "metadata": {},
   "outputs": [],
   "source": [
    "needed_patents= citations['cited_patent_number'].sort_values()"
   ]
  },
  {
   "cell_type": "code",
   "execution_count": 25,
   "metadata": {},
   "outputs": [
    {
     "data": {
      "text/plain": [
       "87412      3930271\n",
       "5357083    3930272\n",
       "23827      3930273\n",
       "1137858    3930280\n",
       "3133688    3930286\n",
       "Name: cited_patent_number, dtype: object"
      ]
     },
     "execution_count": 25,
     "metadata": {},
     "output_type": "execute_result"
    }
   ],
   "source": [
    "needed_patents.head()"
   ]
  },
  {
   "cell_type": "code",
   "execution_count": 41,
   "metadata": {},
   "outputs": [
    {
     "data": {
      "text/plain": [
       "215569     RE28673\n",
       "6407442    RE28687\n",
       "2767       RE28720\n",
       "1355927    RE28746\n",
       "1160406    RE28752\n",
       "132230     RE28793\n",
       "50839      RE28797\n",
       "5073187    RE28834\n",
       "2745033    RE28855\n",
       "449612     RE28874\n",
       "5997353    RE28876\n",
       "478363     RE28879\n",
       "2895675    RE28880\n",
       "1683791    RE28889\n",
       "2153334    RE28898\n",
       "4224475    RE28910\n",
       "139959     RE28915\n",
       "836440     RE28916\n",
       "253686     RE28936\n",
       "125277     RE28948\n",
       "249352     RE28969\n",
       "588161     RE28987\n",
       "1043019    RE28994\n",
       "2712421    RE29002\n",
       "2820247    RE29034\n",
       "19104      RE29036\n",
       "27373      RE29041\n",
       "55107      RE29047\n",
       "68150      RE29050\n",
       "2179126    RE29052\n",
       "            ...   \n",
       "5901145    RE45560\n",
       "6412769    RE45585\n",
       "5508558    RE45611\n",
       "5901165    RE45622\n",
       "6309234    RE45623\n",
       "6347756    RE45624\n",
       "6193298    RE45657\n",
       "6200711    RE45674\n",
       "6131766    RE45679\n",
       "6352299    RE45712\n",
       "6221335    RE45715\n",
       "6018866    RE45741\n",
       "6107284    RE45787\n",
       "6217445    RE45836\n",
       "6647303    RE45837\n",
       "6045515    RE45843\n",
       "6059342    RE45863\n",
       "6645132    RE45864\n",
       "6404465    RE45914\n",
       "6610508    RE45915\n",
       "6610509    RE45961\n",
       "6138495    RE46043\n",
       "6045519    RE46061\n",
       "6458270    RE46084\n",
       "6634703    RE46133\n",
       "6637989    RE46226\n",
       "6662283    RE46247\n",
       "6125111    RE46259\n",
       "6125112    RE46267\n",
       "6732627    RE46331\n",
       "Name: cited_patent_number, Length: 1542, dtype: object"
      ]
     },
     "execution_count": 41,
     "metadata": {},
     "output_type": "execute_result"
    }
   ],
   "source": [
    "needed_patents[needed_patents.str.contains('R')]"
   ]
  },
  {
   "cell_type": "markdown",
   "metadata": {},
   "source": [
    "generating all the URLs for the patents needed"
   ]
  },
  {
   "cell_type": "code",
   "execution_count": 26,
   "metadata": {},
   "outputs": [],
   "source": [
    "urls = []\n",
    "base_url = \"http://www.patentsview.org/api/patents/query?\"\n",
    "field_list = \"&f=[\\\"patent_number\\\",\\\"uspc_subclass_id\\\",\\\"uspc_mainclass_id\\\"]\"\n",
    "for i, value in needed_patents.iteritems():\n",
    "    query = \"q={{\\\"patent_number\\\":\\\"{}\\\"}}\".format(value)\n",
    "    urls.append(base_url + query + field_list)\n"
   ]
  },
  {
   "cell_type": "code",
   "execution_count": 37,
   "metadata": {},
   "outputs": [],
   "source": [
    "pd.DataFrame(urls).to_csv('citation_urls.csv', index=False, header=True)"
   ]
  },
  {
   "cell_type": "code",
   "execution_count": null,
   "metadata": {},
   "outputs": [],
   "source": []
  }
 ],
 "metadata": {
  "kernelspec": {
   "display_name": "Python 3",
   "language": "python",
   "name": "python3"
  },
  "language_info": {
   "codemirror_mode": {
    "name": "ipython",
    "version": 3
   },
   "file_extension": ".py",
   "mimetype": "text/x-python",
   "name": "python",
   "nbconvert_exporter": "python",
   "pygments_lexer": "ipython3",
   "version": "3.6.5"
  }
 },
 "nbformat": 4,
 "nbformat_minor": 2
}
