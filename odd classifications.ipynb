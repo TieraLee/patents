{
 "cells": [
  {
   "cell_type": "code",
   "execution_count": 1,
   "metadata": {},
   "outputs": [],
   "source": [
    "import pandas as pd\n",
    "import numpy as np\n",
    "import design_class_dictionary"
   ]
  },
  {
   "cell_type": "code",
   "execution_count": 2,
   "metadata": {},
   "outputs": [],
   "source": [
    "master = pd.read_csv('data/master.csv')"
   ]
  },
  {
   "cell_type": "code",
   "execution_count": 3,
   "metadata": {},
   "outputs": [
    {
     "data": {
      "text/html": [
       "<div>\n",
       "<style scoped>\n",
       "    .dataframe tbody tr th:only-of-type {\n",
       "        vertical-align: middle;\n",
       "    }\n",
       "\n",
       "    .dataframe tbody tr th {\n",
       "        vertical-align: top;\n",
       "    }\n",
       "\n",
       "    .dataframe thead th {\n",
       "        text-align: right;\n",
       "    }\n",
       "</style>\n",
       "<table border=\"1\" class=\"dataframe\">\n",
       "  <thead>\n",
       "    <tr style=\"text-align: right;\">\n",
       "      <th></th>\n",
       "      <th>patent_number</th>\n",
       "      <th>priority_date</th>\n",
       "      <th>cited_patent_number</th>\n",
       "      <th>cite_mainclass</th>\n",
       "      <th>cite_subclass</th>\n",
       "      <th>focal_mainclass</th>\n",
       "      <th>focal_subclass</th>\n",
       "    </tr>\n",
       "  </thead>\n",
       "  <tbody>\n",
       "    <tr>\n",
       "      <th>2652347</th>\n",
       "      <td>D404730</td>\n",
       "      <td>1997</td>\n",
       "      <td>9049696</td>\n",
       "      <td>No longer published</td>\n",
       "      <td>No longer published</td>\n",
       "      <td>D14</td>\n",
       "      <td>D14/442</td>\n",
       "    </tr>\n",
       "    <tr>\n",
       "      <th>2652348</th>\n",
       "      <td>D404730</td>\n",
       "      <td>1997</td>\n",
       "      <td>9049703</td>\n",
       "      <td>No longer published</td>\n",
       "      <td>No longer published</td>\n",
       "      <td>D14</td>\n",
       "      <td>D14/442</td>\n",
       "    </tr>\n",
       "    <tr>\n",
       "      <th>2652349</th>\n",
       "      <td>D404730</td>\n",
       "      <td>1997</td>\n",
       "      <td>9049704</td>\n",
       "      <td>No longer published</td>\n",
       "      <td>No longer published</td>\n",
       "      <td>D14</td>\n",
       "      <td>D14/442</td>\n",
       "    </tr>\n",
       "    <tr>\n",
       "      <th>2652350</th>\n",
       "      <td>D404730</td>\n",
       "      <td>1997</td>\n",
       "      <td>9053779</td>\n",
       "      <td>No longer published</td>\n",
       "      <td>No longer published</td>\n",
       "      <td>D14</td>\n",
       "      <td>D14/442</td>\n",
       "    </tr>\n",
       "    <tr>\n",
       "      <th>4329233</th>\n",
       "      <td>D453749</td>\n",
       "      <td>2001</td>\n",
       "      <td>PP19946</td>\n",
       "      <td>PLT</td>\n",
       "      <td>PLT/417</td>\n",
       "      <td>D14</td>\n",
       "      <td>D14/138.AB</td>\n",
       "    </tr>\n",
       "  </tbody>\n",
       "</table>\n",
       "</div>"
      ],
      "text/plain": [
       "        patent_number  priority_date cited_patent_number       cite_mainclass  \\\n",
       "2652347       D404730           1997             9049696  No longer published   \n",
       "2652348       D404730           1997             9049703  No longer published   \n",
       "2652349       D404730           1997             9049704  No longer published   \n",
       "2652350       D404730           1997             9053779  No longer published   \n",
       "4329233       D453749           2001             PP19946                  PLT   \n",
       "\n",
       "               cite_subclass focal_mainclass focal_subclass  \n",
       "2652347  No longer published             D14        D14/442  \n",
       "2652348  No longer published             D14        D14/442  \n",
       "2652349  No longer published             D14        D14/442  \n",
       "2652350  No longer published             D14        D14/442  \n",
       "4329233              PLT/417             D14     D14/138.AB  "
      ]
     },
     "execution_count": 3,
     "metadata": {},
     "output_type": "execute_result"
    }
   ],
   "source": [
    "outcast = pd.read_csv('data/outcast.csv')\n",
    "outcast.head()"
   ]
  },
  {
   "cell_type": "code",
   "execution_count": 4,
   "metadata": {
    "scrolled": true
   },
   "outputs": [
    {
     "data": {
      "text/plain": [
       "array(['100', '101', '102', '104', '105', '106', '108', '109', '110',\n",
       "       '111', '112', '114', '116', '118', '119', '12', '122', '123',\n",
       "       '124', '125', '126', '128', '131', '132', '134', '135', '136',\n",
       "       '137', '138', '139', '14', '140', '141', '142', '144', '148', '15',\n",
       "       '150', '152', '156', '157', '16', '160', '162', '164', '165',\n",
       "       '168', '169', '172', '173', '174', '175', '177', '178', '180',\n",
       "       '181', '182', '184', '185', '186', '187', '188', '19', '190',\n",
       "       '191', '192', '193', '194', '198', '199', '2', '200', '204', '206',\n",
       "       '209', '210', '211', '212', '215', '217', '219', '220', '221',\n",
       "       '222', '223', '224', '225', '226', '227', '228', '229', '232',\n",
       "       '235', '236', '237', '238', '239', '24', '241', '242', '244',\n",
       "       '248', '249', '250', '251', '252', '254', '256', '257', '261',\n",
       "       '264', '266', '267', '269', '27', '270', '271', '273', '277',\n",
       "       '279', '28', '280', '281', '283', '285', '29', '292', '293', '294',\n",
       "       '296', '297', '298', '299', '30', '301', '303', '305', '307',\n",
       "       '310', '312', '313', '315', '318', '320', '324', '327', '33',\n",
       "       '330', '331', '333', '335', '336', '337', '338', '34', '340',\n",
       "       '341', '342', '343', '345', '346', '347', '348', '349', '351',\n",
       "       '352', '353', '355', '356', '358', '359', '36', '360', '361',\n",
       "       '362', '363', '365', '366', '367', '368', '369', '37', '370',\n",
       "       '373', '374', '375', '377', '378', '379', '38', '380', '381',\n",
       "       '382', '383', '384', '385', '386', '392', '396', '398', '399', '4',\n",
       "       '40', '400', '401', '402', '403', '404', '405', '406', '407',\n",
       "       '408', '409', '410', '411', '412', '413', '414', '415', '416',\n",
       "       '417', '42', '420', '422', '423', '424', '425', '426', '427',\n",
       "       '428', '429', '43', '430', '431', '432', '433', '434', '435',\n",
       "       '436', '438', '439', '440', '441', '442', '446', '449', '450',\n",
       "       '451', '452', '453', '454', '455', '460', '462', '463', '464',\n",
       "       '47', '470', '472', '473', '474', '475', '48', '482', '49', '492',\n",
       "       '493', '494', '5', '502', '504', '508', '51', '510', '512', '514',\n",
       "       '516', '52', '521', '522', '523', '524', '525', '528', '53', '530',\n",
       "       '534', '536', '54', '540', '546', '548', '549', '55', '552', '558',\n",
       "       '56', '560', '562', '57', '59', '60', '600', '601', '602', '604',\n",
       "       '606', '607', '62', '623', '63', '66', '68', '7', '70', '700',\n",
       "       '701', '702', '703', '704', '705', '708', '710', '712', '713',\n",
       "       '715', '72', '720', '726', '73', '74', '76', '8', '81', '82', '83',\n",
       "       '84', '850', '87', '89', '901', '902', '91', '92', '95', '96',\n",
       "       '968', '984', '987', '99', 'D01', 'D02', 'D03', 'D04', 'D05',\n",
       "       'D06', 'D07', 'D08', 'D09', 'D10', 'D11', 'D12', 'D13', 'D14',\n",
       "       'D15', 'D16', 'D17', 'D18', 'D19', 'D20', 'D21', 'D22', 'D23',\n",
       "       'D24', 'D25', 'D26', 'D27', 'D28', 'D29', 'D30', 'D32', 'D34',\n",
       "       'D99', 'G9B', 'No longer published', 'PLT'], dtype=object)"
      ]
     },
     "execution_count": 4,
     "metadata": {},
     "output_type": "execute_result"
    }
   ],
   "source": [
    "outcast.cite_mainclass.sort_values().unique()"
   ]
  },
  {
   "cell_type": "markdown",
   "metadata": {},
   "source": [
    "Let's examin plant patents"
   ]
  },
  {
   "cell_type": "code",
   "execution_count": 5,
   "metadata": {},
   "outputs": [
    {
     "data": {
      "text/html": [
       "<div>\n",
       "<style scoped>\n",
       "    .dataframe tbody tr th:only-of-type {\n",
       "        vertical-align: middle;\n",
       "    }\n",
       "\n",
       "    .dataframe tbody tr th {\n",
       "        vertical-align: top;\n",
       "    }\n",
       "\n",
       "    .dataframe thead th {\n",
       "        text-align: right;\n",
       "    }\n",
       "</style>\n",
       "<table border=\"1\" class=\"dataframe\">\n",
       "  <thead>\n",
       "    <tr style=\"text-align: right;\">\n",
       "      <th></th>\n",
       "      <th>focal_mainclass</th>\n",
       "      <th>patent_number</th>\n",
       "    </tr>\n",
       "  </thead>\n",
       "  <tbody>\n",
       "    <tr>\n",
       "      <th>0</th>\n",
       "      <td>D14</td>\n",
       "      <td>12</td>\n",
       "    </tr>\n",
       "    <tr>\n",
       "      <th>1</th>\n",
       "      <td>D26</td>\n",
       "      <td>2</td>\n",
       "    </tr>\n",
       "  </tbody>\n",
       "</table>\n",
       "</div>"
      ],
      "text/plain": [
       "  focal_mainclass  patent_number\n",
       "0             D14             12\n",
       "1             D26              2"
      ]
     },
     "execution_count": 5,
     "metadata": {},
     "output_type": "execute_result"
    }
   ],
   "source": [
    "outcast.loc[outcast.cite_mainclass.str.match('PLT')].drop(['cited_patent_number','cite_subclass','focal_subclass'], axis=1).drop_duplicates().groupby('focal_mainclass')['patent_number'].count().reset_index()"
   ]
  },
  {
   "cell_type": "markdown",
   "metadata": {},
   "source": [
    "Examin focal design that has utility citation"
   ]
  },
  {
   "cell_type": "code",
   "execution_count": 6,
   "metadata": {
    "scrolled": true
   },
   "outputs": [
    {
     "data": {
      "text/plain": [
       "3783"
      ]
     },
     "execution_count": 6,
     "metadata": {},
     "output_type": "execute_result"
    }
   ],
   "source": [
    "outcast.loc[~outcast.focal_mainclass.str.contains('D')].drop(['cited_patent_number','cite_subclass','focal_subclass'], axis=1).drop_duplicates().patent_number.nunique()"
   ]
  },
  {
   "cell_type": "code",
   "execution_count": 7,
   "metadata": {},
   "outputs": [
    {
     "data": {
      "text/plain": [
       "0.007198995223505681"
      ]
     },
     "execution_count": 7,
     "metadata": {},
     "output_type": "execute_result"
    }
   ],
   "source": [
    "3783/master.patent_number.nunique()"
   ]
  },
  {
   "cell_type": "code",
   "execution_count": 8,
   "metadata": {},
   "outputs": [],
   "source": [
    "affected = list(outcast.loc[~outcast.focal_mainclass.str.contains('D')].drop(['cited_patent_number','cite_subclass','focal_subclass'], axis=1).patent_number.unique())"
   ]
  },
  {
   "cell_type": "code",
   "execution_count": 9,
   "metadata": {},
   "outputs": [],
   "source": [
    "affected_df = outcast.loc[outcast['patent_number'].isin(affected)].drop(['cited_patent_number','cite_subclass','focal_subclass'], axis=1).drop_duplicates().groupby('focal_mainclass')['patent_number'].count().iloc[-33:].reset_index()"
   ]
  },
  {
   "cell_type": "code",
   "execution_count": 11,
   "metadata": {},
   "outputs": [],
   "source": [
    "affected_df['class_name'] = affected_df['focal_mainclass'].map(design_class_dictionary.class_labels)"
   ]
  },
  {
   "cell_type": "code",
   "execution_count": 12,
   "metadata": {},
   "outputs": [],
   "source": [
    "affected_df.to_csv('data/focal_design_utility_citation.csv')"
   ]
  },
  {
   "cell_type": "markdown",
   "metadata": {},
   "source": [
    "Utility citations with design util"
   ]
  },
  {
   "cell_type": "code",
   "execution_count": 13,
   "metadata": {
    "scrolled": true
   },
   "outputs": [
    {
     "data": {
      "text/plain": [
       "97124"
      ]
     },
     "execution_count": 13,
     "metadata": {},
     "output_type": "execute_result"
    }
   ],
   "source": [
    "outcast.loc[(~outcast.cited_patent_number.str.contains('D')) & (outcast.cite_mainclass.str.contains('D'))].drop(['cited_patent_number','cite_subclass','focal_subclass'], axis=1).drop_duplicates().patent_number.nunique()"
   ]
  },
  {
   "cell_type": "code",
   "execution_count": 14,
   "metadata": {},
   "outputs": [
    {
     "data": {
      "text/plain": [
       "0.1848255913528326"
      ]
     },
     "execution_count": 14,
     "metadata": {},
     "output_type": "execute_result"
    }
   ],
   "source": [
    "97124/master.patent_number.nunique()"
   ]
  },
  {
   "cell_type": "code",
   "execution_count": 15,
   "metadata": {
    "scrolled": true
   },
   "outputs": [
    {
     "data": {
      "text/html": [
       "<div>\n",
       "<style scoped>\n",
       "    .dataframe tbody tr th:only-of-type {\n",
       "        vertical-align: middle;\n",
       "    }\n",
       "\n",
       "    .dataframe tbody tr th {\n",
       "        vertical-align: top;\n",
       "    }\n",
       "\n",
       "    .dataframe thead th {\n",
       "        text-align: right;\n",
       "    }\n",
       "</style>\n",
       "<table border=\"1\" class=\"dataframe\">\n",
       "  <thead>\n",
       "    <tr style=\"text-align: right;\">\n",
       "      <th></th>\n",
       "      <th>cite_mainclass</th>\n",
       "      <th>patent_number</th>\n",
       "    </tr>\n",
       "  </thead>\n",
       "  <tbody>\n",
       "    <tr>\n",
       "      <th>0</th>\n",
       "      <td>D01</td>\n",
       "      <td>522</td>\n",
       "    </tr>\n",
       "    <tr>\n",
       "      <th>1</th>\n",
       "      <td>D02</td>\n",
       "      <td>4092</td>\n",
       "    </tr>\n",
       "    <tr>\n",
       "      <th>2</th>\n",
       "      <td>D03</td>\n",
       "      <td>5160</td>\n",
       "    </tr>\n",
       "    <tr>\n",
       "      <th>3</th>\n",
       "      <td>D04</td>\n",
       "      <td>1550</td>\n",
       "    </tr>\n",
       "    <tr>\n",
       "      <th>4</th>\n",
       "      <td>D05</td>\n",
       "      <td>484</td>\n",
       "    </tr>\n",
       "  </tbody>\n",
       "</table>\n",
       "</div>"
      ],
      "text/plain": [
       "  cite_mainclass  patent_number\n",
       "0            D01            522\n",
       "1            D02           4092\n",
       "2            D03           5160\n",
       "3            D04           1550\n",
       "4            D05            484"
      ]
     },
     "execution_count": 15,
     "metadata": {},
     "output_type": "execute_result"
    }
   ],
   "source": [
    "df = outcast.loc[(~outcast.cited_patent_number.str.contains('D')) & (outcast.cite_mainclass.str.contains('D'))].drop(['cited_patent_number','cite_subclass','focal_subclass'], axis=1).drop_duplicates().groupby('cite_mainclass')['patent_number'].count().to_frame().reset_index()\n",
    "df.head()"
   ]
  },
  {
   "cell_type": "code",
   "execution_count": 16,
   "metadata": {
    "scrolled": true
   },
   "outputs": [
    {
     "data": {
      "text/html": [
       "<div>\n",
       "<style scoped>\n",
       "    .dataframe tbody tr th:only-of-type {\n",
       "        vertical-align: middle;\n",
       "    }\n",
       "\n",
       "    .dataframe tbody tr th {\n",
       "        vertical-align: top;\n",
       "    }\n",
       "\n",
       "    .dataframe thead th {\n",
       "        text-align: right;\n",
       "    }\n",
       "</style>\n",
       "<table border=\"1\" class=\"dataframe\">\n",
       "  <thead>\n",
       "    <tr style=\"text-align: right;\">\n",
       "      <th></th>\n",
       "      <th>cite_mainclass</th>\n",
       "      <th>patent_number</th>\n",
       "      <th>class_name</th>\n",
       "    </tr>\n",
       "  </thead>\n",
       "  <tbody>\n",
       "    <tr>\n",
       "      <th>0</th>\n",
       "      <td>D01</td>\n",
       "      <td>522</td>\n",
       "      <td>Edible Products</td>\n",
       "    </tr>\n",
       "    <tr>\n",
       "      <th>1</th>\n",
       "      <td>D02</td>\n",
       "      <td>4092</td>\n",
       "      <td>Apparel and Haberdashery</td>\n",
       "    </tr>\n",
       "    <tr>\n",
       "      <th>2</th>\n",
       "      <td>D03</td>\n",
       "      <td>5160</td>\n",
       "      <td>Travel Goods, Personal Belongings, and Storage...</td>\n",
       "    </tr>\n",
       "    <tr>\n",
       "      <th>3</th>\n",
       "      <td>D04</td>\n",
       "      <td>1550</td>\n",
       "      <td>Brushware</td>\n",
       "    </tr>\n",
       "    <tr>\n",
       "      <th>4</th>\n",
       "      <td>D05</td>\n",
       "      <td>484</td>\n",
       "      <td>Textile or Paper Yard Goods; Sheet Material</td>\n",
       "    </tr>\n",
       "    <tr>\n",
       "      <th>5</th>\n",
       "      <td>D06</td>\n",
       "      <td>12989</td>\n",
       "      <td>Furnishings</td>\n",
       "    </tr>\n",
       "    <tr>\n",
       "      <th>6</th>\n",
       "      <td>D07</td>\n",
       "      <td>13192</td>\n",
       "      <td>Equipment for Preparing or Serving Food or Dri...</td>\n",
       "    </tr>\n",
       "    <tr>\n",
       "      <th>7</th>\n",
       "      <td>D08</td>\n",
       "      <td>8366</td>\n",
       "      <td>Tools and Hardware</td>\n",
       "    </tr>\n",
       "    <tr>\n",
       "      <th>8</th>\n",
       "      <td>D09</td>\n",
       "      <td>6839</td>\n",
       "      <td>Packages and Containers for Goods</td>\n",
       "    </tr>\n",
       "    <tr>\n",
       "      <th>9</th>\n",
       "      <td>D10</td>\n",
       "      <td>2867</td>\n",
       "      <td>Measuring, Testing or Signaling Instruments</td>\n",
       "    </tr>\n",
       "    <tr>\n",
       "      <th>10</th>\n",
       "      <td>D11</td>\n",
       "      <td>3478</td>\n",
       "      <td>Jewelry, Symbolic Insignia, and Ornaments</td>\n",
       "    </tr>\n",
       "    <tr>\n",
       "      <th>11</th>\n",
       "      <td>D12</td>\n",
       "      <td>5393</td>\n",
       "      <td>Transportation</td>\n",
       "    </tr>\n",
       "    <tr>\n",
       "      <th>12</th>\n",
       "      <td>D13</td>\n",
       "      <td>4605</td>\n",
       "      <td>Equipment for Production, Distribution, or Tra...</td>\n",
       "    </tr>\n",
       "    <tr>\n",
       "      <th>13</th>\n",
       "      <td>D14</td>\n",
       "      <td>8988</td>\n",
       "      <td>Recording, Communication, or Information Retri...</td>\n",
       "    </tr>\n",
       "    <tr>\n",
       "      <th>14</th>\n",
       "      <td>D15</td>\n",
       "      <td>2877</td>\n",
       "      <td>Machines Not Elsewhere Specified</td>\n",
       "    </tr>\n",
       "    <tr>\n",
       "      <th>15</th>\n",
       "      <td>D16</td>\n",
       "      <td>1268</td>\n",
       "      <td>Photography and Optical Equipment</td>\n",
       "    </tr>\n",
       "    <tr>\n",
       "      <th>16</th>\n",
       "      <td>D17</td>\n",
       "      <td>482</td>\n",
       "      <td>Musical Instruments</td>\n",
       "    </tr>\n",
       "    <tr>\n",
       "      <th>17</th>\n",
       "      <td>D18</td>\n",
       "      <td>2895</td>\n",
       "      <td>Printing and Office Machinery</td>\n",
       "    </tr>\n",
       "    <tr>\n",
       "      <th>18</th>\n",
       "      <td>D19</td>\n",
       "      <td>3246</td>\n",
       "      <td>Office Supplies; Artists' and Teachers' Materials</td>\n",
       "    </tr>\n",
       "    <tr>\n",
       "      <th>19</th>\n",
       "      <td>D20</td>\n",
       "      <td>615</td>\n",
       "      <td>Sales and Advertising Equipment</td>\n",
       "    </tr>\n",
       "    <tr>\n",
       "      <th>20</th>\n",
       "      <td>D21</td>\n",
       "      <td>5475</td>\n",
       "      <td>Games, Toys and Sports Goods</td>\n",
       "    </tr>\n",
       "    <tr>\n",
       "      <th>21</th>\n",
       "      <td>D22</td>\n",
       "      <td>2563</td>\n",
       "      <td>Arms, Pyrotechnics, Hunting and Fishing Equipment</td>\n",
       "    </tr>\n",
       "    <tr>\n",
       "      <th>22</th>\n",
       "      <td>D23</td>\n",
       "      <td>2765</td>\n",
       "      <td>Environmental Heating and Cooling, Fluid Handl...</td>\n",
       "    </tr>\n",
       "    <tr>\n",
       "      <th>23</th>\n",
       "      <td>D24</td>\n",
       "      <td>9899</td>\n",
       "      <td>Medical and Laboratory Equipment</td>\n",
       "    </tr>\n",
       "    <tr>\n",
       "      <th>24</th>\n",
       "      <td>D25</td>\n",
       "      <td>4093</td>\n",
       "      <td>Building Units and Construction Elements</td>\n",
       "    </tr>\n",
       "    <tr>\n",
       "      <th>25</th>\n",
       "      <td>D26</td>\n",
       "      <td>1527</td>\n",
       "      <td>Lighting</td>\n",
       "    </tr>\n",
       "    <tr>\n",
       "      <th>26</th>\n",
       "      <td>D27</td>\n",
       "      <td>344</td>\n",
       "      <td>Tobacco and Smokers' Supplies</td>\n",
       "    </tr>\n",
       "    <tr>\n",
       "      <th>27</th>\n",
       "      <td>D28</td>\n",
       "      <td>2262</td>\n",
       "      <td>Cosmetic Products and Toilet Articles</td>\n",
       "    </tr>\n",
       "    <tr>\n",
       "      <th>28</th>\n",
       "      <td>D29</td>\n",
       "      <td>1368</td>\n",
       "      <td>Equipment for Safety, Protection and Rescue</td>\n",
       "    </tr>\n",
       "    <tr>\n",
       "      <th>29</th>\n",
       "      <td>D30</td>\n",
       "      <td>3073</td>\n",
       "      <td>Animal Husbandry</td>\n",
       "    </tr>\n",
       "    <tr>\n",
       "      <th>30</th>\n",
       "      <td>D32</td>\n",
       "      <td>1875</td>\n",
       "      <td>Washing, Cleaning or Drying Machines</td>\n",
       "    </tr>\n",
       "    <tr>\n",
       "      <th>31</th>\n",
       "      <td>D34</td>\n",
       "      <td>4667</td>\n",
       "      <td>Material or Article Handling Equipment</td>\n",
       "    </tr>\n",
       "    <tr>\n",
       "      <th>32</th>\n",
       "      <td>D99</td>\n",
       "      <td>715</td>\n",
       "      <td>Miscellaneous</td>\n",
       "    </tr>\n",
       "  </tbody>\n",
       "</table>\n",
       "</div>"
      ],
      "text/plain": [
       "   cite_mainclass  patent_number  \\\n",
       "0             D01            522   \n",
       "1             D02           4092   \n",
       "2             D03           5160   \n",
       "3             D04           1550   \n",
       "4             D05            484   \n",
       "5             D06          12989   \n",
       "6             D07          13192   \n",
       "7             D08           8366   \n",
       "8             D09           6839   \n",
       "9             D10           2867   \n",
       "10            D11           3478   \n",
       "11            D12           5393   \n",
       "12            D13           4605   \n",
       "13            D14           8988   \n",
       "14            D15           2877   \n",
       "15            D16           1268   \n",
       "16            D17            482   \n",
       "17            D18           2895   \n",
       "18            D19           3246   \n",
       "19            D20            615   \n",
       "20            D21           5475   \n",
       "21            D22           2563   \n",
       "22            D23           2765   \n",
       "23            D24           9899   \n",
       "24            D25           4093   \n",
       "25            D26           1527   \n",
       "26            D27            344   \n",
       "27            D28           2262   \n",
       "28            D29           1368   \n",
       "29            D30           3073   \n",
       "30            D32           1875   \n",
       "31            D34           4667   \n",
       "32            D99            715   \n",
       "\n",
       "                                           class_name  \n",
       "0                                     Edible Products  \n",
       "1                            Apparel and Haberdashery  \n",
       "2   Travel Goods, Personal Belongings, and Storage...  \n",
       "3                                           Brushware  \n",
       "4         Textile or Paper Yard Goods; Sheet Material  \n",
       "5                                         Furnishings  \n",
       "6   Equipment for Preparing or Serving Food or Dri...  \n",
       "7                                  Tools and Hardware  \n",
       "8                   Packages and Containers for Goods  \n",
       "9         Measuring, Testing or Signaling Instruments  \n",
       "10          Jewelry, Symbolic Insignia, and Ornaments  \n",
       "11                                     Transportation  \n",
       "12  Equipment for Production, Distribution, or Tra...  \n",
       "13  Recording, Communication, or Information Retri...  \n",
       "14                   Machines Not Elsewhere Specified  \n",
       "15                  Photography and Optical Equipment  \n",
       "16                                Musical Instruments  \n",
       "17                      Printing and Office Machinery  \n",
       "18  Office Supplies; Artists' and Teachers' Materials  \n",
       "19                    Sales and Advertising Equipment  \n",
       "20                       Games, Toys and Sports Goods  \n",
       "21  Arms, Pyrotechnics, Hunting and Fishing Equipment  \n",
       "22  Environmental Heating and Cooling, Fluid Handl...  \n",
       "23                   Medical and Laboratory Equipment  \n",
       "24           Building Units and Construction Elements  \n",
       "25                                           Lighting  \n",
       "26                      Tobacco and Smokers' Supplies  \n",
       "27              Cosmetic Products and Toilet Articles  \n",
       "28        Equipment for Safety, Protection and Rescue  \n",
       "29                                   Animal Husbandry  \n",
       "30               Washing, Cleaning or Drying Machines  \n",
       "31             Material or Article Handling Equipment  \n",
       "32                                      Miscellaneous  "
      ]
     },
     "execution_count": 16,
     "metadata": {},
     "output_type": "execute_result"
    }
   ],
   "source": [
    "df['class_name'] = df['cite_mainclass'].map(design_class_dictionary.class_labels)\n",
    "df"
   ]
  },
  {
   "cell_type": "code",
   "execution_count": 17,
   "metadata": {},
   "outputs": [],
   "source": [
    "df.to_csv('data/util_citations_design_class.csv')"
   ]
  },
  {
   "cell_type": "code",
   "execution_count": 20,
   "metadata": {},
   "outputs": [
    {
     "data": {
      "text/plain": [
       "0.18744980874992864"
      ]
     },
     "execution_count": 20,
     "metadata": {},
     "output_type": "execute_result"
    }
   ],
   "source": [
    "(97124+1365+14) /master.patent_number.nunique()"
   ]
  },
  {
   "cell_type": "code",
   "execution_count": 23,
   "metadata": {},
   "outputs": [
    {
     "data": {
      "text/plain": [
       "0.1959542522217359"
      ]
     },
     "execution_count": 23,
     "metadata": {},
     "output_type": "execute_result"
    }
   ],
   "source": [
    "outcast.patent_number.nunique()/master.patent_number.nunique()"
   ]
  },
  {
   "cell_type": "code",
   "execution_count": null,
   "metadata": {},
   "outputs": [],
   "source": []
  }
 ],
 "metadata": {
  "kernelspec": {
   "display_name": "Python 3",
   "language": "python",
   "name": "python3"
  },
  "language_info": {
   "codemirror_mode": {
    "name": "ipython",
    "version": 3
   },
   "file_extension": ".py",
   "mimetype": "text/x-python",
   "name": "python",
   "nbconvert_exporter": "python",
   "pygments_lexer": "ipython3",
   "version": "3.6.5"
  }
 },
 "nbformat": 4,
 "nbformat_minor": 2
}
