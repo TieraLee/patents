{
 "cells": [
  {
   "cell_type": "code",
   "execution_count": 1,
   "metadata": {
    "collapsed": true
   },
   "outputs": [],
   "source": [
    "import pandas as pd\n",
    "import numpy as np\n",
    "import matplotlib.pyplot as py\n",
    "%matplotlib inline"
   ]
  },
  {
   "cell_type": "code",
   "execution_count": 29,
   "metadata": {},
   "outputs": [],
   "source": [
    "def extract_number_class(df):\n",
    "    df.dropna(inplace=True)\n",
    "    #extrac patent number\n",
    "    num_pattern = \"(\\d{7})\"\n",
    "    df['patent_number'] = df['patents'].astype(str).str.findall(num_pattern).apply(lambda x : x[0])\n",
    "\n",
    "    #extrat classes\n",
    "    class_pattern = \"(D\\d{2}/\\d{1,3}\\.?\\d?\\d?\\d?|\\d{1,3}/\\d{1,3}\\.?\\d{1,3})\"\n",
    "    df['uspcs'] = df['patents'].astype(str).str.findall(class_pattern)\n",
    "    \n",
    "    return df[['patent_number','uspcs']]"
   ]
  },
  {
   "cell_type": "code",
   "execution_count": 46,
   "metadata": {},
   "outputs": [
    {
     "name": "stdout",
     "output_type": "stream",
     "text": [
      "batch1.csv\n",
      "batch2.csv\n",
      "batch3.csv\n",
      "batch4.csv\n",
      "batch5.csv\n",
      "batch6.csv\n",
      "batch7.csv\n",
      "batch8.csv\n",
      "batch9.csv\n",
      "batch10.csv\n",
      "batch11.csv\n",
      "batch12.csv\n",
      "batch13.csv\n",
      "batch14.csv\n",
      "batch15.csv\n",
      "batch16.csv\n",
      "batch17.csv\n",
      "batch18.csv\n",
      "batch19.csv\n",
      "batch20.csv\n",
      "batch21.csv\n",
      "batch22.csv\n",
      "batch23.csv\n",
      "batch24.csv\n",
      "batch25.csv\n",
      "batch26.csv\n",
      "batch27.csv\n",
      "batch28.csv\n",
      "batch29.csv\n",
      "batch30.csv\n",
      "batch31.csv\n",
      "batch32.csv\n",
      "batch33.csv\n",
      "batch34.csv\n"
     ]
    }
   ],
   "source": [
    "master = pd.DataFrame()\n",
    "for i in range(1,35):\n",
    "    filename = 'batch{}.csv'.format(i)\n",
    "    df = pd.read_csv(filename)\n",
    "    print(filename)\n",
    "    master = pd.concat([master, df], ignore_index=True)"
   ]
  },
  {
   "cell_type": "code",
   "execution_count": 49,
   "metadata": {},
   "outputs": [
    {
     "data": {
      "text/plain": [
       "(489786, 3)"
      ]
     },
     "execution_count": 49,
     "metadata": {},
     "output_type": "execute_result"
    }
   ],
   "source": [
    "master.shape"
   ]
  },
  {
   "cell_type": "code",
   "execution_count": 52,
   "metadata": {},
   "outputs": [],
   "source": [
    "semi_clean = extract_number_class(master).drop_duplicates(subset=['patent_number'])"
   ]
  },
  {
   "cell_type": "code",
   "execution_count": 53,
   "metadata": {},
   "outputs": [
    {
     "data": {
      "text/plain": [
       "(463148, 2)"
      ]
     },
     "execution_count": 53,
     "metadata": {},
     "output_type": "execute_result"
    }
   ],
   "source": [
    "semi_clean.shape"
   ]
  },
  {
   "cell_type": "code",
   "execution_count": 57,
   "metadata": {},
   "outputs": [],
   "source": [
    "holder = semi_clean.apply(lambda x: pd.Series(x['uspcs']),axis=1).stack().reset_index(level=1, drop=True)\n",
    "holder.name = 'class'\n",
    "clean = semi_clean.drop('uspcs', axis=1).join(holder).reset_index()"
   ]
  },
  {
   "cell_type": "code",
   "execution_count": 60,
   "metadata": {},
   "outputs": [],
   "source": [
    "clean.drop('index', axis=1, inplace=True)"
   ]
  },
  {
   "cell_type": "code",
   "execution_count": 62,
   "metadata": {},
   "outputs": [],
   "source": [
    "clean.to_csv('utility_patent_citations_clean.csv')"
   ]
  },
  {
   "cell_type": "code",
   "execution_count": null,
   "metadata": {
    "collapsed": true
   },
   "outputs": [],
   "source": []
  }
 ],
 "metadata": {
  "kernelspec": {
   "display_name": "Python 3",
   "language": "python",
   "name": "python3"
  },
  "language_info": {
   "codemirror_mode": {
    "name": "ipython",
    "version": 3
   },
   "file_extension": ".py",
   "mimetype": "text/x-python",
   "name": "python",
   "nbconvert_exporter": "python",
   "pygments_lexer": "ipython3",
   "version": "3.6.1"
  }
 },
 "nbformat": 4,
 "nbformat_minor": 2
}
